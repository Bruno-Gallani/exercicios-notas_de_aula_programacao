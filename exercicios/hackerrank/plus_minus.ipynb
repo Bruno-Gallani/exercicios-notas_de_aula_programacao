{
  "nbformat": 4,
  "nbformat_minor": 0,
  "metadata": {
    "colab": {
      "provenance": []
    },
    "kernelspec": {
      "name": "python3",
      "display_name": "Python 3"
    },
    "language_info": {
      "name": "python"
    }
  },
  "cells": [
    {
      "cell_type": "markdown",
      "source": [
        "Given an array of integers, calculate the ratios of its elements that are positive, negative, and zero. Print the decimal value of each fraction on a new line with 𝟔 places after the decimal.\n",
        "\n",
        "**Note**: This challenge introduces precision problems. The test cases are scaled to six decimal places, though answers with absolute error of up to 10^4 are acceptable.\n",
        "\n",
        "**Example**\n",
        "\n",
        "`arr = [1, 1, 0, -1, -1]`\n",
        "\n",
        "There are n = 5 elements, two positive, two negative and one zero. Their ratios are 2/5 = 0.400000, 2/5 = 0.400000 and 1/5 = 0.200000. Results are printed as:\n",
        "```\n",
        "0.400000\n",
        "0.400000\n",
        "0.200000\n",
        "```\n",
        "\n",
        "**Function Description**\n",
        "\n",
        "Complete the plusMinus function in the editor below.\n",
        "\n",
        "plusMinus has the following parameter(s):\n",
        "\n",
        "* int arr[n]: an array of integers\n",
        "\n",
        "**Print**\n",
        "\n",
        "Print the ratios of positive, negative and zero values in the array. Each value should be printed on a separate line with 𝟔 digits after the decimal. The function should not return a value.\n",
        "\n",
        "**Input Format**\n",
        "\n",
        "The first line contains an integer, , the size of the array.\n",
        "The second line contains  space-separated integers that describe .\n",
        "\n",
        "**Constraints**\n",
        "```\n",
        "0 < 𝗻 ≤ 100\n",
        "-100 ≤ arr[i] ≤ 100\n",
        "```\n",
        "\n",
        "**Output Format**\n",
        "\n",
        "**Print** the following 𝟑 lines, each to 𝟔 decimals:\n",
        "\n",
        "1. proportion of positive values\n",
        "2. proportion of negative values\n",
        "3. proportion of zeros\n",
        "\n",
        "**Sample Input**\n",
        "```\n",
        "STDIN           Function\n",
        "-----           --------\n",
        "6               arr[] size n = 6\n",
        "-4 3 -9 0 4 1   arr = [-4, 3, -9, 0, 4, 1]\n",
        "```\n",
        "\n",
        "**Sample Output**\n",
        "```\n",
        "0.500000\n",
        "0.333333\n",
        "0.166667\n",
        "```\n",
        "\n",
        "**Explanation**\n",
        "\n",
        "There are 𝟑 positive numbers, 𝟸 negative numbers, and 𝟷 zero in the array.\n",
        "The proportions of occurrence are positive: 3/6 = 0.500000, negative: 2/6 = 0.333333 and zeros: 1/6 = 0.166667."
      ],
      "metadata": {
        "id": "sqgsgDSYX5Hf"
      }
    },
    {
      "cell_type": "code",
      "execution_count": null,
      "metadata": {
        "id": "pFoyBQeRMP7y"
      },
      "outputs": [],
      "source": [
        "def plusMinus(arr):\n",
        "\n",
        "    count_positive_numbers = 0\n",
        "    count_negative_numbers = 0\n",
        "    count_zeros = 0\n",
        "    for number in arr:\n",
        "        if number > 0:\n",
        "            count_positive_numbers += 1\n",
        "        elif number < 0:\n",
        "            count_negative_numbers += 1\n",
        "        elif number == 0:\n",
        "            count_zeros += 1\n",
        "\n",
        "    proportion_positive_values = count_positive_numbers / len(arr)\n",
        "    proportion_negative_values = count_negative_numbers / len(arr)\n",
        "    proportion_zeros = count_zeros / len(arr)\n",
        "\n",
        "    print(f\"{proportion_positive_values:.6f}\")\n",
        "    print(f\"{proportion_negative_values:.6f}\")\n",
        "    print(f\"{proportion_zeros:.6f}\")"
      ]
    }
  ]
}
