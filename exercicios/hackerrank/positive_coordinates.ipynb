{
  "nbformat": 4,
  "nbformat_minor": 0,
  "metadata": {
    "colab": {
      "provenance": []
    },
    "kernelspec": {
      "name": "python3",
      "display_name": "Python 3"
    },
    "language_info": {
      "name": "python"
    }
  },
  "cells": [
    {
      "cell_type": "markdown",
      "source": [
        "**Polar coordinates** are an alternative way of representing Cartesian coordinates or <a href='https://en.wikipedia.org/wiki/Complex_number'>Complex Numbers</a>.\n",
        "\n",
        "A complex number 𝒛 is completely determined by its real part 𝒳 and imaginary part 𝒴.\n",
        "\n",
        "Here, 𝚓 is the <a href='https://en.wikipedia.org/wiki/Imaginary_unit'>imaginary unit</a>.\n",
        "\n",
        "A polar coordinate (ɼ, ϕ) is completely determined by modulus ɼ and phase angle ϕ:\n",
        "\n",
        "![image.png](data:image/png;base64,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)\n",
        "\n",
        "If we convert complex number 𝒛 to its polar coordinate, we find:\n",
        "\n",
        "ɼ: Distance from  to origin, i.e., √𝒳² + 𝒴²\n",
        "\n",
        "ϕ: Counter clockwise angle measured from the positive -axis to the line segment that joins  to the origin.\n",
        "\n",
        "Python's <a href='https://docs.python.org/2/library/cmath.html'>`cmath`</a> module provides access to the mathematical functions for complex numbers.\n",
        "\n",
        "This tool returns the phase of complex number  (also known as the argument of 𝒛).\n",
        "  \n",
        "𝖼𝗆𝖺𝗍𝗁.𝗉𝗁𝖺𝗌𝖾\n",
        "```python\n",
        "phase(complex(-1.0, 0.0))\n",
        "3.1415926535897931\n",
        "```\n",
        "\n",
        "\n",
        "𝖺𝖻𝗌\n",
        "\n",
        "This tool returns the modulus (absolute value) of complex number .\n",
        "```python\n",
        "abs(complex(-1.0, 0.0))\n",
        "1.0\n",
        "```\n",
        "\n",
        "**Task**\n",
        "\n",
        "You are given a complex 𝒛. Your task is to convert it to polar coordinates.\n",
        "\n",
        "**Input Format**\n",
        "\n",
        "A single line containing the complex number 𝒛.\n",
        "Note: complex() function can be used in python to convert the input as a complex number.\n",
        "\n",
        "**Constraints**\n",
        "\n",
        "Given number is a valid complex number\n",
        "\n",
        "**Output Format**\n",
        "\n",
        "Output two lines:\n",
        "The first line should contain the value of ɼ.\n",
        "The second line should contain the value of ϕ.\n",
        "\n",
        "**Sample Input**\n",
        "```python\n",
        "1+2j\n",
        "```\n",
        "\n",
        "**Sample Output**\n",
        "```python\n",
        " 2.23606797749979\n",
        " 1.1071487177940904\n",
        "```\n",
        "`Note: The output should be correct up to 3 decimal places.`"
      ],
      "metadata": {
        "id": "1-4q_PZSbrzF"
      }
    },
    {
      "cell_type": "code",
      "source": [
        "import math\n",
        "\n",
        "z = input()\n",
        "if \"+\" in z:\n",
        "#if y is positive\n",
        "  separator_position = z.find(\"+\")\n",
        "\n",
        "  x = float(z[:separator_position])\n",
        "  y = float(z[separator_position:-1])\n",
        "  #-1 index is used to remove \"j\" of the imaginary part (y)\n",
        "\n",
        "  r = math.sqrt(x**2 + y**2)\n",
        "  theta = math.atan2(y, x)\n",
        "else:\n",
        "# if y is negative\n",
        "  separator_position = z.rfind('-')\n",
        "  #rfind is used, because x can be negative too\n",
        "\n",
        "  x = float(z[:separator_position])\n",
        "  y = float(z[separator_position:-1])\n",
        "  #-1 index is used to remove \"j\" of the imaginary part (y)\n",
        "\n",
        "  r = math.sqrt(x**2 + y**2)\n",
        "  theta = math.atan2(y, x)\n",
        "\n",
        "print(r)\n",
        "print(theta)"
      ],
      "metadata": {
        "colab": {
          "base_uri": "https://localhost:8080/"
        },
        "id": "NM2tXYMymPCD",
        "outputId": "0b95ef57-897b-4644-d099-62bc773016ce"
      },
      "execution_count": null,
      "outputs": [
        {
          "output_type": "stream",
          "name": "stdout",
          "text": [
            "-1-5j\n",
            "5.0990195135927845\n",
            "-1.7681918866447774\n"
          ]
        }
      ]
    }
  ]
}
