{
  "nbformat": 4,
  "nbformat_minor": 0,
  "metadata": {
    "colab": {
      "provenance": [],
      "toc_visible": true
    },
    "kernelspec": {
      "name": "python3",
      "display_name": "Python 3"
    },
    "language_info": {
      "name": "python"
    }
  },
  "cells": [
    {
      "cell_type": "markdown",
      "source": [
        "Notebook utilizado para anotar os conteúdos das aulas do bootcamp do Santander - **Ciência de Dados com Python** (2023), disponível na plataforma da DIO (*Digital Innovation One*),\n",
        "e realizado no período de 17/08 a 19/09.\n",
        "\n",
        "> O notebook está sendo desenvolvido no Google Colab, e seu link encontra-se abaixo:\n",
        "\n",
        "> <a href=\"https://colab.research.google.com/drive/1zuCDvGP4KS5Mn911Uq2W0iSenB8ZGQ4u\" target=\"_blank\"><img src=\"https://colab.research.google.com/assets/colab-badge.svg\" alt=\"Open in Colab\"></a>"
      ],
      "metadata": {
        "id": "-wrjaoyUfuzw"
      }
    },
    {
      "cell_type": "markdown",
      "source": [
        "# Estruturas condicionais e de repetição"
      ],
      "metadata": {
        "id": "Sc6MB01brZeH"
      }
    },
    {
      "cell_type": "markdown",
      "source": [
        "## Indentação e blocos\n",
        "\n",
        "A indentação é uma boa prática na programação, pois torna o código mais limpo e legível.\n",
        "\n",
        "> Em python, a indentação é obrigatória e somente através dela o interpretador consegue determinar onde um bloco de comando inicia e onde ele termina, ou seja, se não indentar o código não funciona.\n",
        "\n",
        "* **Blocos de comando**: a abertura de um método se dá pelo uso do caracter `:`, e a indentação é feita utilizando quatro espaços em branco.\n",
        "\n",
        "\n"
      ],
      "metadata": {
        "id": "9e4m6xkbuaaD"
      }
    },
    {
      "cell_type": "code",
      "source": [
        "# Exemplos\n",
        "\n",
        "def sacar(valor):\n",
        "  saldo = 500\n",
        "\n",
        "  if saldo >= valor:\n",
        "    print(\"valor sacado!\")\n",
        "    print(\"retire o seu dinheiro na boca do caixa!\")\n",
        "\n",
        "  print(\"Obrigado por ser nosso cliente, tenha um bom dia!\")"
      ],
      "metadata": {
        "id": "Q2WAjFBouhCD"
      },
      "execution_count": null,
      "outputs": []
    },
    {
      "cell_type": "markdown",
      "source": [
        "## Estruturas condicionais\n",
        "\n",
        "Permitem o desvio de fluxo de controle, quando determinadas expressões lógicas são atendidas.\n",
        "\n",
        "\n",
        "> **`if`**: estrutura condicional simples (se)\n",
        "\n",
        "> **`else`**: estrutura condicional simples contrária ao `if` (senão)\n",
        "\n",
        "> **`elif`**: forma contraída da expressão `else-if`\n",
        "\n",
        "* **If ternário**: permite escrever uma condição em uma única linha. É composto por três partes: a primeira parte é o retorno caso a expressão retorne `True`, a segunda parte é a expressão lógica, e a terceira parte é o retorno caso a expressão não seja atendida.\n",
        "```\n",
        "Exemplo:\n",
        "status = \"Sucesso\" if saldo >= saque else \"Falha\"\n",
        "print(f\"{status} ao realizar o saque)\n",
        "```\n",
        "> Deixa o código mais legível, facilitando assim a sua manutenção.\n",
        "\n",
        "\n"
      ],
      "metadata": {
        "id": "6Tlvp7pgzC8l"
      }
    },
    {
      "cell_type": "code",
      "source": [
        "# Exemplos de uso de estruturas condicionais\n",
        "\n",
        "MAIOR_IDADE = 18\n",
        "\n",
        "idade = int(input(\"Informe sua idade: \"))\n",
        "\n",
        "if idade >= MAIOR_IDADE:\n",
        "  print(\"Maior de idade, pode tirar a CNH.\")\n",
        "\n",
        "else:\n",
        "  print(\"Ainda não pode tirar a CNH.\")"
      ],
      "metadata": {
        "id": "SLMfJoIKRgqz"
      },
      "execution_count": null,
      "outputs": []
    },
    {
      "cell_type": "markdown",
      "source": [
        "## Estruturas de repetição"
      ],
      "metadata": {
        "id": "l0uqsY6jVunc"
      }
    },
    {
      "cell_type": "markdown",
      "source": [
        "### **`For`**\n",
        "Sua utilização é recomendada quando **se sabe** o número exato de vezes que o bloco de código deve ser executado, ou quando se deseja percorrer um objeto iterável (listas, strings, etc)...\n",
        "> #### Função `range`\n",
        "É uma função built-in do python usada para produzir uma sequência de números inteiros,\n",
        "a partir de um início (inclusivo) para um fim (exclusivo).\n",
        "```\n",
        "Exemplo\n",
        "range(i, j) -----> i, i + 1, i + 2, ..., j - 1\n",
        "```\n",
        "Ela recebe três argumentos: **stop** (obrigatório); **start** (opcional) e **step** (opcional).\n",
        "```\n",
        "range(start, stop, step) ---> range object\n",
        "```"
      ],
      "metadata": {
        "id": "vr_RSU6f6KC9"
      }
    },
    {
      "cell_type": "code",
      "source": [
        "# Os valores padrão de \"start\" e \"step\" são, respectivamente, 0 e 1\n",
        "# Valores padrão: aqueles que são automaticamente escolhidos, caso o usuário não defina\n",
        "\n",
        "for numero in range(0, 11):\n",
        "  print(numero, end = ' ')\n",
        "# >> 0 1 2 3 4 5 6 7 8 9 10\n",
        "\n",
        "# exibindo a tabuada de 5\n",
        "for numero in range(0, 51, 5):\n",
        "  print(numero, end = ' ')\n",
        "# >> 0 5 10 15 20 25 30 35 40 45 50"
      ],
      "metadata": {
        "id": "zdV8xgwM6MN1"
      },
      "execution_count": null,
      "outputs": []
    },
    {
      "cell_type": "markdown",
      "source": [
        "### **`While`**\n",
        "Sua utilização é recomendada quando **não se sabe** o número exato de vezes que o bloco de código deve ser executado."
      ],
      "metadata": {
        "id": "-f3aBYk37nSg"
      }
    },
    {
      "cell_type": "markdown",
      "source": [
        "### **Funções específicas de estruturas de repetição**\n",
        "\n",
        "* **Break**: encerra instantaneamente o loop\n",
        "\n",
        "* **Continue**: pula a execução\n",
        "  ```\n",
        "  Exemplo\n",
        "  ---> Imprimir os números ímpares\n",
        "  for numero in range(100):\n",
        "      if numero % 2 == 0:\n",
        "          continue\n",
        "      print(numero, end = ' ')\n",
        "  ```"
      ],
      "metadata": {
        "id": "s8oVJJb6F20a"
      }
    },
    {
      "cell_type": "markdown",
      "source": [
        "# Strings\n",
        "\n",
        "A classe `string`, em python, é rica em métodos e possui uma interface fácil de trabalhar."
      ],
      "metadata": {
        "id": "FRRk_bAlOpmd"
      }
    },
    {
      "cell_type": "markdown",
      "source": [
        "## *Métodos*\n",
        "\n",
        "**1**. Maiúsculo, minúsculo e título:\n",
        "  > `.upper()`: deixa as letras maiúsculas\n",
        "\n",
        "  > `.lower()`: deixa as letras minúsculas\n",
        "\n",
        "  > `.title()`: transforma em título\n",
        "\n",
        "  ```\n",
        "  curso = \"pYthon\"\n",
        "\n",
        "  print(curso.lower()) ---> python\n",
        "\n",
        "  print(curso.upper()) ---> PYTHON\n",
        "\n",
        "  print(curso.title()) ---> Python\n",
        "  ```\n",
        "\n",
        "**2**. Eliminando espaços em branco:\n",
        "```\n",
        "  curso = \"  python  \"\n",
        "\n",
        "  print(curso.lstrip()) ---> \"python  \"\n",
        "\n",
        "  print(curso.strip()) ---> \"python\"\n",
        "\n",
        "  print(curso.rstrip()) ---> \"  python\"\n",
        "```\n",
        "\n",
        "**3**. Junções e centralização\n",
        "```\n",
        "  curso = \"Python\"\n",
        "\n",
        "  print(curso.center(10, \"#\")) ---> ##Python##\n",
        "\n",
        "  print(\".\".join(curso)) ---> P.y.t.h.o.n\n",
        "\n",
        "  Função join: percorre item por item, igual o for,\n",
        "  e para cada elemento é utilizado um caracter para juntar os elementos\n",
        "\n",
        "  O primeiro parâmetro deve estar entre aspas,\n",
        "  e representa o caracter utilizado para juntar os elementos da string\n",
        "  ```"
      ],
      "metadata": {
        "id": "MD9FQUB4pHMX"
      }
    },
    {
      "cell_type": "markdown",
      "source": [
        "## *Fatiamento*\n",
        "\n",
        "O fatiamento de strings é uma técnica utilizada para retornar substrings (partes da string original), informando início (`start`), fim (`stop`) e passo (`step`).\n",
        "\n",
        "Esta sintaxe está expressa a seguir:\n",
        "\n",
        "\n",
        "```\n",
        "[start:stop:step]\n",
        "\n",
        "Os índices padrão de start, stop e step são, respectivamente,\n",
        "0, índice do último caracter e 1.\n",
        "```\n",
        "\n"
      ],
      "metadata": {
        "id": "a1dDOo7npl9T"
      }
    },
    {
      "cell_type": "code",
      "source": [
        "nome = \"Bruno Augusto Soares Gallani\"\n",
        "\n",
        "# Imprime a primeira letra do nome (B)\n",
        "print(nome[0])\n",
        "\n",
        "# Imprime a última letra do nome (i)\n",
        "print(nome[-1])\n",
        "\n",
        "# Imprime a letra de índice 0 até a letra de índice 4 (Bruno)\n",
        "print(nome[:5])\n",
        "\n",
        "# Imprime a letra de índice 6 até a letra de índice 12 (Augusto)\n",
        "print(nome[6:13])\n",
        "\n",
        "# Imprime todo o nome (Bruno Augusto Soares Gallani)\n",
        "print(nome[:])\n",
        "\n",
        "# Imprime o nome espelhado, ou seja, de trás pra frente\n",
        "print(nome[::-1]) # --> start = 0, stop = último índice, step = -1"
      ],
      "metadata": {
        "id": "t-972xhlpoI6"
      },
      "execution_count": null,
      "outputs": []
    },
    {
      "cell_type": "markdown",
      "source": [
        "## *Strings multi-linhas*\n",
        "\n",
        "São definidas pela utilização de três aspas simples ou duplas durante a atribuição. Elas podem ocupar várias linhas do código, como o próprio nome sugere, e todos os espaços em branco são incluídos na string final.\n",
        "\n",
        "Estas string são úteis quando se deseja construir um menu, ou gerar uma mensagem com várias linhas."
      ],
      "metadata": {
        "id": "pQeEYQHTr9zj"
      }
    },
    {
      "cell_type": "code",
      "source": [
        "nome = \"Bruno\"\n",
        "\n",
        "mensagem = f'''\n",
        "Olá meu nome é {nome},\n",
        "Eu estou aprendendo Python.\n",
        "'''\n",
        "# Imprime a mensagem:\n",
        "# Olá meu nome é Bruno,\n",
        "# Eu estou aprendendo Python."
      ],
      "metadata": {
        "id": "9V6_06tHsGyP"
      },
      "execution_count": null,
      "outputs": []
    },
    {
      "cell_type": "code",
      "source": [
        "# Exemplo de menu ----> sistema bancário\n",
        "\n",
        "print(\n",
        "    '''\n",
        "    =================== MENU ===================\n",
        "\n",
        "    1 - Depositar\n",
        "    2 - Sacar\n",
        "    0 - Sair\n",
        "\n",
        "    ============================================\n",
        "\n",
        "        Obrigado por usar o nosso sistema!!!!\n",
        "'''\n",
        ")"
      ],
      "metadata": {
        "id": "bkjL27lKtYma"
      },
      "execution_count": null,
      "outputs": []
    },
    {
      "cell_type": "markdown",
      "source": [
        "# Estruturas de dados"
      ],
      "metadata": {
        "id": "Yesh9pN4i7KT"
      }
    },
    {
      "cell_type": "markdown",
      "source": [
        "## Listas\n",
        "\n",
        "São sequências iteráveis que armazenam qualquer tipo de objeto. Pode-se criar listas utilizando o construtor `list`, que recebe como argumento um objeto iterável, a função `range` ou colocando valores separados por vírgula dentro de colchetes `[1, 2, 3]`.\n",
        "\n",
        "Além disso, listas são objetos mutáveis, portanto, podemos alterar seus valores após a criação."
      ],
      "metadata": {
        "id": "Vd2BxNp4jAhN"
      }
    },
    {
      "cell_type": "markdown",
      "source": [
        "### Acesso direto\n",
        "\n",
        "Podemos acessar os itens de uma lista diretamente, através de seus índices, que podem ser tanto números positivos como negativos."
      ],
      "metadata": {
        "id": "2ROd-VNYMdxA"
      }
    },
    {
      "cell_type": "code",
      "source": [
        "frutas = [\"maçã\", \"laranja\", \"uva\", \"pera\"]\n",
        "frutas[-1] # pera\n",
        "frutas[-3] # laranja"
      ],
      "metadata": {
        "id": "ZkTSfhOdMv3o"
      },
      "execution_count": null,
      "outputs": []
    },
    {
      "cell_type": "markdown",
      "source": [
        "### Listas aninhadas\n",
        "\n",
        "Como as listas podem armazenar qualquer tipo de objeto, podemos ter listas que armazenam outras listas. Com isso, pode-se criar estruturas bidimensionais (matrizes), e acessar informando os índices de linha e coluna."
      ],
      "metadata": {
        "id": "m5GNajMSM-qp"
      }
    },
    {
      "cell_type": "code",
      "source": [
        "matriz = [\n",
        "    [1, \"a\", 2],\n",
        "    [\"b\", 3, 4],\n",
        "    [6, 5, \"c\"]\n",
        "]\n",
        "\n",
        "matriz[0]   # [1, \"a\", 2]\n",
        "matriz[0][0]  # 1\n",
        "matriz[0][-1]   # 2\n",
        "matriz[-1][-1]  # \"c\""
      ],
      "metadata": {
        "id": "eGgkGgR_NYY6"
      },
      "execution_count": null,
      "outputs": []
    },
    {
      "cell_type": "markdown",
      "source": [
        "### Fatiamento\n",
        "\n",
        "Podemos fatiar listas, assim como fatiamos strings."
      ],
      "metadata": {
        "id": "3L9tw28xOMNg"
      }
    },
    {
      "cell_type": "code",
      "source": [
        "lista = [\"p\", \"y\", \"t\", \"h\", \"o\", \"n\"]\n",
        "\n",
        "lista[2:]   # [\"t\", \"h\", \"o\", \"n\"]\n",
        "\n",
        "lista[:2]   # [\"p\", \"y\"]\n",
        "\n",
        "lista[1:3]  # [\"y\", \"t\"]\n",
        "\n",
        "lista[0:3:2]  # [\"p\", \"t\"]\n",
        "\n",
        "lista[::]   # [\"p\", \"y\", \"t\", \"h\", \"o\", \"n\"]\n",
        "\n",
        "lista[::-1]   # [\"n\", \"o\", \"h\", \"t\", \"y\", \"p\"]"
      ],
      "metadata": {
        "id": "_bwVssUuOUT-"
      },
      "execution_count": null,
      "outputs": []
    },
    {
      "cell_type": "markdown",
      "source": [
        "### Compreensão de listas (list comprehension)\n",
        "\n",
        "A compreensão de lista oferece uma sintaxe mais curta quando se deseja criar uma nova lista com base nos valores de uma lista existente (filtro) ou gerar uma nova lista aplicando modificações nos elementos de uma lista existente.\n"
      ],
      "metadata": {
        "id": "U3i2-BiqPdtj"
      }
    },
    {
      "cell_type": "code",
      "source": [
        "# Filtro (versão 1)\n",
        "\n",
        "numeros = [1, 30, 21, 2, 9, 65, 34]\n",
        "\n",
        "pares = []\n",
        "\n",
        "for numero in numeros:\n",
        "  if numero % 2 == 0:\n",
        "    pares.append(numero)\n",
        "\n",
        "# Filtro (versão 2 - usando list comprehension)\n",
        "\n",
        "numeros = [1, 30, 21, 2, 9, 65, 34]\n",
        "\n",
        "pares = [numero for numero in numeros if numero % 2 == 0]"
      ],
      "metadata": {
        "id": "V8gn7rR8QC-7"
      },
      "execution_count": null,
      "outputs": []
    },
    {
      "cell_type": "code",
      "source": [
        "# Modificando valores (versão 1)\n",
        "\n",
        "numeros = [1, 30, 21, 2, 9, 65, 34]\n",
        "\n",
        "quadrado = []\n",
        "\n",
        "for numero in numeros:\n",
        "  quadrado.append(numero ** 2)\n",
        "\n",
        "# Modificando valores (versão 2 - usando list comprehension)\n",
        "\n",
        "numeros = [1, 30, 21, 2, 9, 65, 34]\n",
        "\n",
        "quadrado = [numero ** 2 for numero in numeros]"
      ],
      "metadata": {
        "id": "DKrxF8JrQ29O"
      },
      "execution_count": null,
      "outputs": []
    },
    {
      "cell_type": "markdown",
      "source": [
        "### Métodos da classe `list`\n",
        "\n",
        "1. **[ ].append(objeto)**: adiciona um objeto ao fim da lista;\n",
        "\n",
        "2. **[ ].copy()**: cria uma nova lista que é uma cópia de uma lista existente;\n",
        "\n",
        "3. **[ ].count(elemento)**: conta os elementos de uma lista;\n",
        "\n",
        "4. **[ ].extend(objeto)**: concatena objetos a listas;\n",
        "\n",
        "5. **[ ].index(objeto)**: retorna o índice referente à primeira ocorrência de um objeto;\n",
        "```\n",
        "linguagens = [\"python\", \"java\", \"c\", \"java\", \"csharp\"]\n",
        "print(linguagens.index(\"java\")) ---> 1\n",
        "print(linguagens.index(\"c\")) ---> 2\n",
        "```\n",
        "6. **[ ].pop(índice)**: retorna e remove o objeto cujo índice foi declarado nos parêntesis. Se não for declarado nenhum índice, ou seja, `[].pop()`, o último elemento adicionado será removido;\n",
        "\n",
        "7. **[ ].remove(elemento)**: remove um objeto de uma lista, o qual deve ser declarado nos parêntesis;\n",
        "\n",
        "8. **len(lista)**: retorna o tamanho de uma lista, isto é, a quantidade de objetos que ela possui;\n",
        "\n",
        "9. **[ ].sort()**: ordena uma lista, e possui dois parâmetros (`key` e `reverse`);\n",
        "> Como alternativa ao método .sort(), podemos utilizar a função built-in `sorted()`, que deve receber obrigatoriamente uma lista como parâmetro."
      ],
      "metadata": {
        "id": "bT2K27o2RXD9"
      }
    },
    {
      "cell_type": "code",
      "source": [
        "# Exemplos de utilização do método sort e da função sorted\n",
        "\n"
      ],
      "metadata": {
        "id": "Lf5PyxkDZXtd"
      },
      "execution_count": null,
      "outputs": []
    },
    {
      "cell_type": "markdown",
      "source": [
        "## Tuplas\n",
        "\n",
        "São estruturas de dados imutáveis, muito semelhantes às listas. Podem ser criadas através da classe `tuple`, ou colocando valores separados por vírgula dentro de parêntesis.\n",
        "\n",
        "Elas são utilizadas quando não se deseja alterar os dados e, em sua utilização, é uma boa prática deixar uma vírgula no final do último elemento na declarção de uma tupla, para facilitar a sua visualização.\n",
        "\n",
        "> ```\n",
        "frutas = (\"laranja\", \"pera\", \"uva\",)\n",
        "letras = tuple(\"python\")\n",
        "numeros = tuple([1, 2, 3, 4])\n",
        "pais = (\"Brasil\",)\n",
        "```\n",
        "\n",
        "* Possuem como métodos: `.count()`, `.index()` e `len`."
      ],
      "metadata": {
        "id": "W5OkbjbcoBFk"
      }
    },
    {
      "cell_type": "markdown",
      "source": [
        "## Conjuntos (set)\n",
        "\n",
        "Um `set` é uma coleção que não possui elementos repetidos, usamos sets para representar conjuntos matemáticos ou eliminar itens duplicados de um objeto iterável.\n",
        "\n",
        "* Pode ser declarado utilizando o comando `set(obj_iterável)` ou colocando valores entre aspas separados por vírgula dentro de chaves `{}`;\n",
        "\n",
        "* A estrutura de dados `set` não garante a ordem dos elementos!!\n",
        "\n",
        "* Os conjuntos não suportam indexação, isto é, seus elementos não podem ser acessados diretamente;\n",
        "> Para acessar os objetos de um conjunto, temos que convertê-lo em lista, para depois poder acessá-la livremente.\n",
        "\n",
        "* Podem ser iterados utilizando o `for`, aceitam a função `len` para verificar o tamanho, e os operadores de associação `in` e `not in`.\n",
        "\n",
        "> Exemplos de declaração de um conjunto:\n",
        "```\n",
        "set([1, 2, 3, 1, 3, 4])\n",
        "set(\"abacaxi\")  # {\"b\", \"a\", \"c\", \"x\", \"i\"}\n",
        "set((\"palio\", \"gol\", \"palio\", \"fusca\",))  # {\"palio\", \"gol\", \"fusca\",}\n",
        "```\n"
      ],
      "metadata": {
        "id": "GEGANSSLq_5l"
      }
    },
    {
      "cell_type": "markdown",
      "source": [
        "### Métodos da classe `set`\n",
        "\n",
        "1. `conjunto1.union(conjunto2)`: retorna a união de dois conjuntos;\n",
        "\n",
        "2. `conjunto1.intersection(conjunto2)`: retorna a intersecção de dois conjuntos;\n",
        "\n",
        "3. `conjunto1.difference(conjunto2)`: retorna a diferença de dois conjuntos, ou seja, o que tem exclusivamente no conjunto1 e não tem no conjunto2;\n",
        "\n",
        "4. `conjunto1.symmetric_difference(conjunto2)`: retorna a união de dois conjuntos subtraída da intersecção deles;\n",
        "\n",
        "5. `conjunto1.issubset(conjunto2)`: retorna `True` se um conjunto é subconjunto de outro e `False` se não for;\n",
        "\n",
        "6. `conjunto1.issuperset(conjunto2)`: retorna `True` se o conjunto2 está contido no conjunto1 e `False` se não estiver;\n",
        "\n",
        "7. `conjunto1.isdisjoint(conjunto2)`: retorna `True` se os conjuntos são disjuntos (não possuem intersecção), e `False` se não são;\n",
        "\n",
        "8. `{}.add(valor)`: adiciona um elemento ao conjunto;\n",
        "\n",
        "9. `{}.clear()`: \"limpa\" o conjunto, isto é, apaga todos os seus elementos;\n",
        "\n",
        "10. `{}.discard(elemento)`: descarta o elemento de um conjunto;\n",
        "> Se o elemento declarado nos parêntesis não existir no conjunto, não é retornado um erro.\n",
        "\n",
        "11. `{}.pop(índice)`: retorna e remove o objeto cujo índice foi declarado nos parêntesis. Se não for declarado nenhum índice, ou seja, `{}.pop()`, o primeiro elemento adicionado será removido;\n",
        "\n",
        "12. `{}.remove(elemento)`: remove o elemento de um conjunto;\n",
        "> Se o elemento declarado nos parêntesis não existir no conjunto, é retornado um erro.\n",
        "\n",
        "\n",
        "\n"
      ],
      "metadata": {
        "id": "uC_3xMg0t5yV"
      }
    }
  ]
}
