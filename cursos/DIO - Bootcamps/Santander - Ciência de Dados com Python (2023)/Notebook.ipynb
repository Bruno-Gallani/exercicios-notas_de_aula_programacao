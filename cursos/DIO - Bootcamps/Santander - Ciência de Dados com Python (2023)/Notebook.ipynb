{
  "nbformat": 4,
  "nbformat_minor": 0,
  "metadata": {
    "colab": {
      "provenance": [],
      "collapsed_sections": [
        "1Ow_FwQaF7uU",
        "G0td-jOFGM29",
        "noxOc6YfGUIu",
        "CQLYecEkGgyt",
        "xfEQVDqQHCO9"
      ]
    },
    "kernelspec": {
      "name": "python3",
      "display_name": "Python 3"
    },
    "language_info": {
      "name": "python"
    }
  },
  "cells": [
    {
      "cell_type": "markdown",
      "source": [
        "Notebook utilizado para anotar os conteúdos das aulas do bootcamp do Santander - **Ciência de Dados com Python** (2023), disponível na plataforma da DIO (*Digital Innovation One*), e realizado no período de 17/08 a 19/09.\n",
        "> O notebook está sendo desenvolvido no Google Colab, e seu link encontra-se abaixo:\n",
        "\n",
        "> <a href=\"https://colab.research.google.com/drive/1zuCDvGP4KS5Mn911Uq2W0iSenB8ZGQ4u\" target=\"_blank\"><img src=\"https://colab.research.google.com/assets/colab-badge.svg\" alt=\"Open in Colab\"></a>"
      ],
      "metadata": {
        "id": "md1IAa0fpFlC"
      }
    },
    {
      "cell_type": "markdown",
      "source": [
        "# Estruturas condicionais e de repetição"
      ],
      "metadata": {
        "id": "Sc6MB01brZeH"
      }
    },
    {
      "cell_type": "markdown",
      "source": [
        "## Indentação e blocos\n",
        "\n",
        "A indentação é uma boa prática na programação, pois torna o código mais limpo e legível.\n",
        "\n",
        "> Em python, a indentação é obrigatória e somente através dela o interpretador consegue determinar onde um bloco de comando inicia e onde ele termina, ou seja, se não indentar o código não funciona.\n",
        "\n",
        "* **Blocos de comando**: a abertura de um método se dá pelo uso do caracter `:`, e a indentação é feita utilizando quatro espaços em branco.\n",
        "\n",
        "\n"
      ],
      "metadata": {
        "id": "9e4m6xkbuaaD"
      }
    },
    {
      "cell_type": "code",
      "source": [
        "# Exemplos\n",
        "\n",
        "def sacar(valor):\n",
        "  saldo = 500\n",
        "\n",
        "  if saldo >= valor:\n",
        "    print(\"valor sacado!\")\n",
        "    print(\"retire o seu dinheiro na boca do caixa!\")\n",
        "\n",
        "  print(\"Obrigado por ser nosso cliente, tenha um bom dia!\")"
      ],
      "metadata": {
        "id": "Q2WAjFBouhCD"
      },
      "execution_count": null,
      "outputs": []
    },
    {
      "cell_type": "markdown",
      "source": [
        "## Estruturas condicionais\n",
        "\n",
        "Permitem o desvio de fluxo de controle, quando determinadas expressões lógicas são atendidas.\n",
        "\n",
        "\n",
        "> **`if`**: estrutura condicional simples (se)\n",
        "\n",
        "> **`else`**: estrutura condicional simples contrária ao `if` (senão)\n",
        "\n",
        "> **`elif`**: forma contraída da expressão `else-if`\n",
        "\n",
        "* **If ternário**: permite escrever uma condição em uma única linha. É composto por três partes: a primeira parte é o retorno caso a expressão retorne `True`, a segunda parte é a expressão lógica, e a terceira parte é o retorno caso a expressão não seja atendida.\n",
        "\n",
        "  ```python\n",
        "  # Exemplo:\n",
        "\n",
        "  status = \"Sucesso\" if saldo >= saque else \"Falha\"\n",
        "\n",
        "  print(f\"{status} ao realizar o saque\")\n",
        "  ```\n",
        "> Deixa o código mais legível, facilitando assim a sua manutenção.\n",
        "\n",
        "\n"
      ],
      "metadata": {
        "id": "6Tlvp7pgzC8l"
      }
    },
    {
      "cell_type": "code",
      "source": [
        "# Exemplos de uso de estruturas condicionais\n",
        "\n",
        "MAIOR_IDADE = 18\n",
        "\n",
        "idade = int(input(\"Informe sua idade: \"))\n",
        "\n",
        "if idade >= MAIOR_IDADE:\n",
        "  print(\"Maior de idade, pode tirar a CNH.\")\n",
        "\n",
        "else:\n",
        "  print(\"Ainda não pode tirar a CNH.\")"
      ],
      "metadata": {
        "id": "SLMfJoIKRgqz"
      },
      "execution_count": null,
      "outputs": []
    },
    {
      "cell_type": "markdown",
      "source": [
        "## Estruturas de repetição"
      ],
      "metadata": {
        "id": "l0uqsY6jVunc"
      }
    },
    {
      "cell_type": "markdown",
      "source": [
        "### **`For`**\n",
        "Sua utilização é recomendada quando **se sabe** o número exato de vezes que o bloco de código deve ser executado, ou quando se deseja percorrer um objeto iterável (listas, strings, etc)...\n",
        "> #### Função `range`\n",
        "É uma função built-in do python usada para produzir uma sequência de números inteiros,\n",
        "a partir de um início (inclusivo) para um fim (exclusivo).\n",
        "\n",
        "  ```python\n",
        "  # Exemplo:\n",
        "  range(i, j)\n",
        "  # i, i + 1, i + 2, ..., j - 1\n",
        "  ```\n",
        "Ela recebe três argumentos: **stop** (obrigatório); **start** (opcional) e **step** (opcional).\n",
        "```python\n",
        "range(start, stop, step) # ---> range object\n",
        "```"
      ],
      "metadata": {
        "id": "vr_RSU6f6KC9"
      }
    },
    {
      "cell_type": "code",
      "source": [
        "# Os valores padrão de \"start\" e \"step\" são, respectivamente, 0 e 1\n",
        "# Valores padrão: aqueles que são automaticamente escolhidos, caso o usuário não defina\n",
        "\n",
        "for numero in range(0, 11):\n",
        "  print(numero, end = ' ')\n",
        "# >> 0 1 2 3 4 5 6 7 8 9 10\n",
        "\n",
        "# exibindo a tabuada de 5\n",
        "for numero in range(0, 51, 5):\n",
        "  print(numero, end = ' ')\n",
        "# >> 0 5 10 15 20 25 30 35 40 45 50"
      ],
      "metadata": {
        "id": "zdV8xgwM6MN1"
      },
      "execution_count": null,
      "outputs": []
    },
    {
      "cell_type": "markdown",
      "source": [
        "### **`While`**\n",
        "Sua utilização é recomendada quando **não se sabe** o número exato de vezes que o bloco de código deve ser executado."
      ],
      "metadata": {
        "id": "-f3aBYk37nSg"
      }
    },
    {
      "cell_type": "markdown",
      "source": [
        "### **Funções específicas de estruturas de repetição**\n",
        "\n",
        "* **Break**: encerra instantaneamente o loop\n",
        "\n",
        "* **Continue**: pula a execução\n",
        "  ```python\n",
        "  # Exemplo:\n",
        "  # Imprimir os números ímpares:\n",
        "  for numero in range(100):\n",
        "      if numero % 2 == 0:\n",
        "          continue\n",
        "      print(numero, end = ' ')\n",
        "  ```"
      ],
      "metadata": {
        "id": "s8oVJJb6F20a"
      }
    },
    {
      "cell_type": "markdown",
      "source": [
        "# Strings\n",
        "\n",
        "A classe `string`, em python, é rica em métodos e possui uma interface fácil de trabalhar."
      ],
      "metadata": {
        "id": "FRRk_bAlOpmd"
      }
    },
    {
      "cell_type": "markdown",
      "source": [
        "## *Métodos*\n",
        "\n",
        "**1**. Maiúsculo, minúsculo e título:\n",
        "  > `.upper()`: deixa as letras maiúsculas\n",
        "\n",
        "  > `.lower()`: deixa as letras minúsculas\n",
        "\n",
        "  > `.title()`: transforma em título\n",
        "\n",
        "  ```python\n",
        "  curso = \"pYthon\"\n",
        "\n",
        "  print(curso.lower())\n",
        "  # python\n",
        "\n",
        "  print(curso.upper())\n",
        "  # PYTHON\n",
        "\n",
        "  print(curso.title())\n",
        "  # Python\n",
        "  ```\n",
        "\n",
        "**2**. Eliminando espaços em branco:\n",
        "```python\n",
        "  curso = \"  python  \"\n",
        "\n",
        "  print(curso.lstrip())\n",
        "  # \"python  \"\n",
        "\n",
        "  print(curso.strip())\n",
        "  # \"python\"\n",
        "\n",
        "  print(curso.rstrip())\n",
        "  # \"  python\"\n",
        "```\n",
        "\n",
        "**3**. Junções e centralização\n",
        "```python\n",
        "  curso = \"Python\"\n",
        "\n",
        "  print(curso.center(10, \"#\"))\n",
        "  ##Python##\n",
        "\n",
        "  print(\".\".join(curso))\n",
        "  # P.y.t.h.o.n\n",
        "\n",
        "  '''Função join: percorre item por item, igual o for,\n",
        "  e para cada elemento é utilizado um caracter para juntar os elementos\n",
        "\n",
        "  O primeiro parâmetro deve estar entre aspas,\n",
        "  e representa o caracter utilizado para juntar os elementos da string\n",
        "  '''\n",
        "  ```"
      ],
      "metadata": {
        "id": "MD9FQUB4pHMX"
      }
    },
    {
      "cell_type": "markdown",
      "source": [
        "## *Fatiamento*\n",
        "\n",
        "O fatiamento de strings é uma técnica utilizada para retornar substrings (partes da string original), informando início (`start`), fim (`stop`) e passo (`step`).\n",
        "\n",
        "Esta sintaxe está expressa a seguir:\n",
        "\n",
        "\n",
        "```python\n",
        "# [start:stop:step]\n",
        "\n",
        "# Os índices padrão de start, stop e step são, respectivamente,\n",
        "# 0, índice do último caracter e 1.\n",
        "```\n",
        "\n"
      ],
      "metadata": {
        "id": "a1dDOo7npl9T"
      }
    },
    {
      "cell_type": "code",
      "source": [
        "nome = \"Bruno Augusto Soares Gallani\"\n",
        "\n",
        "# Imprime a primeira letra do nome (B)\n",
        "print(nome[0])\n",
        "\n",
        "# Imprime a última letra do nome (i)\n",
        "print(nome[-1])\n",
        "\n",
        "# Imprime a letra de índice 0 até a letra de índice 4 (Bruno)\n",
        "print(nome[:5])\n",
        "\n",
        "# Imprime a letra de índice 6 até a letra de índice 12 (Augusto)\n",
        "print(nome[6:13])\n",
        "\n",
        "# Imprime todo o nome (Bruno Augusto Soares Gallani)\n",
        "print(nome[:])\n",
        "\n",
        "# Imprime o nome espelhado, ou seja, de trás pra frente\n",
        "print(nome[::-1]) # --> start = 0, stop = último índice, step = -1"
      ],
      "metadata": {
        "id": "t-972xhlpoI6"
      },
      "execution_count": null,
      "outputs": []
    },
    {
      "cell_type": "markdown",
      "source": [
        "## *Strings multi-linhas*\n",
        "\n",
        "São definidas pela utilização de três aspas simples ou duplas durante a atribuição. Elas podem ocupar várias linhas do código, como o próprio nome sugere, e todos os espaços em branco são incluídos na string final.\n",
        "\n",
        "Estas string são úteis quando se deseja construir um menu, ou gerar uma mensagem com várias linhas."
      ],
      "metadata": {
        "id": "pQeEYQHTr9zj"
      }
    },
    {
      "cell_type": "code",
      "source": [
        "nome = \"Bruno\"\n",
        "\n",
        "mensagem = f'''\n",
        "Olá meu nome é {nome},\n",
        "Eu estou aprendendo Python.\n",
        "'''\n",
        "# Imprime a mensagem:\n",
        "# Olá meu nome é Bruno,\n",
        "# Eu estou aprendendo Python."
      ],
      "metadata": {
        "id": "9V6_06tHsGyP"
      },
      "execution_count": null,
      "outputs": []
    },
    {
      "cell_type": "code",
      "source": [
        "# Exemplo de menu ----> sistema bancário\n",
        "\n",
        "print(\n",
        "    '''\n",
        "    =================== MENU ===================\n",
        "\n",
        "    1 - Depositar\n",
        "    2 - Sacar\n",
        "    0 - Sair\n",
        "\n",
        "    ============================================\n",
        "\n",
        "        Obrigado por usar o nosso sistema!!!!\n",
        "'''\n",
        ")"
      ],
      "metadata": {
        "id": "bkjL27lKtYma"
      },
      "execution_count": null,
      "outputs": []
    },
    {
      "cell_type": "markdown",
      "source": [
        "# Estruturas de dados"
      ],
      "metadata": {
        "id": "Yesh9pN4i7KT"
      }
    },
    {
      "cell_type": "markdown",
      "source": [
        "## Listas\n",
        "\n",
        "São sequências iteráveis que armazenam qualquer tipo de objeto. Pode-se criar listas utilizando o construtor `list`, que recebe como argumento um objeto iterável, a função `range` ou colocando valores separados por vírgula dentro de colchetes `[1, 2, 3]`.\n",
        "\n",
        "Além disso, listas são objetos mutáveis, portanto, podemos alterar seus valores após a criação."
      ],
      "metadata": {
        "id": "Vd2BxNp4jAhN"
      }
    },
    {
      "cell_type": "markdown",
      "source": [
        "### Acesso direto\n",
        "\n",
        "Podemos acessar os itens de uma lista diretamente, através de seus índices, que podem ser tanto números positivos como negativos."
      ],
      "metadata": {
        "id": "2ROd-VNYMdxA"
      }
    },
    {
      "cell_type": "code",
      "source": [
        "frutas = [\"maçã\", \"laranja\", \"uva\", \"pera\"]\n",
        "frutas[-1] # pera\n",
        "frutas[-3] # laranja"
      ],
      "metadata": {
        "id": "ZkTSfhOdMv3o"
      },
      "execution_count": null,
      "outputs": []
    },
    {
      "cell_type": "markdown",
      "source": [
        "### Listas aninhadas\n",
        "\n",
        "Como as listas podem armazenar qualquer tipo de objeto, podemos ter listas que armazenam outras listas. Com isso, pode-se criar estruturas bidimensionais (matrizes), e acessar informando os índices de linha e coluna."
      ],
      "metadata": {
        "id": "m5GNajMSM-qp"
      }
    },
    {
      "cell_type": "code",
      "source": [
        "matriz = [\n",
        "    [1, \"a\", 2],\n",
        "    [\"b\", 3, 4],\n",
        "    [6, 5, \"c\"]\n",
        "]\n",
        "\n",
        "matriz[0]   # [1, \"a\", 2]\n",
        "matriz[0][0]  # 1\n",
        "matriz[0][-1]   # 2\n",
        "matriz[-1][-1]  # \"c\""
      ],
      "metadata": {
        "id": "eGgkGgR_NYY6"
      },
      "execution_count": null,
      "outputs": []
    },
    {
      "cell_type": "markdown",
      "source": [
        "### Fatiamento\n",
        "\n",
        "Podemos fatiar listas, assim como fatiamos strings."
      ],
      "metadata": {
        "id": "3L9tw28xOMNg"
      }
    },
    {
      "cell_type": "code",
      "source": [
        "lista = [\"p\", \"y\", \"t\", \"h\", \"o\", \"n\"]\n",
        "\n",
        "lista[2:]   # [\"t\", \"h\", \"o\", \"n\"]\n",
        "\n",
        "lista[:2]   # [\"p\", \"y\"]\n",
        "\n",
        "lista[1:3]  # [\"y\", \"t\"]\n",
        "\n",
        "lista[0:3:2]  # [\"p\", \"t\"]\n",
        "\n",
        "lista[::]   # [\"p\", \"y\", \"t\", \"h\", \"o\", \"n\"]\n",
        "\n",
        "lista[::-1]   # [\"n\", \"o\", \"h\", \"t\", \"y\", \"p\"]"
      ],
      "metadata": {
        "id": "_bwVssUuOUT-"
      },
      "execution_count": null,
      "outputs": []
    },
    {
      "cell_type": "markdown",
      "source": [
        "### Compreensão de listas (list comprehension)\n",
        "\n",
        "A compreensão de lista oferece uma sintaxe mais curta quando se deseja criar uma nova lista com base nos valores de uma lista existente (filtro) ou gerar uma nova lista aplicando modificações nos elementos de uma lista existente.\n"
      ],
      "metadata": {
        "id": "U3i2-BiqPdtj"
      }
    },
    {
      "cell_type": "code",
      "source": [
        "# Filtro (versão 1)\n",
        "\n",
        "numeros = [1, 30, 21, 2, 9, 65, 34]\n",
        "\n",
        "pares = []\n",
        "\n",
        "for numero in numeros:\n",
        "  if numero % 2 == 0:\n",
        "    pares.append(numero)\n",
        "\n",
        "# Filtro (versão 2 - usando list comprehension)\n",
        "\n",
        "numeros = [1, 30, 21, 2, 9, 65, 34]\n",
        "\n",
        "pares = [numero for numero in numeros if numero % 2 == 0]"
      ],
      "metadata": {
        "id": "V8gn7rR8QC-7"
      },
      "execution_count": null,
      "outputs": []
    },
    {
      "cell_type": "code",
      "source": [
        "# Modificando valores (versão 1)\n",
        "\n",
        "numeros = [1, 30, 21, 2, 9, 65, 34]\n",
        "\n",
        "quadrado = []\n",
        "\n",
        "for numero in numeros:\n",
        "  quadrado.append(numero ** 2)\n",
        "\n",
        "# Modificando valores (versão 2 - usando list comprehension)\n",
        "\n",
        "numeros = [1, 30, 21, 2, 9, 65, 34]\n",
        "\n",
        "quadrado = [numero ** 2 for numero in numeros]"
      ],
      "metadata": {
        "id": "DKrxF8JrQ29O"
      },
      "execution_count": null,
      "outputs": []
    },
    {
      "cell_type": "markdown",
      "source": [
        "### Métodos da classe `list`\n",
        "\n",
        "1. **[ ].append(objeto)**: adiciona um objeto ao fim da lista;\n",
        "\n",
        "2. **[ ].copy()**: cria uma nova lista que é uma cópia de uma lista existente;\n",
        "\n",
        "3. **[ ].count(elemento)**: conta os elementos de uma lista;\n",
        "\n",
        "4. **[ ].extend(objeto)**: concatena objetos a listas;\n",
        "\n",
        "5. **[ ].index(objeto)**: retorna o índice referente à primeira ocorrência de um objeto;\n",
        "```python\n",
        "linguagens = [\"python\", \"java\", \"c\", \"java\", \"csharp\"]\n",
        "print(linguagens.index(\"java\")) # ---> 1\n",
        "print(linguagens.index(\"c\")) # ---> 2\n",
        "```\n",
        "6. **[ ].pop(índice)**: retorna e remove o objeto cujo índice foi declarado nos parêntesis. Se não for declarado nenhum índice, ou seja, `[].pop()`, o último elemento adicionado será removido;\n",
        "\n",
        "7. **[ ].remove(elemento)**: remove um objeto de uma lista, o qual deve ser declarado nos parêntesis;\n",
        "\n",
        "8. **len(lista)**: retorna o tamanho de uma lista, isto é, a quantidade de objetos que ela possui;\n",
        "\n",
        "9. **[ ].sort()**: ordena uma lista, e possui dois parâmetros (`key` e `reverse`);\n",
        "> Como alternativa ao método .sort(), podemos utilizar a função built-in `sorted()`, que deve receber obrigatoriamente uma lista como parâmetro."
      ],
      "metadata": {
        "id": "bT2K27o2RXD9"
      }
    },
    {
      "cell_type": "code",
      "source": [
        "# Exemplos de utilização do método sort e da função sorted\n",
        "\n"
      ],
      "metadata": {
        "id": "Lf5PyxkDZXtd"
      },
      "execution_count": null,
      "outputs": []
    },
    {
      "cell_type": "markdown",
      "source": [
        "## Tuplas\n",
        "\n",
        "São estruturas de dados imutáveis, muito semelhantes às listas. Podem ser criadas através da classe `tuple`, ou colocando valores separados por vírgula dentro de parêntesis.\n",
        "\n",
        "Elas são utilizadas quando não se deseja alterar os dados e, em sua utilização, é uma boa prática deixar uma vírgula no final do último elemento na declarção de uma tupla, para facilitar a sua visualização.\n",
        "\n",
        "> ```python\n",
        "frutas = (\"laranja\", \"pera\", \"uva\",)\n",
        "letras = tuple(\"python\")\n",
        "numeros = tuple([1, 2, 3, 4])\n",
        "pais = (\"Brasil\",)\n",
        "```\n",
        "\n",
        "* Possuem como métodos: `.count()`, `.index()` e `len`."
      ],
      "metadata": {
        "id": "W5OkbjbcoBFk"
      }
    },
    {
      "cell_type": "markdown",
      "source": [
        "## Conjuntos (set)\n",
        "\n",
        "Um `set` é uma coleção que não possui elementos repetidos, usamos sets para representar conjuntos matemáticos ou eliminar itens duplicados de um objeto iterável.\n",
        "\n",
        "* Pode ser declarado utilizando o comando `set(obj_iterável)` ou colocando valores entre aspas separados por vírgula dentro de chaves `{}`;\n",
        "\n",
        "* A estrutura de dados `set` não garante a ordem dos elementos!!\n",
        "\n",
        "* Os conjuntos não suportam indexação, isto é, seus elementos não podem ser acessados diretamente;\n",
        "> Para acessar os objetos de um conjunto, temos que convertê-lo em lista, para depois poder acessá-la livremente.\n",
        "\n",
        "* Podem ser iterados utilizando o `for`, aceitam a função `len` para verificar o tamanho, e os operadores de associação `in` e `not in`.\n",
        "\n",
        "> Exemplos de declaração de um conjunto:\n",
        "```python\n",
        "set([1, 2, 3, 1, 3, 4])\n",
        "set(\"abacaxi\")  # {\"b\", \"a\", \"c\", \"x\", \"i\"}\n",
        "set((\"palio\", \"gol\", \"palio\", \"fusca\",))  # {\"palio\", \"gol\", \"fusca\",}\n",
        "```\n"
      ],
      "metadata": {
        "id": "GEGANSSLq_5l"
      }
    },
    {
      "cell_type": "markdown",
      "source": [
        "### Métodos da classe `set`\n",
        "\n",
        "1. `conjunto1.union(conjunto2)`: retorna a união de dois conjuntos;\n",
        "\n",
        "2. `conjunto1.intersection(conjunto2)`: retorna a intersecção de dois conjuntos;\n",
        "\n",
        "3. `conjunto1.difference(conjunto2)`: retorna a diferença de dois conjuntos, ou seja, o que tem exclusivamente no conjunto1 e não tem no conjunto2;\n",
        "\n",
        "4. `conjunto1.symmetric_difference(conjunto2)`: retorna a união de dois conjuntos subtraída da intersecção deles;\n",
        "\n",
        "5. `conjunto1.issubset(conjunto2)`: retorna `True` se um conjunto é subconjunto de outro e `False` se não for;\n",
        "\n",
        "6. `conjunto1.issuperset(conjunto2)`: retorna `True` se o conjunto2 está contido no conjunto1 e `False` se não estiver;\n",
        "\n",
        "7. `conjunto1.isdisjoint(conjunto2)`: retorna `True` se os conjuntos são disjuntos (não possuem intersecção), e `False` se não são;\n",
        "\n",
        "8. `{}.add(valor)`: adiciona um elemento ao conjunto;\n",
        "\n",
        "9. `{}.clear()`: \"limpa\" o conjunto, isto é, apaga todos os seus elementos;\n",
        "\n",
        "10. `{}.discard(elemento)`: descarta o elemento de um conjunto;\n",
        "> Se o elemento declarado nos parêntesis não existir no conjunto, não é retornado um erro.\n",
        "\n",
        "11. `{}.pop(índice)`: retorna e remove o objeto cujo índice foi declarado nos parêntesis. Se não for declarado nenhum índice, ou seja, `{}.pop()`, o primeiro elemento adicionado será removido;\n",
        "\n",
        "12. `{}.remove(elemento)`: remove o elemento de um conjunto;\n",
        "> Se o elemento declarado nos parêntesis não existir no conjunto, é retornado um erro.\n",
        "\n",
        "\n",
        "\n"
      ],
      "metadata": {
        "id": "uC_3xMg0t5yV"
      }
    },
    {
      "cell_type": "markdown",
      "source": [
        "## Dicionário (mapa, map ou hashmap)\n",
        "\n",
        "É um conjunto não ordenado de pares chave:valor. Dicionários são delimitados por chaves: {}, e contêm uma lista de pares chave:valor separada por vírgulas.\n",
        "\n",
        "* Declaramos dicionários delimitado por meio de *curly brackets* { }, ou usando a classe `dict()`.\n",
        "\n",
        "> **IMPORTANTE!!!**\n",
        "\n",
        ">> A chave sempre será um objeto imutável (`str`, `tuple`...), e o valor pode ser qualquer tipo de objeto.\n",
        "\n",
        "* O valor de uma chave pode ser facilmente alterado, se o acessarmos:\n",
        "\n",
        "  ```python\n",
        "  dados = {\n",
        "    \"nome\": \"Guilherme\",\n",
        "    \"idade\": 28,\n",
        "    \"telefone\": \"3333-1234\"\n",
        "  }\n",
        "\n",
        "  # Nestas linhas acessamos os valores de cada uma das chaves do dicionário e os alteramos:\n",
        "  dados[\"nome\"] = \"Maria\"\n",
        "  dados[\"idade\"] = 18\n",
        "  dados[\"telefone\"] = \"9988-1781\"\n",
        "\n",
        "  dados\n",
        "  # {\"nome\": \"Maria\", \"idade\": 18, \"telefone\": \"9988-1781\"}\n",
        "  ```\n",
        "\n",
        "* Uma chave também pode ser facilmente criada, por exemplo:\n",
        "\n",
        "  ```python\n",
        "  pessoa = {\"nome\": \"Bruno\", \"idade\": 28}\n",
        "\n",
        "  pessoa = dict(nome = \"Bruno\", idade = 20)\n",
        "\n",
        "  pessoa[\"telefone\"] = \"96966-0926\"   \n",
        "  # criação da chave \"telefone\" e de seu respectivo valor\n",
        "\n",
        "  # pessoa\n",
        "  {\n",
        "    \"nome\": \"Bruno\",\n",
        "    \"idade\": 20,\n",
        "    \"telefone\": \"96966-0926\"\n",
        "  }\n",
        "  ```"
      ],
      "metadata": {
        "id": "bsN7dRskNkUQ"
      }
    },
    {
      "cell_type": "markdown",
      "source": [
        "### Dicionários aninhados\n",
        "\n",
        "* Podemos aninhar dicionários, igual fazemos com vetores:\n",
        "\n",
        "```python\n",
        "contatos = {\n",
        "    \"guilherme@gmail.com\": {\"nome\": \"Guilherme\", \"telefone\": \"3333-2221\"},\n",
        "    \"giovanna@gmail.com\": {\"nome\": \"Giovanna\", \"telefone\": \"3443-2121\"},\n",
        "    \"chappie@gmail.com\": {\"nome\": \"Chappie\", \"telefone\": \"3344-9871\"},\n",
        "    \"melaine@gmail.com\": {\"nome\": \"Melaine\", \"telefone\": \"3333-7766\"},\n",
        "}\n",
        "\n",
        "telefone = contatos[\"giovanna@gmail.com\"][\"telefone\"]  # \"3443-2121\"\n",
        "print(telefone)\n",
        "```"
      ],
      "metadata": {
        "id": "l9lGKE1t2mTD"
      }
    },
    {
      "cell_type": "markdown",
      "source": [
        "### Iteração de dicionários\n",
        "\n",
        "* Ao iterar um dicionário, os dados iterados são as chaves:\n",
        "\n",
        "  ```python\n",
        "  contatos = {\n",
        "      \"guilherme@gmail.com\": {\"nome\": \"Guilherme\", \"telefone\": \"3333-2221\"},\n",
        "      \"giovanna@gmail.com\": {\"nome\": \"Giovanna\", \"telefone\": \"3443-2121\"},\n",
        "      \"chappie@gmail.com\": {\"nome\": \"Chappie\", \"telefone\": \"3344-9871\"},\n",
        "      \"melaine@gmail.com\": {\"nome\": \"Melaine\", \"telefone\": \"3333-7766\"},\n",
        "  }\n",
        "\n",
        "  for chave in contatos:\n",
        "      print(chave, contatos[chave])\n",
        "\n",
        "  # guilherme@gmail.com {'nome': 'Guilherme', 'telefone': '3333-2221'}\n",
        "  # giovanna@gmail.com {\"nome\": \"Giovanna\", \"telefone\": \"3443-2121\"}\n",
        "  # chappie@gmail.com {\"nome\": \"Chappie\", \"telefone\": \"3344-9871\"}\n",
        "  # melaine@gmail.com {\"nome\": \"Melaine\", \"telefone\": \"3333-7766\"}\n",
        "  ```\n",
        "\n",
        "* Se quisermos imprimir ambos os valores, a chave e o valor, devemos usar o método built-in `.items()`:\n",
        "\n",
        "  ```python\n",
        "  for chave, valor in contatos.items():\n",
        "    print(chave, valor)\n",
        "\n",
        "  # O método \".items()\" gera uma tupla com dois valores, a chave e o valor, respectivamente.\n",
        "  # Então, quando iteramos um dicionário com este método, conseguimos \"capturar\",\n",
        "  # a cada iteração, tanto a chave como o valor.\n",
        "  ```"
      ],
      "metadata": {
        "id": "tLmsaK4m5k-k"
      }
    },
    {
      "cell_type": "markdown",
      "source": [
        "### Métodos\n",
        "\n",
        "1. `{ }.clear()`: apaga todos os pares \"chave-valor\" do dicionário;\n",
        "\n",
        "2. `{ }.copy()`: cria uma cópia do dicionário especificado nos *curly brackets*;\n",
        "> É um método útil quando se deseja manipular um dicionário, sem alterar os dados do dicionário original\n",
        "\n",
        "3. `{ }.fromkeys()`: cria chaves para um dicionário, recebe dois parâmetros (uma lista de chaves, e um valor comum para as chaves).\n",
        "\n",
        "  Se não inserirmos o segundo parâmetro, o valor assumido pelas chaves será `None`.\n",
        "\n",
        "  ```python\n",
        "  dict.fromkeys([\"nome\", \"telefone\"], \"vazio\")\n",
        "  # {\"nome\": \"vazio\", \"telefone\": \"vazio\"}\n",
        "  ```\n",
        "\n",
        "4. `{ }.get()`: segunda forma de se acessar valores dentro de um dicionário. Este método retorna o valor da chave\n",
        "\n",
        "  Recebe dois parâmetros: o nome da chave (entre aspas) e o valor padrão a ser assumido pela chave, caso ela não exista no dicionário.\n",
        "\n",
        "  Caso a chave não exista, e não seja informado o segundo parâmetro (valor padrão a ser assumido), o método retornará `None`.\n",
        "\n",
        "  ```python\n",
        "  contatos = {\n",
        "    \"guilherme@gmail.com\": nome\": \"Guilherme\", \"telefone\": \"3333-2221\"\n",
        "    }\n",
        "  \n",
        "  contatos[\"chave\"]   \n",
        "  # key error (a chave não existe, portanto, é retornado um erro)\n",
        "\n",
        "  contatos.get(\"chave\")   # None\n",
        "  contatos.get(\"chave\", {})    # {}\n",
        "  contatos.get(\"guilherme@gmail.com\", {})    \n",
        "  # {\"guilherme@gmail.com\": nome\": \"Guilherme\", \"telefone\": \"3333-2221\"}\n",
        "  # A chave existe, portanto retornamos o valor dela\n",
        "  ```\n",
        "\n",
        "5. `{ }.keys()`: retorna uma lista que contém todas as chaves do dicionário\n",
        "\n",
        "  ```python\n",
        "  novo_dicionario = {\"a\": 100, 1: \"teste\", \"b\": \"python\"}\n",
        "  print(novo_dicionario.keys())\n",
        "  # dict_kets([\"a\", 1, \"b\"])\n",
        "  ```\n",
        "\n",
        "6. `{ }.pop()`: remove um par \"chave: valor\" do dicionário e retorna o dicionário pós-remoção da chave.\n",
        "\n",
        "> Recebe dois parâmetros, a chave entre parêntesis e o valor a ser retornado, caso a chave não exista\n",
        "\n",
        "7. `{ }.setdefault()`: insere um par chave-valor, no dicionário, caso a chave não exista. E caso a chave já exista, seu value é mantido;\n",
        "  ```python\n",
        "  contato = {\"nome\": \"Bruno\", \"telefone\": \"96966-0926\"}\n",
        "\n",
        "  contato.setdefault(\"nome\", \"Giovana\")\n",
        "  print(contato) # {\"nome\": \"Bruno\", \"telefone\": \"96966-0926\"}\n",
        "\n",
        "  contato.setdefault(\"idade\", 20)\n",
        "  print(contato)\n",
        "  # {\"nome\": \"Bruno\", \"telefone\": \"96966-0926\", \"idade\": 20}\n",
        "  ```\n",
        "\n",
        "8. `{ }.update()`: atualiza um dicionário, adicionando ou alterando pares chave-valor. Recebe como parâmetro um dicionário, com os respectivos pares chave-valor.\n",
        "\n",
        "  Caso a chave informada no dicionário parâmetro já exista, seu valor é atualizado. Caso contrário, um novo par chave-valor é criado.\n",
        "\n",
        "  ```python\n",
        "  contatos = {\n",
        "  ```\n",
        "\n",
        "9. `{ }.values()`: retorna uma lista que contém todos os valores do dicionário;\n",
        "\n",
        "10. `in`: verifica se uma determinada chave está contida em um dicionário;\n",
        "\n",
        "11. `del`: remove um item, par chave-valor, a partir da(s) chave(s) informada(s)."
      ],
      "metadata": {
        "id": "J7Kxl4907jn7"
      }
    },
    {
      "cell_type": "code",
      "source": [
        "chave, valor = input().split(' ')\n",
        "aa = {}\n",
        "aa[chave] = valor\n",
        "\n",
        "print(aa)"
      ],
      "metadata": {
        "colab": {
          "base_uri": "https://localhost:8080/"
        },
        "id": "xfoPlFX4z1Eo",
        "outputId": "20c12e5f-a435-47f4-98c3-88712f5bf4e6"
      },
      "execution_count": null,
      "outputs": [
        {
          "output_type": "stream",
          "name": "stdout",
          "text": [
            "nome Bruno\n",
            "{'nome': 'Bruno'}\n"
          ]
        }
      ]
    },
    {
      "cell_type": "markdown",
      "source": [
        "# Funções"
      ],
      "metadata": {
        "id": "1z6s0a9fTIxM"
      }
    },
    {
      "cell_type": "markdown",
      "source": [
        "## **Definição**\n",
        "\n",
        "  Uma função é um bloco de código identificado por um nome que pode receber uma lista de parâmetros, esses parâmetros podem ou não ter valores padrões. Usar funções torna o código mais legível e possibilita o reaproveitamento do código. Programar baseado em funções é o mesmo que dizer que estamos programando de maneira estruturada (paradigma de programação estrutural).\n",
        "\n",
        "  Sua sintaxe é expressa da seguinte forma:\n",
        "  ```python\n",
        "  def identificador(parâmetros):\n",
        "    comandos a serem realizados\n",
        "  ```\n",
        "  Por exemplo:\n",
        "  ```python\n",
        "  # def: mostra ao interpretador que estamos utilizando uma função\n",
        "  def exibir_mensagem():\n",
        "    print(\"Olá mundo!\")\n",
        "  \n",
        "  def exibir_mensagem2(nome):\n",
        "    print(f\"Seja bem vindo {nome}!\")\n",
        "  \n",
        "  def exibir_mensagem_3(nome=\"Anônimo\"):\n",
        "    # o valor da variável \"nome\" eh \"Anônimo\"\n",
        "    print(f\"Seja bem vindo {nome}!\")\n",
        "\n",
        "  exibir_mensagem_3()\n",
        "  # Não precisamos adicionar um parâmetro para \"chamar\" esta função\n",
        "  # Pois o valor da variável já está sendo previamente atribuido\n",
        "  # E será impresso: \"Seja bem vindo Anônimo!\"\n",
        "  # No entanto, caso se pretenda alterar o valor da variável, podemos chamar a função\n",
        "  # E , em seguida, atribuir um valor a variável, exemplo:\n",
        "\n",
        "  exibir_mensagem_3(nome=\"Bruno\")\n",
        "  # Seja bem vindo Bruno!\n",
        "  ```\n"
      ],
      "metadata": {
        "id": "7dNaU7IkmDeZ"
      }
    },
    {
      "cell_type": "markdown",
      "source": [
        "## **Retorno de valores**\n",
        "\n",
        "  Para retornar um valor, utiliza-se o comando built-in `return`. Toda função, em Python, retorna `None` por padrão. Diferente de outras linguagens de programação, em Python uma função pode retornar mais de um valor.\n",
        "\n",
        "  Por exemplo:\n",
        "  ```python\n",
        "  def calcular_total(numeros):\n",
        "    return sum(numeros)\n",
        "  # calcula e retorna a soma de uma lista de números\n",
        "  # retorno de um único valor\n",
        "\n",
        "  def retorna_antecessor_e_sucessor(numero):\n",
        "    antecessor = numero - 1\n",
        "    sucessor = numero + 1\n",
        "\n",
        "    return antecessor, sucessor\n",
        "  # retorno de dois valores \"embrulhados\" em uma tupla\n",
        "  \n",
        "  calcular_total([10, 20, 34])\n",
        "  # 64\n",
        "  retorna_antecessor_e_sucessor(10)\n",
        "  # (9, 11)\n",
        "  ```"
      ],
      "metadata": {
        "id": "b1beKdcFmKJ3"
      }
    },
    {
      "cell_type": "markdown",
      "source": [
        "## **Argumentos nomeados**\n",
        "\n",
        "Funções também podem ser chamadas usando argumentos nomeados da forma chave=valor.\n",
        "\n",
        "Por exemplo:\n",
        "```python\n",
        "def salvar_carro(marca, modelo, ano, placa):\n",
        "  # salva carro no banco de dados...\n",
        "  print(f\"Carro inserido com sucesso! {marca}/{modelo}/{ano}/{placa}!\")\n",
        "\n",
        "# Parâmetros posicionais\n",
        "salvar_carro(\"Fiat\", \"Palio\", 1999, \"ABC-1234\")\n",
        "# Problemas: caso a ordem dos argumentos seja alterada, a função é negativamente afetada\n",
        "\n",
        "# Como resolver este problema?\n",
        "# Usando parâmetros nomeados!\n",
        "# Pois eles mantêm os valores corretos independente da ordem\n",
        "salvar_carro(marca=\"Fiat\", modelo=\"Palio\", ano=1999, placa=\"ABC-1234\")\n",
        "# Problemas: caso o nome dos argumentos seja alterado, é retornada um erro\n",
        "\n",
        "# Um outro jeito de utilizar argumentos nomeados\n",
        "# É passando um dicionário para a função como parâmetro\n",
        "# Onde, neste caso, cada par chave-valor é um dos argumentos originais\n",
        "salvar_carro(**{\"marca\": \"Fiat\", \"modelo\": \"Palio\", \"ano\": 1999, \"placa\": \"ABC-1234\"})\n",
        "```\n",
        "\n",
        "\n",
        "\n"
      ],
      "metadata": {
        "id": "KJJLDKsRmQFX"
      }
    },
    {
      "cell_type": "markdown",
      "source": [
        "## **Args e kwargs**\n",
        "\n",
        "Os parâmetros obrigatórios de uma função podem ser combinados com `args` e `kwargs`. Quando estes são definidos (\\*args e \\*\\*kwargs), o método recebe os valores como **tupla** e **dicionário**, respectivamente.\n",
        "\n",
        "Por exemplo:\n",
        "```python\n",
        "def exibir_poema(data_extenso, *lista, **dicionario):\n",
        "  texto = \"\\n\".join(lista)\n",
        "  # Os elementos da lista são juntados percorridos e concatenados pelo caracter \"\\n\" que corresponde à quebra de linha\n",
        "  # Ou seja, os elementos são impressos um em cada linha\n",
        "  meta_dados = \"\\n\".join([f\"{chave.title()}: {valor}\" for chave, valor in dicionario.items()])\n",
        "  # Os elementos da lista (pares chave-valor) são concatenados pelo caracter \"\\n\"\n",
        "  mensagem = f\"{data_extenso}\\n\\n{texto}\\n\\\\{meta_dados}\"\n",
        "  print(mensagem)\n",
        "\n",
        "# Primeira forma de se chamar a função\n",
        "exibir_poema(\n",
        "  \"Sábado, 26 de Agosto de 2023\",\n",
        "  *[\"Zen of Python\",\n",
        "  \"Beautiful is better than ugly.\"],\n",
        "  **{\"autor\": \"Tim Peters\",\n",
        "  \"ano\": 1999}\n",
        ")\n",
        "\n",
        "# Segunda forma\n",
        "exibir_poema(\n",
        "  \"Sábado, 26 de Agosto de 2023\",\n",
        "  \"Zen of Python\",\n",
        "  \"Beautiful is better than ugly.\",\n",
        "  autor=\"Tim Peters\",\n",
        "  ano=1999\n",
        ")\n",
        "```"
      ],
      "metadata": {
        "id": "WCf30VM2o7DJ"
      }
    },
    {
      "cell_type": "markdown",
      "source": [
        "## Parâmetros especiais\n",
        "\n",
        "Por padrão, argumentos podem ser passados para uma função Python tanto por posição quanto explicitamente pelo nome. Para uma melhor legibilidade e desempenho, faz sentido restringir a maneira pelo qual argumentos possam ser passados, assim um desenvolvedor precisa apenas olhar para a definição da função para determinar se os itens são passados **apenas por posição, por posição e nome, ou apenas por nome**.\n",
        "\n",
        "Esta sintaxe está expressa abaixo:\n",
        "\n",
        "![image.png](data:image/png;base64,iVBORw0KGgoAAAANSUhEUgAAAYcAAABXCAYAAADvV4nlAAAAAXNSR0IArs4c6QAAAARnQU1BAACxjwv8YQUAAAAJcEhZcwAADsMAAA7DAcdvqGQAAGufSURBVHhe7b1Xd11Jcu+Z8JYgAcKD3hRZLJav6m6pu3W7ddeMdK909XTnG8zcMW/SrLmzpHnR59HTzKw10sivJfWouiy9BR1IeO+9mf8vYif2PgcHliDIIhEbibN37jSRkZERkXYXDYzeXisvLw7FxcthrSiEteCwthbv9gPW7LLfJNk09VW5/czrEA7hEH58IOGT83sIQFER9Cj2B8FBUqdocOzaWk1tWSgpXV0X0SbG91k5oATsv6WbLeKhcjiEQziEQ+UAuDJwcEnJc+qXff+qoah//Dsph/JQWuK2PYj4b0ZgF5TdhTxzCxJ7C16eNNXcAhdMvADsNNx+QVqONwfAqRAdDpo2e4GXped2Zdwq/c3i7hanHwOdN4NY1t2U4WXrbLfwqvIrlO6Poy7BMpXMB1sfRX0TX69V11RIOdhj4lKEIhRtoKWjnYKUShHdn7QAq6srphhSZRcLmRtuZ5Cf36sEcKMqUJQHmefGvCJDRMoVpkMhv90DvcVVXcWqx/1jRKflbgG65+KwVRm3yyON6+nujf+cF/LxKgxpvW2G80Ygzm7C7wQ8NVLO4kxvPQIh/G1uzvhsX879hc3zc/z2QpvccsDjXFjg0QyOYP52tzkeBw3gRJt8HVDUO/Fb9RwqQ4nai7NJsa4SQ2hxcSmMDI+EUmmOhvr6UFZWamQDXa8o3a1CaAmTopKwvLwahkdGwuTEZChV2OMN9aGmtjqUkLiF9SGk4mKei8OaHslrfGrC8llaXg5Hjx4NDYpXUV4eVhVgaWkpjI2NGQ7Hjh1VWiXCwSsPEQaeRjyhQ4XjZ5iJCUqLStffe956b3n7e4C05ubnwojwnhDeFRUV4fjx44ZHabHHLwwePwtJkoISE7DkwS9hI+NZZatczpxeDn+XCgbDTX8WRm7RaDAexkbHw8LCQiivKAutLc2h7midykMaSX0k+RMnF/KfUyAvaDw1NWW/9dRzeVkOfikkGeSBl5uwwiIpc8QhlgmAswDSXdHFJFfMBzqTTrGeSWOdRkk6Me9YzqjA0vT9nriWIunwjmfdk569szRz466srIa5ubkwMzMTyssrwtE6+KzU4goTC7O6tpKJb14G8L+SMv+Z6ZkwPT0damuPhCNyVhaV0/OJLh9ILOIqXGRQrayshCW1PaCyUm1TPO+QydhAEcg7xz/NQ+iG2Zk54TSnOi03nMpVt4aT0cPLBj2cTx2cNi4JSG16diZMTk4Il4pQW1MTpmemrb3OzS+EI0fqQlPj8VBVXUlCjlI+mhmc8gGawnvQvrq6RumJbmqjsUzUG2D1SX3IRf6iTVsNqQ5mZ2fNlaucZWVllub4+ERYWV4JtUqzqakp1Aj3NcUBf9oRtK2pRj6VWDprSodrI/4O5LlTIJ39AE9nf9LaLZT82V/893+JsIGRARevIpYa7szsXPj+u+/DuIRmU2OjBKcYNak2kKZqiLG2Kh8pBwTYd9//EJ48eWoVdVTCvFbKobgY5qYSqWiUA+mHsKxGuaIKuX+/M1y7djMMDA6HstKyUKfGScUtq2JRNjdv3AqrCntcONBoSwwLCWA5wLAQ/jzjrIJ1lReV27tl5WuNmLIZYyVOz8VrJWF0fCzcvnUnfP3Nt6G3p09MVCsF1WC4EIsy5rpC4O/W1mhoKAfhxq/h6srQG12saoU3nP0dz3Yp/gr4QiC9LxJ+0xI6nQ8fh5s3bxttn7/okcJYlhJrUJ0gyFG0KjVxSNcc0flN0y/kEIwjI6Ph4YOHYWR0LLS3d6gXiRGgOEo3P7xD9jmGUTktPLSlJO7Pf6sP8VMUQNSfYZoJR3lXVhx//oOX468wya85Vk3o12isdOy9pSFQRBMg/mT363RU3nYp3np4gyIpxeXQ19cfHj96LKG8HBqPt4TyEgk7hRMWdjltHVe71a/fkyn3xaG7uy/cuXNPfFMejh1tEB3hP+f5FOK9x48XyYDHrNoc7ai3tzeMyigyvGWklJSIFzP52l0h+iRAGeHF/oGh8OBBpxTXvJRefaiulIBUQiZY9evpE9bTo13FOikJpeIrpTE4GO7euSOeWzSDpL9/IPzww41wXe1yempGRuDxcKTuSIKHp+O4pPjkQyz30vKS8fS9e/cNj4b642aUQVLHk0JTRq8z8MYQ5Zm6paUvL62Enp7e8OTxUwn9RZMblubde+HJ02ehX3VLW8bgK5ahOjQ0HLqedYWFxUUpzDozCMiLnCw3pQ1uAHQBjDY55drO5db6ToF8N4vnKTtmB+FK/uzPpRxkTZTAJGIGBOnEJFp3Skw6IYEkwSz+PnXmdCiR9T49Ox0mpifClCykleU1I+ySKmNsbCrcVsP4+utvTUO3traFxsSicEsAYrlWpoFSsQvzi+GFBN13UkBDskRamltCR8eJUCdrhHTn5+dVyU/C/QcPwtmz56SgmqyCsGTGZclMTk2GmblZq4WysnKr1GVZXeMT/m5uaSFRYN4AFheW7B1WBUyEIK4qqw5zC/NShLMSEAMq+2RobmoO7W3toVxpRuawAqxDzkMCkXmK1chXrBdCQ58QnuCLhV8kxoS5seboDWHZ0DsrFeOi9MB9ZmZW/uPW6FCeJaXyV3ooiCIp1YaGxjA3Ox+ePn0Smpqb1Js6JiHkyncdYGS/SXAqhC+MvyaaLIbnz5+Hhw8fGt2hcxH1ZfF2Amq0askoq1nhNa9e2PTUtBkHGBxlZRWm7OZUl6Njo6aAFpYX1UgReOqZCYcZ0Wd0ZCyMqdxzc/OGFzQxvrGyCJcEnViehcX5MKEe5/jEeJiV1e8WvAtZ+AYLfla0nBQvY5XSe60srxSH5yp8LuoA5fCiu0c91srQLD6cF+8Qb0kCBKFNPYAv6fO8IKsZBUbboM4mJ6bCs6dd4VHnEyntJuPlcpXB6wURhos5csV7F8TeS14WvpOhq6tLAv2hhHC/9SKqqipNiFE+B29H7qJfLpjiVL0MDA6pDXWZD8YVwnF6Zko0mjUhiiFQgjBWweBb6E9PdVHvpsRzGE49okvno06zyE+cOGG0nlIdD0jxrEqhd3S0S0E0WH07blmcCuEXS642Kdo/fvI4PHr0yHpsjbLw4RVoDz+BoxmEkfYKT3077dVjEO1ps+DYJ3pVVlapd1Nr76ura83QQ3EQjt4DvSfa0ovubiuDGbBHUJiOFzf0oKG7K01JLTnjw01ovd9AfsldQj5/5j+9Pe8vvfqr5E///H/4S4ZsiiS8VsVMWJEIa4T8U2ndFy+6Q3NLS7hw/oKE1lj4Rtb1tWs/2DuIXFtTZxbSjZs3w7/8y2/Co8dPzPI/evSYKqMx6Tm4Joa2WI88IQgRgF999bVZIQjruro6H9KRwCsXI9LVf9T5yLqAX3z5pVU8vZlvv/02XL923RQH+KHM6JLCQM9fvAj/+q+/MaX2vOu5UfSI0l1ZXg2dnQ8V97twVxbFoBi7VHkcl4CtUdzWxtZQjPKTUGlubg5t7W2uHJJK2Z4vCCBLXAw7PDwq+n0Trl+/qYb+XDg+h+dMac5LqNy7dy98I/reuXPXGLqqqko4HrVhiZu3boZrP1y3BoMSg7mbmlqkbDvCuXMXwpnTZ01Jd3U9U0NqDG2tzSa4wHKdgRPm4ha6G2785AGKCuH6WHWGQP/kk09DU32jZIoknhXaw20Nsv5kbXdLycMzt2+pdyPe6JN1SQOtk0W5vLwsq/yJ8c4t1QuCmLqqFj0WJXw7Vcfff/+9epAPTGHSuOvFA8U2hOgWYywDDWdeAuxF9wvx6XeW5jPlh6CA74jT19sXbty4Ee7dv2+Kb2Cg34RM3ZGjEv4VYXltSWlROHfw3qCsY3gfHsPv3t37ovGLMCplxruqympz9ICGRoZVxqdhXBY+72/euCkr+mZ4+uSZCfgzZ86F1rY2E8QM4bgt6HWSCymBaRelGAIryxJmPeH27dvCe8CGbdpkqMDDPoQY00nTKyS0aNwM845I6Q4OjhjuGFDPX3SpXE9lPQ+qDQyId2RRi24oCMqP9T1qQ5gTaif31da9nU1IcberTZw7fz4017eE40cbZUgiQEvN/9ixescPQUq5NqKUAMNB4Layft/b16u8R9T2laYUVOfDTvWc+lT+QeU7Ye2Q9k3vmF4LvVxkAkYUIxV3bt+1ekbRdHScDOclq86eOWuupaVVZRmzttSmOqGXQ77kNypXXV0tXgN35zPa/+PHj+09Q8wMx1GUg1QOMS+ys7yz1/q7V++MIoy5IbJnF2YllJ6oUT1Ixv/oQg6K6LKU1IBu374nwj0V0WokUOvCs2fdsuo7RdgyVcR5Mc6FcFrC68qVD8J7l94zho7NIrKysk3ugo0PXrp0SdbISTWoM+Hy5fcV/3Sok3YHNaw+GgrWXG2NhIwUyvzcghj4ifLuklCtkfKpM4a+LQbBkvn/fvOVuve9stzaFH9GDP5AjWPYynFHzD4yPCYm6bAGhyDASkKgw9IwKhjSSM2ailcy7mkyNxYkvckAWBfJsp815fRUAgSGhGmvS1hhHWGhoxSwfo7V10tQ9oWvfvtbsxixZr6RUkFoQxN6CaS5uKgeEA1RFYYlOzo6YpWHMi0tLZeN6IwdLY5YuUC0fFLcqQFnOSwkrFOEJ0q5rb01LElwQodCpdsIsS7dkjTBMjoejh1VY1Pv8KEa+WMJzP7+IQnx75XPsPJptrkTGnSP6gmBCj2wWOm1tKnH6WPAlmwCST56RtEMDQ+ZEn32TAoSa1g9KpRLt3gF3Okd3lWaGAcomlOnThmt1opXTTEYPTzFdYA+8Hi36uCGBD2Cqb6+wfwxhOAf0h0eHZUi7JVCei6l9iTcuqVy9PRL8agHJ0GLtQ1dneAk7D9ehkgvIN77L3MNC6pnelzEhzeZ/2GcHys2QqxjEk7v8wE+LAmloktxCUOHDJv1iidvGE0Y9oK/6SkPDY2oDayIHxfCgOrpqXo/1OO9ew9Urr5QWVEl4Vxh1vm8BDLDu/AnPR3qYkm9wIhfLNF23EPP1HqGMhDEqKpv9eZWi6zdMnQ6oV4Y7Z2efq9wHJWimpQhOaH23Ns7IGNLfPPsRbh2XYaGnlFQtDF6b/SEwYT2zNA4vXcMsqqqahuNoBdbU1tjfEM46nR+Yd4UOQYyBinDURgXKAjq0eY5k/Z0sECeqWlx0K7kz9RzKCvzcXo0MVp7QZXyx3/8J+G0BHZnZ6cs12brjt29c88UBsL/iKwwGIuhp4sXL4VGNXoa5ogaz6effmoNsqKiVERVNUl2kRn/ox1IobF4K1Vp/WIAGgLp0h33XsyqLJgRUwQtra3hHMMdSgiL4ZkYHJy+/PKnquRmwwOGKhHTo9w+/fjz8N/8+z8IJWWloevZc+EhBpeCwcrDmkUInTt33oawKksqzWpblSXTO9Anq39IZWkM7RLq5UpvZY2JU7fsGB81jUp4xhMoBYWzUiUVqbCTk9Oh6/kLo8HPf/5za+A9EjoMbUzRyNRt/vCjj8JP1BvCcqZLbN1yMWGXBB5K9dy5c+H8ubMmtKETqaPIHjy8L4F009L++OOP1HgrAkOCpYzB63ctWVbGPZGyytie5azvtsbwggS66IW19NHVj0J7c7u6rD7W78OMflnEpAZTiOn6vAV8gHUGL3zy8adG88HBIeMlhpyeq4f34dWPwy9/+e8s1vDwiPESjXhIljl0O6H6wDhoVU+1TAJjacXp7aAAKhuCE6sSS7FVfPGHf/iH1stAsWLpMXQwoQY/PjYWLly4EH73d38eLp69oN5onQ2LmEC1OiRdTxtrf0A43Lx1y3o+8PFPfvJl+Pzzz01pDQ0NmSBkeIJeIT1mykW5mSc5e/Z8+P1f/77VHxO1HR0dwk1lsHYl/qENJHnl1IfuaXdRxmO9MtfmPegGWeTtxqP0wqukLEpsro725GlEHozDH8C6USCHZT8yMm5zDnfv3rX6uXz5Uvjsc+qnwnp3szPzUgqDssY79X5G5V0w631W5cZA+dnPfsdwmZmZCs0tzeG82g7G05R457lojjBtUz00qc0gRFfpdapcLAbBUKId5wpWKKA34i/uKEO/FDHG3R0J5Ur1oqmzc+cuGo3pzdCbZPh5RLSnndMDKhV/zEzPGr/97Ge/az1s2hJCv0O97AqFGWOk49tvbM7h8uX3wpmzZ6wtQisE/8DggD23tbSFI1UsIHDpVFVdpR5Hk6VFrx5/K0O2GAcESa2+FmfUYAKoQhcaHcJViyCsSqgSozIGCHEY50Z5PH3SZVbgd9/9YEKwvr7RhpUqQ5XFNxquO1U/N5QQ5rU/v+iCMrRAI43h4floBS9LEGMxm0AGUUsbQbRi3Uwsgehg1vVx4OU1VW6NWRMMeSEKGUttbm6V0vpc+B4PX3/zTfirv/qr8FtZ7AuriiMF4EIRHLx77wJZOGJ9KW8jltHH0EtAEcxlgDJICbAKgpUXuNra2lBeUW7WCWXn/oj8jjB8IqXInA+ru06fPqWG+5kaxXz4p3/6x/DXf/M34WHnQxtnhfEfPeoMP/zwva3m+p2f/SzUS0GXqZwAq38oQ6kuJuKjYI91gKNuoZ/1DGxl2bCE3bDhgKBlLLNESqZEDTuWCxpsLGV8Sn8pG8KX4UAsNByya2ZGltvconipJjQ3tYYq9Tor1eNjyAMBcUbKAEUJzb/++uvwt3/3t+Hu/Xuqk2WfS6FSMhDLAO8gNGura0N1GTxQEuZmZmTZwh9lRvdj9QjVCqXhAnWdFnmlMa4EWdUtvVl6aQgllDjDDvRMbMLzyVPr/TG0QfkYSuEXK5jhBwQueFD/ZlnLYictFAs9A8DnwMg/HwcHaMiwJort4sWL6lGfVj51lg6KnyFF+DA66EH6/KZACal9VyZr4m/rQawuy1IeC9NSEgg9eidMfDMZTC8IK532Qv3Qu0AIswgFGvBLVcC/XNCxlDoHH6UN7zH5jm1CnnOLqvclnz8qCBaOG5REscqg8iX8Qk8fxYvAh0cYFnv8+JkNc9G7oNfDaAJxaefgyZAtONLLh9Yzs9Ph/v27YVC94g8+eD98+OGHxhPwKQoJeYGhQVuAUgBUO6Iey3ui+5UrV0w5MJFtyrhwdR0AYEC8HmdUWRITL+iCaFQ6AnlqekJCai5MSPsqXKiuqTaLhrH4Tz75JPzqV78Ov/71r+2+QsKO+FbjiSuSBbHeGBOnf/Y2QuIlwBeLQ3GIixcNQczP8lkmOal0FAldZCar6PZj0Y2NjdrwE8IFRUFDYbJ3anZKDXyYlMwao9EzZIFQ/fyzzw0fxhbnZfmAw/LqknXpyYvuPT0JBG2RursM+dy+e9vmK6amJtXwGWsFSxqeGoU1QC83zzAd4cBtfHxUeA5KwC/Y8lxotWjjpWM2oQqOM3PTwr1SjFgarn7wQfj93//9cOnSexb3+fMuWUsjNk58/fo1Y1QUyJGjspTWFoPURliUghtRL+vuvbvh/qP7YWJ2whQeq4IQENHysToQIHjHZsZMMCBosXRZhYKCWda7xWXSGw73O++Hh08ehsnpyZx62wgS2OKZiYlxGz/uH2AoYFT8s2CN9sgRrLoFezc0MhiGh4ZFo0Xhs2b0QAD+3r/7Zfj0s0+M/o8ePbQ6QMgmKBvQeFHW0Ip3LK8cHR8JI1MjqruZUFldaXXDZHWsI8oeG79BJr0IVnfyb2puDF98+YUNdfb29th8V60MDQQ+Q3kokAUpDPiLtoKRQhlt8nt2zqxo+I86gnfhA4YNGUrsZ95DvFsIKGOsHxxCn2Fd2hsCDyu5SIqS8k+J1x88eCBFBe/OW+8WRxwgCmPC0rzhR4Qi7fQD8RbDf+CD4mMyGiVIGaDVsHpPKKe2tlarsxWVZVGGCj0O43vxCu3SeGRFPQzVOe1x2YSs9xgYthlWu7x/H0HeozSYc+GNY7URKHOxLWD55S9/KWPhjPUKGd7DAGARBu2PcmEkMS9ny2elQKEx7XdW8gDDFYVAFrMLMzIw7tgcI/OeFy6cl8FIj4FRAFdu8AfY0ObgqRXRiXLNzM3Y8CT5U27mOeAfqPl6wOvxdbiSP/vz//KX5eUSgyJQiRiDMTsmeZkMYzyabvbJkyfD+5cvG7Mwgck+BlbhzM3NGgNj6SDb+4f6bfL13Lkzsm6PFWjc2V/+s+pkKXTKGkMJnDghIaWKR0FwYUHTuBgTJH+YeVZ5Er67pzuMSwDxnkaJpXVW3UaYmLFohnEYaqBhXHzvPWt0DzsfGMMMqjsJI7Ga6sqV98Pc/KyNYX/77dcWF+GNdV9TJwtKNBmTtXXjxjU1qgc22YXA88aohrimclghYXLjPZtEu3nzpgkE8mHymDjnL5xTo68yi525lB6VASFEw6DhQlvGhaEhk4U0CFaCVFSWhxvXr9sErFmiaowD/X0SHGUmKLHWoAd5wtDUh03Qs+TPKtov/nAIA5if5Xy1EgIIQ7rSCBKKhEAdkTBk3DX2LKjnFJKEEsDKY8kxQ5BM3rIqaUg0RvBTLoZ64KXHjzv160N3zc1Nqq/TYXFpwXpEz576JCl1ybDSWfEQwzS5IOSULYKIoSOECI46Q8ldvXrVelUIb/JgJVe7aEsdusWegCrK6JGUASE+Jl6aVJosvkBZsdyRNtBwvMGEE4YIgoZeHgKRekGpgq9NbopeneIvFCT1fKK9IyxKAN97cFeW+V0TQul8CgZQSr8sLQF4CF6ysKoTeLesuMx4DZ754YcfLB+GP+FvL1laPsLzRFyWww4NDpkVTPtAoDNnw+gA+dB+mFuhjlklxCq906dOmiKDfwcH+0Xfp/bbcaLNercI4lu3bhl/wMfQo7qmysbyqYdHjx+Fa9eugYHNudG7cog0Tx11SU8MJcW8I0upoSd0pWcDPzOX4MOrUgaSBefOnwsd7e0mgwbFM0NDA4bjlIwt6h859d1334rfHimLNVudRZuk10WPyYcmeyw+Q2UtbS3quZcYLtDmu++/E116jX+st6G2Tp29Hsg1qA8SSv4U5VAh7SmGsuElWV8QkMknllK2tDare3vBBA7jtjQOrD6zSOqO2IoZNqchgrAmqPOTp04Yo5Qk1nUEb5IpY9h4vTiUrh1pkxZjjhZWQbB+scoYY2aMveZIjSmkJ7L4GWZhJQzMcF7M8v7779swQjXCUnGxPBkrxQLHEsLKQHHAbHSDT6hhI7ga6xtVVnVlJQiwxMC7Xmkeb6TBMMlYasL8vrreWISMQzN8QB5WDruhLDxbcdRwp6yBoPDYPMieifcuXVTjPGvKj64qEYjS0tpiQg3mX5TFaxNksp7Bg3IxTopwo9wMdVHmUjUSmLmh4XiopUGqwT+TAvKGXm/5VKpB0nPI0h8gVzb9vXjxQopr1hT/yZMnvAEIecNKOqJXQhzrj14XYbDWYgruAL+nG09PqE89kTIZGvBDc0uT8D8fTp5oV9waKdtSCSbvLbSpMb7//iWrH3qprJRCGMBb5HVelh5DNuuW9HrPR+WWEcMmPWhC0RBGKC7G0jEQGJvH2uN9Y2OTTfozPOWYRrzV1OE7ObORlDaNn3ptkXJok+CpVi8UYYSRgxWN8Dslvm4Wj9LDOClDhjJWSkGb9ayyoahPSrBSb/WiAT2bR1KILGtmRQ+LIGzeIMHCIeKkO+ERgbJa+zCsKXepWc7P1JOk7hDoHcKBIVSLRaI4oxMKdE2K19f806OOK/AoC0OYCL2johu/tC2GFeEt2m57R6uMGdohk86LVqcnOtqsXPDvpNqQ9cqlrJjvcVdv8gDByzJceqXU5elTp63nk5ZTv1kC6BF8GftvVTttFW9g9NDLZjiN1Y71DUfD6TMnVQbRvum4FNRJ+yUcvQEcBhQLKk6dPGVp0XvEwIu9zJoapSNe4BcZ0N39wpQBZccAiCMBtHF6uYRDsTGkFvF8PfAa1VLX5LdrNRyfIaJwIZAZu58YnzTlQINh7A9hA/PShYO4NCzG1RlusoaquAg1hmYQDlhKMJcXzR30pTGmwJLWVZvPoKIQRCwvtXkIXQgxViWxXJGhlA+uXDGr9B//8R8tlcvqTcDwNYw7q5HQ4NnYMiOFglJBySE4wM/W2ksA8Y5w4H0UQatGx7p7luoxXAUeWBg0IhoOz91qjPQsEBw/+clPCjRwhI3/MkHJagpwpPF9LryxzhHiLJkl4pyUEZOadO1hXsIxFkrDgn70mFBK9DagCV1z1tJPCz/CICxhfBozDQHF8eDBfbPamdClJ1BezBK84nWLmXrgYinmzPyMKRIULFZ9gwSNh/E2YMsJJdQYvmBd+2Wll9tzyAXSeahew/eyuLBQL1+6LOV63OtT5WDMnjBY5lh+GAAsn0Ro4w8dUOYoKIR7uXiOxmrKSryAvwvOKPhWrfdDffHLkCFCy2glRYUfjrFo61nBT0l80jTFoDSsroUD9Wlr+4ULz1i60DkqLPzAkXxIB4ELf/MM3vQsiIsQpGzMJcFDA7K2qRcMKQwshE22XFnALwXH1e/8ohcI7RjqQzkgeFm0AE9Rr/ZHGlK+JM09ipO6hCepA9oycyHwi6VtZVm1OiInykybqaoQHRUXi5s2CNALpNdLWOjC8BYLDUxhw6vIAjn499r1a7bM97PPPpPwPW34g6BfAHWQ/tKbob7Akfki7jEaWHZMMN5jUBGbOmOojSE9lN/MzLTRHoPAevsmB1bD1DR7Odj/4nVMuWhP3DN/xOgDvIbxiJGSoGh0Q77xS/unbOCYV13bgpfVCvlSsD+p7A1MOdjZSjJSENw2rSRCwzisOBBbrlcujvfGrBZazMUlyyltwLEo2V93vM1XDsrK0uHPJkpVmT5mW2IMMj42aUMHaP3TZ06Zcrp1+7YxK5ZiY91xw2lpjck/n+hGeMb0HcifXHj2/w5ReRHCf/2th8fP5l/U42DFBL0UdllmU4hAWJgIZmQlDktZCcvKLVat4G/j33IxvsWxX8Zr3YplkxZjnEzwQVtCeAy6ting76msWiMZHh22RkWe9SwlVQ156TxW/EU5MMe0zNg4dcyE4jq99F73CAZWitFIoDtpMglIKoUAGjG8wBwOq80uXrgYaiprhD2T3358BPUJz1AuxnejARBpEX8Ju6j0sLpp4MaLvLM/8GV/RLUtUa0ok8Giy0vJFesTaiXUUV4YBgg+DAYEG4IEHouCA6XCajz2AgDgB21IIf4nvfU0KUOSFz4IEsvV6tZ7YEz+Mg8CDelBYgBwEgFGlaVobaUQeH5AFErgwIXis02VKgcGG8ILJUXe5OkRiINPBOce2hnUNR60Z+qBs8+cJ4FYVsLFsnlo3qtMupxXI0Ye3vJPLoY8GYpk2Xmzem7QFn+A8DGc+ThSBtxRH9xQJ85vPDqdwQNMuF8WbX1OST5Gc8fEId5F/B1Ha0+KxxE9vuFyzAxAjBlT+rrAIdKRxTXem9gbZEr5UmA4+e2BQ0HlgHAwAsE4atR+5AAAmmkjofAwGeDj22pYCDSL61XmBHLH+xg3Ar5UO0AFWuUQU8G4x0rDcc+yTfKjwdEA6PrT4EiDnZowl7c5j0+2CAFjfjmS9vQT/BSGYCYkVE4aC++5B2iMEYwOhufmlW4pCz/WVTPuDdPBfIaX3sHM5JiN7/TwNC1MQgtbfWS0BX9nXMcWB2TpSY+PBpMqIMCalSJS1khX8LNwNCx7Jh1P0+gR4ypMpEV8v1m5EaZzs/SGps06ZaUblrPn6eDCEHzwc/qDp+Ggy3HVO/3RU7Ld1CMjVvfQL+KJsLFhv4bjphxQocS390ozXpGOrqDWTCkwh8DiBQClSBwEERYlvSd6H+BkQlDv7L3Kz68rs0gDcDaMLS3eO8BjCqVHyGj0tMt/iRN53OlRCNIYMS/LFRy4lLClkbxL3q7j4Mn6vft5PoaX/J0//D7yu/tRbhfOnmiSnvKMdRd5grDOJ44rIY1X9Q45EHFEEca0PI0MvlyqF+KSpjmUhcJhAJAO8VGy9Ibo4dMCibG0qp6CLhPejmaSj3DRs5Vbz2RpThd+xke6j3s1TAmJDwyrTDr2rL+XAfDjelmgKC+NzB5hU+XgAk2sgQY1ZuBJl1VyUgGC6A/jG4X1R48DwjgLJ/5yxCSPXKAXwppob5QwVQQnrtKWF4I6TnBjg3rKMDcKISv4Efb2YDSFAQznhHEol/mrXDA0li3xy0vKLH8YtJTJP6W/tBpXYQhvsyTAPh//FMjdcUgFFQCTg6fHdwp4WDGo8uZyWzQ2en9PuGx+Fkf4mcLT5X5pnBiWZ/AwEiR1Zw0Rv+SKdYqfxfM/Cw9EQWDlyJSlEGTDWu/P7v3detz16I6rQ4J3DCwgLvzHpiaGC6wuzZ9w1CfDOcw5sEKHeJ4f96TDPRDTNFxEKybN2ddB2vCEvVPa3KPEGaaw1TH4Jxc9Dp7cWCAfp3VO2rrP0obcAPwI6zWe0DS5toaYXopJpClC3ZRVcq2HoczJo+PGQ+LPnf0ID9Ut/Eb6zmvidwtnr+3X3ioN/OF9nPEt5bS0HSyK2lQOvwjPaIyRN5fxma4EE/vvzwnnKv0EzfXfdZqStPysjes+LrDwdCKluUsiCsgXY2W9vSU4R3ysPeiyvCyLiL+nCVjeMfE9gueW4rVXiDR5HVB4WEkNyQgHIY24IpeQzDJHFozYxFRJYhAjsMAJ5A4f8siClz3183g4Jy7MkBIIJJJfA0/XPdM0CoJZTtkwpO7Mb8xoZU1eJWAMhXCSv+GlP2iyGThWCW76ocHEdJ02pBLjJ+ESwHd7wVEYnMYO5GBKL8nPG6ohkBvOypw0EvlzvzlY6TeFmC5lzGRRAPJe5gx/pGC+hhj5knNu7jE/f6f7TdKJAM3p/ebTKQv+Jk3XqZX77O+TkE64LeiW4GbAPanEdLaGfNyi4FVmZtRk0zEsC+KCX35e8X2+P2noR/Fzc94pgI9iFsAjppgtd9YvKj73zeQOLoYPoXgvp9eEcBffpOnuDGJsv4C9pbM17Fealsb+orZjKKgcjBF5iTWWEDC92wpyS0EMJ5A74m+nHICYE3EtjZjsBiEQ0yZ8bhoboIBy2E6o5Ag7RTW8tsmmEGxPOTLZGpedQGRG8ObOFJlu1ukHWKNL7ncMW5cgm29yK8hmuglsQ3+DDfWWD0pji3RcULnLliK/RJ5CbjqxXCnwvHleW0PEY2eQj1/WMnehGduWMLKffAX/MrjuFrYuWyzLRnomAh55Y4Xwsq2DlZPfbDzu89PZDTiuKU7p//0EK9e+pLv/uO0UNjeDRbtIQAeQ3M69IoA5diJIXiUo+1zhtzk466XXy8JWaeSzoCkGOWK8fM4vCbHeNnOHsCkUEiz4mIJgOCe5AORprmLYCpw/jJfzgDw3e/cyYOnq2gjOp7aIpES9O1N8sTxyxHmn+QT6eC2/Dpcoh7QC7IX+Oa/hv9vKiXEKx81/6y69gOiX3med++eDobseKh8oUHK7z5DilZt7OicQ/XIxzHU+TmpjpXnvUrCmkuecGhuKpspjOIs2vt8Nfa+QL7zM+s3zywd7v3WQPPByp5F2FtnpaH3mxCcXvHluhL3Slxie5+ZXGs6d0YuOoIQlE8k4601smr/j7MLebhPwnjjDOXE+rRBslqynFzHcZwDlfGdAbu6oi3Rodi+Qj3madnT7ce0PRALkE+VgnA0r1dRyeFu0NvnvkBbSfbPvNkIMm8ZJf53o8SkLMXSE3Dx4i1CMfty5Hz6pry55u6zhXbwkIHXZ5Jve+4qTdMw2CgSYHaHCagjeEd7G/z0r+fpFaCaOCROBIA6pX9Y3nTxPhQ844M/6CybBF3XZZKfwoMEyrszqjJinx4sNI+IeL/BjCSyp+XJT0rRlsBTahmUyAA3yvLaHbIk3gmPhdPKQsbxeJqevcCzyUgPgZ2F4pyvO5az7gaSSLSkqs7IBxLFFA5RLcewXp6AmPPlNrgiEjPgZ6Ja8nLa+nJN0zC/xt7TtrVMfiGnG1PHPSVdgPoZbBIVdR8VvYpz8uPng+XhdR1i/1098b7CeRz4ooP1lJ4bFH+Ixm2gWcrbQQu9I2eeq4HuFT/y9vXi9sCiE4tnKIVYT6XIcrKbJ0OgX83EoMm7EL/suLv6g3iJuHpr3CR8k6cPZ/BoO1BdH8ySXx3AgXVOYkmXk5VeaHpdDjBEh4prepT5vAuTjezCQKIfyRDlEgucDpNrsXQTC5JOU8LhC73YDMV9Pg7XU7MZl0xerTdjdyQ5Q7tkE9/TJ08Dx3exM5ogDllbChKxt5hgHljWyfv/kiZO2gY5NaazN5nx31mdzrAabw1g2ubzEEdHDtvGIlU1shCMeRzuwyYZzWAaHhiwsG8baW9rDshiYDUQcj8wxD2wgO3HyhK3NB/ADDzZPgcepU+BRbUs4B4YGbM8AjE5e7BtgMxCbkViKCR7sEOasenCkXGwGY7s/xwxUV9VYPDb2mJDNrzOF198uYeuaBxA27EsAd8rHpj92BVM+VghRVvarsNyV3eDsTGXT1PKyf+CGuuQYc3bbcswEy5T5CBN7Rig3QB1TZlYqsZmRvDg+gXTYict3QCI9OB6EvRIcgUC9sFcDPFhizDvqlR29bEyzj8MIf3b9khd7Iox32jtsaS5HtlBf8EhlRaXt5G1s8EPZOOYePNhUyKYqNqexU5+VTyh5IBWUfp993g6gfKHw+G9XK4hG6Mv3J8Cfkw2OHT1mR0awrwNg9z/H5XDkBLTlHWVm0x9x/JDBMmtHfhCdnyfV09ttZ2RViO9pf/AbZWaZOUfAc7YWdQjtqQNQ5dgNvrVB/XDyMPzBoZSsJIPu7Fqm/vxU21Zb0goeHI8B7eFn/OFvzpPiXU9fj52oy45q3sFvxAMP6gRejHKgSnxiBuIWDQBK77x2DgLAdbvW92pgh/2z14NcIYBBOOaCs1iofBgYRojA4WAIGxgNhuOgNI4LYEwzrnVHOHDeDJv3KBlWOzstEbwvJMBgYlZs0bhs45EYjLNbON4axrYljsKDNfisx+eoAHAhX5a/MkzKuv+4MQyBhDACdwQUu0jBG2FpOKqxQWPwIW/w492oykg87G3i0eBMEKmBsRnKLDldvGOTHnE4xwmhSF5YZAcBxh3Kj523KCk/i8eFbAQacqS9KQLRwDencVDieA7tUZJlReWiY7Gd49Ut4YXjfBwZnLZUmo13kfakx7lAcekim8/IH1pxJhJ5Cz2jCctj8eNbG9QBPGFidpXd/8JftOXjQYSBrrzjN+Lx/IXqZXTMNh5Cfw7c4xwmDIFYl+Sj3LzgLwm7USSFAOuc4yA4BBLagyPth3KtLvsZVdCBj05xdAtlBfjlWJN+8TU7itnRT6+vsrgirKjO4EXS4z1tIq46ovykR1vp6+8zhU+fAaOddsoZYBz1wllUKC6Kh9HFRlN4hzOPeMcpAbRLDv8EZ+qLNmabGJUP+FOX4NGbKGfb/6SeMr2aWM+cuwVv0Tbt4MBD2DHsqOdgAtR+t1IShRoE4WPs/He7Ac+XhgLDLC34UQxYoQgELBOsc+5hajsDXgIHSwFrx7bUizmnZ6eMmWBgjtvgu9iscWfXJMzJOxiP9HCsfY8CG0bDOuYTolio5IWAQvBPCQ+sFaxTHEKZT1/SSBBMWDNYL+RFGWBwvk6FgMTq9V6K50Vj5R15USY2Z7H5b0HCiMPwJiUg6bWQnuWVHLsBPaYm1YCLS5TfMbPMrEttgioDZjkl9zuGrWseMAU7NxNGZOFxZhM9IXoIlI+yUFboi0DgKAPoS28L5UCjjgqNMmPdVpZXOX0nxo3GAHQ8drQ+lMlC5Uho/BFg0JXzcfwoCY59nrZ31DN5EQ8rFjxQInawW0L7etGRniUR6fmgcIjH7mPrpah3wNEanB0FH0R+s13j9FTn/YtkKGssbr5mxjEThMOl/O9gPJx53it4S92mVpQNNIUXUW7wIsd7cLwNPUwMoIlJ4S7egTYc8wL94eWoHDgMEoAP2XnPESEcxQ2d4DmOpmFTIr0vyksPF/oijKkPTk+tEe3BA/rCw9CXHoO3CU5LXbX6j/XMsTDgQdoIeehLG2M3OGdKsbMZPucdowHwD3VBHBz3lNXi6R38AS+mB2ZuDtTMy9fOfgJ1vOsGuy+wS+WwHRQia4z9MuA506hsBBGBl5dk7Cry6/IwPvu4IxAbZlZgenh/poEA+EXnr9b0LhsnuSFd/aVvPA/i4RmPFcFFusZfwsX81jdz6eK93SljnIUGF+48qoPSt/B65yVMwtirBKMkTBY2pLMjiClvBuRCPvqf4A0YHTJgGCZ+FkPhoAG/RiPKKWdpWCiBLMEkOaOTv/dnC++3Sfgkbx7yEI445UAMqrBp3jGs0xZnQeWXmzbv+OWd/V+/d39/yX1MA7ByJ2FfBig511aQljnFNcYxHOzPw1j5Ej8gp+yJv8W1P/dnfD8bLgJp0V7inMZ6HlzglOQBpHGhd3IrSHEXZPKMv+tpZsKt3ytInMfAz8JatBh7cyCFNMU3BbbD+tXALpRDIqjeADA8sswjyGdQD5X6GaPY3eZVn8+424EFVRbbRYm4RdpGxk6B58KpWFjwoqHpykJMJ6brtZeWeWM+e4VsqoWAnMhrd/nlCIAMmK+9I9fcMuXcbqjzmKZiZF6ZgJDLpmNxk8cUj9x4W4FHcQWyDvLLlgma8D4bximVhtkrUJZseTaDfHpk49g7e+H48JzFPyf95HY9PX900EOhutgMLIdsPhY1fY7g+OXmFu8L0TCLe368nQIpbEz53YSDGZR+A8CZ6fVWu4uF3eEAg9su6wKMbu8K+EfY6t2bDGDtQtXv8yFf4GYhxssFKFE4PBDT2yTJgkDYzXCIsFWeBwVblcvxz/BjUqZ4FYLN3+wciO94udsMIi6FoJB/Ns3N4v04wSh24O6dUQ4bQG0ia2gcwsHCIekP4RB2AoUF90G4HSmHt6Uh+8CMF9nKtBPtUJhu5lKjh3Rexr0tkEegjIPUTu7Eb0fFVrg0CXd7hf1KZyvIz+NV5fOqYatybPVuCzBOt3/86dJDzjDQThN6p2AnNMlWxP46m3OorikPJcXZjSUbIUZ5E2BnuOSGimWDMe0ERpxeZ7u1xqx5/Jp9XwiM0XMivTrYrG4ixDK+acBqFJatQl9WwvDrZOXfVrR788rysrBf/LLXus6PcxC8S55WatU7S2v9lGJOxPXFGg5vxpwm1DBc/fEVw3Yl3up9fPfqqPZODCvBnPQYWD00MMhGsue2nDSuaFi/GKtkRUx02yiGQ9gZMGfCqiQ2tLFene+Ul4QyURz2g8abuUN4W4D2x/4Vlp7aN9xnpm1Fk1pZUtMHJ5J/POCqanMHFPLfH/dOKAeAzTGsceezo3yon40xh3CAIH7jo//ffvtteC7aL60sifkOFcC7AIh/lAObDB89ehRu3bwVRmQoHNb+RoG8O8dS+Ffn3gnlgEXiZw2tBj4Gzw7RQyvl4IEPu7BhjzqgLg7r4N0A6tkUhHqQbK7jW9hscIzgXJD2IQ5hJxAVxKtz70zPwRhUzMmYN7uK1yj/IRwYQH/mHThyhLN04qZCFwk/jusQ9gbUfVZBrG9QSy4XRvH/IeQCfPd63DujHCiszSnIxUkwGDT/yhLnEPYR1PJtQtK0cioQDuHdgHVFoGbFfF7imQHnCQtzCHmQlUkH596dOQeVdyfzy1nyxP+H8PJgTf+w3b/TkBX8WVZwvnhX21pW4mzmNoNCYffPvUM9h0M4hEN4UwDxkw9p7/1dgVxhXNhtBoXC7q8z5ZD1ArLPWf+3C7wLu9W1kzBc+wHZ9ApdMdTm7hC2gkIUy7qdwcu3hCgA9+PaPby+lhx5mF7CYQ8yQuS+vbjCK4z208XB9+RfZLpctzdGfMMhKVIqfp3ou732DbL1XsDZeH3hV4nbZ3zeInCq5FIr3/F/O0hbw8tdLOt82Sub3s6vjZB9u5drJ2AUhn/N+WbIndD73YCUB3fvCgv1/XKHw0oZgNy5sNHnEA7hEHYJpgySS/c8mzuENxreQeXwFvaCfmxwwHLhsMZfP0TFYHrhoBngEPYE2yqH2LB+7A3MOsFFRevnuey0S/y2gg8KbKSBNeICjdd8adx577ajI+Hto/UCPtYD/VnKGFMqJCY4e8fOvyoA+MdzmrIQ89ktfhEIVSisU2nzNLwMsTQZPDL42du853ywMMm1ERw7HG+9HlIoFI/nQvTIh8LvPb3Nrt1CXEJOTHiguLjEnnMhLWOuO4TXBVt+7Cfe8bsXpnhVsDO2yQ1FueL3oO0ThrU1oel4U065Npbx4EqdL+wKwcYGlQuUkfHoCGDPM9+gJvUS3a/oiqVa5YqCu8jjxXek5LwgIaPL8EtQtM2ERaWW9qIuXhCWfPCzdD2W4unXNr/5J1AnJiZDS3OzfdyfPElyfRx63YVQmnygn1SK14pDWVFZWF5bDktrS/YeWviGKlc09j1tzuqR8CkrLjNcXDR6+RJs7D4fwN3L6uWP98SJ9wDlgF58opK8LU0hE+uFsEZP8C8uDWW6SG9xbTGsyN/DeXjoRHgrfwa3dTorjIXnEb8I+PuPQVSU0IEXxHEaWiIWLm464/J8wR1OWAnLKyvmV1biuC6vLqsM8ksMKEsnSXevQDoAO6Npe3zek0+0Hqk9Yt93Jw/S3zyHTPlfMZATdDi4HN9c2FY5xKc3iVxZvDaHjaGigOKD6HxTlu/eZsu1sYwHV2pvzFvDdg2UuqOhA6THt4NfvOCD/gO2M7xWjbGtrTUcbzhuAs4EmdKMApbY5GCiar3B4pNaw/jxDWD7zrX8+D5zRXlFKC8tD4vLi0Zb0uL70Hy7l4+9Ew4hxDeC+dB9s5RD/NZ2TDcFxwcFBCD0lZx9FxhwPF1oxbhxUyP1y3eDe3p6wvz8nJWzrb0t1KienXaFaWzZk44pmyRfpW0KR7/ExdqNQpb/K6gGCdFIE4B7HMppYWExjIyP4GvfxK7iG9YKb5/PFL6Wl6UkhbKeVlrH6+W0/9GfZy8zH+VHWZEWdWk4JhdxuRD0HDYJQD+nEynGkF7vlMW/8T1iYaAb9Ufcdfo6WgaGUeZ5O/ASBDs6hW86z87N2be9647kK4dCiVrl+O0BgOfGdQglf/rn/+Uvy8thfK/EbAVxV6i6XjfsDK/cUBy8h+Xy5MnT0PnoYaiuqTbBlmWDQiwB424F3pa3x2Y/IAqOzSBbfwiOgf6B8Jvf/CbcuXMnTIxPhBfPn9upmFXVVeHIkTo1erf0K4uq1q1c7GyEhgvCmGbaPLmfnZ0Lz7qe2YfkW1tb7cP6hBqfHA8PHz60j9nzgX4+6r+CFZoIwrHx0fD06TMTVCgqO8pEZUKBWBhzUgLyIz/i0GMoKy63e++blOpXAlE9l7Kiclno6iXovlThiD89Mx0eP34SHnZ2mhDig/R1KquXQo6fLIgv7FIDcAFFTuq1gJPoU6IeAC4rvFCeUGTdLyFOZBWGvvoG+sLNmzftI/3H64+HI9V1Vi6hqB8X0hZefiDlt14u8iZtxLg/ywknwvhx10nPpER0EY4qgvib3lyZQvlpt4aj0igWraGR0Ulv6UeCM2nhyJu7oaHBcFt8goKoPVJrPGKvCGE4pmDPuV47AowVTuXlVOSKivJw7NgxO8oGyNL33QTKfpBue3hnlAOCg8O+uru7Q19fX2hpbQnHG48nbwtDIWWxAZTFQTF1fiPNh2z92RHZI8Ph/oP7stKPhS9/8mUokyXf3d0Tyssq1HNqlHW9EJ48exZe9HeH+ZWFUCFrEaGzsKyegQR5d0+3wr8I07PToUwWHsM89Lw40XZcyqb+WH1oamyyIYkxKYZ79+6FH364Fnp7e9et2rIyCSvhjSLpfNgZ5rDo1Ws7duyoKQcs4KnpqdDb1yvXFxaXFs1qZYhoRL2MgcHB0K+ez5DKsrC4EEqERxF4TE+G58KvS4JmfGKcCg4l5RKCyo+6pgcBDk1NzaFBCmKddlkSWvXiUeQ9G/WGeoT74PBgmF2YM8FVIhzhmzGlBz37B/qtJ0Y5sHpx6xCzUP7Q6cnjp2ZcNIjP1tQzn5iccCEuGpNeb2+f0hq0Hg+9rOXlVZVFPVuOkzdLv8SOlh8aHhYtRvR+SYq1NFSUVpjCmFcPjvD8Li4uhV4ppK6e52F6bsbqmnoOq0VWfyMS+sOjw3ZkPQYCCoX5H+57RPsXqmfaBvXV0dEhBVHjZUmuLBgtc722BMiMcbYwPx/6+vtsaBHDrKGh4VA5GFDug3Q7A1cOZSgH7BSHnUd/PbCzIuaGwpqim0zDHh0dteGGxsbG5O1LgLI4KKZeF3CbgDcvD4NgRGh2dXVJQDaFzz77LCwtLofnXd02xFFWVq4e1JNw48at0COFMTAwaCkcldAeEX2uX7sensnKQzCtSHjVVNdIeVSYUOuUVY51Xq40Tp08ZcphZGzYjmNGIM5Mz0rwlyufGutBgHZvT68pD4R2S0tLaJCCAOjd3Lp1y3o3PRJOw1IiZYpbXl4Z7t97EL777vvQ3y8FITc0pHfKs7y8QoK1Pzy4/9CGkFD208qToapq4Yl5zhAWJ4C2tEg5SAjlCjRueDYzXkJ3xcp/6/Yd4XFPQrLX8oKWKNbp6RnR6ab1BAb6+8OUegOcLFtTU2N0yQcs/+nJWSnXHj2pxyMh36PyT4yrRyUc6Xld++GGLPW7wr1fZR4VHiV2ICGWNWWrrFJvToL68ePH4bbwIq3pmRmztmtE16Wl5dDd2626eCylNiG+HhJ+d9QzfiYF12d50GOi1/P0WVf4/vsfwmPV9+jouBkFKI7p6WmV63q4d58yd0uBD4e6uiPh5MmTNuRq3BTpZk5inkfuN0BBzwTWoIJ9xwN+mpubtaGrd085GBELOCD+vjlgNYNmjw7Iv3+bwJgQ7n7bClYAsL5pkP0SaHckiB5JoGPVlpdXyW/IlEJNNcLgbJiZmQ93796XgBgNgwND9t0LrN52KdHWtlYbhsPSR9g3NjbrXZEJUBuXL14zYdLW1i53QnFOhrNnzocTHadsvL+0tCwck6XYLEHN0B49AMbysSTphXS/6DbLuam5ScJrTErkvqzLKRNk4+PTyvOY3FHzGxwckZW8IqFSLuEpC1q/IyPjEqB3JeDU85ACpKFhDOD83sVOvPOL937NC49uCe/+voFQWVGpnk2T5fXw4WMpghnhuRT6JHCHhobDkbqj4dy5sypnm4XNgg0TKT2kJ7cLC+qp9vSFe3cfhOHhUfWIqlUnRVKiT+WeKH5NaG5qCzNTc+HF8x4p1TnrPZAPuPDLMByTuKsra1JMUpCDw+FFb094ph5TlxR9T0+/FO+AFHm38FxWXZ6Rcq0IjzufSkn0h1kpgrGxCYXrEz7LUpZt6hmcFIol4YnSfv6ix5TIcQlqAIWKYQHEtkJzKcJ49KIJKF3W7QYU3v483nbDtm8fOCdudG8euNp+JwAmxDnDM5n5tgOlZcgBq/Du3bthcmIinDlzJrS2tsiynLHhmasffBC++OILm6ieUE9jcmoqlJSWmOXq49s+IYlioKeA5Xrq1EkJtSbFRwjqkuBAaSAwW9taJHzapRzOho7W9lAjAVgtZdTW0hpOnz5t1rYpZ8Nt3oY1wOPixYvh448/lmCut+EbcCEcvbtLl94L58+fD7W1tTbRi1U8PzsrYbhguJEcw1b0CBmmQkoj4Ax3KcOYXwqRF3AS4lJW5FdWXhY+uHo1fP7552bVMnQ2MzNn8Sk/w2GXLl0Sza6Gs6fPWpk3gqepvpss5Bkp2Sfh8ZNHNiTX3t4u/7Xw/PlzU8LQglU7rDgaG2MYbE29vBbrGdEbevbsmU3wE+/s2TNWzq6uZ+G7b78N169f996esmNYiqGvU6dOhV/8/BfhvffeC4tLS5YHvQRoQY/q7Nmz4cOrH4WLFy6qfiusF1etev7000/D1Q8/FK2brJz7DaaCYx0IX1MMkUyH8MbCO6QcHOBRGPVdMFgoK3MFdXV1Jhg+/+Lz8JOf/sQEOMZKaUmJCafqyqpQISvYvrGgvxMdJ8IHV66YNf/40WMbTrF5hJXVUM7Eb3GyOkYCz1ayEM0IijLx5Z5MbcflkggHpnkJEwUF91ipy0vLNvZdKRwMl2SYZkkCD2DiEtwYYgFfhriGh4Zs+IUhLoaSmFOwSXHDCdycrW1fhZ6ZhLUCJ/h51ft/fhGehofCMkxUIzzINwIKBoFdp15DdXWVl1l5rR89nQfebyD/4lAhGpZJ4LJ8k+EUhoOYH1hAMY6NWe8AfG0CX/kyjMUvcxtMqlMm6iMOgT5/3mUKolsWPxP/zBOx8gfcq6Vs6mqPhpryGssbpQGd6bmhWJnnqWFIkcnppA6JW6N3KKoj+o2rwgBT/PvcUKJisLS5EQ6H8GbCO6McjBENEmbcZ6Z/fUB5si4FGjZCE0vyl7/4Rfjsk09Cq6zDGgRCTZUE8GIYHBoIg8P96jHIUi+WICkrUc+hOJw+cyqx5I+HUYaaBgcl0BZMaM/JckfYLUnIMWFK7wT6sjeB1UcMF/GNYHoGLG9lsntqdsqE2awEJMsmGcoBsNZtaezYqFn+U5OTpghqJayoNYYzsMLX1qRmVrGQlbbSml+YDc3Nx8NHH18N7R2tEt4lCsPXxdiHIMVXWiTrWfnOTITZhSkpIr0TPbzHGOvef7HqS8uKhdu0LPae0Nffo57EmKVRXVkeioxXVvXsytB7VEpnExaKqhEhf+nypfCBemeU8cGDByr7tPWOGhuPh/r6o+HkyQ71mi6oji6aX21ttRRFra1yQhGUV5TZ0t8ahqSUJvNITNhTRzNKq1z0axIdSoTrsOqyp78rjM+wJHVNgp+hNylIdQboEFC/UoNhrXjF0q2QY8nvqHpq9CKmpqdNeUWFwLBkcvvSgFEQwdoi6SZpm8GQeb8Rtnp3CK8K3hnl8HZCVAjR5QIWL8MEOPs0p65lCdCy8tLQJEGEhXvr9vXw1Ve/CcPDg+HkiQ4TXL093eHmjZvhuSxUBDzLGhlfn1uYC9393eHxk8dSKkO28gWBNzI8bPlFy58x8vv3H4Qnsu5nJHBY2/702dPw/MVz+3Ywy4kZS6fn0NBw3Cx3JqV/+9vf2mQ4y2OZGEVRYVgi0jDWfULUhV5NDZPjQ+G28O989CBMSwnwMVgUREVlqazkujAvRXT37p3Q+fCBlNWUpUNqucJI6VVWhKamRsvj7r1b4ZtvvpKwHA1tbc3h6DEm1F1plkrrgI87/iVJJEBPhYtyIWAR3I1SrufPn1M560N/f19g0vfEiXaVsdkUxdjYiCkihqBWVUdVVZXheGODFIB6LlJADazqYRK6ptoUJunWHa1z+khBHDlSLTxb9FwjGj8Of/u3fyNa3jAatLU1SgFAw2Xhxn4N8EKBKp9KlA6LAtZsocCd27dDn3qH9GgAyufOHl8jgEB0P2b48eFf8md/8T+ur1aiAFwR4t2bVizw2R6n3FCUi242FjAWKitmsMheGpRFlmavEkwgrUO8z5YxFxffxLVmQxJMBtt4suqZOQWGEhBeDHWwRPJER3v4hJ7CsQZZ21O2jHVoeCiUy4q/fOmyWcD0DFjB9Kiz0y1/pU0ex+qPheMNEkTlFaFUabLZaXJSwlrCjaGMpaVFUyJMjJdXlNsQDks1W1UHrBrDEqY3Qf1cOH8+fP7J5+FIzRH1OhaSuYxWhamQhV9kgrO9g41tVcpjXHU5Yhb46VMnZYWfsHvKhWVNzwE8GP45frxBiqsqlBazV8J3jDsg+EtNsTEEZ/SQkD5z9kz4+KOPbI5leRWBuhaOSigj7MHXJruN1Ovmr89v6GIOgbkPhnNYlQX+vnRXdJeQP6HeAhvAWC7M/ApKJS7vpYpnZ2bCqHpS7Df4+OpHyrMxrMrqZ24GHOK8ESuxmN9pbDpuvY1V9axGRod0XxM+/eTjcPb06VAmhbYi/KuqpXQaGuwXHiBP5pWA8XFWdi3bggDmdtrbO6Q8qmzVFTxnlv6W4Jy3FTCsiKExODRodZ2uVlIeep/L29vBdvi8LBRKP+K3Wd4b8YcX0ivCbsr5eqHoxdR3a9XVjEFiVYH4xmK8acXJxXIzyA1F9bA2/dat2+HRo87w4Ycfhg+ufpC8dchvBOvd361AWWSrfq8Qu/JbQdqA8n8deEI8+T3NkSGQlbAk4cBwCHnY+HkR4+lFYWF13iYuGWcukyADEGqEc2ykSBib1rUsf0tfz3HXLUBY0LKxfl1lxeqlSCksrSwZvgghAFxQJAhOEipjrEPgCkxehJUjP4ChG3D1+QLZurJ4Y76UhbBMwqLYKsoqLL3l4HlyMXyE4xkhR6aUyrfRlaoP4TMi+Hn98X7Vyrkqy5/VPHFcnjAsdwXiTmOPozfQygogvNaVw4rRFX/oyu5xgJ3INicDDRQOWpH+kj37SqHBgQH15m7bKi4U3s9++jMpjfpkKAtaO514pm4Nc9F4TWnEozSYm0EJUh4vH0CNRkHvPh7ebi1dvCkB5aAOwdN6QxY8CVgQCOBpFgbVgVJmSOz23dtmoLEA4cKFizasiF1q+W8J5B8dsBU+ewfPwamUC3Rds/nnw0YaOI+k4DG3K+dBwFblSMGablr5GyO9CUXZN9ieHruGg6eP1VjiciHrg2BYYZiFnoIEBQ2dBmjCSNdi8JU+zEkgWIvXEGo+9GSXCQcJRSaN5U/aUShXsA+hhF23Jfar4JYjfLRsItDP5sGBFYIMYUMwrGdTRArsoovbRInoD6WCM9Et4YdSWFr185vIF2f5MIegUPQShHxY4vwiG84hVQk1BQK/Ugl5ciEtBCHYcR7UMrSxC8VDPpRRZSv2zWPgidB1rGVly4/VWpKbhguXCWi7cxJ4zroTfvRCwK2ohKM2oIpyVj44p5XCFuErAS/8Q5HwWpxXT2IoTE1N2JDWlQ+u2L4TFBYKh3JTvvmlubAgxzwM8ciZNCB3ifIDRw7FcGz8FzULGE1lLPBLuGKFR5mUF5eFsiJXVtCIMvCO31i+rd3mV3wLPem1Ol8oaU8++ZcLMS6xHQjkjrLw/1VAzGU3AN84RlEdRIX86sEMBrVd29WYPHOBCZc9w/h7gKKe6e+t51BURGMjA09UrMF7u3PYWwavAhzL7SA/lISirLnhYV8myVBL/g7pLCsC9rxNsZ3Bt8Nme2x3Amk+m6eX/8ZYBSEmQW8noiZ+QEwvPjkTeXj3zU3Nwtsf/+QIZz8xBX9PVPPRPQLUbgmfQLzLYVq9T6LywgLZs26ZGHULljBu/SIkk9AW1+4tPQRvzMGBpmIh9Y935OthPJzRI8fPQgu8BwJgTQMeN703SPLz2Al+lkZMJ/X3P8+LKwIhUeBLi1JdcghQVnAxNEXdkRV+KBXytTSIpSSS0iX/HbIpe1j3IS51YvlbOSLWyXsu8koS4Hk/gPRtt/fQkP02HG+wY0XY8e3vc8Foa57pG+6iAGZind5fxHs/oXCJoRVvCr91PJI6NufPuVDIb3OwulJakVdiPXLUDcAhlPF4GgMlHesrGgORfwHnb2DzcmRByuGalAPd51zl4Jo5W5CdJXgQ4FhuB7mh4DVrfFIQDJ3Yig8sal0R8huCPW9TZOjtIncryMVlr0Ct7BZimWA0ZzJ7sv8A7JYLYkeIBZg1UiBPeaWMVhhIIeYSmXrnkMa2ePExJ980jIPfp3ml7/Dxp2xcQvlzfr3nw0b8uc9NKxfw2zzNdfpuC2k+bDpMSR7Tl2NMZou8DHidQdHzJ71Ig6yLaW2T5i4A+qHg6f0sLy9b0izxZQ7L+S+lbvyNwBswMWyEN8KOHpNtysNgsOsgIBHAKTbrQPlM4eo+Di36UxZ43h2mlq5+Ywmt3nTrPaci6+3asKxo66cYJ0OyXKKT0aZgO91YhkJQ1CvlUFXDePHbrxyYGGVZJmf5NDY12tlAVECE7D1gz9sUGdr/GJRDhPwUNhZv/5XD7iGNHbkxaRd56MQc8n9zAd+NjdXTBvJptDPYuvyb4QLsXDkA5JOfF/EzPac9gyhg9RjTz+bzsmmnEOdZSJFzpWyiWxdWb9Yy9ssBJcI+FjYH0oOip0+PiuW9DJ2dOnXCDm/Mp8ze8N6YSi7wPoYh/WwecA/cVWT4scCACXf2xHDoY5zLc9gun1zwnNRr1sX92MSYbaBk9IMFFOxdaj7e7EpSNPSFFgwkMnwp/lB24OXx/XLIL0Nh2F6uvSUAkWC4gYEBOxdoXEyXEutdgsjoWffmQ44MW4d8jxiokNtviA1sM/cq4VWl/6rSTepAybOogAUSDIlg4aIoC+lKhBsr0R48uB+ePX1mZ0dxdhfLbjlWZXWVNDFgsy7W9V5cflruELn8IqLz30Xn4pcNmqu2a53zroaHR/TM/FKaB9duIMaCPKZEi/3wUHbPQwtOBbBFA+qtMC+4sLpgdAVsEYYi8j47tLQbKPlf/4//6S/Lyyikd2BiIbwguyvMQcHOMMsNRXk4JoGdvjAay/ZYPviygNByWm0FubjsFbbPZ3vIT2PzFPWGl17AXMePSetXD+C7H+V+oyBLyy2d/uXQX6193T8/zN7cgdDWslJOsnBRBj65LpFa7KvB7P365YBQYyk1hyByXtb83GLo7ekLpWXl4cL5i6GpsTnMzy+Gvv5BWdPdYZBzviSci9QzmZqetaNDikJpqKioDtMzc6F/YEhhhu0MMcJwLhcr0haXVsLI6FiYnOQwxVU7A+vxk2d20OPS0moor6gMHCLJMSSca8VBieTZ2zcQ5hcWAzvnidstucL5XBx8yKmznHrMcSTZnkMsHcqEXsaA5NCzri4r18zsnOHEHAxnlr3o7rEDGAkztzBvc08cgc+hlBwEiUN+ceIvE0TM5eBQtCzN5nh0ehhsvuSZhQC7BVMOZe+IcuA4aJbRUXlstHoXlIPXZHoVgux7C8F4rm6sQW/iDgqUW8TqHQTKHcuO/YjLQny/V8d//32VQB5Yt6wcY1zcxsd1H8fOPYyHi9igHDh3iyPm+/oGJejGAqcJX736kR3qyJDn48fPwu1bd8OLFz1q18Nhdm7ehOfkxFR41PlEgrIo1NcfN+F798690NX1IoxI+JeUlIWamiNSThydPhkePug0g3Fyajp0Pnxkp9j29SInpgKHJdZU11qanMzLAY+jI2MmQ+g1kBYK4YHSQJH19Q4Y/h0nTtppyBydEiHOA1CPfQMDdt4ZvYzuF72mlDhxmPzu3X8Yfvj+mvU+wIszvih7w5Hjol1ZmJiaNHxQPm1NrcKhJHQ977LeBHuZGHJin9LTJ09NGXPETDw6fzeAVngnITJjFvJJl/++EOyO3IdwCIIo57d1+pfjCoV5CXeg4F+mW1haCPOL8/bL82bAkC+WPMO/fEDq2bOnNvfQ1tIeKsor1asYkXC9Z2dTMbbP6b8D/UOytvkmyLKs+SkpA3bkj6oXMGACdmVlLfgJtbLypXT4SiJHySOAGapCMfCuo52ThTss7SdPnoQppcUBjFjyCGzyu3TpfTMw6aGgTFj5hbD2s8GK2dye0NglDc7mmvQ3q7S6FAd8jx6tD5xmPCfF9vjxU6U3ZjiDJ98iIU3u+9VjmZ2ftV4X54sxj8PqQ5QtDsXCyQT0FsZUlsGBQcUbM7xQmOsrmnYB76xyANxSSa+CPnkWc77zij+EQ9g5FOKjzR3hdxtnh+4AeZdNhMOjIxL0D8LNWzfDk6dPwuT0lE1Kryu+LOAlAcjyXXbJc3gk358YGR9VnNUwLMGNwGQYJioHDjREkKM8OJaF7250yppG+HOg4cWL79nENlY/39L4+ptvw2NZ10tLK4Hvh3Dab21tXfj0gy/CZx9+EY5JcBOW72iwIohd4x0dJ8KV9z8IH334UTh9+qzizNuw14UL74Wf/vR3pDQuS0HUqgBRNkQnYctqouIiG/LhaHo+yHTl/Svhyy9/Es6cOWunDqDU6I1wOi8K6LIchyIyjGTKYS3ZnyMasKt9fmXeeiTNUiR83RHl9VgKDYVC74jhrcoKdsLvvq7faeVwCJtBLlO/+fBjwTMCkvBNcQcDTETzdbynzxiCeWAfdpqRcmCHOwoif3EIT+zv4Bypzz771I6VR3g+uH9PAnTClAaTs3x86d7du5ZeeZkURUODBGKDHVnCknXO7BoY6LehFY4b4aRhlMVz9Sp6e3pCL3MaC4t2nAlDL7ZBr0Rmv1x5BXMTbAwUh5UU2ceuON2WzY30AljgAk7sTmf4iOW5HPPCoYa+gTCXLwnHnkUUGl8YtN32sv7jFwUZSmOpPdE4FNH2JUmZsCGTcPQaOBiRHhXAPAT40gOrqa1RmdsMH4aXOM+Mo1+OSGmWqNewlxZyqBwOIQ+wJ30FhtuWe7sOTmDHvLZzbwpkBfPrdkD8fXWA4Ef48YW5X//q1+E//fF/krD/0qx5BCI9B1cOKS4IUoQ7mx85L+vs2dMS+vU2vMQ3MvgeRXNzk50e/PkXn4Vf/fpX4Ze/90s74ZYzqjjhlr0QnZ0PTKiePHXC5hg5onwx+dgUk8ksa19YXLSd6LxnuXvvQE/oevFU1veIBDDHtUs4Ky1OvuX0XubkELgci0Kvhl6Yffa1r89WK83PzWW4LpbLy8aJBZSJc8LmZmetB8SRKRxeCU5lZZxmsGxlR3GCj+/N4lRgTtJl936pcF6yk3Tn59Rz0DuUBL0HFBZHr5AWBzJW1VT5qrAMbXcKh8rhEN4SyCqCfPcmgZopwvANcQcBGAuMi3P8CJtPo+ObGVjrZkHnW9nrwkyxJUgbmxrCBx+8r7BF4dbtm/IL4dy5M3Y0/G9/+1X4+7//f/X7b3bkukzpUH/kqJ20yxHoKAo/5bdYyqHC8saq9gMLa/S+3g4yPHPmtB0p/9d//f+Ef/iHvw+TU5OhoeGYfQWRDgUTCZycy2knHDWD35nTp+3EXZbc/uu//ku4f/9umJgct5WRdhKy4hitdVmvRMWsO1ZnH76ilP/2b7+x/Lq7nwe+utjcwgeX+GSsx7XFIYqGQnHlwTDaMeup3Lp5M3ylsrOkFRpzmCjzICiseuF0rO6YTf5zXMpelrO+06uVOO3yZWEvuOwVvE5+HLBfYiflxbcFVBoJwjfF7Qdf7gSUm02KIiARWHFHb9wQR081y+GE45h4jixv5pvj9Q3WI0Awes+gIbS1t9tzRaV/obDjBJ+pxVqutAnvnt4eO6rj/fcvm+C3M6TKy0xZnD59KnR0dIT2jnY72fY4wpS0j9aZQmFY6uOPP7SeCCfpshSUk2+bmxsleI/Z6cIgy0m/fny6n7hLD+XSexfDiZMn7FRdygigh1dWfSc1K60YBkKAczoyX1W8cuWyffGQU3cZUqIcDBPRU+AkXXpJnGRbXelHt5M2H3qqVTqcbsuHnpjUpszQ7ty586G9td2G0dAue6nror6Za2tV1RTg7d4hXbxWHCZnJsPt27fD8+cvwieffKxKvKQSpWXK3jts9MmHveCyV0ibjoPj5rszc4Fnt1awWvayUuFlAVNje+ptBmk8p5yXzw1d/sknv8gGKSWyeSeUSJ4O4SAhn+7Z5auxXriQN3Eg03y8sr3O5YokZHnHB6oYRmHcHiHI1wntpF8FJFXJXRtv5zsefMGQUxB+8Ytf2JAWApK4ktE2bOURXBExZEMai8tLYZlxfzUZBCtKDFyIZ8M7ssAJy/4FQ03vWD3EcA6b1OzARqVLXt4bwnk4FEM8I8zirbDyyE/7pXdED4rwpEe+5GGHQq5yaOSq4rlyXY8rB3Cs/tT0tJX3/v37Un6NNkfT3tZu6QLkaeg41onbGkw5cLZSVjng3jblUCTlMDM3bWuLGZPjuO5LF/dbOWTvoF9y5orXilWqVVLyztP2//g6pGk4EC6DhbgfJjE/pccbSxHrgNfm43FgZPKEK1xB5KftUNh3M8jgkgGaNtv3ORCBM1+sG2sMubvUU/B8KJudOplALBM0cKvMywvEsqZ0cHBqpM+vG0DzTYE9V88OwSgPn1JnuoxPM3Vkp/XqHfxjPQu5WFdW97o2Ixf+MYw/IzQ5dmMsPH782JZ2njp12hQDK40shgX13D0W/2M+Md8Uop+FtnIkfI1fUpHQMLbrmI5an8Vcf07Cpu0w5hXDexijk9IyOigIcxSka5PRdhKxKzM+9Uo48kE58o2azs6HdnTHiRMn7TvvLP219iJtiFIingN5e/5bQVF/0nPInq3kLl+Y7CzBg4CI4daQGwqio/ntbCVZFs2tzTYmR6VEyN47bPTJhzQXVdR64Fi5VBxa3ysUQKDREIgTJ4qIFtOIdykkYVTBFg6GwPQhHPdKnM9cOtNFjC2GP+s9DGgKRfdJKmkuJJM+bQOedj7EvNYZnXzkhUwH35cBwz0qB9JSwmYpCswy05/9yp/GA50pazZbw0nXmwJRLL1uoLZeNRjljRn0YHVlamD9XVT20X+v/BLzwcJn9zFCEj44UssqpHJ7zwR1Ctla4G6rfON74ltOeFp+MU2PnU0j3vtvjJNta9FvHfToeCZxlL6F0KPRMPFjFZfzuVLTOwxQZNvM9IzCFoXqKv/mOktnLY0kboxjGXnKW8JbrBwAD+UEdYFioGL4dvLcVDZUVgGffEhx0X8JMQTXzMyMbbJBm5M3E2A2x9HYJAum0hoC1oAhYv9dAWRTSyFRDmpErExgHTNhGI9kBQiKgu7ljBoD3dFKMQbL6WAChCbKibXTbPJhOR9jmvZFuFgwZZdl2O1hI0X45gPLFHt7e2wtOuPA7R0dNp76spCvHCgrefBVOSbi6o7U2JfRGMO14QZ6E3nFMfoVwPv1wW7o/argYOiRT3dTAEn5Y71wRf/4LhdiGpvjbKlYO1cY8YnNZaidATbOT1yzwtM0cnPKPuXjwDMuSYe8MveA410ongPh88vmaWwNHsd7U3apLPYtDpXRUtMvybhMwcd7Y7QFwsQ4vMtVDtuDU++thVh5aGOno3WvWINsvpsTyUP4/x2DglMR7Mb84fsfwjfffGOH/N24fit8/901W+bGLk2vbNJ254oiKuN8l4CicU5Kn4RiX3+fCX1DX0Hm5ufttEo2/CAwEaBR4YhPbDNQ94ueMD42YWO0CVvtEbK4ueOCGVFcd+7ctnXsk3a8wD6DaGtfPJMSnBgfDw/u3w/fic79AxxZUBTKSsqSCc5Iy3zYvL4PErxuXrfz61VDPq/FfOMFbM2PhMFh3G3uEIPr7ZtxdktSOaAYcOvp5KdVyI+x/Oy7rMuGy3e7Cbu9i3VlZUvSk+hP7+l1IQeK3N+/ceG425HmcizBtd4NGyySD0NtxLOwK/nf/sJXKxVZRCgaXT4Q4ccGSVnENa4xkwkpNpHokRK5deFsaoxEWF2phYMDvEr4R1KRodMQfocw5phhzmApL6sMn3z8WVhaXrHDwTijpaGh0dYos6Wfg8XY9Ui3lzXTbBRivTRb3zkeYG52zjfJyNEbsXXUUg5MVLW0tNpGGj4O0/X8uRTQzdDV1WUTXEykMblF2RDSL7q7pbBYlnc81B89ZpN5bCCakBJDYQ3yARY7+IvPxZba2S34gQvfMubbvzZhJ5ienrIVX/0D/aZ0APJjZQm05TgByMiyuvr6elFk8wt6salnfGxM5RqwIT82JEEPegscncA6cHolhEEJgiPfPuaXMWUOG2MZYkdrh9F+cmbKeha2eUjKgjiUg243OMbhtyweO732DYyR3gzwdnFwsFlum9N55/gR0tuz2qEpBPPxH+7ykvLH6MmvOzfcImTvSdNdWoWF4myEQlVeyC8LUX36r9+RjfeEUlinWfJDWOrVhuoiv6s9bKTtVqDe139NlANaxSPHBHaT0JsIsSwZh+Cna6WeA71PaAyZYajsfVQMPBMve/mfM2AaIv6Xk1CbnJoJT548tY/u//znvzCBy+FgbGevkIB6+rQr3Lhxy3oV7N5kmIc11wixaz/cCJ2dnPHSYwqhuroyVNdU2RAVKzA4xZFt8qyv5mP+nPly7959KaM7Jug5pgDByXECCO1uKQYUFQK2VQqF7fRY15zBwuT8jRs3bPIOZVBWXmFL5DofPgjfqtfD0cAoFvJmqIpldRxZQDzOu+nr67UNP0fq6pRfjVGAjTk0zObm5tBwrCGlS56DhmtS0sPK9/at2/Zt7xfPX5iCIB+2/LOy7Pr1G1JGA7YDlo1CDMuhdAjDMQTkxwRcawu7QxfCk2dP7WgGlCOHlfWrl0UPY1lKqKW5xfOVFvG63IjX5o7//vvWgIpzEGUij3hFWuZDbph82CmOhKPtYuzi9GyWs36srlPwfKJf+kuLjsLYL5cLWR9v9UBMw+OnYTc6oJDf1gA+Htp/o8RRKRH6ypZyeTmTFwK7zZaXW0XMI8EmQCAP6GpFMSNZ0uz9uTDEBHAk8aa6LJ6pk040gQ0D2eSOLk6M5A0W5tLKoo3rMXTDTkUcuyoZW0f4E57uHpDLzHqnNPkmM70TDsBiOOeFeg1YtVj8WMgPHzy05XIIK47n/eabb80KHlSv4PatW4q7Fk6dPGWHfyEEqQYm1ljnzJDK0NCgCWAwrpYVffrU6XBKAvKEwr934WK4KMf6cCzlNgnNFgnqOSmRCfUeONZ4aWFJeHWbUgDapDToYdy+edMEMN+84KMi5H3s6NEwNjISXnQ9N6ue+ROOEODI5MX5RfVYbtjhZcvqDQHQI17+jHO+ynds9X8qYc5ZMIyHspadI5HpBU1OTdnBZ+BCOWql7IaFR0+vH3cA+RH4Zh0pLh84WVOVU0ccvoaiIXx/34B6YkM28Ukjsu84q4eT4raFE93pwficx/45F1xvgMtpI9l2c5Aulzap2wwKhY1uJ7BZvEL+uCyO+bjvp8vmmTqvo7SuTPok8yn82r29z1xWt8SPEjy510Pq1AI3dR5GOep/4uSd8+sQfyN4Rv4bC8bk7pvmIm6FnONeXOQTswjykdGR8EjW8ENZmYOc5b64qFC+5hjrFmv5Due0SIAjYBAcjH/b0rYM2OifKLsgwXnv7v3wd3/7d+Hxo0ehva1V1m2LbZlnopiDu379q1+FK5cvh9npadtCT34+9FEUaqprJLRbbKMeZ7bU1lSHEx3tEspNtjppVT0E5hYqpHBOtHbo3cnA6Y5nTp8JZ06eDkdr6uxj/M3HmsJJvWMpH/Go27nFuTA2NmpW+JdffGFHGlw8f8FWcY0Oj5hya2ttDVfefz+8L/zoFdCLmeUAMuXJxPiIwo2Njvnpj6IddALvyB0piFB4uqRdd1zsImVoCwv/88++CD//xe+FE8KdORuGkzi/njJ9cPVquPDeRYWrNByYe0HYx0k3FDy0oHfTIQWJYmTI7smTx2F8Yjw0HK+3DU+GjeoGZeJIbQFC08MkDs1j91k+elVuG9z2DJvhH9tLfht61S6bd3QJvbekQTZMvtsK4vv8OLiYdxaXfNyi3367/Dx24/LLsdEh0Qv5b5ceT3YbIb2ndVgLKQBpAmmMfL832/Gf8nG4FRtrGK//6t++MiueoRjGwhl+oSfBEA/v/vmf/zl0PXtmS+UAhJOPbaZgq4eSoZ2O9nYJvc/CH/3Rfwx/8Af/rW2PX1pakEBjBVN54NwWdlUiq1AaJ06cCJ9//rnu58M//sM/hf/r//y/w907d6UIVkN5cYXClVj6rMhhDNEmYNUDQj0hIMGX43lLQnJYmNzCmm8aYs6A8+tNIa4Wy/qWpS/UK8orrEfDPAR+WN70GI7WHfUNQEqXcJQJgc3wFVY5Qvj8+Yt2RPHKskS9mRsQIOOAqDA2+OtW9zAueVeUV4WaihrrIfERFnZ7Egg6kjYKnHDEWVgS/ZUup1r6AWZSerKWmLOx3bL1x0zR3b//wOYkaqprTdkCWFq2omUdke0gG5aSvKRTUpRna0eYV+Vy83G84u/rcED8jWCIFYD8cPsFabopVundQUNuHeU5tWXacxzRSO+j/0bnRmyBtGRguSv0jsnshAjxNyVILmE8RLzSkEVKxI1Bfn8sjhIJZxUAa5ct9VeuvB/+8D/8oQnyK1euSJhIaEvgYNWel1X9J3/yJ+E//+f/Lnz2+WcmsAC3QL0y/ca1NBNGjHl3nOiQsP8sfHDhcmioY1t8caiuYc31UpiYGDE3MjpIRDtUjG3x719+P/yH//hH4ZNPPwvzspAZVllaXDJcyBchT3YIOXIlb5iDWuEAMY4Xnl+et52eTDoj4Pn4B4KVCItSdljdpIMAHhgYCqNjfLxkQvSgx1Jr6S4sLFo+hGOehNpmSezMzKwNd/30pz+1nZgIWsIn3GBzHrMKgwJFWXHFd04m3fMrVyycyqUU/IteA6F3oN/mTQhXd/SY4cAQEsNs4m/1DjhgjI/FsAFISn3RT/pkYpxDylAgHKbW3NxCRuHpkyc2Oc33wjlRE6C+vQcFTluAoZwgKme9aSHmvP4SLkm2MF9mXERhP91meewEn1fmkvwNF92YA+JvhHVsN3GFIUqs3CsfyAsTK83fUxV+r8wx7xVd7jsWW23q9E+2kBy/L+OyaXBfIM3//c//57/kJEBqKI5vRdL4vT9nCWtOgjDn+UfnVF7KrAeEon9ByS3XKgnDUlnYzC2Y8qgotzX7jLUjZIkfEyIuLtJpWYKMYRGO6OAsFs5Zgb7LUgjkx9KzoaGB8LDzgdzDMDTYb+ewXL36YeiXYPzqq6/DA1m8TAYzoXzu/OlQ33A0dPd12yTxnbt3bSgm5usfWS/x8Xj1cIaHBm24prLSLW6+ufvb336jNDtN2PqQFb2VotDX2xcePnhgHzRByPLB8vfee084Del50pQAChAFxQoiPj6C0GdMn69eMaHO8BRDWZQBhYjFziQ2uHC+DUNSnAFjczuZ4Rx4jXkeP3aZ7+4+sjmQGQnzC1LGZ8+esb0MKoL1qFCA8cPq9Fo4XZNzc5ioZsf78vKynflfV1sXSovLwug4n36kDG3h8vuXQ92ROs83oZvXmSBfBm0BcLtfXoo9Of2jDt4Ep79EML9kmV7aJQKZh21hY+xcKOS3e3h1NIlKoJB/vh9OdVXQP+v2em2dRsl//Yv/RcqBT9lRQULDamjjWJglIIVgSSU/P26wVpEDWOcIDWxhJqTtGAi6ZLogC8JtPYop0+TWaOaOMDZJKj9W7LS0NIXiUqUpa51gDCMdpRchwc+plGfPnQ2ffPKRKZ7l5dUwP7tggpRDuS5fvqT3p6W4im3FEHsYOHGRzw8y9MNpkHVHj4ZyWfd2ymUlvRKs/WLb8Ea9suyUHgWrlI4eO6Z8qm2Tmp1UeYzejB87fOHChfDh1at2gBnAL/gjhOmxcJwxh395L6TElEtrW0s4d+6celZnw/GGBvkXW3pszgNQQsyRMN9h3CUCOJX8t9gUcpUE+hHRgxVWNXbQGeUGf87nZ/6A8pJGjXpxTOJz0BjnyZBXjeKDCz0G6EGeC/Pzpliou3OiL4esUQYTipaz1xZIOT47c/sF0OJNcMB+lutlwGisf5HWhd1mAjTrH6/s+925XArtNxRKN/ptfGdDPPt6eS6FXfYSLYanb69VVakxF/kOaQ/EahwUhR4SH7cw/N4e3jKIQ0PGVs4hBlY5esUvzOshoIG95V+iHFCivnKAjW5s3+fMd4RfUTHMu7a+UobJ0yVZ98xnIFBtJ7EU7/LyWpifW5KFv2Tj6cxLFJeQB+EXzVJmOAV8yBPBzZAPQz8xTyaOJbulBGqsN8RyT9IrLSkPrFRi3wQT0WXlpYqzrHecbb9mwpPeAb+szAJs1YOKhlUOoPiYi1lYmDfcSxHQzFmoZ2SnVAooG8tbWYnEfABKD0VIKaCSM7vfmyLWM2myDBWliNJD+eA4y56ycpgZ4Ugbf3AECA8uc3Oz9oyChEZ8bayzs9OU3qeffhJOnTpl8azKBI5BistOwcJaIjGlfNhBaqrn3eT5qsE2SL1uEAqRHzajrNN2J7haSn5bELZOx9/uji9eHrbGaf9gO9pkQXUxMn1nrbIKReBLEddosHqR6mJH2ny4fQsVA4AQQhACsGhkU2cUXQRwDyeLAZGSRzV6JlLdNkW5phRcZTxTPQdox+QQjYDxeOJLXRDb8g9rWOTMDSgFCWaUycoqk69MQnu64OUYKV2libJhHJ7wJuysIMo74mX/icnEta5kAoq8fXgBpaY05c/SXdsHYuGl5NRzIiFTfjFtQuuZfAEmx+1TjwLSMyCOfiI+KBneGd74eSgLw38XCuToZaDHxkvDhHIl8Sw06WTuUxAthdPo6IgNyzEPwQoleg4oKN4bTknY9P/OYbvwO0pVr3eb76uEHBK+LhBBQMP5YDOAajuhnKXktwVh63T8bcqjBwNb57b/uIg+luhWdNLb0Zm7Ug40XF+BI7mke56BNDJ3Wyf144dc1uTeqZBlFRN2vFsPyjv5oRzMnxcu5AATighkwiRh09Sy4PHcxcQJGSfKCoPhkzSqNFSSlzwTNASEiOnuFIi8wzhktAEPB8sZOvDG/3YBCV0tNjEtNV4kvrmwqJ4Q8x7kx0ZAhp4ISO6pMom/u4OIwVawbQi93j6Vg4OUJq8RRA6wiHxcGKDZTuhmKfltQdg6nVjHO8npxw3b0UlvR2fvrFWZcljIEMXFWBY8ma0T+7FDPms6DbZjEwSx/Qhi/Hw6xTS2Sos4WReBODuJn4VC4fJx2gp2EnanuLwsRHpk89scP3pCfu4tq7nUC9GFcrb4WwqfrcBjueAAj81Sie93AgdFv61gb9R4FQAm0QzYHHZCs+3KtHUasY7fhNrZHeykLmOY/N/CUDQ0dWOtuoZhiUUjyPZEIcGdIPLmQz4L7EU5WIztibYD2I6uZLIvGe0Afky45IKFNCUQa9N/HeP0/24g5r5dzJ2lHMPsFotXARuNwEKQ3y5eFZDLweS0OUAP6jGegLAZHBRNvH52VkvbU283FA7h/wc2yj4PTprkEQAAAABJRU5ErkJggg==)\n",
        "\n",
        "> \"*Positional*\" significa **parâmetro posicional** e \"*keyword*\" significa **parâmetro nomeado**.  \n",
        "> * **Antes da barra**, apenas parâmetros posicionais;  \n",
        "* **Depois da barra**, parâmetros posicionais OU nomeados;  \n",
        "* **Depois do asterisco**, apenas parâmetros nomeados."
      ],
      "metadata": {
        "id": "n2XfPTNk9wwi"
      }
    },
    {
      "cell_type": "markdown",
      "source": [
        "### Apenas parâmetros nomeados"
      ],
      "metadata": {
        "id": "49SJ-JYhDwtt"
      }
    },
    {
      "cell_type": "code",
      "source": [
        "def criar_carro(*, modelo, ano, placa, marca, motor, combustivel):\n",
        "  print(modelo, ano, placa, marca, motor, combustivel)\n",
        "# Depois do asterisco ----> somente parâmetros nomeados (keywords)\n",
        "\n",
        "# Primeira forma\n",
        "criar_carro(\n",
        "    modelo=\"Palio\",\n",
        "    ano=1999,\n",
        "    placa=\"ABC-1234\",\n",
        "    marca=\"Fiat\",\n",
        "    motor=\"1.0\",\n",
        "    combustivel=\"Gasolina\"\n",
        ")\n",
        "\n",
        "# Segunda forma\n",
        "criar_carro(\n",
        "    **{\"modelo\": \"Palio\",\n",
        "      \"ano\": 1999,\n",
        "      \"placa\": \"ABC-1234\",\n",
        "      \"marca\": \"Fiat\",\n",
        "      \"motor\": \"1.0\",\n",
        "      \"combustivel\": \"Gasolina\"}\n",
        "    )"
      ],
      "metadata": {
        "id": "dO6tsHQfD24T"
      },
      "execution_count": null,
      "outputs": []
    },
    {
      "cell_type": "markdown",
      "source": [
        "### Parâmetros nomeados e posicionais\n"
      ],
      "metadata": {
        "id": "zJ9pnqLpAhaD"
      }
    },
    {
      "cell_type": "code",
      "source": [
        "def criar_carro(modelo, ano, placa, /, *, marca, motor, combustivel):\n",
        "  print(modelo, ano, placa, marca, motor, combustivel)\n",
        "# Depois do asterisco ----> somente parâmetros nomeados (keywords)\n",
        "# Antes da barra -----> somente parâmetros posicionais\n",
        "\n",
        "# Primeira forma\n",
        "criar_carro(\n",
        "    \"Palio\",\n",
        "    1999,\n",
        "    \"ABC-1234\",\n",
        "    marca=\"Fiat\",\n",
        "    motor=\"1.0\",\n",
        "    combustivel=\"Gasolina\"\n",
        ")\n",
        "\n",
        "# Segunda forma\n",
        "criar_carro(\n",
        "    \"Palio\",\n",
        "    1999,\n",
        "    \"ABC-1234\",\n",
        "    **{\"marca\": \"Fiat\",\n",
        "    \"motor\": \"1.0\",\n",
        "    \"combustivel\": \"Gasolina\"}\n",
        "    )"
      ],
      "metadata": {
        "id": "pGSWGYcAFE-x"
      },
      "execution_count": null,
      "outputs": []
    },
    {
      "cell_type": "markdown",
      "source": [
        "## Objetos de primeira classe"
      ],
      "metadata": {
        "id": "WC10FLYbFuIp"
      }
    },
    {
      "cell_type": "markdown",
      "source": [
        "## Escopo local e escopo global\n",
        "\n",
        "Python trabalha com escopo local e global, dentro do bloco da função o escopo é local. Portanto, alterações ali feitas em objetos imutáveis serão perdidas quando o método terminar de ser executado. Para usar objetos globais utilizamos a palavra-chave **global**, que informa ao intepretador que a variável está sendo manipulada no escopo global.\n",
        "> No entanto, essa **NÃO** é uma boa prática."
      ],
      "metadata": {
        "id": "lNUb7TnSK1--"
      }
    },
    {
      "cell_type": "markdown",
      "source": [
        "# Introdução a banco de dados relacionais"
      ],
      "metadata": {
        "id": "y8Fv2_KT49XF"
      }
    },
    {
      "cell_type": "markdown",
      "source": [
        "## O que é banco de dados?"
      ],
      "metadata": {
        "id": "1Ow_FwQaF7uU"
      }
    },
    {
      "cell_type": "markdown",
      "source": [
        "É uma coleção estruturada organizada de informações ou dados, armazenada de forma eletrônica em um sistema de computador.\n",
        "\n",
        "Mas podem existir ancos de dados que não são necessariamente armazenados de forma eletrÔnica, por exemplo: os arquivos físicos e bibliotecas."
      ],
      "metadata": {
        "id": "DT8Uoli6G1rP"
      }
    },
    {
      "cell_type": "markdown",
      "source": [
        "## Tipos de bancos de dados computadorizados\n"
      ],
      "metadata": {
        "id": "G0td-jOFGM29"
      }
    },
    {
      "cell_type": "markdown",
      "source": [
        "1. **Relacionais**: também conhecidos como `SQL`;\n",
        "2. **Não relacionais**: conhecidos como `NoSQL` (not only SQL);\n",
        "3. **Orientados a objetos**;\n",
        "4. **Hierárquicos**"
      ],
      "metadata": {
        "id": "1i3u-RLPGyRN"
      }
    },
    {
      "cell_type": "markdown",
      "source": [
        "## SGDB (sistemas de gerenciamento de bancos de dados)"
      ],
      "metadata": {
        "id": "noxOc6YfGUIu"
      }
    },
    {
      "cell_type": "markdown",
      "source": [
        "Um banco de dados, por si só, não é auto controlado, então existem sistemas de gerenciamento de bancos de dados, conhecidos como SGDBs.\n",
        "\n",
        "Eles fornecem conjuntos de ferramentas e recursos para que se possa criar os bancos, manipular e gerenciar seus dados. Ou seja, os SGDBs também são responsáveis pelas administrações de segurança dos bancos de dados.\n",
        "\n",
        "> **Exemplos de** *SGDBs*\n",
        ">> *PostgreSQL*;  \n",
        "*MySQL*;  \n",
        "*SQLite*;  \n",
        "*MariaDB*;  \n",
        "*MongoDB*...\n",
        "\n",
        "> **Funcionalidades básicas**\n",
        ">> **C.R.U.D** (leitura, escrita, atualização e exclusão de registros de bancos de dados, ou até mesmo de tabelas)  \n",
        "* **C** reate  \n",
        "* **R** ead  \n",
        "* **U** pdate  \n",
        "* **D** elete"
      ],
      "metadata": {
        "id": "d5r5AheMG57h"
      }
    },
    {
      "cell_type": "markdown",
      "source": [
        "## Estrutura de um banco de dado relacional"
      ],
      "metadata": {
        "id": "CQLYecEkGgyt"
      }
    },
    {
      "cell_type": "markdown",
      "source": [
        "![image.png](data:image/png;base64,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)\n",
        "\n",
        "Composto por um *database* (banco de dados) onde será armazenado o conjunto de todas as tabelas, pois um banco de dados é formado por diversas tabelas.\n",
        "\n",
        "As tabelas podem relacionar entre si. Uma tabela, por sua vez, é composta por colunas, onde se colocam as definições dos dados.\n",
        "\n",
        "Por exemplo, uma pessoa tem um nome e idade, cada uma dessas informações é armazenada em uma coluna diferente, para que no final se tenha um conjunto de informações de uma pessoa.\n",
        "\n",
        "O registro é muito conhecido como linha ou tupla, que são as informações armazenadas em si. Então, o conjunto das informações de cada uma das colunas é considerado um registro.\n",
        "\n",
        "Os relacionamentos dependem de dois conceitos básicos:\n",
        "1. **Chaves primárias**: identificadores únicos dos registros das tabelas;\n",
        "2. **Chaves estrangeiras**: sinalizam que existe um relacionamento entre as informações das tabelas\n",
        "\n",
        "* **Características**\n",
        "  1. Relacionamento entre tabelas;\n",
        "  2. Linguagem de consulta estruturada (`SQL`);\n",
        "  3. Integridade referencial: as informações são interdependentes\n",
        " (atrelada ao relacionamento entre as tabelas);\n",
        "  4. Normalização de dados: a forma que se estrutura as colunas é normalizada e única;\n",
        "  5. Segurança: cada usuário tem acesso apenas à informação que é relevante\n",
        "  6. Flexibilidade e extensibilidade: possibilidade de alterar os schemas (coleção de objetos)/tabelas de um banco de dados relacionais;\n",
        "  7. Suporte às transações *ACID*: garantia da consistência da informação dentro do banco de dados\n",
        "\n",
        "  >> *ACID* (atomicidade, consistência, isolamento e durabilidade)\n",
        "\n",
        "    Conjunto de propriedades de um banco de dados relacional que garante que as operações sejam executadas de uma forma segura e confiável, para que se tenham as informações totalmente consistentes:\n",
        "\n",
        "    1. **A**tomicidade\n",
        "\n",
        "    * Garante que todas as operações de uma transação sejam executadas com sucesso, ou que nenhuma delas seja executada. Então, caso haja algum tipo de erro em alguma das operações SQL, a informação anterior que foi alterada não é salvada;\n",
        "\n",
        "    2. **C**onsistência\n",
        "  \n",
        "    * Quando se altera o dado de uma coluna, todas as regras da informação que foi inserida são respeitadas (tipo de dados, obrigatoriedade, etc);\n",
        "\n",
        "    3. **I**solamento\n",
        "\n",
        "    * Cada transação é executada de forma isolada, sem interferir nas transações concorrentes. Isso evita algum tipo de acesso incorreto e/ou inconsistência nos dados, e faz com que o resultado final seja exibido corretamente;\n",
        "\n",
        "    4. **D**urabilidade\n",
        "\n",
        "    * Uma vez que a transação foi confirmada (*commitada*), a alteração de informações é permamente."
      ],
      "metadata": {
        "id": "jvhxwkPJHBj9"
      }
    },
    {
      "cell_type": "markdown",
      "source": [
        "## Introdução ao *SQL*\n",
        "\n",
        "[Referência](https://www.sqltutorial.org/)\n",
        "\n"
      ],
      "metadata": {
        "id": "xfEQVDqQHCO9"
      }
    },
    {
      "cell_type": "markdown",
      "source": [
        "### Conceitos básicos"
      ],
      "metadata": {
        "id": "djvP2RLmLOX-"
      }
    },
    {
      "cell_type": "markdown",
      "source": [
        "O ***SQL (Structured Query Language)***  é uma linguagem de consulta padronizada e é amplamente utilizada para se poder interagir com o banco de dados, permite que os usuários escrevam consultas e comandos para criar *schemas*, recuperar e inserir informações, atualizar e excluir uma informação, ou até mesmo um banco de dados.\n",
        "\n",
        "Surgido em 1970, o SQL evoluiu e se tornou um padrão internacionalmente reconhecido, devido à sua facilidade.\n",
        "\n",
        "O SQL é dividido em alguns tipos de declarações:\n",
        "\n",
        "  1. *DQL* (linguagem de consulta de dados)\n",
        "  \n",
        "  Usada para se recuperar uma informação previamente armazenada;\n",
        "  > É caracterizada pelo comando `SELECT`.\n",
        "\n",
        "  2. *DML* (linguagem de manipulação de dados)\n",
        "  \n",
        "  Permite consultar, alterar ou excluir uma informação previamente armazenada;\n",
        "  > Principais comandos: `INSERT`; `UPDATE` e `DELETE`.\n",
        "\n",
        "  3. *DDL* (linguagem de definição de dados)\n",
        "  \n",
        "  Permite estruturar como serão as tabelas do banco de dados: onde as informações serão armazenadas; quais são as colunas; índices; tipos de dados, etc...\n",
        "  > Principais comandos: `CREATE`; `ALTER` e `DROP`.\n",
        "\n",
        "  4. *DCL* (linguagem de controle de dados)\n",
        "\n",
        "  Diz respeito aos permissionamentos dos usuários para manipular os bancos de dados e os dados em si;\n",
        "  > Principais comandos: `GRANT` e `REVOKE`.\n",
        "\n",
        "  5. *DTL* (linguagem de transação de dados)\n",
        "\n",
        "  Garantem a execução das propriedades *ACID*.\n",
        "\n",
        "  > Principais comandos:\n",
        "\n",
        "    1. `BEGIN`: define o início de uma transação;\n",
        "    2. `COMMIT`: salva as informações que foram alteradas;\n",
        "    3. `ROLLBACK`: volta as informações para o estado anterior, caso tenha algum tipo de erro na transação."
      ],
      "metadata": {
        "id": "6BN9WleVK1VS"
      }
    },
    {
      "cell_type": "markdown",
      "source": [
        "### Sintaxe básica: nomenclatura"
      ],
      "metadata": {
        "id": "znLfOsZTKvZB"
      }
    },
    {
      "cell_type": "markdown",
      "source": [
        "As regras apresentadas a seguir são gerais, mas podem se tornar exceções dependendo do banco de dados escolhido para a utilização:\n",
        "\n",
        "* Os nomes devem ser inicializados com uma letra ou com o caracter de sublinhado (_)\n",
        "\n",
        "* Os nomes podem conter letras, números e caracteres de sublinhado (_);\n",
        "\n",
        "* Sensibilidade a letras maiúsculas e minúsculas:\n",
        "\n",
        "  Em um banco de dados, que foi criado com letra maiúsculas, será necessário utilizar letras maiúsculas para localizar os dados, senão não será possível."
      ],
      "metadata": {
        "id": "JeQJQo8dLISD"
      }
    },
    {
      "cell_type": "markdown",
      "source": [
        "## Modelagem (MER e DER)"
      ],
      "metadata": {
        "id": "gWjJcPOk5XEr"
      }
    },
    {
      "cell_type": "markdown",
      "source": [
        "1. **Modelo Entidade-Relacionamento (MER)**\n",
        "\n",
        "  É um modelo conceitual usado para representar a estrutura geral de um banco de dados. Ele descreve as entidades, atributos (informações) e os relacionamentos entre as entidades;\n",
        "\n",
        "2. **Diagrama Entidade-Relacionamento (DER)**\n",
        "\n",
        "  É a representação gráfica do modelo entidade-relacionamento (MER). As representações são feitas através do uso de símbolos e convenções\n",
        "\n",
        "* **Elementos do diagrama**\n",
        "  * **Entidades**: são representações das tabelas, nomeadas por substantivos significativos concretos ou abstratos.  \n",
        "  > Dentro do diagrama, são representadas por retângulos\n",
        "\n",
        "  * **Atributos**: são as características ou propriedades das entidades. Eles devem descrever informações específicas sobre uma entidade.\n",
        "\n",
        "    Por exemplo, na entidade `usuário`, há os atributos `nome`, `e-mail` e `senha`.\n",
        "\n",
        "    > Nos diagramas, são representados por elipses. Mas, hoje em dia é usada a notação UML, na qual se mantém o retângulo (entidade) e abaixo dele é inserida uma lista com cada um dos atributos possuidos pela entidade.\n",
        "    ![image.png](data:image/png;base64,iVBORw0KGgoAAAANSUhEUgAAAMUAAACrCAYAAADWxljaAAAAAXNSR0IArs4c6QAAAARnQU1BAACxjwv8YQUAAAAJcEhZcwAADsMAAA7DAcdvqGQAAJuASURBVHhe7b1psG3JVd+5zjzceXhjvVdzFZKqJJVKQqgMRm6DkACBjY2xjSQcHc1od4NtOkwbJIHDhm5HuCO6bbcJY0e7v3jC7mhsHFhgDAgJCSSDSlLNqirV8OY7D2ee+v9bufOcfe+755z76hUlRL117zp779w5rMxcU+bOnTvTbncHg/7A+MtmMpbN5azf79skGAwGfswoPjBQfEJy2SyBw/tHAreUzNMqXl9IfK5jfpOAsjIqx8vQfyYrmnUNzf1ez+kfC5Slg5fFpQcGOFynaRDL958kP46TgFi9fs/PoRmkPrTBcdIH4v3f4YbbzmlWfJVLfK69PUk7Jv117cK1zuEV7ngeSRz6n3i9HnUK+Xo6vx3ojGlI7/2o8nvQoPBIl8cmz6QsQkIJ10MsG/CUSXoH3eOu55AKPgoiD1O+uDiAVy45nwZeIR09jTCTSTqYMAnYJKAU0kTBI11OjOwNpvBpRNBwQChbFSGNwBsz3SBHAXQncUJZEUP6eG8cpMuCAbISSPIMtCR5TYB+FAilAYkPYwOxXmOB7PUX6+mpYlr/nQ6h10gW6HWalZcz45RcDvd5FOTYbuk8/U9H/YQ4aiePo3NXXiD3AYX7ARqSc8/DFfUof/IKlU5Bkgf3vT2FaTr83vBnPHDbywmX5EVm/OuHcqcwNeAxSJdAIP/GYJiapEkFAkzOi3TOVDBR0gg0MkevyxQY1jO5DhCupqUOaUN5sVOjxufuZMpDXGgkXtTyEaZTHmDY4WCqHfx6CtBP6VgHy5yc3unVMQhQAG9zHSNDcT/WydtFyo6rviyHp03o9TZQvGG/JfeoQ0zveSZhsa2cgnA7QBKH9BHSV0T16Ok0R4D3pfKJtGU6nZ7KC4VG4ibmkdxUtFBoko4AjlPKJ4F+FDP8T49/BDgjCLxRhU5MAt6Qx4RXWj51Blx7ykp6d0VlMqF46CYtdAPe1qm8ptLieSdp9A97evm6Bp1dM846Ah09fsw1EEa82EZ+x6/9chjzICiUvMlaV6GXocFvCgIj9VX/eC8C3URVu/rJFHB7uaeEWAHC+PN8gqbnNGSreBClf8oJ9Q397LnHYwIhzSsHbxP+oE+Z+ZgiuXcL/ggDnRSYXJ2mE0f+/Ibzj6N3pgL7CEe86RhjBPB4DjoLnDkGQvqcmDLrkpDkM0AxBQsZzjnqECF13tPtbqErerpeVDZBzkMdAg5cMDhKbobZ6cR/w9VrAbeE4qsEYJbIIICzjzPpQdaJ4MzlZyEdjBauR91NWLiOYaGUAKOwALIInmCUfgiedwyPOYzicS8IqO4qD7dwHIUhz5AqxgtHeQFDYaXsRPBeA7glFF8t4MwDYwDqsgyDdqGYR3rVQ51pnHlyoyOg6GhecDxfwQYjUYrXATLWy+SHpYQ8uIdLA/Z0ldDjSMzkvjBrBcv1q4pacOYeWQfdFoxIQhioE1ZFefq58hgoXb+k+2OJf1XhllB81QAMG5lNv0ON6pcCtx1itFyiVYWKCuONosCw8ToJ9exGzBYYNrlIQU9RRkJFyeEYIkMHg2muRzTGo+fZRxigCdqSjPz8ECi/UE9hkuewPp7uDx9uCcVXCWSso/FlS2d0V9b1b999cGZ4GOwHxnFNDG+ShmNynpMGz5jSuxTBkOmj0kZmTXND+tyzD0LlwEB4mD4cYvR0MgeP2lYcmDyki+MHMvZjkg/goQcy0YUL22sDt4TiqwRg7sgoMFRwhzSgTq7joNpZzeMmLOfHkDDod/S2XzgEy0CIh6bOhR4nhA8TADFIJyE0OcYkCcTzEJ0rITQL05ZulCYIZ9ZRl0QPB91KCeQfMtwSiq8SyPZzlhNf0FlxfCCPxBHXxl0jYca6Yq2emIrZIqY9sSkDhRatm8EvjxAFaMh2fvSswBRXECfXz+uY9+s0w3hyjqlzIB2H9HG2iTj9bF/0a9zgR8YOSWx3/cC8ygsWzzNSGqxMCPjDh0y32x/ER+3M18alGtMgzncT0x+uME+dPLmcCIpL/vyhKXzOnrxU7rHm6hU3LuXo9XqePj50iXmPBd2mTOJCf3zGEZ97xDqNgzCf7dn4eSyX8+MA9fN2PlTucQChEA+pziqbLiqEY3fQkwh0FQANagsRGBmQ+KLQchmJiRitK4aDehcGRcgqYvDf0cIIFUIkJuWZgPIlLufeK12EjIwpXPlEZDDP0Qcc1CeGc66UPL+RJJCMbCEMuhEMKJdYJATrnkBckFRFAQQrLZcOajPaO0QlfHjnOvD+hV5h+mn5OPC+jfl3O70BzNVuy+fTjXy+YPlC0AiTwJkxeXDV6XR83VEun1d6aZQJBKQLJ02n0/X1QCz1KBQKE9MCgca8l99sNMUkXSsUi6FcIkxJH6Hb7TrdKAHSe7nKe2p6xSFtV7RTZj6X9zaYRjdAd7Y7bU/v5aq+LuDKE8UyKQ8GqlL11lI/wUSFct6yhYGYXW2PtuVPDJjPKk9TW/jDAZUoDoRFESY1tQtNXgFZApWu32upLg21Z0s5wAMdYVvXHLtiWaRQ+XfqyktWKCstrjIy2aLyUrvJApkwlysrrKR7skY6D1KrwuSI0FYIQk4FZylcwT1xPiMMSSySoDOJiPoS4cyJyJzCet2OtVtN0VFQW82qPFmRtOKF5/lJgPbln3aAp6LSpJ3hr0lAPNJnVXCm3eoMILrdUoPoL6/EpbIqdQwgEwpvtVpOAIUXYexJGpDOTyQX5vC0MIkYrCTmzNJbSZ3HARoWhm401Jm9vpVKJSsWA4O5dpgAlEsDoASiUBSVHgYHJqUnLfehmfQFKRDK1Q11GB0ymXA6q9VuebmxnSk3WuqJlgMG7datqbLhomKpovaG+Wgv7AH5gzBx3wUhZAfn6EZzw7r1Nb/2uGLJrpiu04Ee+g8hQJUnqHoGhku3BwwZjqM+ok3CEfph/EKhKEUTGBEeUe9aL1u2mbllyU9V3C7L1ZVNUBiC1EdiBHJa9CvaJSgZWRLoqjf2FZazanVeZQe+GQlFQmHSZ7EP6F94qiPsdXtWLqt/xZfjIPJEPM902rIUakg6CsiJKY9jKSJxaPu20h5XIgGIp4KUC3NFK1OUUExjaoDGH1o3lUuFYbK45GIqqIyuGqsrzUReMOZEhkxAVDt9UdtTXwTDy1S4dxY4BrgPzV2pbJgHBeKCrDq4pppEQ6YhxbtrHaVn3r6Qm5FVmBUPqa/Un15qIEPnyiuHWVD7SJDa7X0b7H/ZMvUvB+3ZE8XEU3uhhDjmc2h70QMNsgZuSlxBBaEzLEAGvqAQCV4fq5JYFOuoL9vKu2kdWZ1ej3td5QthamtZlF5h2ebmz1i1sqRs55WPMDMnAanICgULgMUAYU/pOhmZlgSGWTfoC8rH+U73OacSokYHaFIQVoQ+0h/1RCDgsaKElPYeB+QZ+c7z97VP6hBfvqsAXKJQ6hjw8kcZQBgdSsiB1a5jIF24p+Va6GMK4aS0AGUhuNCIMBHb80ogfX4dKG+yj2tc0vU4QNcYGNKmI3S7IIpmOoCsPO2E4qMwU4eoGIY0+M+ExHIr/IGWymUwKn0sL0p9paKHs5Wc5Jh2rVm3vWX15rpwS9Zpz/Iwh0rJieFhsEKxLCVUsRzWJieGlztkYl5nfBDB8POEU3H03dkHdBTTBwzulZcta2O4Y10QSxyw229arbXj/JHPVqxUmLdKackxU1hQ2oryFA0+5kGkg2DgfbkR8WbBtdLpUW2kNoEyF5fktvdVDPe2PiJdAsO+B1VftxSsfScDOmVS4iF4eRQYTDHpIhy+Pgy4EIFUooXyQMKhY5obQjxnas5jZYjv56T1oKMBuqHZ4ydhAGm8PkleY8AZUvcDvSPNjgvny8gF6WwPgxcTTj0PhCMKSE5jE++HMeDPI5LEjEthHwbSowzFmN0960kQ9uuXxYRr0rRixELX8qW+lUtnrVK8TeVgEcT8EREEZpVkfRgbaMSh81QbxPxVIMMal40kaAhOGJgQRCRcIdUNt6zf3xZekIu+bfU9WZOGhLsnS5mr2mx12WaEVpZwyJ2yTBiPQIJqFMbvgOrnp9cVngTRJ9CR9GMIUl/pbxRyNMBTge6EH6NQhLL0e0ShaYgEeOFpAvTH1fD+JEjSQUDaD4S5DgykjgDuebnCYSyFxXK9YaZAaDz+R/R6DuOLDaA0USDR+JFO8nO3Ebo8ZDJ4wwsPCIVcOLc4YwChcJFRAQhEPtMWuQ1xTV3CIPeotW+1/S1rNhs+VsASVGelkatysfLSwnm5K/lFKuB5OHD0OgR1zPMOjoSl65E+9xp7+xEaji4oSf1VoRBOXqDHRcvLisjFslbNBu2atRo71qzvyJI03ILOzS9aobIgmZBw5GetN6hIKOROM3FAoT4bdjQ4TdCcKNwhbyhsEi8dhhgz09JA2zM5bgZUUhBNPxqTENI6gwtCjKPBGTKBSPgNgdK7yyWgMUnNVbohJoLiRXojRJqOIxjEQYnAzNFdxI3zO4nATIJhWUpHbPIhZLKFhGZmufxUcZtWyO7pfMu6zWtW27lojdquM+dMZVna95Q07wkx16rylFAMcI+UNvD+EMjPjYKQY7BT3qs6QpfH8CTqXf1Bc5JBbG9FCSH6DdEDeF0IUwAPUmK4xxHt2V3JyYZZ/art7W1YXcKSK85YcWbJSjOnLF85IUFDOGQ55ENRvjed8g1tKFS2Lr4iPtwTOoSyuQcGwze8eR0MeSf+IhTDy7GdkgJl4OUncUcMxc/x0h8JSkvqMXeHEMsDjmTsaTR4PMUJ/6PyUuFTQXE9ttNMhySKYUp6f4qriNEFcZH2vJSevDRW6qsHQYBpyQy+Ur9rWVw0/JeBrENO1kGu0d7uRdveXlfMns3MaCA7e0oWYsmsIMQVcZdIkG6TI+hLiku1PTTFq3AMNR0lvi6bYeJDdwg/mJWAaWUhy1Z6qosEor6/ba1Wwxr1hpokawsLSza7uCLBVh06M0q7pCFHzjry7pCxnsYwuUFTYxRZzF5ZWLJetmv9nCy4rnEtc4qTtZpcMA30fZLgaBgJRYBbT7RfMxDre8urA8SF8LovndZ1XBM0QCjUje7iKi7RmdBk3VOhzyAW3Jd2vWYbO1esIbepKPdoduGEVSqnNTyQdRiIgbwUT+wMzzOAoOUxFX9UAAqxTVhZuVcanA9ae9aSC1iX5eg1961aytvMgixd9S7FuU31yVqDsY3kREMSyw9qwl3L9eakNGatm+s4ZrpVk3xYEe2T3VQbVA49zZ8Mt4TiNQTXv+ooBMEf4voAF+5nZom7chH8aXCAQb+peBooKygjlwlh6Oxu2eb2jtFtc9Kki6tn5CrNKUIySPYZIxYJIlKB9YAgYH90ALpohyAYzGIJGXP0ZT2ae7a3cdX2dzatXMjZwuJtlp09KwtYsq4aAwZnrJFjcqFXs0w/r3YqWT/bE6rmshpMhmmUpnaLliKxmseAW0LxGkJoaKa+GXhKcyfvCPhUKy6UrrIwtQRlIMuQyzY0blEgk/atDdtaf0JuRt0KhWVbXrlDfvdpMUpV8RUpp9SoR184R15YBRLDDEEcvqJCkeIy9ECEoWC4UPBgMrEcrbr19rZte3PdWp2OzczP28IJjZFmytbtLFi3t+BtI2dT7k94JuJKBZvI+in9oVAymY5iyAKnlM00uCUUrynAAmKALJ0v6OMrwyT6QTA0NsnzfAC+6DUsX9T4QZ3d26nb5uYFq9Vflq+9aktLcifKGkwPZCHoPZiMPnc/nYewCB3WQnkZY4sQJfx8hSDhMj+IjuTSSXKymI5GMAainyOmFHextmcbmy9brblu80uzNr84a9n8HariOW8md0mlEAbZfTVVUQKBEsBCoGgQkliCl3Is+KPkZP7xh8icrsn7iIcPGnkvgs5lPMybEnkJST4Hk0goapu2u3HN9nZ2bXH5jC2dPC9tqQEo8/lkQIb0YshYALtxI8UOkQO/wuBkiCCOkaR47pYNF9CfnAsZOPBQb3bVVk6dtpnFou3tX5a1fFZWZEvxem4c3cDI9PSzEiBVlMmIrAtFS20qhSILwTjtRuCWULxWoA7EpLtRgGkx9zBIgkBWNwdoR9wr3KD6lu1sXLaeXInFuZMaPzwob0gDTqYpmf4tKDOMAQKEhcCR9gCeECuOPyXW4Y8AeB2TekaIpHGEcp9gwOTFp+vxoWJlQQrhrFVKc9apt6Qnrpk1rnp+rCckAx+rDVy0ghJQgczodRUQ2/e4cEsoXiNwnlBnhf4JA26sQ9DpQJgb6nU1oO4JB01rYCW21qxcLNjyGblMGfnUuExoUM9QliRb8+NAQoFtGLpMjCUiNySHP4rg/MuJaGRJB4+RnbU1kPblJ6Dqmyut2urq7TZTXHDL2d56wdsJoWAZ/DAnn16lwliIYIHdPb0B8MdNPHxiGTZzxCxYmwTM6fLADuCBE+fNRsNqtVpYVKj7kyDOCfPgjQdXzWbT07LyNP0MYhz4E+BkeQVp9/f3Q1qFh8aYDpRDPesql3qHh2/TwdeFKS3l1et1P/IUnjCnfSL5rDvKWKfVkRtQswbl+pqheFf+r+pQzMMZzDRt2dUrl2x2ZsZmzzDzgvZPgTei61cVy5E2QRAkFCF4BFgetyJHgz9ATOoQz2M4GCGGAzx9T8eLx/RT+ZhfciXkHDy6obwp9IMsuzzDnWCmqgsphOI5m1u4z0rFsnjmgvTGFY+fU/2c70njUlLQYDwn/qCf9nzx5iQgGbRy5NkTwxknkUEeT2rTFR8HIX5oxAPnyfVESMX1cx7N+1GNRdgUGJYT08b0ujdp7ZCDFzkqlw28Qp1T9yYApYTkSZmOIb2fk8kk0G3KhEx/MUsDYmcT/dCp/jCPkH7DdrfXfD3VwiLLrbEMYnbvtQQd0KpcMMrGQgRlMQTIcWFAWaksFXRUHaOSAXyVAIOb5ByMdSWcI/nEcM4Jj8d0XvFasXR1EN2FdBzRw1m84hhjurD7pITaonDa5ueWlG9NSk1C0Wur1h21n8qFTqUID0ALulRaXx5CTuPBy6QuQsAthROfy/kS6mlLvz0+J0pPFqT1l4tyYfk119OAdN45njZV7jHSurZOAKZhmXtYNj49bQQW8uVyYe0/5YY9YZObE8CZQ3++vB6adfRy+ddxWhZUmZd08vmyFYS8M+AP52gK2Xl/Hajfs357z7a2rtrc3KJll04oEQNQRaJrqL4XxOwSbhIP69Ck+N86gABxPB5aEoskp0T1hM7IzGhQMGr3eI8wrD5xYrjXU+BtIIzXxAVi33OPtP5KQEzvf5G4ERIWkHYI54TzmwbpkYStcadWLb942vLlgryEq9ZtX1bVmjKaLJgkJ/1BG30kF6yU43nGiGfGgZcs2vUDjwVtQCfzbgDHSUDFEaDYKBw97THfpfCluUrj+ajcgtLyHgXvRMS1U5PAO1Z/cRHdjaRVsmHnkTa8DyFhTuoDToNhWyktAklaBDUsuZ+SXrf9xaTCjNKXJVRihGzHLb63HD0vM1LbXxdjaXC9JJchJ4b3WRmIj1OuMDFlKZUYwXvU0woBbvnxsJYMN2Lb018RY929bXRNHYkDOLMkENPFc9qBNAgA8dLtczB96LdwDJQEHAkHFRidB/BQRRzWgpW9lUUrVxes061Zu3FREVpWkGWAt/pqJ4wGhpW2rqid81OeUTgdqoO3gdCpdgajcaQ5Y0XGQpKY9OEyNnDC7CF4LMR0SKSnpQOE5DFqivFAxZNaeLqYNgrbcYBY1NnTCmPYcVJ7WuorTYQgeJnHTawKEj+fKyutOhGzn8H8K08q7wp7YHu76+r0omXmJRQ+Nclgk1hoZTC0lPvREYFIh2O8QTqsSBjDYRXSFgCIDB3vA9yLYRHS4wgsAdfEwzJwjOk5BzmP14EOtZejhNCP6b8U6YcQkCEImoNsGHhXzrhCbDUuizCNwdhoTRF4C5e4PM/Mq82KEhbePpkMsZQAWa9I0igRJ4HHiX68nyeN5hUf9c84cF9a6EfsYvgf5jctg7hCFfR0hHHtvv2UxLod4qosriPNunZff2r6hG5Pn/wl1+QbMh0PVDcCi954Y82sJddJaZ0X1aNisGZz1+bm5RbxqqYGjOH9gjEdGzknja5XQS7gEAmWBCMor4OKLzJwxKBgPBOHGA6kLUraM8AyxLRpcEXrcUgDch9MX8dzBCP+pUMBGk58SnSyG8halE5ZpTyjIcWGJLSu9pMQywWVCArlEvoeV7JcatewY8l4SI9F6cts7NQI6fNxADOEk8jcI6Ei7LhAPpHJj1MuMCxHQEfEazB22DRI56GTcD2q1XhI8vfBtQtBSBHzm5pDLJKkdGLShd753GNBYEMdrE4tV9TxYuRMrhIe8HksZqAITwTEE4JK7ANqJAv0zHRAIBIkYoo86I2an3ZjbBDP4z2A6xgP8Ndpk3EER2bhgGgREIKYV4R2m4G+To5E6IqoayB1rjMB+wfsqg2a/tzBN0XIrkgYK2rLhg3avFeicKUTS2tMwfY5TGsrE0gd8fyREGkN4qhju9VVUBKYdPpxIDbeMMMbSHsYyIPUnmcImggeX3HTNHCOS4SQTgTi6xDT+3UqbBKE+GpjBEInPh5TGOk9LOZ5BPjKWPYy0u2OsEfHFbZdVxbaq5ZjJlx93bj6Obu29Sk7e/udVqi+TWGnxQjEkoikq+ZSFOjgGG+FjiU+QpHQwk2dcolFrNcbtr29bXt7u+76oOFvu+02W1pa1OC1bi+//LLt7Gzb8vKyws9ZtVqxCxcv+rvle/t7Hv/kyZO2ublpGxsbdtddd9npU6e9bpcvX7GXXn7JhePuu++2leWlQIPAST4M6bCE3MPQy0gYbF+3q6pp1crIa6trrY1PWW3nd21h+Rsst/gnrJvvW6OIWNCYbSs15ywvKeI19h6bZo0B+o9+pO8gJ/eRj370Z6LJdBxHWYSEgSLEdMcFYh6OP8zjGPkcVd5RYeMARr4uptJ6GySX48DvUw7/SXkJv3m+k4B2jSUM8uo0pIBxRb9qOfZ04oYG0vubX7JW70VbPn3SBcIyM9J8TH9G+xBbPynZsyTngCEgwYRWV7xCtrjp6eTy5av2O5/+tK1tbMk45e2FF162drevgf2KPfHkU/bCSy9btzew5778orRxUeObGcX/XXvx5QuW1fXzCn/6medU55zt7td0/qzdefc9trNXs49/4pMef2d33+Odue28fP9k8iYh6QAcvj4CfOym2vdlKWHtImlkPvOdS9ZvPi9DeNbylTusXWhbJ9vAUbRCr6wUYdsjfw3lSIkMcHiSRAIy0rZBY45P7KD4x2XAG4M/jDz/aAEtG1qYPZY6Mv05IfPp4T4avyAGwq3y+XVmnADdv751CBFGjgdj2BGxKYK1hpIB30qGLXLe8MY32te+811i3HPWbLXtS889by9duGhveuDN9k3v+e/sLW99yJ565ku2LuGpybo88Oa32LseecRWTpxUXnl76OG32yNf/w2617R6o2WXr1yzre1dWz15yk7Icjz9pWclhMGeBUgqepjE68kdAfc0/mJ/KU7dNpINM2u0keoCLUzhDZjNk00hXrbHFK3LTmiaY4JbDX6GoNMD11MgaugDmNybBEeV4cJ4jKJdcJP0sUwgHT4JPF5ynqY3HT4OuD8sG4xlg1PLJn/9ue+P6kr8/DR0M1YqzlmvW2BTDMXRfd+Zz1PEQuNJCkeH0ckwwM8gL3n4zpXcmzCdWilnpckL1tBYJjz3YTDNeMFsYWFecdhQoedP1sslNjszW5VbxTX5FuQmsa8S46wrVy7LHWvZ2rVr1mo27d577lb+LPVO3OMUTQ7DSxHl46I0ilie2HPUNWmJ7q3mCkNjiX7HuoOChILnF/xjI4SSxKwPJsiH/CeD9wv9n/Sht/UQlEHs6EmQZkaHJEPHJGgcTLo/PTVFjY8z6Z6Dbo+Nk9A/Cfz+mDiT7gF+Rx3sdWQinV4U0wcvNgGFFyQUg17JmnV1fAh0oYBPhkDTD1E/3hcRgXgcAUanoGI55hGIPNOiTHQkYbpGAEoSFGYCmDS6dPGChCBjs9WqipB10f1A7sDazYaEt+NpOFYrZVuUEN1+/ry99S0P2tsffpt9y3u+WfnJ3Skk9KTr4EDFVE9HMfEBRHkEpM0QC1qNeTR/jdX2rMVGbrx/ni+7/uA9ijxCgjzxLgVpFX5dsYcg9F1yITgoFILrpHkaKMNphY4DiJnGTJNgmP4VgqdPzm8USHdDZYupxIJJZyMQ+Lu0NWGemxCurYgR56y+L8Zgmooe0q0YJcY8iOSTxjSEGEx/sytlT1q7p8E1Gr7IAzrdzkmoiro+IQtwTgPup5980n71Vz5mF156yd5w//2yXrJcDMiVdRCqIEBBuHBt5BBKSO668w7rtFv26U99yj7+W79pX3j089bSgJhqOBlAPPoJNwLSNriNAeM1GPoIDEJB/IZM2aaEomn93IJ0CbsMKriXtVyn6IuGfWmLGo0Fgdc1ySFwBZ+K4xsXHMc6pMHjpxnqEHMdJ7/DDOUpboCO69LfSB0O0QvcSPpXRrvSiDsomTfBwvb5uEZyZdRzeSGajs6+dunT1mrv2/l7HzYrnRXPzIZCgnGJuR2AWPr1VBATHD0cbcj/393ds5mZqs3OVm1b4wCmWhcWFoxvYK+vr/tiS7YjPXXqlD+5X1tb00B8yQWEGayNzU2fncrLl79w8bKsxILnx9jjySeesIqsy+rKip0+fdKFgqf2Q/BzqMEaRuZPA+oCESAiIgftGmqT0YCZpXWznWft6uWrli/N2PzJt9qgdD54W8ool6nrpKnxxKx1MsUktUvKscDfvKOT0x19+CHMWIjMFY8CmGsagx1mqgiuOScn9bwjvTGfWGa8NwkoIyziu55mip6UOt4/UDbo6Wn6SalJEzqmz35GnMhNoLNyyitPh/IMortjzd2n7eLlZ+387fdYceUe8c4qhUhFj+g7fHQ6wmlyvD6GP1rRH/3rliN5FhEfwgFs0zMMzypcmcV8me5GaLAU/uxCfzy4i8DevpVyxbcVZatKErY0gC+XdB7JADxD2iIKRLgZfukH+C/OpoVwmjuHQLCCeHDFumuftysbHVs4eZ9VF++xblYCKrJ95pVnFJk9CcSMtU2WV5ICjgP6D4h9mpQq0tRiVDTMwR8DlMazIG2S/rgrXSEhNrQzGGlJFwMnQGDdkI4yIwKxchMhieI0q4MDzUm+09LD/Po7UDb0+71h1hOAtDCkioRkH1OQLXkQoB4Vw5Zn5BIoXq2+LUL3FI7m072QKMH4O4J4PQpPzpIDA2l3dvxBm1wRWQDGFszR+z3qoLjQxCI64rBRsa88AFRXXCbCfQyCQCiM+CCDaj6gz0bZLXYLV/sgEMP0Qwj1IDTcEU3OioxzENCwDMQBekDS9N3/k+JoWqNVs342b8XqShhoC5zvHaGG/gnLTCKzjwNih2M4U1tAkDywdsdnDHwD3wkQtSrM4A881Inx3QR2efYWmwAQ6Oud1CEU3KjXbXdvz801MDk1zMwgMCxV4H2G2v6+l0++09JSnsdT2q5ordX2wy7eJBRG4RoH3lZK31YatCJHOtyZyus9iQJ1tzqx2+3b/l7d9nfrznDum4vBcKX6aMGSmKLMu8jLtrZ5yZpbF5SUnbfRkCyRDitKERDfS1f0APxGPAAxILlJ3/mmytDq9xKaU+fD1b8KY/VzVDbxeVYa0tecR6tTloBEjyNsEhcJOCwQWNgoCFidEW1EdSQi03Ednlz3rLO1ZTv7NZtbPKEx9rJ4guc8ckUpxsmRtVM8+IKxztT3ZUQ3CnLIWwRAvC/hLrDy08f340GdkO4IABNaLIbt7A832lFAevxSovJtCBowap2Y5ziIZVMOaYbfpqBiU5jaISkAF4At+MnDaZ5WsABFQEQaLqySZf1P6PhgMSZnAnm9Lto2b3NzVauWS/6UmGcE9Gi2orZHE+ZKduLUOVtYXLDNrWvyqHiZBuGlc7EYLA1RB1I0wnGo3kkLpfArDVAEjdDPMbYTAhEsBOcOoYn9EQQYoisWi5jyqsvujsZDNSvNLFtlblW3i96uPk07zFb5seJbCqdYQIEm4WNgyFP649y/ZEShfKMCiNI9ETwP/SQCEDN1bSmM15OAlCGbESu5hghZjgXyhqmIF9/086fUiVBMpD8U6HHJx+nUuQsFd8grOR8HniaVj8cXevgkcJN+kLY+7oBUIS5JllHioGXtRs2KaOeCBsMbT9r6tas2P3PaVs/ep+Qz4YWjnqwVzy/yYfv8sC4q0B2p95ISOgOO4rwiuImkI4EY0YF1UAsOQ7xZnbklIsgIN0BnS1mIXM1M1mH7wmWr97ds6baqVebvtZadZFWrj8uy/bKnGeQ19sntqX3zEiy1ZcIfxwF4MCwI1AXMFHEqKH8vhLQQI/8TzUvhU5kjAWJBAGn4cIqXewy6KddpTgSA9yLQ3OQ1tWzyV3q0OgNjvtrkg0ny87ApBBBHf3zthnKhnUyPXWcvhyO9z5eQZJ3F2L1+1hpN9icaiOerEgi+3zBrM7MnbW5+Vfdadu3Sy2IQWQu2rxDJxZLcLhU/kIbsamCrM68eMLYWXv9XiDcN6TYK7QYMs9Zt3B9vUrd8kgaeV/hyGLmOzR3b21xzd3dm7oSsxDmNKVgLxfozIRkoPY+Ausqoy8bM6ttiTi7dMein75239BeEgoFQQvNxOxggZogf0oROn5we+iIBXKDdfTCk41SmFDjhKgP3KxAAhpPg1x8PAq1hgE9qmH1qaqc7nMa6+rJjL386OM3o9Rxz6G2NwWQZWjpXl+YLVWurHdqyAo2GxmlNPjSybMvL5+QCVG1na8euXr5onT0NvttiElmZbqepOg/8gRu89NUBRwsEFgKhYJnGgP1le7u6YCylY2PNtq++aPX9Hd+dfGH1nNyjE2orBtgIBTmpP2R1WWzZBjU+4U08luWzy8c0iLTQp8MpWcCZktMYYwxExvR0+uc6JnUGcSLHQ7gbpDLOPKG50cCRlnEA63rZoTQv20+n0JyGWEYQg5CTn99AHiQa0gDSJn41HvosYuOxckaD7F5bVqqqMUbBNjfrduHSi9YZrFltr2mtvVkZg56VS5tWyDasub9vO9vb/gxgefWE3f+GB+y+B94sLcr4j2UYuAcyH6l3LoZV8boKvU9upIKvJkBDcM+DULheD5BqNJbRw868Y4LSsG7DOrVt21m/ah0EYvaMza7cbTa35EzfxZjIIlTYQK3XlFCUranrtpqhlx3YjNzrkhQNuwP28AjGQOCDACjK63YIDAw6ufG4622dRHMm079/W0J/kVnGQsKU3lF+SuLJZQ5BUQ8IhCDS7IwZ8x4H3E+lA4b1Td2bBMN0NECMTtCUpDBuTy5QJlvTAD9j21sd++IXnrPf+dTn7elnn7Cd2guyHH0r9HkQJa3XfslK+aYV5Wp12nWlVyHyL/70e77FPvh9/73Nzi9JMErWQdiK8qcPvYgUyIEw8OZsSajxK4NABwzPWaAj3U3DZmP2zZ8xCNs7Vt9bl4W8pqFWy5Zn56y8eJdZ6YzizFpDzB+7q9xXm0oo+mqLprAlf0mOl813u1aSazlg1m+KUKR5yt+nCFf+6x0+ZJJxoDgkikzhTCKMr3ZOYkzuDZlK5cTBORl6+NSik7T8KR2UpPObCF42fEU8xhbBZfN8sFiETsljVH6MO6LBU05IjzXk01fF0sBqtT37d//2P9gv/uJ/sL39jt17/z122/lFq1Zm7eTS/e4StVvXJDxdK0uAenKV2DmQ9KdOr9h9999t1dmynTh9VsYCN6IoAeElJKyHkDrpDMRD52qSWIRajQevY3IOxFo6D1x3loIkkTebbhx1L1CIG4lbyAdotm1z45Lt72+p/llbmFu1mQUJQ3FZ0coSL43DisnSDmVclKXIyvL2ZDnbEhbeP2F1bAWh6HXdSrD8fhJ4/6nNHOP3KZzASPSEjiVxHOR6wyfM4AwCcj9EPRp03yHGTa4jQRPTAqn8PY2OXHs+wjD4HQ8hXig+PoUe0uA//ns0eLRQ/oG4Sh8G76EO44DxE9PHzWbdfumXfsl+4Rf+md1xx532He//Tl+Svbyy6O2ay2o8gdX1rBizqL19DbaQfWjrV8U0L2jscU1CVLKl5RWpS77lwJeK5oSzipd3R8TfWdaRtxHCuqFQ18MQVEKE0K4RuMPDxYMxQqzRMTkTjX7uxAvdPc655qZr6B3uhDlXQpUrT6oHqpesQ2t/zXb2NjTeqvtSkaWlFctUzqr0FeWDwNNnUmhDJtcVba+jL53x3AMf+TMd+hZaJvQLY2r3chSHPhq6T8POhEbPcgJ4ieEU8FPSi4ApKUdxBZEZh3Ao36MAOofp/Bgq4+mOU/4R6ZN/P5+Ug8dJ1zP+JPWZBsyykeTxxx63v/bX/qqdOXvW/v7f//t2/vx5p4sHiuR0YAqRsoRcYSl8A2LYvbOnscY1q+1uaMBd95f4FxYkVFW5VCUEo+Lvd/czJcsWKs6QAFX2/Mg/RbZXJYFwzi9lh3MWDaaiOyS3hJEZdaprzuDZdHzmI7xKLpcSAITbP9qiwXRzz9rNmu3t1qxR11hLlm9ufiW4hyX2vKpIqCrDMq6DQGRSQIBh+wmu47MjwOMrGj3rQhGTT08agOZxtvAWCEzpBZPBGLqPAo+aEE/60Pm6npBHIN5LD2USxp/TgTINYeNgmD7JI4Z5uCDmOQ4iaQfKj+lTeR4FpOXzyv/oH/0j+7f/5t/YR3/6p+1bv/Vb/X0GdipMPzglbsyfXzYL7mel7XN5jTdylulIgJRXj48r7l+yeu2yIm5bpVIUM83JkzolKWLNlFyOvoQEoRgp1wAUkq5QAkOGSABZDBVO8NB9v45Cp3P4njDOiR6+EiDLwJJcz4Mn09saSK+r3hdsv7bjixSLordaPm8zM+csWzoZ8lUyXKF+gVE1GU8B8ueHPuFUx+l9eoif0wPtdCdPAzcziuev8gnC3PsxqKZsfgTE9rKElA3GiowDj5O6n6aZ0GFljoLkJnGhIZYXrgXkNaVs4HD5lEzQxLIFTD2zNOQHf/AHbWdn1/7F//MvfHUpT9a7shLukiq/SEs6Pz5I0s3x8UcJRDdvuX7eZAN0R7FkNfrNNWtIMJqNTVmOmhVlHeZmli1fkVDk5E4VJRgg/UU9yByiGYBOqLMDcaPnFaOmkxw4d5EIYUJqkcEyDGqiE5Tv325IiHeTLS1bsgxFq84sWlm0FisSZD5a2deYAQ9L2bB4eBCXwB4BofgRY8dYzhFp2sYA8Rhf0pf0gX9Hmxuxw72TpzWSID49ZqBMGjR0eNd1lNdREO95CalyAkvr/rBKR0MsN9KYHiATMjG1yuZ+YD4ugyC7UHBPOKnu6Xp5ecQlH/1NLVtAuVevXrUPfehD7jL9o3/4D212btbY7cLXDCU0ADGvSE+fT1dlm9ZVfXNyJcrZStgXTZ4UmtiXDXX3fE6/hXDUt6zf3ffVoRrGWK960gazZ61UrkpgypbxVQG0A5MjCAZIJoSFfnQiEkLiKcF+Sz9iJZ3Rhqlj/L4EHM2CPGGmL2FoM928pvGUzlXmQEyfGSxYpXzWZmdlFSoLIkOZ+p40npv1BkU/0gT+ofphq4yBSOANgguF2pUMmCzKdNxSJExBrjAGTDMFiO/MqXOWiJCpL6ZSWJp5DgP3nKGSMtMSOi0t4HFDK7lA+EfxFc7TS55zhMqNAc861I/BlXeY8okMGQfLE4F4YdrD84HmEDyZboCn588996x94AMfsG9///vtJ/7WT/j6HBZisoaLktO5RFo8XEzBF4+GMVRNttrMiYH581jQ4Mur5Z50dqzX3LBWa0tCt2utjtpKzFjko/KyTPlCWCLCE3X/rnZerhvPPVyxJQLjU7zKl/OkiFAGNIgAX5yEOtd5l3IlDNL8bg34uLysIsvIOzpv99vOJ4WCxguzy3KTllQMgqBxQ56vMalMZgUlxLiJXdWTnkQFMBKDknEQ2x7y4AsnEzwUPg5cKFQH5wX1p88+wUgRAV4umQTDwihI5/jJuAbMrExbFEha7hMDhsZtcIESMfjUk9ICsWwXCJVJHlgoVpuy9GKyULjYeyNQbnBZMr64zwUloW0ccI/8fZ/VnsqVEFLfKBjTAGF+6umn3VKAP/IjPxIEUsAS7jbjhKPKhy62x+lCY1vCIabPakAqP5vdOAa+xoev+MBcotMryUBWg9jBjjhr2/rS0iws7HRlceTf04yk5aP2IHUJA/ycC69bElwr6gbm2U8JUtSGtLHaPlqDrBiqK8FmSbovaETZwGQqg/htK1q3ekLj/xOyDIuqLLNjGkCzRy6Z0mUSTpbL88nKnhLy9VM5mxJk1VNmEMuoCtEa1wM06RDuSlnqj/5B6dFf6Y3bjgLSRYVIX2aajZbqEtadg7qjgQ6b9o4BCEiIgBlxQVjC7VpA2qagQeMkJqFBveOFlMfyXpZQw1ystPW0Y+oORKan0nQwy4JJg/YrqvIIyVhIaAcQ5LjnUYlyxRTOUGirMQDdPTFUq93yIyuLY4PHDplEO2udPve5R+0Hvv/77fv+yl+xH/qhH/LFjWhTFFFaoMkmUArZ0pRinkGTzwDUxLA9K8+onYsDuVPqN/kyWb4AxLMK9nNR6vA1Hwk9T4bxsxq7Zvsa3KLVxYX0YFhejTZvujb3TwNwH1dlWA9iBq0tttEvKiXc9J33EiILYmqmuBGoos59FbE/cVebsTW+xjVljXF4n9ozw2vHXfLPEakE2lZCMeAZi9qT63a3afXmnqLkbL4qq5KUOwloK9oRnuJVBvijXKk4PeOAfnVBDxfSJ832AEYiI193rkCWco8F6hB+nIFcE8DYSgtju9ZVHuOA+NwPDNZ15qRsGItpxUlpAeLSKdCApicPaIapKNsFexzQ+MkpS7YRKiwUrouPjRQ+qXzKjev0I80oAheoYwBC8fnPf8GF4oMf/KD9sCzFJAWSBt4oy7TDQB2Xv1AWzUXm/yUUMLH6InQr9EvbhdGpa2u3HC21e4vpThYzKgMUJ+6Y3JqBBsIsO+npvK/zPtZIAtL37ft5yUiWpS0Bw1VzN5U6o/ywJmzpiZUuqzjCccc0XtB9NZEUDxZdBPTDFppqAqULPIQN8alZH0TjRrNyVoLNuiXVAaZud1rUxmZK7Kw+BrxTvff8iNZHaXZ7wQvhpSe8iHGAcueFJHKAD4azTzArqB9VbLypiUDc2KEwZ2SSOBc/FigjMp7O4xSqh0DQBKYEolD5ucqkXHKImyVzPRa8KKUXjcRDgGgE6AamjSm4Q/mkIyvqT32h29tuCtyMUMDYzGh2Ogi92rkgmvVP73nJujlgValEA/Hmew1BMGTFSIvcwHtJ9YZf//FxCje41tHHCVwLuY/lALn0FhAyxnDkGvp1lICErfBVuu5hNRh60Swc+WaEv91HJRQ9LEIN+ZENzRD6Ui6kZ43Gx0ujLhm3qOMgtj25BZoEZC+6uRUfzE0CyiYOvCCeCAlgDjrouJ0UChXB+nMNIEmMDDINSOfmSnFhZvfLE8b0WkwBSgCdKZWW9OQ1USAc0E6ptDSAkPpPLzWSpvomZQ7re5zENwl4RV0p0V4pbz0shJqLtQhd+JXyxTj+qVydy54JpdlNlpAj92GynBSBJKMvl8V3zcPSS8sP2NV8UFKfSNvzcZT+vArSALjPMw52PhfyJSFbESpsoHHBgDgaG/QrkiOl78li+HbfZMw/TAaKlqxQrl6/qLFnvmG9nCyT6OjRZ4orJe1j9H5PCpXxEf044BMFfd9lBB6ZBM7D4Wz4S7eEPkZAQ/hYcD4mXYjHoCAwqd8Lx+MAMUP8oF3587QKOxZAqJcdyh2lm1yByMBettArk1Ta85kISTwwSQtMTxdB8ZQo1DbkgyD68vE/ZMC16LHrHZo5Ei7glOXjWTFflkGpaGH8kWNgzkM+hEVxYMJ2QS6jkGM7r7GRfLKW0olFrY3QiYFYN9RVe/ryECUEe1LdhHe4L9fL0c8RTo1edN0WA7My1Xfpk9D5B2mgCYFIxjYMvsPGrnmdC6Gf6iBLVAZAWnty37tyl/rSAn5jcv94PvAAJwlfBJyWMgGljelJ50okgjM3N6cAMbAsgDMUmXAJIR46AZQOH84tks5hqPiucXzOMQmcRh0pJ2KEqbTrtpfrNAdavfG45XRNLVxZKI7+Y1rPy29NSXuTQDFyk0N9k/L5cHouV7N8VoNRqwkRip4LRVZCBLobpbhYiXa2ay1Q6ZrZjgtFJy+HRXzKjv8dNQ27ejsqEU+SHXXNcuym4oEtYTumQTiEg4IwL4UlgehpLBLGKBqfaJyiIbPo4JMDMgcSiCAU8BD9waph3qxr6ggPKEz3mG2TSQkVT9p4HBy+G66Vkf/r5ziQ9J/zoV+DdHjs9CnghSbxA6B109fjwWOMizY9eYAhrQGoCOfHKR8Y0s+B8whT0oe7QQsBnh4BP2a5NwNYgoK0b0EauSDNXpB7UZDvwUdJ8r2K5aRZc70ZMVNFJMoVUtf6d6TF/F0xHPtLleXilCUBZXF9pcMq0r5VxLzVfsNm+rs6blllsG7lwTUrDa6ojMvCS1bsX7Bq5wWbaz1vs60XbKb9klXbF5X+ivCa8tu0Um/fir2GFTS4hS42jc4NihoyV0TvrGgTfd2CwvuWl+Dm5V7JEUzG2GpDCS/ukutKyYJzJpIjwQ6zAhOAaKFL6BDng4gHO/h4kGnHVbIRpnSwa1Zh1OrOkBDATdJy32NOgFScA4ys8Knlq1HDfPqorCgU09I6JGmg2LPwoEDNAVrGwDCu/3guykN/x6AhDrS/XwPtD93oQDsjjZqpi08wF7IAfLmHj5fEadhQKR+7gn2pWz64HrHQKVuhy6wiEeXE8+SZ2aZeXdjQuKCutmVNEjuUCHkIqDGJv0cuRs+DpOXBXpbnOhI8jUVYcOj7WOUquiXGL8xozM0zCI0zFDfjDwKTNlFynwxgnCGLQov1mWomW+JIKGRnQhtTCYlTVhjqxATAGKBKTltSTgTlwy3nzkO3xgL92G10BwwYeUrrT5fVvgzEMGF5H8FRHD6mhm6M4hWWFQZBCAyRFDsqOCQ7EkJ8P/H4Q4J1HZopZnI0xPRDBk7SAdPSRhiWkyoXmJaeOSf+3LzTeAlD40/TbkV1MJua4X5QArv+ZdWj+OV0bFYuhgvFD4TZpx/54R/2gaALFHECGYJIRzg6tS4Mco3UB2GqtGNZ+kmDUJ/1kZ+TNZZOsISCzORa5cWA/uELMTsfNmkJu20b+LMJHuKBTC/j7nSUD8ICLYGe0MaBqJzUN+3DFfQ4rcJ43vN0DGyZNAkTEf6swickJIxVDdI58u6HT+PmrCO6GWxjFRiU+7MVaIDvsCASwywCJ3OCYPNwj8jxSIxAEwIjZekhEEYH0AYhJNwgfDykFWOmX+sO+M5AAGXPgEy+Zl6RCnG+TxHxHZvMcYvYohN8NCR5jwVPNy6xYFp6pvVCnMMRaR7ac3wG3jaqS4iRjhfSEhIb5yiA13B6M0zl0nEhQ6trMNmRpMzK+S6qfzo5BCFjJaQDpxxG1v1sMWuf+8IXZSn+B7cUI6FgUBrL9kwTBKCXmwycicOpmCffcj+cKUwWRTCAzWpgmuuXLNsrShhlCXits7trneaaDWqXJB/XfPzGNKfnmVUa1/oFK5TKyjNod0eFcV8cHpAZKndjRIRPFSl/1jhhUVRWv1VzC9Pv8WBTlkbHgeI59bJo5ZyEorBsxjqn2VX5bovis4J1VHG1nurfVe5MEkg4VMesGhsBF8ep7bpSNHw8HwUgmiJ6Gwl9KlptovRqTU/n7cVgHoWhDMNu7+PBp4hpEtEj90kyjkbzxVjqUHVQD/9VkUrDSXBVTVqxpQ4MV5PAE0yBSTlMTh8txGHeTYITxhoPLhRHRDlOep8goOm76kCsBB0ohm9KUzTVKVUJANaipQEn8lCUkDDo5RyB4i2yLwyfU3xAQsEyD+hBy4ZjaJukjqnzvjQda4J6cmMou8B6JZRqW4wkuvKyGv6eArsJdnesVdu2hrDVUJjiMSZR8f6AlPVP+YKsCltb5oU8eeaIIOAWO/ODOqdhHJNr7x+kE0RDJ6ixSVgIKGFhqUdHAtJquiXqdHu2V+cdauqpsUQh7wsTSxKMIi9HsXtJdsa6God0EQaVp2ZFBJSn6o0lVlraw5X/sF2C5Q7PXKRYaEdOXSCwbPQWCmq6UETwvmhKJvz7AWw0pXp3fE2PaeCkQRzDDXoTStB26kAUX3dKAZFxj4LjMO00ODIPJaMBjgNHpT9Oub6AU4ibyXcc1OPOoB3xEi5UUUoE94kZGmZyCnSw2g63kyYsi+Eee1RC8QPBUvywLEUcUxwUCkDXqfqwbLydbSiEQaksgsYIeXVGQeV5d5C0t23t+vNW04C405bmFtMWsgtWLp2wQnVZ3suihBABwAIk6IwOUpaOLhSBJoeEhFhEBHch/Sy5Azc6/ck1QuMPIBCaju31dmRBtq3XuGy9vXUxngbmmVmrFE9boXLOMrN3if9mfSaM4slpmC3nKswFIqIEMSySHLlN4QPzREQo4AaEQiR4PM9lLHj/KwpPtjP95mDgvC9iIIgq0MhFCQWWIkieEiiR+8pOAab5KwMj5rkeJt2LMC6ON4pgUnrmTHjgxRQlvJOVlsaVpN14boVQ5NRuCAUP13A16Ryf81f6irTNFx99VELxA/bBD8hSJANtSgx0eTGCQEuAcM4zgJ6sgbsGbXnb6qiS8lVJGjKsW2uf5eJXfLfyjAqemVu06sySiJoTIVVJ6KyEgTVtyk80sbaIcwQP/qVCToNOj2oBoqTDQ+rr0dsPVyQBn5ljsI8Fkz3Nsoq2WRPNe9au7eiU7+6pHctzVp6XgMydUcVE96DkT+uZQ3AedMYkw+SoQAbtcQAegoKFIFJ8PgNIJBSPGoyH2P/+ZHtQUy3UieywU9MRxSVDagURghZiygytQMciFBCoYbkKhNLXHmLHOUQuSirE72ShUEMpksdIx0vSO0xI32JwqDZg6ArOqj9mhG45JSxYV8YazOkTD4+GnLGuaKqyNDNCweyTD7RdKOQzq0wGqUdDoIcJTM7oC/qGo7EsvPaShOEF63Z25B51rCp/PT+bvOSfY1M1Fc4SiVxF+pqZopBj2qqG6xFwHeHgeeDM0V8AjuTLMYZ5nvqhaQnTiFSoAN6zFuP5t6/b6xKQi8J1f9eCLWoyhRUrzpy3wswdEo4FtbkSS+597RdNlCDK2YVCNwONanu1UUbuDgJBBLrS+cHNWoh1FFAEd10w6IueLEVTUvDs7r4919jyRWZ5l5aYUWBCf6Kpjs9hsjvpJjkI3ghpJjsEEEnW44C0E5IP0x5m/ljmpLRUJKQ6SENIMz19We4QY62aLCVPgu+fW7HzJWlfpaGvsKwIhWt1BfhWjirHPVD94Us/+vkoFCwd/6vqaAbalEsOEMUFpenIZXJNu2dadLysdEb+eXvL9nYvatywKW+oZzMz81aelSAUFyQ1+Ohhloc+ZNAvM6GcQP4CeDHD33AEiBGvQlx+GcwG1g9xA8ZzYuCuxHCAemGFeEbijszwljjcB+qoFh37siL1DWtsr9ne/qYP+KsLq1acXZHCYTn8rBVzy2orlab08Dz5BAHHDiAx4lnddHpkMZC7vvqDSQX22nJPcQxgrVlASFLOM3wxeFMXv/nsk/bbLz/jJrqk+2g2OpcOpVHxi9vCQrdgxTZr93XjCAhMffQ9IAhF7JbrwSsOdWPAuzRJ7vko6jB++nwMpMvmPE1rOB2XfmALHQ2m2y3bybStW8rYt9z/Vnvn6TutrEZHe5cYm+E6qN1oHlcs6bqWcvboFxCKH7APpISCyIEO4gpdGSkvTxuuCyxyaoiJGhu2X3vZ6s01MU/b5uaWrDx3QsKgAasYx6RtfaZI2Qa3DZYJlh2+iH52KIvrcBxBUuYB4BorARuSOrZR+ohAUJf0tY7UAd+S5ADBIoTpbe9peLHHTVmO7oZbjr3dq1ZrbiluwT9LUKmel3t1ThEraidmwYLVjEgd5ZepLZMrMS3j5K7kjS83lSp5yxcp+GhgDRyvAkAu55n9zmCwJ5o/Jg32X55+1L72oYfsTLbsU2M+W6BElMUZa2BCCPg6BNpcLtSzu1fsycsv2Pvvf5u95543WVntl5MiZRyGVoSJUSZ+7kg6oQYBj37x8/YD3/+DLhQ/jFAgDAiFhEP6QFHV7j2mKNGuuvJzsUFWArF/xfauvGA7+9tWnZu3xdXTlp2RQBTkg7OtDe8ihOyCMvOCyZPJzDCdfqDrwu1RWEL76IaO8XQikEE648PXQJKRawsdhU4nQfoLIsXslerZ3LDm7iUNOy77dDJu1OKZ+61YPanIqmeXF47ih288ofMqU7N9WXE+3N9TA/Q1sBtIM/jEGkONMeDjulQ/ZXYlFA0l+PXHHrNff/rz9uff8z57SG5BKQiON6TPcCRpGEDyHCM03usHUAZ1tWxdjfKZay/bbzz2GXvfuTfae+9+k1UURpPgWiEIYV48CEWwFiEHLMXnEYof+EH73g9EoaBHQ8fA/O1208pyYbNSod12w9iRHHXa379kO5c/5wJTqizZzIp8bsYOGV6+qQwFgWPsGZ0OMVGirxxIn844DYevgXSYMyyukgIZU6QEg6csPXE1tgLBgHcL+D4tjTf2NFbafd52u03rzrAH1J1WKPO5s0UllHCQneIz6eSCIcXBOxo8zAwfx5E0sChSlWeB4jhgMiBWDeHIsnMITF+UBuSVznKhaAsqYEG0z4KyVjPCqqzyjHBO5wv5nC1o8Pb6wpytqBOkq2wuV7C8GjIrPxQLgeKgM+lr3E8mJBhotxTI4jkUCR7EAUYB0owG0CEKYCKDZwAs7mPZRXtv065evWI7GnWWlu6wmbNvERFMYZ7w5RW+jFzlsYiPrqcYimN6GGGVZ+E3YJ6IzoERSRDx8L2j7h91nY5/CF1gpdlZteUaXQzKMdDKs5/gELHMPYcbxQLBkpht/l7Lr/4pq8x/jcZOe7axdtHaNblYxPEHdspb2fn4Ac+GOiaVc9cMYfB2Tzfy9eDdoIyia41Cci1CANJK/SQLhrCQn2uYFCJwPjP1OsOikLFWRce8xhbsZo2L6YvfFOZtqMZnpgmhcMFQA/pMlDA+qwAUVcBFGtWx3a6sREFjUGlVWYmMOqK1t2WXL3zZt6A/ce5+mzlxj0b8p5Vk3jqDHMNUIXMwTHuKWXQkN+830eudCuraXaoEoRP0a9E6xBiWwgNCpOshJtcuaDqm0zBmCCgrp2hYWjCQFAQitEMiwApFILJW05VqxciYJ+CV01ZZvMsWF5as1ajZ5rpcqrrGG7ynLlcJ6wqSGxbCFxBCkAI9XAwbHu6NhygMEbJN5eEaTa3YVAY8hHIgfx28I2ODQL2vj28LWaD2OkJr+VR1WY1SoMHF5Lg8NAsN5W8B0tm0WxqV0ufMJ/eLu1ksi6Dds/6kWP3Qbdne1poN2jU7sXrGZpbul3SySZhsiQ8sWdpA16BvZb1MY0EdWS7hkoCJQDpCpEOAJ3/4j9CIo79hvZTHAVSYh3scYkVRYJp0dIQWHCSsIIRInegqCAgAidleXuTKOnTmFJ0Zp7ysa8faJQlIVZ7J4r22OHvWmvWObW9dk+KQe5XdtUy+rsExy9NpQwkS39XGIkk4guihMmJJR0PaSgDZqB18poJ1OIz2AMUhWmgQyTuYVDCseeH4OkKvt/SCEA3k7RZaJ3SI/4S2HALCoD8WBbLcA+GgTYPWFCRxERhO+bZ1v1nnRAF92770stVlKU6tLNrs6imFLVh/UFGJaCfcrE7CYkqS0AY6oTzU4iErgkEE5ZdxKxKRdUm4IGBSvyFSr9Ef+VHPgxgEIMY/jLB8sA3BPmjomxxFSgrVjE6uI0+QWfkLykzCcR23fgrPn7EFjSnmZxatXtux3dolxdtWBnuK2/JJCtqafHw84Qid2NLJQgFAS4QsT2QDZsIiQCGuApl7W44o1i9sQIfxEvnrEGlzYUcMx3OKjhiN7VgI814J3eJaPye3CteqKJ4DWSLizejScxSIyaWU/AmwOrPNt922NzWOK1hFQuE7X4hNYKKsBqtZFgBKk+VY0i0Lg3VwBgP8qW5RdEmAsmIuXfIEO1iUEYbldvyFI78BR2fhKv6p7CEe/AvpWdXKcu/idYj29lRqG+cztY1/JllHBzJ1v10oGUB8WPVbMmabVP82s2ynbXn5rJXVJrXaVbmUsha2I+ZvqPX0F9g0tDMZqsl4+w+FMAl8BjDVL9m8MnDzJeKyPFdnPpxMhVHaAS/UZVcyr6CoI15XmNSb5zbsXCG77W6Ev8zju0FIKyoO7ela2xUNTK5ESY8RB3UTliOoNRkwuhaX3m4r94I4Qj7z1toF/wTvypnz8qtnQnosNOD5kR4OIn9pQw3IxTnCwAD8QisphrrSaYkowqMPlBzdYk1A/Y7wQF4Bo5t4XToh9sLTQYl7GqLKV/LqGqb1dhS9QkJJRjuy/N7zpzL4+dUVW5hbtF6r7rsgDti6n1W6JEggtj/lMRPoxd4AZOlQZi4gBF+KZQdcq99EJ9qE1YY8PkcDoBEkPCrkdYlqF2ZQ8335721pMF6tpNfVA+zFpCjqEBieBkSlyHfm2Y63p4RGg8PqbEFjaHn+2QXdlfvDhmU9DaqVTX8gnxruaF6w9t7LVp3XQJO5+Zw0pbT+cLLdCwIhio6SJgbjCz3h36MoxEUHoYq+syOzNQgaAo6b4eeiQdzFZ425VBQ/gr51ECcCf9AF2xJfaeOGEfHIZmtpIG/ocaABmRLyBYk6cp3cjTRTSw8lAKQSLNuq6iQ3Y+X5M3aidMKaGzXr1hrqF9WQF5rUD1mNQ1D0vErCMvOWu2HkNh7CRgnQGOiQu4sLoArpIrzPGzxNFzdvEZ17/TFnHEk8kvvXEwYzLOYX42d7JV2iImgcMZHQ4yVt5dpN4CnUcCz7ZlzGtymy6ii+WNTpNI233nJqa2ccuIEN3mprVs53rDw7r95lGUlVgiWBcYZSnANIGMw1ZCVh+OUK5A5b6YeeI1ChWDmdsu4K14o9lpzxldBfNiOeztkTjHPfPsjTS9gVwEtFbIDHc5aM3D5fv+XPVPSPqwcBQjZrY1JiBNwjXkSuw31+FZKqhUAnuKi8T94rEFcCkK1apSClIrPSraNUaH/iSslkNSajn0RjVm0iR033aIHx4HVwOsI15d+CGwAYJOH34bkLhuMkwM6WpGUzNiNrUdBADuEo5Gctx1d5pIp48trvNGx3t26FQtVyFawDXSTrAzOMWOUVAJYLISUPGDsMl0Oe8gXYxM6tjs6L0roqtitmi28XEi2oQlEjF4+Zt8DUHqTTICx8gZp7m1vbnntP19NaZjqgZvBYKE+5YRnYUT2ft87+pvXbNa+bW7vQIUO6MDLo90kAhbSH7+elY1LjW3AcoG1j+3rbJw3v4OeTWp8I6kyZ9EZzVzGZVRETatDcl7vB7nxsE9lo7+t+V4KzpOi4RBrDSYGzmdiwp18BIAC+lESMH7R9wjkxWyFCkHhAOldQwvQ+llI4yhTGB7iGgUjDeVeRvvzlF+zatTVvhd/7zGdte2fPHwh7UTcBkcQAKgzhrS76zo79hoTPPwKZFCJvB8uHy0oaxhbx1jgIkxshEmluCcUNAk3nY79wOVRMaTwaFLGf9+9GtDs1aeOePBhp51xVfZy3UqXoliJflEsghiwU5TY5g4qR2YZyigswDejzyJwcsAowT7PVsXqjrSPPPYIb1GrLgRa5FDms06F6uuuk+LxVh+zw5marLcH27UgH9uxzz1mtXve4r4a1UPEJIK0irDAvgWMnk315S1IwjOtEj2+UwMtwioIw8BB6mqXwdK4wEkzCb8ExgLYN7Tv69bNRj40BxZL0EI0HTHNzcovk/25v79iFly/ZU08/K3zKnn7ucXvymcdtbWPTbJZt6nGZeEUTjRzKfKUQ1vckM4fKr9Vq2wsvvGhPPPmkPfXUU3J3tpyhL1y85MgGC5/+3c/YM888p/vP2G/8xsftc5/7gtIxJWP29DPP2Gf/2+87Xrhw2S0IGxnDVO7GqCwEDyvCK7c3AzC3D+d0DM9GlF+GPWulZIwdSRqqVzeU28/6BGpLp132KW6KXoiYAKTzh6+Ot9ynmwB6SjgJDvOCoq9d2zB20fi1//Ix+7mf+1n78b/54/ZjP/Y37Pt/8Ifs+/7Kh+zH/sb/ZP/yX/9Lq69vqINxdbIaiMujvknGcoBcJzljly9dsSefeMrW1tbs6rVr9ge//we2ubFlL8gF+oxcn3q9aRvrm/brv/5fbXNz0xYWFyQgz9hLL7/slqVSqdrMzKzV9vft4x//uMd9+eULdm3tmg/aGbgGzUt5NwfUHG1PVng6fWXKrB7blxYlJHw5tjvoiPfF/DLjvUHfOmLuTrtjXdE6mCIULgyJGcWm3RKKG4Cga4HQgK7BOA2XKTgcGK6vXd22z372v4nJtuyxxx63x594TKEDe/jht9u3fMv77M9813fZO97xdjt//qxVV1eC1guK+aYh7cJQh2sShO3tbVtZXrHFxUXbkqXgGk15/vzt9ta3vtXuv/9+u/322+2ee++xBx940BOyUQPf6KvKKrDT++zcnASo7l9k2peA8LJOpVyUYIhJEQ6VNYUnp4MIH+mfUA9mTHF5QqXEyFIavrO4rGs2z4xYsI6sJpimu3jP3vdDFvr+wkm4S3Uw8DcHbooSqfOVi8l5Vw0U57GPghiXeDENW97H8yYfBUnO+a4EwHcxIhA3AvHiPc5jOo7MMAQzGcpLH31KcgLQOphvNA/b0+vHtThHEAtAP3VY0EdH6Zz6sI3NU089aR/56Iftn/+zf+ZfAP2B7/9h+7/+yT+2f/5//4L93P/6c/ZTP/VR+4kf/0n7qQ9/xP78d3+XEioPCQUrPgB28bgZcGsjehAOH1Az7ap679dqXq83vOENdvrMaQ8ri9l9vyambXXNNyf4FgcCQytcuHDBPvXpT9ulixedb2g7mNPTSlg8mqA6U7WGNDXlvhrAm3TsDsI8GvSzd5UZtLIjYuAh/QSa8+GTEmW5oXytaRJEK8GRPF4lckeA2YQoMucchDFieGR6GJvzeO1CqTh0BgxNerZjAWB4tBL3AeID6S8uMejyLwzRMCkgbhQu0DWBygIBBAEauObeJKB0HmGWRVepwPIF1UkDTWaP4ISiaG/K7UDzhG3nNXBW2H/+zx+zn/ypn9K44Ukx3ilbmF+yd7/7T9vd99xt8/Oz0qp8SyF4y3SgfzylzeBRDKdTeekJYyXc9goAYUBjF8QsxULWlhaXbGVlxVZlkd7wxjfaG4Vz0vq+BU4pfCek0agnCmggLcosmAbVunrpxZe8zd760EM2OzsrjY0NDX2LdeAI8MXXckUOzsEuecWANcjzPRCmrzNN9TWlVlQ+Dz1Hdhyh4WlbaC2FJ3xzXHjVhQLGoyG9ARNiIsNHxuM87h4HxngwNOmR8Mi0NDBxAfIE6bgoOFiQvb29YZ6ERYHiSD6ckw4gHUJCvqSJNEShmQi676tZNSAddGQxmHnRNQv5EAjM9cxM2UpyH5id4XnDL/7iL9rf+9mftY3Ndfv27/hWdVDPvu5d77KzZ86L4dVWsi58mARakK1SsSrGLVi9tqcCsRZiSg0i+YTWzQBCmtbYK6vLNjNb1Rjiy/aJT3xCA+en5UJtin6VX+AD+A2bX5i3O+643RmR5rtDrlS1WrXbzp2zeQnQ78paPP/cc3bq5Cn1a97Onj3r7hQex/333e9TpvRs0pWvHMiErsFaejuovXo7/gGbfnZR7hJvHaLQgnBKfNVeYQZtAHoGx4dXXSjoXJgQZoQpI3AemQ6mhEljGNecR+EAItNH4YD5OY/XUbh+//d/XwPDzziTEz9qe+Kn83OmUxxoQ3hiPoRHnA50t/6k2X1hmwZ7IILRabMrnoSU6c1Gy1rNlv3H//gf7J/+wj+11RMr9mN//ces2arb2voVe+/73mtLy8uih/bI+Zd2WGqRy2jgmK/Y/MyS7cq/t/auZdlyMK55ugmItaON0LAnZCG+VuOXr/u6r7O3P/w2Z/gljS3e/OYH7N577rGFhRm78/bb7C1veYvO5yXAPXtIluHUqZN2z9132COPvMu+5mu+xt6nunzrt75PdcjZG+WCnTxxQu2b83wX5ufQIzfIkpOA9qLfxD/1K7JkvIx0UuZ1Xn0Q+j2sLGCHS9aiSakqOlPoNwKBM15FgMkZcIGcw/wM4GBymJIB3kX5onw6F2FggEd4BLQ+lgbXaGdnx1566SWPA7MTj3MGdleuXPE871EHnj592u9TFuEvv/zyUNBAyicfyiY9gBBwLw1TBQNnWcgLRrxs35HgNfZr1qo3rC1XoSG6tjY37bd+87fsZ37mp+2f/PzP2/nbz9uf+bN/1p548nH79//+F+29732PPfInvs4q8r3ZpJhnru4uyYKwLCEzKNjs/El5TxKuvcu6X1OZtM/NsxY5YM3QpzBYpVKWICzY6VOnbHVl0d0qXn9l/IFChqFxBTWcUH/k5F5V3dowq4OluOvO8woveL7grKzk7GxFZZgtL827y+WZJPdvCuBUMnZOV3vvXXR+yM2cdaFggSQWgYd4UseWSyxFfBvxRiBTa3cGuzKXv/74k/ZbTz9uH5Dkf111zqqU7hXCoyUm/wwgoS6YqqMApv6DP/gDN7NoGaT5sccek4Y55Uz++c9/3hl4aWlJWunN9sQTT/g3pc/JJOM2/fIv/7I9/PDDdtddd9lv/uZvOoPD1G9729vsG7/xG+1XfuVXXCjIlzRofYTvHe94h08ZYjUIwz9+8MEHPc7v/M7vuBAiaAwomVXBFwai9TqWpXDzPbB//fkn7H/7/37Zzm5v2FurRbVGx7ek3N5u2ssXr9lTzz1l1zbW7Oy52+021a25t2m13W37k+/+U/Yjf+2vuUsimZIB4MOX6rgBD/Oy1hvkraoOt/ol23j2C9ZfmrUTd71JEZfV7CxdV7sfy6JdD3z/jbriKgLUGvFgGpMj7lUvcf7DWqBUUSGyrG8r8QLCDZoOi0y/EbclYSkVg6uLNUJJ4Yqh5PhI5yuG0EU6ypXstcwaz9n21d+3bvukrZ56p9ncsu3hBkuSC3y4RnzKRs3tzIJQQq30vNZ0XIDDX1Wg4Tc2NpyRYTQaDS2NBn/xxRc1sJy3t7/97fbOd77TbrvtNheUaAkA0qIB0OJvetOb7P3vf78LzZNPPunhly9f9ny+6Zu+yb75m7/Z42N56IBPfvKTLhzf+Z3f6UyPAHLv+eefd0H4hm/4huD36l60YtGaHA/U8+rs/Z1de0F5fvZ3f9f+y6/+qv2n//jL9h9+6Zfst37rt+wLX/yC1xnB3N3ddb+XKde/+/f+rv3tv/2/qC63KRsNRjttMQoD3+AKDqTZfO8hX+1asZWTpyX467az/qIaFbWdkPAKIXxGTeWorsxkMSBmi8i8pNJ3Mld4GHfIRVU1ne1VJuMen60SlstYNgXqn/u4fFibvisLwhIiSae8o/BEV/UVg2dDGyhjjedq2+uS8l1bXFiUCVvRHVZxB8BSxB3aoSa+cnsj8KoLBR0cB640NIKBdkEY7r33XmeYL33pSy40cWwBs8NEHLlPfO7D0I8++ujQpSIv3A7yQVAog3TkwwMmrAcChxW67777XBiwUFgHrMgLL7zgNKUFAXrpNK7JbyIw4S2XYPHkCXv4695l3/2Xv9d+9G/+uP3kRz5qH/7oT9vf+omfsB/90R+1b33f++z8udvszOkz9h3f8Z32N//637Rv/qZvsZWVVe/XdqttlWpJA2zvY4WpnVh5S+8hFGxzuXxWnVqwrfWrirSmSLsqnxkV6Ebr0fGgTiOmTkdB/Ib4uGn43NSZaWI4iYEpv/AN6F8JxUVMrnG3Corr3yNxCINZUg3HZbqv3DWwltXWX6fPZwCUhhkr/ak4AS4gmNDuOSSHFNI+B4OIK+vZ1xiL/Whb23LN6yp80fJzbM7ME3RdKhrdE15DlabJ4NbJleIeGU2CUBCJHYdC4Uzhd24OYCyYFwbH56/Vau7uwOxo6/eJYfhO98c+9jF77rnnvGERDJie+KTniMuD8MD8JzR4C9p04Pkta5AKvcSLA2cQYUQ7UzZl4sJR1rve9S4f+GGxfu3Xfs2F57C7dPj6SJDm66mjZ0+dsHsffLN907e/3777ez9kf+F7P2h//i/+JfveD33IfvSv/4/2sz/7d+3v/J2fFu3n7Ff+06/YF7/wmHVa0swaWPOdB6ZdO92W5YoNy+Z1pG49MSqr2FhnzmxKYdFuv/0BH79cfOH3VPgVsQdfp4OpkCQh87U+zlFQ6E+/jGwXgDO2flF85/TA1JxT5cjgvgmdAlxJMBZIIDZLlAm0P/FIQ85etG4y7QkHIRwICa+jgYQFmnG9eXbEFG8iHBAcM+IyqRLBpEDXO919KYTuFcnGBVu/+ozczYLNn3zYrCy3csAetWpDJfS3+PpsgVAWasymjIpYLM9tPIQ20J/i86xiKBSvFsCIWAUGtaypYTzBOcyL68ODn9XVVXdhYGzmynGtnn32Wfvc5z7nVgEGh+EBzgmLmh3/FQFCmDjHSnBOmVgHlhwwTnn88cf9GuHASgCMM8iPvEgTBQ2hjMI8CZK+887qko7OSxAfuqHBNpsFLywu2re85z2+V+ze7p7GQf9ZA3CeFuO9i+kyfMiE8YFyZLZETMXH2Qu5xN/nBXB1fKa0JAUQHqhdeeE5McWm5dli0rlHzMVbe76HDWwnIkQ+HguKGQy1oYvDgF4jB/+DivgXroirX2UxxMNA9ikk14ihvJAX+Yfz8Kfa+i+vxwY6GFtQT+ov4VIGvoEgQbqV0wAAu8P4wN8K7SuQ9mjWbP3yRWs1GzY7t2RZNmFmoiKvsiSEWLO82pS2DDlADTOEnCmjCeC8IOSdET//qY989Gf47sRz19bsxc01e4tck3OFkpMeIDQtB4xhuKYpkvBDQAciAGh0XKCFhQVfKsCAF+bGhUFIcIFwa/DxGVNcunTJlxvccccdPtZgoM0gmwEyA2+YnnsIwcmTGmBJsGBiLFAsA0HD5cJaEP/d7363x0FACEcoGKeQPi0ANAQ4DdAmCMaztaY9cXXd7pmbtfvkqhWwz3JNSsWKXCOYVbHEnefO32EXL122T/72x+3BNz2gNrhdgkjLklMANZeQDhz5xbSvb8sijc3AlV0C97ekLeU2sHO5FcpCDe9VTkd9wgbP1MdZUcnQkJQRxBgGSe6R76G/0I9Coh+A6wIOAuXo4Llw7sh5wCAgAfl17ncJiLwjb0IH7Afb88i2K4SPWe4ojgSfhzZsYNARS9f2ZSGet3qjZcurp2Qlzqpt1AaJq9RPBCG0pdBphyD9Q1hS3ljwdJ4wpImzT7/2xcft4196wj4o9+ZmZp8AL0CARkcLIySR6dIWIMbjHuGEob3pYO5xRLCwPuQR4wPkjbsUmTve45oyycddwiQfLAb5Y10I4x7hlJ3ON+Z3FOAQ4NX/6rVt+38//7S997Yz9m333GUVqbScNHcmU5QmE130Za/t33/7xCc+ZT/6V3/IfuJ//nH7nr/4ASuUitZ1LS8NlsNkQztTsUIxDK3EFKj7ET0JQlFx29u2t3bRahtXrVyZt9nVs5ZfPKVGnBU94ZOKvDZMR7nn4/XhJGC8GsLYKhITBOIRSM7TQcNMRuU4HIhzBCgaQyfEFSS6xEPIDiNqswHLOBSBG82ummDftnauWb25ZfOLy75VqJXkXspNYszFBmt9CVt4uy6hIcl95OTpXvT/jgK1l/OA+t55Igl+1SAyHEcYk2lQjkAUEMIiU8LYhHOM8QDGBeQRXR7OQeIC5EMeEbEgkaGJB5AfSDj5UG68F60D16S/IUho8WUGSX4686XKPM2mPMriuHpi1QVx7dq69TSmCB/5YWkIg1nMNYKN4gmuBMueHdTJXXcdpBHLqzZ34owtn54X62zYtauP2f5VuVOyHPl2wYr+1VGZfWlFPHjeu3eGk8Z25shIEWUIVx+ACh0hKTyVo0Y+QoQ/fR7uDhjoO3IOqp8dVa6bCmUIR3E8AqlfW0fUIuoVwKkqDvJW6FUs73s+aZzQl1vU3LPG9hO2tf4baq8XbUX1X5QywGUadJRJRu07fC8di6HM1d4+NsKHVAg8xDOVaf3rU9DiBYSRlK+6UMAIh5kToiAwAufRckStHrU+aWI6gDDiEEYa4sZKkgYgHMYjPMYjHddgTB+PhMWyAM4jTgbiw3iqk3ze+MK/56N/yoU05v59zl/Zra6sulvI7JhbTnG9L2lmzRQDQ/8PTMWQgiDe8XGmhgFwIRCM3KLG3nfKOJzTeGZGzLJhu1efNtuTcHSuqVC5Hb2WLA7sgSJQehhXLB1yC519PQZWCI6O0rkbl0ZmcWDdw+ERSaO0CKBoD4QfQkEURspka2R2r5LNlHWUlmBTZV4U0qA509m2zs5lW7ssN3tjw5rZGSsvnbHqwkkphwW1qSy9LDKzS7zMxBuJvlo2AdqSGTR4jMWD7TYrI4IiHQ+hDwMGGl91iAwZGS0KBIVGIYjAdWRWMDIm1gEgLWFRiIhD3ulz4nAehQGIwgDE8qLVCMwbBCad93QI7BPPAiRn/CgvVsoyaOMa5p/ROAerhkCIRNdiDOiGdDKtKgbB94V/8AJcoxNX4w8+y4tgdGzBmrnbLT//RltafUDjqGVpzEtyq37PBhufMKs9IxW8h9+mxDA4GbSUnrYXPe7PKyiNisqR6cyIvL6ZE6OBLLv2jdz8KMKk0QNCJPmJUCfWqzAelWecd8rrNwfz90Rrt6Z7CIOO7Pi394J1rn7eagh7e9+q86etcvrtVly6T8WxzY/EyT9NHDaE66lOtBPtOoTknPb1t+k0Xo5tPQ48iWcS+G/IDZ5Jcn6zQF5ocZgNZoXBOYcpOfeCk3vEi/cJJyweQRgqMjXXxIvuFEzNebxPOiBeR5cshsc8QcJiOBDDjwMkc+YWLf6Airz0x5x+XureBV/3QvmhiREWPoJYKOBasXEB7cOdwDWcMx2IUIDiQ51wVFvIRchqYJnPz1hR2nJu5bTNn7nXZsQsncGybW71rba2ZoPtZyUcshzdl5VwS53bEaqd6GYkICu2HKKEJUpCyvWhXBBeT58fRmQMdA6iudPnQbKEyhtUGVgHXghyCWL2zB2ofR2u6PCCddefsZ31F2xrb9t6YvyFk/fYiTNvsoVZKYKcLISsZlfmBvRt9kVYLo8Vk4KDfNEUkH4JnkexIFddHgRKaBIomadzF4p+DcEhMNx+9SAQGJgd5uQ8hoNRcNKQjnP4HmERYp5ALAOIx8NhIGER43WEGGcaBLEJcUN8HQkXQ/uSicQSILDcwE1yIVQ4njtF5vOi3YuW+5UwCkeeasO8wU/nbrAYrBvsKcBndjQG6VDvwrLllx+y5bPfYHNLDyltwbY3HtdY4/esL+thu1+WX97wDFjwzTwV66gGQ6yrDHbBaFg3A/J9V0YRYXo3Yd8hwsbsyhqQ3MLMF/NGPnskqxTyqQn3HXvkz75Wtmf5/q7ko65KKTeegLdlHfYvm117zJoX/8BqG09aIde0xTPnbencGyw3d5fqtGT5XtVKfHvDXSahxhFyNFU6ilNBaqfYbUGxBZcWcEvh07RJhDHgsZM49NtBrrsFf7jgzA7Lwe5Jx7lIccR60dWBhYNw0Ot+O9xXhxOf7y505cbwSqZVKlZcOWmzp++zmeU3iz1Pyxcf2LWLV2zn6pessfWc9fe/bAO2mOwxs8NMD/kEZMKWkZlvhT+QhVMZvoZI1ziwcdf1EIdRRDxnMjQgLMocGOuLeNeBZdt8x5ut9cnfHaeehKOhsc/Oi9ba/LJtX3nOrl66ZFd3JZb5MzZ/2zutuvqgFWfOWTY/JzpUX1mTgYTNP8SinMDQEgnQNkfyu4TDf8GxkcbCLaF4rUD9QldhBaJAxM6C913tuYZz+6A7QUDCdUSYTn9siyO/vjNoW0tjhi6v51XOyvd+ly2e/pO2dPLtli/NW23vJdu49Dnbful3bfvi07Zzbd2aGzvW35OWbsiX55kKW3Uy5XW4KEwDmJgJ36dZ5xHZG5etVn3FsE8YwH6ykrJmYQvWrvUaDevs72ngvGnNtZds5+ITtvHS72vM8JSGEptyBTWIPvmAlc8+Yv2Fr1Ud3qDGOKUyJY58KHKwJ1dqT+MJnshH5o4M7o12NA6j6kdI6I3ALaF4zYDOGnWaa73U4FUOlTD+peInQsQDvl6fp/Fy/RQSHlsRRaIjbCturyyc0fhscVE++R126vQDdmLpbpvlW3i1uhjzedu7JOG48ITtXXjSWpeftv76l8w2NQ7RINfqL0lYXgzY0nVLx7bCOhqjdC8KLwVsX9A9hTV0r64j6XYVf/t5s41nrXPtGatdetL2Lj5uOy8/ZlsvP2WbV170xZHF6qrNrt5rC6cetMVTb5Trd85KlXkft3ezol/jD/bq7WscNeBVU6FGCKE9EgwP5NISnEK/B7htFQbrciPwqi8d/+MM+NvDh3dfeNree5aHd3dbNS9tKdeEvUt57uD+u5i5Lx+4VmvZX/7u77IH3ni//eRHf8oWlhbdrUYIWGTnYw81MOuN8IdD5wrUuaF7aWfuyaEhnQJzcq1yuFrcUnd0FNiVKu+6myE2kJBUfEdyOE3jitaucE3MLGw1fUEiK2WJG0WQFbS+iI8LMmbwk2haOecq1EVQtEKvELqddgQ2PBPwqdAeU82iTWMoxowgs2iZgga8c7ICM+GDM71+VWXIIihLnoYMZH4YwPcoT/Tz3IXd8JkHgAaefis4AVomtE4aPMTjhMg+SaEr/8wawccEb4Nb8FpB7FmaXci5WwtZCVmCsJdvsAT05rAjde6+v6Jm0ab668CIusUgnId0mV7GCr28VQYlK/uzDTExi4qYyqyIGRfvNjv5oNmZh6x47mGrnHvIyqcftOzKvdabv932Cyu2NZizjf6MrfdKtt7O23orY2uNga3Ve3Ztp21rOx1b2+3Z2v7A1hs522iXhBXb7M5Ys3jSOlWNB5busfKpN9nsmbfKLXrI8iovd/ohy555h9nCfRKuJVk2WTxVjg2RxbGqGawb20GKBcsgQeyIqR39ftD7wa2M5+HaG8gxgF8hXLo7wuPDLUtxA3DzluLDtrC4JEuBfmapXFC2aH+WNHlzM3WKI3/IUsQxRmADylC/eMfjIGiQq3x823pAGts1rrT7QBq/nZSRFwP6DLJHIi+e70i0ZIL6PR5y4bsrXGEhXNrfLQPRRQNCq3zZrZBZMDY7ox4wcHgyrzqxxYzOfV6ZkpS2x5IM0RGeZ7LSASun9lHeDEeoWeApWiQQSJFUB4Fh8F90OhRKRYYwOncRSQSBFgluEzdQM0GQjgsiFS2DyZU8akBDk/P8Eoq6Lq2BOAfXbLHgQNLrC4MnHxR8Q0dmctSIkoF8N7ge7C4OOBurA/GRiT+yBPwBypFwLoTkP+xw3BXPLWESIUIQ1znRzTgzTE6yNTMf2iFWTxzf5zlJoST6dFf5EM5m3b4ERKRFr6cn16onyzKQZcnKmhSKy/LtT1qpfMrK5bNWrpwT3m6V6h1Wrd5uc3PnbHb+rM3MnbXq3GmrzJy0ssYHpeqK0i1brjCnRpiR7JSlEgqyZHnHtihlDornqNSGNxQ5DhTgGz+IuQr6C58wiA2hGuvU0aVY9VIdadloH0YRgjCkLQPNyMJIx5jhBBhO4Xp6pcmp4QrSLCU3ZXwvoWd5lJUoiGtUuPS3maQtkJBksuFoVNypqJ+xeFT8caifG06TRv1cFzYBnaF0go7t5WpSIrSXGA6Hl2+2qVF70oDE5cnWUChobF27dLhSUYji+SCaqVeNB0ZrifyuENaJyHVOeReVJw+smOHRuIJ9pjQ2yPIOt7Q91gEl1lYSXtj3p72Kl+83fbrVZU5FUgj97qLVK1ivK0FyLArLYuCKsptRfeeUfl7ttKCjmF7h1hdylIs16EnwfPAvRDwzJbVNQUIglKVAqYIoVWqBIGdE6wC61fgFjSkKqg8vV/kro0LiqbKJAAQEErJ1RAB0dETxxLZSAOjtKxgyh1qT47EgxM+2yViDob5MIXuWYuI8XwrVYURcrBZTgvp9HSId4ZZTlp6tGZ3pdc2wgObhOvYJh4ik9WC172GtRMuOHgSOB5gox5Ny0ituVy5KS4gmRljYWJgnxoV+S2OLloQFT1yOnPq1kZf2Vh8P8hpg55pKC7bDVCcfUeQLJxroIpgIa1b1gBwX+OTY109PefFspIcrBCpS0JPUm2lkCaisZ15YSDCsepV6VRldKQieXnQkQN1MRXnIoigPFC9CjN6gXIQjr4F7oduyigTa10hxQ40cjkLFoSnQ1QGCYOB0hjYGjweep9IMv8UBQaxc7OgKP5EvzFBRR92LggFDDPtxEkR6JuEkOCr+kZi68NZJ35uG+onp43lyORFpJx2YPqQDvY04en9ISBSJaBHQzI46d8FQ44N0WlhQGAQCiMIyDuhu9DH7P9EfMCVCwZd6OkEHK7AtrduQZdgXQ7bUn31ntpqwKexkG0rXFLb82JeA9Dlm2Mqe+LywJeTcmkIxtJiaDQMQ9m5OilOj/V5O2l84YMZM+Q5UDmVlQVGTGSit6MgORIvyySm/QUZCqLFEEKjEog0xPCVHuGgOZtaKsmzFvmrWoz4sKw9/oTUTTDRQ6EKEgdDQxuRDmx0XPGbSB5k15caD+N949nH7L89+wb7tnd9oD5dOeKSdMhpAGkoS5B/vkxnBYvDsUuR7Bl8pOMxEkbmOBTRgcgp4yinpuVvyaU6zT22/YP/1+c/b+869wb7t7gdtQVxa6PSspQF3Ly9XoIuzo44X0+zXG/ah7/oee/PXvNF+8mc+YjPzs77dI/n5MheWbIgeX/c0gQZcAKZsWX3rYwWlFSd6O5CKp8piN+WFKqPfcFt4xsxDPll33C2ld+0vhs4jrWK2AU+5GVRL04vtlTSNqhj5qQzOEcYwyBbNKFCWbXOuMvwc4URKXGsLRQOMy+xYWy5mlrVKahOYPyhZzsleVgraEs6SQ+UulcyJb+DB84tBkXJIwz8/SQ9SDcjTXxAG7ip/BTI1zJFte9JLeo6CyE+e/rKudnTx689+0X7lqc/ZXatn7HxbBkt5bJfRSGHkjobCrLFik3dgnbojIBCcXBwFdG5yehRMTx8P3hIBPEmSaFJawNMkNNxAevpghTe/mh171nbtufaWfdu9b7H33vOgreYKVpJQ8B3yfkoo+KB8TULxQYTiDW+0v/3TH7bSbNXfFmTxIIvV2A0Qavy7awobB3QaS6FZbcuA1N9TYWGk/mBnOtMFAaFRXBgsL3rQugzR202+tVf0NVdM7eb4nLC08ICVqtLq/c6e+L/mlsaXcLOVDDNSshQwLcMmdvuG0fmqUob3GVjBK9ctLOVm4V3F8qU5DdpnVUjyZpzaoiNm6otvihWxe7njlqqjv/DcnrRqLZhREgCtDLzzGq/0RHOnLhdNFqbAjkR0AvHAVEe51dURGfS+Vf1ZlNntyGXTmKtcop0R2gmgNHEJeqahHLAUj166aJ+5+Lzlmz072xFBKnNf9PYkpWgpBAJ/lvkWGViSegaHwQkWjoOwYCu5OAKYbUhX+DA4Oyfp/VwwjK/DpLTDFMkPhxA7+fXDuPQDq7Z78nH7dq3Stx2NNR85c6e9Y/W8zas9CuqANhqtII2YCAVuwn69bh/8c99jD8hS/O2PftjKEgp/r1yFFcXYbD2TVGcyiDH5Rl5H5TBTg0BhafgeXFc4wN9XmQONriUH8to7VpTb4i/2y52y/Zr19vbdIvlUqCwHG0H77uBoaqjwboU5aAu1pF/rCIpRw9N3xRPCeH7UH/zh2/MQJnBLlAsP7nwZverIp8rylXmzMh+1lMBocI7owmcD2k3R+I4eJy50Kos9ptviRz6iX6kw6xbocpq8JEX3n0AHgVwjxC4ULDXRkQ2jUT7jgNzgy2HeA0kF/t26GmddhWcbXTvdRQOY1WkH4qkkH+jpyPvALcVzYo4Ab0AyHwM0pjfoGDhO+gjxPB1/Ylr/CWnC4cbSwyOKYevFru2XzM7JYp6Wy1DqSCvLUnThGV6kZ4pb8RAKvubzvQiFLAXPKWaTLSgpB5M+JEPFTipbuem3I0ZhgpPl9mhouWhocZhKnc4dGQf54Lh6Nct15AM0rqojrwjXrd/c9Bkpf4aQ1+A8r0oUKpYFSzMSaL67XZTvL23Iuxw8cXb3SAzOxm28CajygmvF6IrxRoId3quWxWnvW0/nva7GKXLN+nLRRKF1CgOf8q2W77Rs8YyyXBWqfBZRyXXri7mwEcxg+YySmgJa2SAiL0VUVgvw5w2VAvoxLPvQuf9xDALKEWbPydUbbdFzPZAvn3wmZ3/XpdvoDTDzTfl6TdUfeZqnnorBZ4s5qs0deUDENQPNPxJACxxsoxuDV5CeJDuqv1hAFsJsVn1a6DLtqU515nSV55aAATiW4i9/d7AUP+UP7xaHrhJCEJZ5jEz3UYDwo40z6jh4NHxplU4nTV75SQT7zPqoY3uyBq0ta9e2rVXbsW5TnSkezpVy7r4gTIWiGLzI23xifhcMmBM3BhdDBSA0HMkfZvJOhxBhPPExCOfKnHPf2lPob9HhmrGJtbAjF0wau7azp3CWgOi+0pdUZrW6bMXqCbMiOyAuKA3TuBIIkYKC6Wak6eXmFWQZC52wLMZpESiak9NzKVdLuIIJ52hx/oKwCLE+Uzo6Klj6LdNptwc+v61MmxKOggqtqk5EER0O5I2VQAtRtA/oPMbrC3CK8NDr6rSm2rgiQajgKulIG+HKuFDomj5w96lRs7+EUMhSfPjDH/ZXU31tEI0vdKEQeKcmHXMYCHel5C3f1mCeqVQJHcV0+OZq2XJo5tqGBOGCBOKCdXpsSCYhKJ2UJThpmZk5R3YQ9/dQYHz1NUXKZulH6IWFwxCOJknxuUFiz8DPR3+jK6wElitfk3fR3rBm63lrNa9IUHZkJCriq1Ur5G6z8sL9Mm9zQStLIDoFjQdyHWsxeyVhqSgug3wp/oRmFar2pakpLVjZpGSniXYN10EokvodAzL9ZmuAGcZatIUsJivI0UMgfe44RPO6k60vrhrTeX/cwRWDEAuKwmBD8II4M+EJ196MZPHbaT/m9hGKvyiheJOE4qMfkVAsvDKh8CXnIoDSBszkiDuKCsv0axo2XLPGzpp162wPo4F+rmSlmQXLzcp/r1ZFpLiMj9NrIExfRqA4SuTF/dC74V5So6TvR+Buie7FHMIxXJPXkWxHJtx0JsVq4WZpjNPalvBuWXN/2wfEOdE8O3/CcnOyHDwdz5bVfgUpmjCWYOLASxSDIwjeVBIS3wxap1E4wCAUHhrCblAosjA4DYzfVtJgqUCHuSXgGFA6T4XwcAezHTRgfJr4ekIHtVVJgoCFKCIQoR8ciJHEcvBr+kQnPvUYgl8RIHDNjAbGKl/DeiuxWVq9ZZ21l23v8mPW3nnWqoU9m1+as+rpey23cq/ZzO2SXD5QLwnmmQK0KC8XLI6iKVQLYWOcyMoukAd/EcPbeLxhJ0dIbA1yR7ydcIezHhnGC9gn8aYcVRAPEdvZisYtK7IId4i2B+Q1fY3Nnz1ry6dLlitftM3t/2YbFz9p7c2nJDS7vnym0CmINxmsKVMhDxfZzZxVxfEhY+yaEdDYBEa8Mci0Om0JFp0bJB6MmiJknspa5+7PMjh6HQJz51nXOgLnKG+SBMQgKBhZCmZRQp8w0K7Zd3/P9/iXgj4q92npFVoKJh0ZyxXwsXsayO5v2N6aXKX9XZstV6y6JGbji6pFLIPGCxn5IYwRRK8fZQ3CSi2AvsYNjj2dVMSLT2g4TAq+s2v7UR4hXaKBPX4SFiHmoSgsb6c0lIS/pOTRJDHMfbJPbGfD2nuq0+6Wddpy4curNj9/Vj4qYw75q8rDd+5QPXh6zzk7Lio3FRmEPBSYtD3nTq+O3mcpuqZAtqNC/LVGAQNpr7sycuJ1PgzDWPi1NBUS6038+kIsZVjLlDS+/tDg/mRbGDojAKeO9E1Ev/PKgLVBFZipzsZoT9nGlS/aoHPVVlcWrHrmPrMlYeVOCcSyxhtF8QHCoEQMoLt8iSiMh0aiQJ8zrhDCXEhcxPiYHsSH5iEFGh9dyEAmovsxCsTRhzmcSRQRpQnT0FZioB5ehou1Btr8UayyDcIqFy97Tox/lxVXv8ZWbrvH5hfnrV67aptXZDE2vqQB3LoXzrJ5bBM7Jvo3B5UjOE6ZKPMEbwwy7VZ/EKdbvZIitpP4rowvgANFqqHHkfDHHfqJZiiIiXKSAtxIhME1ldrK21EKBotBX6Cd6oml4LtyH7mJgXaRfZ0aF2z/0gu212jY7NIJm1s9I0FYksTgg5dUIKtocX6VjzOsgkUPWhm+BbxHoc1PUnDoOk2J3zqatBGkIvGLYo1J/JY7/ULainq7cCokBhPSayi0pbgaJ+1ds/2tK9Zl257qSSvJHSxX5tROeQk4GbJ0PTzrII8g6IDKjbSgFDgq4IYsBWvwecspOL06KgMfSejSlYQLScA2Rw1uwsP41xd6nVV3hMD5i+biPLnmPOkCR0BBIyuhnvPrBA/GDAw0ihE0YlhFwKI6MUp7yxpf/n0rdbftzIoE4oT88nmNGUqr6psZXwPVUCp8fc/H3Qx1XuhSMZMQOighXbQCuA+fkZYJ02aCDSFTz2BLcdxgHMJoJUmP/wDSHvBQUlooa4ihboxVsBuej/OZ3DvVY5BZFr+flAG5zeZOn7XyfNFqzR1bX7tkrQYTCWHFr0/4KBc+L0A+3v4JDgvzw42IQwC5yDJqMnNdaUHGCpg2MqEBKThYkTQi47qnSBzjHBlpgtsViB2HHveIODHPYT5jkPRetscVM6Fpp5Q5wpB/jD+qg649bHzZ6DWsaU4NhFXAmyB2nhkQGFDpmerkCTGaPcybi9H82UJgUJgxJy2Zh3a1G7Rn1NAsqGMKlZYlbr/bkh5ke/mmZbtblqs9Z5defMK2CqfNzrzN7LYHNH6Qr437IRooyWejdEUIqHGoL+mgfl5nwBs5wWFgAILU9Y7MioLkJ/szzDedPGJos8N4KMSFM0HOlZI/5pXIG/SZWG5DAOuqchofzdxpldPvtOVT96pNdm3r8pNm289JMCT+0tIZtXUn35Iw9Xw1gT/Zpzjyor90xjT2NLGgv7Da9BmQZf0/yJPqDgKijJOqDDEIiOj0o36kvQasi+chjY8vpCf8KWfUF25rxqCMe5Le06ozCff0Cou6ZjxSVkDy4Nqn64bXR6VJMFVGzCPqN9d1un9kuohyARhsIxSEeEvhFjAL5e6BQI0b9nhSdnRMjkFhuOJJ9qCrusdyiIuwiBGyedb/SDvXB8Znff0pMVOXu5dt79ITVlDjV898jQ2W7xGnalCdqyoHOIiOFxMoCUfnqQTpu4j+czjQb4xOuR3ziMIV8aik0zCCtwyVQyBSQhGY9iDdIbGumELOyjUsnrPq4hmNneQ6qT0a6y+Y7VyTtlH7iGf7YkwUeZ/ZNWWADWKZBz5W+JwzipOMJwNuLEtCXKFF39af5IFJpLFA3RQPLUdl+c4C134ryWcSUAJxvDz+yE9/nHjj+c94iGkjOM0Rk7CJoEhoBOLTEFGrcz0VknKc9iR+6PBAB/nFTd88b93KF3h5B6FTOn8bTq5YpqN+7yqe2M1fzlA8KSM0JU+DvX6Ylc6ubWzKt5agnDh1py0urxo7IgII3GsJ1PZm8KaAZxgLpzQAP231VtZqm1ekMC6oI7tW7FdkUWVzYHwUrBQOSpKn2fRD2KLUxW0suIUQH9Bn3r+BOdUXBPYkLboxCUgUUAU6MymtJIwHMNNWegLcDju3iRCdUx4rGSEoRAiHseAZhEikgeF83YrCpm2PSOaRfoQhfPcNnR/CpoGn1ZHlyOxagWbxcE8fGtYZWkdH7umaBXhhp7owEG53GnKX+GqTormBEosrL8bxs9Wi9dry5js1291ft1qjZqsSCJs/JebA0VB8/VEmZVEP8n+NZeQ1BimPwrxVVzTOWDpj9c6+NfeeVxvtG5s1ZBiUqAnc3Zd0hLcag9qAraY1Tej70J4uSHRuR8zRabet1W75psCTgE5w5k8AxmiRtsUKzunbnvvTXpBzxWXFKEupKZ/waTVACEgXBKJrTZXLty2gI7DsJIB2CQN1Fq3QTfn+5dApdEdAiNsy3ZTJ1vvuEukvvDQUyA/uUhAWykK7k44Smq22Bo5Np5ut+UnAqlcmO/q0fQbXat92d6/Y5vaGVecWrXDqLkWaUWqE3sXBjxH9zzv2jyewtqvP9vylJSsun7PSTNl2GxetvX9NYwv2qJUbpvqDWAkWAfLOSr3ZsL1azcd5kwBeIg1tCQ/Sun6S9KNgeHI0EFcHlygh6SKTT0k5BNe4dGJM60SFwY7omgzJfeIeLo/kE2FYLvUNYyeAc783tfAAHh8EPN3w1O8N80uu52bnwrf4mFv3QXcYBqo7fDCc13VWbpRPi3cbli22bGfvsu72bfU2CURuTtKI26S0KYEYfh+DgqYBed8MfiWBlbuZqppLlrKyaHMry7IcbdtnbNHYVUsyplMziE5ayNtHlhuyw8LJ6RD4ObSju0/4wfi+fOs4+qxjQfFJ47sscKkjacKLHLx8MrmD0vf9W2VKy3sFheLoa0eTIHzSFobL+Hp9XrbxF24UHjX0JPAPGSqupy2Xvc7M5ZNfrNMkoBz/8AwvCJEWmhN6YunpZcq07dLykl27dtVanabliwWrsDq0OK9xhYQEc8+UiYRCNdK1XNHGJWm6TVta4psMGmwOWMUqDE+8XBDC+8SUqLQ6HKPqX7WA+vKxGHNUOmZmF6wyu2ItCYTVNLbo12gFWVzxJlZXSiaXL1qxXLIy3zn3wdp4IK2vUqYP1ZBMKjmTBcEoOE4CEvn4A3dArgG9ERh7tGX+JPD0Suv+uAqHOeN2+671poFojS4YDAlTkwcpGddMA9LFtLyNlRM6X1E2OAHi5ALCzzbvjGFIR108vcAflqH+uRat0DY/N2/r6+uyFttuynNsqy9USsURzd4rQtwpCcmVq88qecOWViUUCAQv90hg49CB8QsTHGBQJGGQPxHI/6sUqJp/4YkxFfUtzFpl5rQPqvvNlxRhn+YJyqUnCyF3y50gBfpbs1PqHvkZd5y+pEU9VdTS0xrXNWoshfMknTObd9lkiOk9jynEHgWR+UgPA3IVaY7fgpgEgakOananRTCV+iSev7nmPuiIjnDM+Nte3hbKjCMpHn77wwrv2Kc//SkXLD7Y7m+nyTo3WxpUo0so3PPUGK2xZzNVfGi5DLhafk+namtRrouDSNnHUUgxSaAvydQhOeoeYy3GWExe0J8+3vK4oiwl/PG75bHtGZsB3CePCDH+zQCGl+rxoJSVJ5aZsXzpTpurzlivyb636/58wgWBjddkLdh7F38qDronAe3n/RcVTRL+1Ql0chpUsa8IJMUyYcGerAhGtBZYine+85126vRp+zf/6l/Zk088oQ7O2H4NhjKrzsxapyktxe7fZak1DQwbtaaEQuMIuEGZszwp8ZySnzQeDyjL93kVTf7Kr6vWoBj8DT7Xkn1377CebgV1z2fVdJ97bFhAet4m/IPPPSqBbnkcHtHg/npeoglvI4a/Gn1CDlQ/5M/ZjAJPWCEnL8HWVdC+XKsIiq3GCvG4DKmOBRQkTFLeglcD0DYwAUIBuNbUOZ8//ivf93125dJl+8f/5z+0//bZz6ibJAhSfXh8vPWZmxXnM9JWmlJxyeYXzwSuUqey9q4VFPErBpcvmSRWlsIijWbbdveYmcGV5X5e9Ci80RLyGimk4KpmVHbXmnxQEXJkrdjl/PkXXrStnT2rKx+/pzybrY61mR1UvIbO92t1L8uF4yYg4VUBUw9URFY0w2fTymqefbk9UjAKxpIAIk8QUiETSfCxIdNu48jeglcDQl8E/x53hiOuhA/mxUz//t/+O/sH//s/YL2tvU0u1X3332933n6HnZMVyUl4KtLe+7sv2279SXvft327xtZ3mhXZbkiaV5nfjAbj+SGMixvy5edf8o/+MxV+zz33+PfMofOzn/2sj30QYpa6M+38/JefdzdpbW3dZudm7W1ve5tVKhX72Mc+5t8j39nZcbfq7W9/u91++znb36/bb//2b/s30/nW+SOPPGKzM2Wn/UaZMw0oEd7soA55/eXQO2u/Y3b5P1rn9HusefabrSRW5tVgHt+xvxSTFrhP4bWI45d+SyheZcA64DLxLQa0KgLREPNVSiXvmE9+/OP2sf/6G/YbYpyra1fFeHWbKRetLFXO5gfW3bEH3rJi/8c//Me2fP6dyrBidTEsr5aWmBR4hQAzkf3Vq9fsC1/8oi3wsf477/RxEAL8mc98xhaXluy2s2ftc48+6sdKtWqf/MQnXEAQnk988hP25je/xe699177+Z//ebvvvvvsrW99qz377LPy+mr29V//9ba0NCcB2vLVwR/72K/aW97yFvv6R772JoVChA/4hBifkcyHdVJU6Orvmb38MWuf/VNWP/duK/faVuq1JBRswxQ+3QxITQmPz+a5j3zkoz+TnN+CmwS6gKlSOgO/2nftkGCU5KfXxTTZbtvuvOdee+Rd77ZH/sSftO/6C98pi/DN9iceeZe9+xu/0d73ze+1t731Abv7ntP2tV/79ZYpyIXKyG9OJl3EvqGgVwDRUlRmZmx9Y8MuXrxo5XLFTp46JYau29PPPCPL0XJ3b319Q1ZhzmY03mnLNXrr2x6SkJy0XVkBvuGHxbhw4aK94x3vsHPnbpMSKNjjjz/h1mJra9cuXLwgYrNexuqJE3bq1Bn5/zeiqw8DM3QM3gti9uRJBIPoHZWzfc0Gi3dbY/6c5TMspJQrpTh89CVsak27KYWPLY4HN2ORb8FhkDDgJnUZU6gPGLDigvCQbUbMmGf7b55VZHL24JvutYfe8qC9+08+Yu//zm+37/4Lf9G+9Tv/nP2F7/lL9rXvfLszHy8HBQXHS6As5j5+xx4G3CYZMc/i4be93R5++B1i2kv2iU980tbkMiEgKyurdvv5O6T9H7I777zL2PmDgTaDbMY15UrVWrJaDKbLcqHm5hZCvrpeXFzS2KJtv/lbH7c6nw7DAklYEKpi8SbZjFm5PnvSBsEGe7bniyutt6A2n/Ew36Q6S9kMwNR+ApeFG2y2r16huMGKvhaAMOCK8Nym0ai7hqpUyvKv93VPms5X5fZ9RxkYlHVNxBl0c9ZrKUD/Pqs86FpHbpX3jnqbjchyvsD6CKAdDmMK0kFFvC9ZsoZcm+WlRbvrzjssLyEui97FhXm3aIV8zs7fdpudOX1ScXt+v6T7kM5y9DwzV2JSzuu1PQ1yQ1ijvq/x0I5tbqzZeVmPJeVXLZfkRiLMEcK0ffgb0ZbGIRy4IcmT5qclfGcQuVL5fl3uoArPqTFFTFGKIyzxYBYsbKb2SgbZQBYfmIESg0LOj7MGCPdg+FwjldaPx0jv5cAVQoh234/00kgePgFgIsrxefQkbszPzeQUoCx/VpDQHM/jvUkQ76bTOQ0JyXFwDfKUnmcZaPzqDM8bRLeYhx0XOyqOEiuFGeu28mGlpwy/LixbEfurk5v1LaXZESrzrgSio84/XL9xTZWEcwBjj8DYnVbDXnjuS/Zff+1j9uRjX7DTJ1fs7jtvtwffcL819nft9z71Sfu9T3/SLrz4gpi6KOae9RW8CNRsuSAs2oIGzisLc6JfYybVJ6/B7BnlQ9i7v/4R+41f/RV74ouP2vmzp2x5fjZx+njuATJY5jfo8oiE8eeQJpybciE7fBJMA2ZaIT+Q1ZA12pUgbleylp0Z2Nxg0z8h0esvqZ5zSiv+VHpeC8iw0nIKxJal7zKdTk/9KgpA3XKmicQdBTCEDsQjI2cQBcBP6Qd544B7TkBkwCSu5ydTHR+KjQNP73GVXuee2gka3RsLSfyYnpghPXUY3ZsEsW7DPIQsMmQbSl2MTc9gj71dafQuD5jYGpLmUjJWe/i6p5y0au+arV/4A/ftz9z+VknObeJkNiPgvmcUaE6Blxgqwk84JnTQ2jHUNaeCm002KcNPN1kHlkFIq+q8IUZjkSPAIBurwV64xMnzBVYB7iAK0QWfZxNqD655eIeFRMHu7+/LtZpzJRHai4KTvnLzF2k7CIRGHN7UkalWdrEsqg19j1u2At28ZNeuvWQzs3mbOXleN+c18lgQzg3XQUFxTiH+tuSYfgGGfUrJ+s/GTuTBDuZ/GlN6KuURLQLpaSA6keOxQGmY9SAfymRFI+X7Lf+dDHQCFaBMOsMZ8hhA1WmANM10Yiw1Ns44iLSRBqbiiEBwgzy9UceBtBzLNfi0V0cWoddv+vy9C4Yw7FUkRhWVC0snfc5/f/eKwvYUxAuhAbwOQlo6jfjTYckITK2jr0lXXRWZtTygN7mOMPPMbNVmZcEKBQmEUgC4enPzc47UBfpmZipenu92rsSsM6P9yYM2JAzkmr7gHu+hx7akXeoSLNiTiQLyjfTEjTEckzBAfoCYuC1m5jsadR2Vr+6F3dHZ+Llh+3uboi+jesjNy86KFpbNqCG9wrSH8hFfdDtJH00AaPR6kIPOs7pyt4UpxLj8eyKoMJ6GUgz15gkn63lIT9rjCAZE0EPRvaAxWbLuSwqSOOOAtBBOWubZmUOHuYH0QryjgLS+4S80i9ZGvW4t5UHjYeXo0EngdAtYvs4ye7QmdXcG4F64PQZkyLsSiDZlq53Z0Y/KKg1Pq/tscsT+rFmNSeZWpZnLtrO7pgj7UueBEYDYPhQVntuyZJ7BL24J95UZ/jdvr3nmOnBD6OVBKgcd6aqeGMYZQkf6gkkBz5s+9nu0a3CXXWkqERaAPgOiNQCjwHBOeFA4CBbL3gWUDQ3J+fAIBuIdqAM9ynMJdqIVlT7v5G8jMuHQ3NNgfl9NJWequCQC55SGrzTyPEftoHbs9XgdQX3U5DwWdjT4Mh2vdQDnAiTEadOPd/AxwLOIrSscpj1G+tiIyVU4jGiaCKGjAsKkw2Sx/GmgNMTyMYHig8dKJ/B0xE9ojmV7+ql5EBuBhFmJy5qiwMjhlWAJBKNX4hXmbGX1jAR+1/auPq+wXd1T5+oW8UNOCANbFYSPq3BHw3yfxw9DziQvLH9PefdVHgyvIBDgGFYNw/QazrNpmgBh4dqTi9S4pgz3CKEAOY9jqCgwtAPXnLsCSgTDmyYi4EcVAm3pewkilnI2k/pALDcQE9WzvWe7W9dcgc7Nr2iAsaDwGfUjQsHCUP4Yu6AokrKnAVWlGAHxvbZoAh4ylUryHY/zgEgpo9YkN9KwSpZVp3FcMRaotNKDsDTz+WiY2MjTAAuBNqMjWK4efN/QGFNdP5VNpwGUWy6X3V+G5kjTJIguI/WFZt9KnzorbPhuwwSAtwr5opXY5NjbivrAHtLQNFueXbc1qB4Urbpyxrd0uXZFLtT+ptq5JRah2+lDtCdMEsuLa304htARJfS4Dqoju+rxHMVfeAITpoRutxiKRh2ZKfM1Urrme9u+TD1pH9odRo/9Tz6E0w7xfhQegD7l8wHEjiwTAHoV4AMAYeJTEYdoolZ/fFiegbpq3Ze17Miyb2/a9va2lSozVmFpfU7jLb4xrjQ8n3CukkCzXJxxULHMOq4DBV8H1HnUXsqh0+6qLkmQKOIvNM8YSOIOGyVeJ8SQdFp67hKf/wjxdELKAF5eSBtpgH7Qrw62/EFIaIvp/JiExXpNTA+k8nAkSGkjE41Lz1IDdY8rx/BpLZiSGSpu8rF4ZnHEDIyPxJSZfMc6uy/alYsvWKVYsZVTd1pmQYNuFwsl8nJAREUa2zHQA7iIJFXyQjkkNPt5kkXQ7CpfEhtemSUsJHRrkQLixnp7eyd5ISQw/5CPBFgLwkJ8QhBknfjqRp2CMfvwkTlhQqeEAeQK0v1lhs5l6+1ctY3NK6IjaydP3WbZebVHf1Y5y6ooL1bQMihncJ2TC5VTm/OORXiYR4scDZFur49Os9F9QFuGSo4qdiR4JUeNC/j1cQRCMEwb/v0cS0Uq74xUwx4F7rPqzzWRokYqAg3jK+5AmZQVGyH++LXfJGQshDIS+pUGGqJG9PHMlPS4tuojRUM8sBRiFF4/JSyb1zhDeecqEhSxQSdvhflzdmL1Lg1U27Z59YJZQ1ajt6GcNL5wRsdCwjxYK3aMVwioWy4QyhcmYU8lvkLkdAuoP64bR9qzyMpYMTBjK+rj44nkPhDr6W2fCgO4jhae/BEQ7mEtiB/jOTGeVD+Q4VKrK3YR9L9RoJ+JF5hiLbhR1DiitmlbW5v+IZel5TMSiFNqC8aWSks+oWqhDHdRhVI0oY0DzZMAHgSckltrn14rUGMPW1qdqQu+W86s0wAhYGZKQlGSufDvUGgc4MptULPW5ku2s/5lq8jCzJ0+b7YozC3Ja55XVjCwmEfo0/H8MCCFgXMFa4nJ5Hj4/D4fZfuKAPVO6i5VkhIECVcSilC7awh3JwN0c6upNtq/YusbX5aA5W1h8ZSVJRSWlfKQluEDMwMNuOHiWAwiwagqq/EWH7XsD5iZGvPw8wig2W/BawQDWQVHtGF84iqORkfBFLxnAU8MX73ss1HyvJXmTtrS6lmrtbu2tb5m3a01WZKaBKFpha5iMlPp0zViMdQm+8eyFNxZJDBJVKRfMQikiA6xq86hDdGABXli76g2CcMlZtt25FHJZdp83K5dfcZacimXViUQK3KZcjPKr6gqloR4GTRAaEe3kI5SCigMb9yk8GPCLUvxmgEaUhpcvZTpMzhU40vz+3odaTGsBe6Vdywo/sZ9cKue3VX8bcnBZVtfY3/Vvi1LY84sn5UJYPZFwuN7ySIQKklpkBEWUWckLWjNnJgO/IoAHMZMf1DhzqhysjyYAOoL3/pm9kxLM9tWu2j1zS9bo3ZJRnTRZlfvtfKs6ptbVGIykuDLPPJZF550+3un/vmx0IaOvg4KV1Ptw+eRjgm3hOI1guA2MJiUUPSqzvQsPwAZIPNlUyZZ0aL45owSfMt6/ItMTRKitLmuf7Zr99pla25v23ypZPMn2GRZjMLnQ/1jJwXriMsCYyAMlAljiCnYEeMVAzm+chj0VEsfk3AhVHajHKkk08ais71rnfqGba5dkOe0b0sLVauu3mFW1RiiKzeoH8ZQLP3oS+DZWA7BCuM81dFNQwI8+8nwSWTFB48Jt4TiNQKEopejA8XsXXa1U5+5ANCPHQ2EZTHyWevIXAzUgTm5UAyaw2yltKGUY4svjopxiu1tG+xcteb6BX/4ODu/ZPnVc2YzJ2wg4ehqsI5TwSOwrFws66Mx2YbylQpFZLQUw90Q4DLy8FFC0SvL1csFjwYTAfg3KtasXb9m29sXfQl7uThri4unrcgTa7lLPvng1pAFf0wte4sydArZ+MSDznCbnE4UjdoSt4p2JM4x4ZZQvEbAsLInTU+H8aVRXKNgBYSyIP1c0/qSgo58n54YR2rfB55M1fIxYFi8zwxRp61Bs5icpR/1ddvfuGydVs0yGlQXKjNyMZYsN8u+SAgA7hKuhnLK6jhhWnI6BEZ7JRDYlzchfDQVGJjBNF9U7eyZNXdsb/ea1Zt1HxJV51dtbvGMZXAN5fp02dRa46RMTtZ0wI6QYWqYTQaUpRRHeEKBU8ZEAy0WpqnD8wtqHZ7tHA9uCcVrBAhFF/Og7sn3xPBy+oMPLSzgGu1Zm5mSXEkdPy++YZ1Q21marydl+1nLMThXgH8muFezYpFnvjXr71yy/fWXbNDYslK+bGW+Vz0j/7sq16p0wnoKwyKxpeQrh1cuFJTaUT15hpazfVmKDZm9a9bfX9M4acc6za71OnmrzMkyLMriVVdUVNVaaoOu3CR4n7Q0V2/Ax8VYasKktpieaWwJBSt1ecCZyfIRMrlWoAQKdxShyDIrd0zItFsdd/OQPKp8XAkZxiX1DaZNEoZ09JZf4jbomFxOBI8YaCaPOHd+bEjKuSGabxIQCrQgpOYGOTF5JlgKCMghFG1r99saEvDgqiKhwAHqBNNPPOIzSPepVu7RyV0xBj6zLAc7lO+vW3Nvxxr7e9bFBZNwFGdkOSoLVihKEEtwF24IokbtQWeZIzDeT0NsLY4RgfR1OhzQefJA0lr71pLggp3WjvW7EnrVpyCXb25BY4bqquiTQPd4GKfxQZ6P5ys5/E5WTi7jsJgvAoHtwQLpOlkMGa6wFrRlrMkEoaBTUnx4UCi4oQs6cBrEuCwV8EK5Fk5l0FT+pPGHJkm64zI38RDDsD5HadVqnpa8jgNJ3PjQMKyivIH0CXidBZF2aPLGGAPEj3UMGzLT4aGzmI4Ny1TIIGYS4oZr5Y9/rHTssuFRJWWQwLQu44cMTNHZt25jU4Kx7szX69Z0T8JVmpFHteRv2BUKZcmFmI6pW76j7R9517m7Wzht7rgJqZsfEoqiFAuRVCcihnGturCSlU3KeIjX61pH7l6uU7Pc/lV5S3u+y4e/Klqsyt1bkKt0QkOGRRUX3D2W/vVVL1bAUqjXT3dCGREPgre7wv1ObENPFAbgoc2vTxfB+y7Vl/4+RXxiSfDoyfYYUN4UTxxi8UQxPrXkCWZktHEQmEdAGaQVRqJIPw2IG1bDsl4nCIPTQn6C49IeFxZCTFowJ6YXECeulfHVlclSCE/LyYT05B2f+FLXdFnT0sJ07pt7W7Mkw+enVK6SCcPDKg2sEQyWV/flr7d3rVvftqaw3WjIRQkD/ax8sGxeY5BiSS5Y2Y+ZAkIiYcA/44g1oT+8rUVXUk8vEMZDmEHO47WsQafDamne1wirnllHNdCR5SulUsWqM/OWr8oalOckewz+GTyz3IV3THhCDw0qS8VQVVZw69dJAo5UPHQGEMMhkT/6Sni4ra+DJL7HULxMV0IRlm+zNbxIKhxjP9mYiTIgDcuI6WzS+QK5CQQ4kdwXkiYuN4dwXxpAJ0yiX+l9SYLSsksGebCoj824bgTY5Zyy2fTLt+0UE1CnSUC96CSWi1MuNFNfX44+oc5DUPbsWN5N1gVRX9JSKvWa2G5iDN7DoGwYt1isKC0L70LRrJviSfig35KbxXsNcdCiY0/ulSyHf+xEZUN7EGyUIde4HAxeYaBggdnMDb/dhZ4+YXMqrAfphMM3LkHRTiWwdKEeyFPO60j9umwRWj7hrpyVZ0RsYqU0XmCLyx5+JedodpXh7aD8EGJ4i/YplMM+xUPUn/eX/x9USNBAHUH6y5exqJ/GAfkNFTuKDqHgfQTeTaCCMBcrQKeBM7IyYI2Mb0svwcJvhcG8UmMAgqPkwhykhfh8wpw05iShUAZeQdLW9mveobgEpTJbyHgbTQTKhQbKBSmXl/DpQO/cCeCNp0bmXQreqYgbRJN2Up0jkH+7pbGDBCOutM3nWF0qJtO9ie0mx6LdafrnA1gnVS5XVX4UCmZidHSlKjdK7ktOFzynCEKBWyXrgUDRQq544CbdU57dNu/RNFU3jW3kAvFFKNw6vgjEV0hhOrbHcaaFadR/1Jm+wurAoMrQNyooyerkymUxvoSI+uCaKm1bFqFQmbMMK4GZYRPzQ7/PEslVCm6h2kDnbpRUsZ7opb0U3YrKM5SdCAV5Kz5p6DWnIGk/eDO+NAdvlWnnCYoefiRePJdQ9Ae87+wSqQJiJ08CZx4qoAygCHOJWWfj4VyyJn8ceMWTSkF8tBSUyfJ1KjgJiBuXKSPIaCwEOYbFhjkSdJ/8EWY37VgK1YFdK2jVqekFlM9GvMTFykSB8LREmJCestIWyi2jwqK29fYcA67VxcQIFMxZLIlJxJRhybeY1GlQGYobBucSCqdJd3Xs9HPWYRZLEegijlCK4GT6DOjDWMCfKINudVRPFw5e9lGQYsOYLgxiaHfhXCgoFYHB9SHjhAfE4M6gwqYG1QUprqz6CaFAVkgb4jGm0lGBGQkip9htt2IwNpTKukS+cdSf96bqpl+HdDjKC76GPxCISTxNOuLpxC3b8B1tiAfopImQEOENqkw497ReMRqEzolkXg/xHmlJE9+BoNwhg3jI0UBZkRE5Bz0d+QonMlYSJ9YxluMN6aZf566mjgbSp+knH28D0RDnzr1eYwC6o1nHhQxK5WCnjgfVTbfDxsdJWgX4mM7vh/YcbhBMproRxhsyEuIJnnR7uNeBMYj0tMKY7sRCuCAl4SFORAFP3pUZV4HxyIyExKb9CA1a38MRjiQbBEBSpDDCk1z5ESSxHXzCQIiVQyg8Jm2rGDzlIL3HPdROwz7hbvhPytAvJ4QdSnMAFM/jKo73Kc8p6NRhgcCkDBLwQpQRTOnlevok3bTkEKHDAUJjGIknpCdNFJxheioEpPObALERh7NPuj5AyxSI6YGDNOh8SjajsgOHukJRHkPBHgeBUBdaTl2ZuEkQG6tMkkILjElYFAjXOTp2WSeUY72swoXqesekBfQf+s+fspMZwQJftaqLsKIXe0EgBQZhiLl5MYRhSbAeOpIN1YPAvCRPSt8B+QC476JFdorHOcLggomQcq5IvAvRV54JSdeB8ww0cqH46Xh+j9uTAEIgwk9VZqvVUS6jQGAag/hdxSEDn85UAGGRmGMx2KEyPS9hHISPA/KO7kY6njME9wifAKRAu0IsyWNsT6/jpNSxtEirQ5LOM5sCsa2A2EYxn2lC4fuh9oRuybAOshguFKLFlTJpqT95Ko4CERCKIUVf2tc3VFOADyZdKHVHNLEEO4hIEBMPJ2udRQjfksNKJUA5igH6v9Pv2QUaFCXWEYBsPJQQN4S5wAgijSCipjuqlm4qI0pA0EjEnaMg9pzfV5rD8fw+UY4B9MGtJ9pfJeBPtDEJAlfeYhxe0vcX9f2obnTTwE24DkkZnWcZfDPo9t6G1ZI4joqXcAGH5HR4Qi6+Bc9RMErq4PKYOj8Mh8Ouj0PqIAzxPFBwRGZ/SHBLKL5KAKHgKTisERhpJBRMO2E7XDAciIBm1dEjs0QEfx3VHNgN9RxjezzCiZ46RsBK+QLGkHwIIZ/kCHj5aGodPV64JtjdMv0Rwpkfk7ReVjqfIYxCPLvXBMz+f9YpxK1efrKXAAAAAElFTkSuQmCC) ---> **Notação antiga**: atributos representados por elipses\n",
        "\n",
        "    > ![image.png](data:image/png;base64,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) -------> **Notação UML**\n",
        "\n",
        "  * **Relacionamentos**: são as associações entre as entidades, e descrevem como elas se relacionam entre si\n",
        "    > Nos diagramas, são representados por losangos e devem conter informações significativas\n",
        "\n",
        "  * **Cardinalidades**: descreve a forma como as entidades se relacionam uma com as outras, através de indicações do número máximo de instâncias ou ocorrências de associações.\n",
        "\n",
        "    Exemplos:\n",
        "    > **Relacionamento 1 para 1 (1, 1)**  \n",
        "    Relação entre \"cliente\" e \"endereço\"  \n",
        "    Cada cliente tem exatamente um endereço, e cada endereço está associado a apenas um cliente.\n",
        "\n",
        "    > **Relacionamento 1 para n (1, n)**  \n",
        "    Relação entre \"departamento\" e \"funcionário\"  \n",
        "    Cada departamento possui pelo menos em funcionário, mas pode ter vários funcionários. E cada funcionário está associado a exatamente um departamento.\n",
        "\n",
        "    > **Relacionamento 0 para n (0, n)**  \n",
        "    Relação entre \"cliente\" e \"compras\"  \n",
        "    Um cliente pode ter feito nenhuma compra (0), ou pode ter feito várias compras (n)  \n",
        "    Esta cardinalidade indica que o relacionamento não é obrigatório entre as entidades.\n",
        "\n",
        "    > **Relacionamento n para n (n, n) ---- muitos para muitos**  \n",
        "    Relação entre \"alunos\" e \"cursos\"  \n",
        "    Cada estudante pode estar matriculado em vários cursos, e cada curso pode ter vários estudantes matriculados."
      ],
      "metadata": {
        "id": "7mW_ng-Y8V7J"
      }
    },
    {
      "cell_type": "markdown",
      "source": [
        "## Modelagem de dados relacionais"
      ],
      "metadata": {
        "id": "OlIWvTCC4alW"
      }
    },
    {
      "cell_type": "markdown",
      "source": [
        "1. **Tabelas**\n",
        "\n",
        "  Usadas para armazenar dados de forma organizada, as tabelas em um banco de dados relacional têm nomes únicos e são divididas em colunas e linhas (como se fossem planilhas de Excel);\n",
        "\n",
        "2. **Colunas**\n",
        "\n",
        "  É uma estrutura dentro da tavela que representa um atributo específico dos dados armazenados. Cada coluna tem um nome único e um tipo de dado associado que define o tipo de informação que pode ser armazenado nela (números, textos, data, etc...);\n",
        "\n",
        "3. **Registro**\n",
        "\n",
        "  Também conhecido como *linha* ou *tupla*, o registro é a informação em si, ou seja, ele é a instância individual de dados em uma tabela;\n",
        "\n",
        "4. **Tipos de dados**\n",
        "\n",
        "  * Inteiro (*integer*);\n",
        "\n",
        "  * Decimal/Numerico (*decimal*/*numeric*);\n",
        "\n",
        "  * Caractere/Varchar (*character*/*varchar*) ---> strings;\n",
        "\n",
        "  * Data/hora (*date*/*time*);\n",
        "\n",
        "  * Booleano (*boolean*);\n",
        "\n",
        "  * Texto longo (*text*)\n",
        "\n",
        "5. **Comando CREATE**\n",
        "\n",
        "  ```SQL\n",
        "  CREATE TABLE {{nome}}\n",
        "\n",
        "    ({{coluna}} {{tipo}} {{opções}} COMMENT\n",
        "  {{'COMENTARIO'}});\n",
        "  ```\n",
        "\n",
        "  * **Opções**\n",
        "  \n",
        "  Ao definirmos uma coluna, podemos passar informações adicionais referentes a ela, como por exemplo:\n",
        "\n",
        "  > **Restrições de valor**\n",
        "  * NOT NULL (informação obrigatória)\n",
        "  * UNIQUE (informação única)\n",
        "  * DEFAULT (status padrão)\n",
        "  \n",
        "  > **Chaves primárias e estrangeiras**  \n",
        "  No momento da definição de uma coluna, podemos sinalizar quais colunas vão armazenar cada informação.\n",
        "\n",
        "  > **Autoincremento**  \n",
        "  Funcionamento autoincremental nos bancos de dados"
      ],
      "metadata": {
        "id": "xlLVTTeZ4lZX"
      }
    },
    {
      "cell_type": "markdown",
      "source": [],
      "metadata": {
        "id": "Gr4HHOnl1f2R"
      }
    }
  ]
}
