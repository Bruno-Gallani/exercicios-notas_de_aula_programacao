{
  "nbformat": 4,
  "nbformat_minor": 0,
  "metadata": {
    "colab": {
      "provenance": []
    },
    "kernelspec": {
      "name": "python3",
      "display_name": "Python 3"
    },
    "language_info": {
      "name": "python"
    }
  },
  "cells": [
    {
      "cell_type": "markdown",
      "source": [
        "Escreva uma função **dimensoes(matriz)** que recebe uma matriz como parâmetro e imprime as dimensões da matriz recebida, no formato **iXj**.\n",
        "\n",
        "Exemplos:\n",
        "```python\n",
        "minha_matriz = [[1], [2], [3]]\n",
        "dimensoes(minha_matriz)\n",
        "# 3X1\n",
        "\n",
        "minha_matriz = [[1, 2, 3], [4, 5, 6]]\n",
        "dimensoes(minha_matriz)\n",
        "# 2X3\n",
        "```"
      ],
      "metadata": {
        "id": "2KklAR5N54hN"
      }
    },
    {
      "cell_type": "code",
      "execution_count": 18,
      "metadata": {
        "id": "6ddcyq0trm_V"
      },
      "outputs": [],
      "source": [
        "def dimensoes(matriz):\n",
        "  numero_linhas = len(matriz)\n",
        "  numero_colunas = len(matriz[0])\n",
        "\n",
        "  print(str(numero_linhas) + \"X\" + str(numero_colunas))"
      ]
    },
    {
      "cell_type": "code",
      "source": [
        "minha_matriz = [[1], [2], [3]]\n",
        "dimensoes(minha_matriz)"
      ],
      "metadata": {
        "colab": {
          "base_uri": "https://localhost:8080/"
        },
        "id": "B9EQypGQ6N7-",
        "outputId": "61ce116c-f32b-4e9c-acd1-b5b820feb5ad"
      },
      "execution_count": 19,
      "outputs": [
        {
          "output_type": "stream",
          "name": "stdout",
          "text": [
            "3X1\n"
          ]
        }
      ]
    },
    {
      "cell_type": "code",
      "source": [
        "minha_matriz = [[1, 2, 3], [4, 5, 6]]\n",
        "dimensoes(minha_matriz)"
      ],
      "metadata": {
        "colab": {
          "base_uri": "https://localhost:8080/"
        },
        "id": "Q7FTHzH36SGU",
        "outputId": "79cdab4f-2fb4-4961-f710-d4a8a0d4e6a5"
      },
      "execution_count": 20,
      "outputs": [
        {
          "output_type": "stream",
          "name": "stdout",
          "text": [
            "2X3\n"
          ]
        }
      ]
    }
  ]
}
