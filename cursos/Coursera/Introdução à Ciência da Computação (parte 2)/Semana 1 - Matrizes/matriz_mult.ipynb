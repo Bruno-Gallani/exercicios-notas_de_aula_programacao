{
  "nbformat": 4,
  "nbformat_minor": 0,
  "metadata": {
    "colab": {
      "provenance": []
    },
    "kernelspec": {
      "name": "python3",
      "display_name": "Python 3"
    },
    "language_info": {
      "name": "python"
    }
  },
  "cells": [
    {
      "cell_type": "markdown",
      "source": [
        "Duas matrizes são multiplicáveis se o número de colunas da primeira é igual ao número de linhas da segunda. Escreva a função **sao_multiplicaveis(m1, m2)** que recebe duas matrizes como parâmetro e devolve True se as matrizes forem multiplicavéis (na ordem dada) e False caso contrário.\n",
        "\n",
        "Exemplos:\n",
        "```python\n",
        "m1 = [[1, 2, 3], [4, 5, 6]]\n",
        "m2 = [[2, 3, 4], [5, 6, 7]]\n",
        "sao_multiplicaveis(m1, m2) => False\n",
        "\n",
        "m1 = [[1], [2], [3]]\n",
        "m2 = [[1, 2, 3]]\n",
        "sao_multiplicaveis(m1, m2) => True\n",
        "```"
      ],
      "metadata": {
        "id": "Mx-GhVZVpRy7"
      }
    },
    {
      "cell_type": "code",
      "execution_count": 4,
      "metadata": {
        "id": "yombiCgfpLg2"
      },
      "outputs": [],
      "source": [
        "def sao_multiplicaveis(m1, m2):\n",
        "  num_col_m1 = len(m1[0])\n",
        "  num_lin_m2 = len(m2)\n",
        "\n",
        "  matrizes_sao_multiplicaveis = (num_col_m1 == num_lin_m2)\n",
        "\n",
        "  if matrizes_sao_multiplicaveis:\n",
        "    return True\n",
        "  else:\n",
        "    return False"
      ]
    },
    {
      "cell_type": "code",
      "source": [
        "m1 = [[1, 2, 3], [4, 5, 6]]\n",
        "m2 = [[2, 3, 4], [5, 6, 7]]\n",
        "sao_multiplicaveis(m1, m2)"
      ],
      "metadata": {
        "colab": {
          "base_uri": "https://localhost:8080/"
        },
        "id": "LF6PT_uUpyDs",
        "outputId": "2e4c2525-e0e3-461e-a0b3-69e30181ef27"
      },
      "execution_count": 8,
      "outputs": [
        {
          "output_type": "execute_result",
          "data": {
            "text/plain": [
              "False"
            ]
          },
          "metadata": {},
          "execution_count": 8
        }
      ]
    },
    {
      "cell_type": "code",
      "source": [
        "m1 = [[1], [2], [3]]\n",
        "m2 = [[1, 2, 3]]\n",
        "sao_multiplicaveis(m1, m2)"
      ],
      "metadata": {
        "colab": {
          "base_uri": "https://localhost:8080/"
        },
        "id": "2ZA6g-R_p0ib",
        "outputId": "354fbdd3-6bcc-449b-97c5-852b79fb2557"
      },
      "execution_count": 9,
      "outputs": [
        {
          "output_type": "execute_result",
          "data": {
            "text/plain": [
              "True"
            ]
          },
          "metadata": {},
          "execution_count": 9
        }
      ]
    }
  ]
}
