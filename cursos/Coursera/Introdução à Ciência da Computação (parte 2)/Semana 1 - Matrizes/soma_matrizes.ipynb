{
  "nbformat": 4,
  "nbformat_minor": 0,
  "metadata": {
    "colab": {
      "provenance": []
    },
    "kernelspec": {
      "name": "python3",
      "display_name": "Python 3"
    },
    "language_info": {
      "name": "python"
    }
  },
  "cells": [
    {
      "cell_type": "markdown",
      "source": [
        "Escreva a função **soma_matrizes(m1, m2)** que recebe 2 matrizes e devolve uma matriz que represente sua soma caso as matrizes tenham dimensões iguais. Caso contrário, a função deve devolver `False`.\n",
        "\n",
        "Exemplos:\n",
        "```python\n",
        "m1 = [[1, 2, 3], [4, 5, 6]]\n",
        "m2 = [[2, 3, 4], [5, 6, 7]]\n",
        "soma_matrizes(m1, m2) => [[3, 5, 7], [9, 11, 13]]\n",
        "\n",
        "m1 = [[1], [2], [3]]\n",
        "m2 = [[2, 3, 4], [5, 6, 7]]\n",
        "soma_matrizes(m1, m2) => False\n",
        "```"
      ],
      "metadata": {
        "id": "2KklAR5N54hN"
      }
    },
    {
      "cell_type": "code",
      "execution_count": 14,
      "metadata": {
        "id": "6ddcyq0trm_V"
      },
      "outputs": [],
      "source": [
        "def soma_matrizes(m1, m2):\n",
        "  num_linhas_m1 = len(m1)\n",
        "  num_linhas_m2 = len(m2)\n",
        "\n",
        "  num_colunas_m1 = len(m1[0])\n",
        "  num_colunas_m2 = len(m2[0])\n",
        "\n",
        "  dimensoes_iguais = (num_colunas_m2 == num_colunas_m1 and num_linhas_m1 == num_linhas_m2)\n",
        "\n",
        "  m3 = []\n",
        "  if dimensoes_iguais:\n",
        "    for linha in range(num_linhas_m1):\n",
        "      linha_m3 = []\n",
        "      for coluna in range(num_colunas_m1):\n",
        "        linha_m3.append(m1[linha][coluna] + m2[linha][coluna])\n",
        "      m3.append(linha_m3)\n",
        "    return m3\n",
        "  else:\n",
        "    return False"
      ]
    },
    {
      "cell_type": "code",
      "source": [
        "m1 = [[1, 2, 3], [4, 5, 6]]\n",
        "m2 = [[2, 3, 4], [5, 6, 7]]\n",
        "soma_matrizes(m1, m2)"
      ],
      "metadata": {
        "colab": {
          "base_uri": "https://localhost:8080/"
        },
        "id": "B9EQypGQ6N7-",
        "outputId": "660ef54b-7ab5-4d70-e177-46242ce23357"
      },
      "execution_count": 16,
      "outputs": [
        {
          "output_type": "execute_result",
          "data": {
            "text/plain": [
              "[[3, 5, 7], [9, 11, 13]]"
            ]
          },
          "metadata": {},
          "execution_count": 16
        }
      ]
    },
    {
      "cell_type": "code",
      "source": [
        "m1 = [[1], [2], [3]]\n",
        "m2 = [[2, 3, 4], [5, 6, 7]]\n",
        "soma_matrizes(m1, m2)"
      ],
      "metadata": {
        "colab": {
          "base_uri": "https://localhost:8080/"
        },
        "id": "Q7FTHzH36SGU",
        "outputId": "cc9fb0f0-a48c-4621-d8cb-d41c2d880314"
      },
      "execution_count": 17,
      "outputs": [
        {
          "output_type": "execute_result",
          "data": {
            "text/plain": [
              "False"
            ]
          },
          "metadata": {},
          "execution_count": 17
        }
      ]
    }
  ]
}
