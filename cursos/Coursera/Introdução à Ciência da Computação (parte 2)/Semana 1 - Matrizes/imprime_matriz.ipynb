{
  "nbformat": 4,
  "nbformat_minor": 0,
  "metadata": {
    "colab": {
      "provenance": []
    },
    "kernelspec": {
      "name": "python3",
      "display_name": "Python 3"
    },
    "language_info": {
      "name": "python"
    }
  },
  "cells": [
    {
      "cell_type": "markdown",
      "source": [
        "Escreva uma função **imprime_matriz(matriz)**, que recebe uma matriz como parâmetro e imprime a matriz, linha por linha. **Note que NÃO se deve imprimir espaços após o último elemento de cada linha!**\n",
        "\n",
        "Exemplos:\n",
        "```python\n",
        "minha_matriz = [[1], [2], [3]]\n",
        "imprime_matriz(minha_matriz)\n",
        "1\n",
        "2\n",
        "3\n",
        "\n",
        "minha_matriz = [[1, 2, 3], [4, 5, 6]]\n",
        "imprime_matriz(minha_matriz)\n",
        "1 2 3\n",
        "4 5 6\n",
        "```"
      ],
      "metadata": {
        "id": "Mx-GhVZVpRy7"
      }
    },
    {
      "cell_type": "code",
      "execution_count": null,
      "metadata": {
        "id": "yombiCgfpLg2"
      },
      "outputs": [],
      "source": [
        "def imprime_matriz(matriz):\n",
        "  for linha in matriz:\n",
        "    print(*linha)"
      ]
    },
    {
      "cell_type": "code",
      "source": [
        "minha_matriz = [[1], [2], [3]]\n",
        "imprime_matriz(minha_matriz)"
      ],
      "metadata": {
        "id": "LF6PT_uUpyDs",
        "outputId": "94d0ac7c-c580-4451-8701-989be3592aa0",
        "colab": {
          "base_uri": "https://localhost:8080/"
        }
      },
      "execution_count": 2,
      "outputs": [
        {
          "output_type": "stream",
          "name": "stdout",
          "text": [
            "1\n",
            "2\n",
            "3\n"
          ]
        }
      ]
    },
    {
      "cell_type": "code",
      "source": [
        "minha_matriz = [[1, 2, 3], [4, 5, 6]]\n",
        "imprime_matriz(minha_matriz)"
      ],
      "metadata": {
        "id": "2ZA6g-R_p0ib",
        "outputId": "e11ae06d-512e-4dd0-a072-c682c0b493fe",
        "colab": {
          "base_uri": "https://localhost:8080/"
        }
      },
      "execution_count": 3,
      "outputs": [
        {
          "output_type": "stream",
          "name": "stdout",
          "text": [
            "1 2 3\n",
            "4 5 6\n"
          ]
        }
      ]
    }
  ]
}
