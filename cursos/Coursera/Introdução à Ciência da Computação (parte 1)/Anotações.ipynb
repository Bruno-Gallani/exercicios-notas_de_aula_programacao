{
  "nbformat": 4,
  "nbformat_minor": 0,
  "metadata": {
    "colab": {
      "provenance": [],
      "collapsed_sections": [
        "D5F-BhEAi6sM",
        "CXgeGBORhsat",
        "uTHziJ_JianU",
        "eE5REKZz1f7v",
        "SeetkRwbX67v",
        "LlQidGHCYE1i",
        "IoqYlDbVYO4f",
        "NPp9eRFKKzaF",
        "UGAEYpE627JP",
        "BYVcRPhUd9f7",
        "RZPZrTj-eEG2",
        "0MpUWVpYeQ2N",
        "ksanKnCCeWcO",
        "7T9yyMwUe99a",
        "bGVbJpXFe0GN"
      ],
      "toc_visible": true
    },
    "kernelspec": {
      "name": "python3",
      "display_name": "Python 3"
    },
    "language_info": {
      "name": "python"
    }
  },
  "cells": [
    {
      "cell_type": "markdown",
      "source": [
        "#Exercícios de repetição, usando o comando while"
      ],
      "metadata": {
        "id": "D5F-BhEAi6sM"
      }
    },
    {
      "cell_type": "markdown",
      "source": [
        "##Exercício 1\n",
        "\n",
        "\n",
        "\n"
      ],
      "metadata": {
        "id": "IxHN8byjgWxp"
      }
    },
    {
      "cell_type": "markdown",
      "source": [
        "Escreva um programa que receba um número natural 𝓝 e imprima 𝓝! (fatorial) na saída.\n",
        "\n",
        "Exemplo:\n",
        "\n",
        "```\n",
        "Digite o valor de n: 5\n",
        "120\n",
        "```\n",
        "**Dica:** lembre-se que o fatorial de 0 vale 1!"
      ],
      "metadata": {
        "id": "nNndyKs_iFt9"
      }
    },
    {
      "cell_type": "code",
      "source": [
        "n = int(input(\"Digite o valor de n: \"))        #ex: n = 5\n",
        "\n",
        "if (n > 1):\n",
        "  fator = n - 1                    #primeiro fator = 4\n",
        "  fatorial = n * fator              #fatorial = 20\n",
        "\n",
        "elif (n == 1 or n == 0):\n",
        "  fatorial = 1\n",
        "\n",
        "while (fator > 1):\n",
        "  fator = fator - 1                  #fator = 3\n",
        "  fatorial = fatorial * fator        #fatorial = 20 (5 * 4) * 3 = 60 e assim vai até o número 2      ou seja 5 * 4 * 3 * 2 = 5!\n",
        "\n",
        "print(fatorial)"
      ],
      "metadata": {
        "id": "UgZaf3c5OBfe"
      },
      "execution_count": null,
      "outputs": []
    },
    {
      "cell_type": "markdown",
      "source": [
        "##Exercício 2"
      ],
      "metadata": {
        "id": "CXgeGBORhsat"
      }
    },
    {
      "cell_type": "markdown",
      "source": [
        "Receba um número inteiro positivo na entrada e imprima os 𝑵 primeiros números ímpares naturais. Para a saída, siga o formato do exemplo abaixo.\n",
        "\n",
        "```\n",
        "Digite o valor de n: 5\n",
        "1\n",
        "3\n",
        "5\n",
        "7\n",
        "9\n",
        "```"
      ],
      "metadata": {
        "id": "BqlUyiGuiSVN"
      }
    },
    {
      "cell_type": "code",
      "source": [
        "n = int(input(\"Digite o valor de n: \"))\n",
        "impar = 1\n",
        "print(impar)\n",
        "i = 0\n",
        "\n",
        "while (i < n - 1):   #um valor é descontado de n, pois já imprimimos um número ímpar no começo\n",
        "  impar = impar + 2\n",
        "  print(impar)\n",
        "  i = i + 1"
      ],
      "metadata": {
        "id": "hHgxMxoIV2WK"
      },
      "execution_count": null,
      "outputs": []
    },
    {
      "cell_type": "markdown",
      "source": [
        "##Exercício 3"
      ],
      "metadata": {
        "id": "uTHziJ_JianU"
      }
    },
    {
      "cell_type": "markdown",
      "source": [
        "Escreva um programa que receba um número inteiro na entrada, calcule e imprima a soma dos dígitos deste número na saída\n",
        "\n",
        "Exemplo:\n",
        "```\n",
        "Digite um número inteiro: 123\n",
        "6\n",
        "```\n",
        "\n"
      ],
      "metadata": {
        "id": "BfKnGtQtib8s"
      }
    },
    {
      "cell_type": "code",
      "execution_count": null,
      "metadata": {
        "id": "rV-a19Q3KQ7N"
      },
      "outputs": [],
      "source": [
        "i = int(input(\"Digite um número inteiro: \"))\n",
        "soma = 0\n",
        "\n",
        "while (i != 0):\n",
        "  algarismo = i % 10\n",
        "  soma = soma + algarismo\n",
        "  i = i // 10\n",
        "\n",
        "print(soma)"
      ]
    },
    {
      "cell_type": "markdown",
      "source": [
        "#Exercícios com variáveis booleanas (indicadores de passagem)\n",
        "\n"
      ],
      "metadata": {
        "id": "eE5REKZz1f7v"
      }
    },
    {
      "cell_type": "markdown",
      "source": [
        "**IMPORTANTE:** *ambas as condições dentro do While devem ser True. --------------------------> While (True)!!*"
      ],
      "metadata": {
        "id": "yfQtlavagdnL"
      }
    },
    {
      "cell_type": "markdown",
      "source": [
        "##Indicador de ordem numérica (crescente ou decrescente)"
      ],
      "metadata": {
        "id": "INgv6Vu_4lVq"
      }
    },
    {
      "cell_type": "code",
      "source": [
        "decrescente = True      #definimos um valor inicial à variável booleana \"decrescente\" (True ou False)\n",
        "anterior = int(input(\"Digite o primeiro número da sequência: \"))  #definimos um primeiro valor inicialmente\n",
        "\n",
        "valor = 1  #definimos um valor aleatório a essa variável, apenas para o while funcionar\n",
        "\n",
        "while (valor != 0 and decrescente):       #enquanto a variável \"valor\" for diferente de 0, e a sequência for decrescente\n",
        "  valor = int(input(\"Digite o próximo número da sequência: \"))\n",
        "  if (valor > anterior):\n",
        "    decrescente = False\n",
        "    #se o valor atual for maior que o anterior, a sequência não é decrescente\n",
        "    #e, portanto, o laço acaba\n",
        "  anterior = valor      #o valor anterior vira o valor atual digitado dentro do while\n",
        "\n",
        "if decrescente:\n",
        "  print(\"A sequência está em ordem decrescente! :-) \")\n",
        "else:\n",
        "  print(\"A sequência não está em ordem decrescente! :-( \")"
      ],
      "metadata": {
        "id": "JrZCS7Y51q34",
        "colab": {
          "base_uri": "https://localhost:8080/"
        },
        "outputId": "00ee2ac5-bcc7-49b8-a922-ffed05b7a6ce"
      },
      "execution_count": null,
      "outputs": [
        {
          "output_type": "stream",
          "name": "stdout",
          "text": [
            "Digite o primeiro número da sequência: 10\n",
            "Digite o próximo número da sequência: 8\n",
            "Digite o próximo número da sequência: 0\n",
            "A sequência está em ordem decrescente! :-) \n"
          ]
        }
      ]
    },
    {
      "cell_type": "markdown",
      "source": [
        "##Verificador de dígitos adjacentes iguais"
      ],
      "metadata": {
        "id": "1IC0gQIxIp83"
      }
    },
    {
      "cell_type": "markdown",
      "source": [
        "###![image.png](data:image/png;base64,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)"
      ],
      "metadata": {
        "id": "lWXjbHG8Ikn4"
      }
    },
    {
      "cell_type": "code",
      "source": [
        "n = int(input(\"Digite um número inteiro: \"))\n",
        "algarismos_iguais = False\n",
        "algarismo_anterior = n % 10\n",
        "\n",
        "while (n != 0 and not algarismos_iguais):\n",
        "  n = n // 10\n",
        "  prox_algarismo = n % 10\n",
        "  if (prox_algarismo == algarismo_anterior):\n",
        "    algarismos_iguais = True\n",
        "  algarismo_anterior = prox_algarismo\n",
        "\n",
        "if (algarismos_iguais):\n",
        "  print(\"sim\")\n",
        "else:\n",
        "  print(\"não\")"
      ],
      "metadata": {
        "id": "Hd0H4FakIlTI",
        "outputId": "b4d7337b-8074-43f1-c83b-ac353fe9de81",
        "colab": {
          "base_uri": "https://localhost:8080/"
        }
      },
      "execution_count": null,
      "outputs": [
        {
          "output_type": "stream",
          "name": "stdout",
          "text": [
            "Digite um número inteiro: 101\n",
            "não\n"
          ]
        }
      ]
    },
    {
      "cell_type": "markdown",
      "source": [
        "##Verificador de números primos"
      ],
      "metadata": {
        "id": "ihAdEOxhjnsc"
      }
    },
    {
      "cell_type": "markdown",
      "source": [
        "###![image.png](data:image/png;base64,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)"
      ],
      "metadata": {
        "id": "sK3wUquzjyp8"
      }
    },
    {
      "cell_type": "code",
      "source": [
        "n = int(input(\"Digite um número inteiro: \"))\n",
        "primo = True\n",
        "i = 2\n",
        "\n",
        "while (n < 0):\n",
        "  print(\"n deve ser maior que zero\")\n",
        "  n = int(input(\"Digite um número inteiro: \"))\n",
        "\n",
        "while (i < n and primo):\n",
        "  divisao = n % i\n",
        "  i = i + 1\n",
        "  if (divisao == 0):\n",
        "    primo = False\n",
        "\n",
        "if (n == 1 or n == 2 or primo == True):\n",
        "  print(\"primo\")\n",
        "\n",
        "elif (primo == False):\n",
        "  print(\"não primo\")"
      ],
      "metadata": {
        "id": "f29DZjFRjm-E"
      },
      "execution_count": null,
      "outputs": []
    },
    {
      "cell_type": "markdown",
      "source": [
        "#Funções"
      ],
      "metadata": {
        "id": "SeetkRwbX67v"
      }
    },
    {
      "cell_type": "markdown",
      "source": [
        "##Conceito"
      ],
      "metadata": {
        "id": "WxqmefdCXoO7"
      }
    },
    {
      "cell_type": "code",
      "source": [
        "#def: definição de uma função\n",
        "\n",
        "#def *nome da função* (parâmetros)\n",
        "      #return *cálculos com os parâmetros definidos*\n",
        "#exemplo:\n",
        "\n",
        "def soma (x, y):\n",
        "  return x + y\n",
        "\n",
        "print(soma(10, 20))\n",
        "print(soma(-20, 100))\n",
        "\n",
        "#uma função pode não ter parâmetros, e daí, ela sempre\n",
        "#retornará o mesmo valor, por exemplo:\n",
        "\n",
        "def meu_nome ():\n",
        "  return \"Bruno\"\n",
        "\n",
        "#uma função pode não devolver valor, caso ela seja definida sem o return"
      ],
      "metadata": {
        "id": "0LV-lrJwZC2_"
      },
      "execution_count": null,
      "outputs": []
    },
    {
      "cell_type": "markdown",
      "source": [
        "##Exercícios"
      ],
      "metadata": {
        "id": "XfnBbGprfQst"
      }
    },
    {
      "cell_type": "markdown",
      "source": [
        "###Binômios de Newton"
      ],
      "metadata": {
        "id": "Rd_tiiWFX3AM"
      }
    },
    {
      "cell_type": "code",
      "source": [
        "#Ex 1 - Fazer a fórmula dos binômios de newton usando funções\n",
        "\n",
        "def fatorial (x):\n",
        "  if (x >= 0):\n",
        "    fatorial = 1\n",
        "  else:\n",
        "    fatorial = 0\n",
        "  while (x > 1):\n",
        "    fatorial = fatorial * x\n",
        "    x = x - 1\n",
        "  return (fatorial)\n",
        "\n",
        "def binomios_newton (n, k):\n",
        "  return int((fatorial(n) / (fatorial(k) * fatorial(n - k))))"
      ],
      "metadata": {
        "id": "AMRWXlcEfWRL"
      },
      "execution_count": null,
      "outputs": []
    },
    {
      "cell_type": "markdown",
      "source": [
        "###Fórmula de Bhaskara"
      ],
      "metadata": {
        "id": "5k8ovo0yIguE"
      }
    },
    {
      "cell_type": "code",
      "source": [
        "import math\n",
        "\n",
        "def main():\n",
        "  a = float(input(\"Digite o valor de a: \"))\n",
        "  b = float(input(\"Digite o valor de b: \"))\n",
        "  c = float(input(\"Digite o valor de c: \"))\n",
        "  imprime_raizes(a, b, c)\n",
        "\n",
        "def delta(a, b, c):\n",
        "  return b ** 2 - 4 * a * c\n",
        "\n",
        "def imprime_raizes(a, b, c):\n",
        "  d = delta(a, b, c)\n",
        "\n",
        "  if d == 0:\n",
        "    raiz1 = (-b + math.sqrt(d)) / (2 * a)\n",
        "    print(\"A única raíz é: \", raiz1)\n",
        "\n",
        "  else:\n",
        "    if d < 0:\n",
        "      print(\"Esta equação não possui raízes reais\")\n",
        "    else:\n",
        "      raiz1 = (-b + math.sqrt(d)) / (2 * a)\n",
        "      raiz2 = (-b - math.sqrt(d)) / (2 * a)\n",
        "      print(\"A primeira raíz é: \", raiz1)\n",
        "      print(\"A segunda raíz é: \", raiz2)"
      ],
      "metadata": {
        "id": "iBdRxkqcIlnN"
      },
      "execution_count": null,
      "outputs": []
    },
    {
      "cell_type": "markdown",
      "source": [
        "###Exercício 3"
      ],
      "metadata": {
        "id": "N1ishX24X9rX"
      }
    },
    {
      "cell_type": "markdown",
      "source": [
        "Escreva a função maximo que recebe 2 números inteiros como parâmetro e devolve o maior deles"
      ],
      "metadata": {
        "id": "_yPR5m5Vgu4c"
      }
    },
    {
      "cell_type": "code",
      "source": [
        "def maximo (x, y):\n",
        "  return (max (x, y))"
      ],
      "metadata": {
        "id": "4GsrZ-T73Sex"
      },
      "execution_count": null,
      "outputs": []
    },
    {
      "cell_type": "markdown",
      "source": [
        "###Exercício 4"
      ],
      "metadata": {
        "id": "LlQidGHCYE1i"
      }
    },
    {
      "cell_type": "code",
      "source": [
        "def Primo (k):\n",
        "  primo = True\n",
        "  i = 2\n",
        "\n",
        "  while (i < k and primo):\n",
        "    divisao = k % i\n",
        "    i = i + 1\n",
        "    if (divisao == 0):\n",
        "      primo = False\n",
        "\n",
        "  if (primo == True):\n",
        "    return (k)\n",
        "\n",
        "def maior_primo (x):\n",
        "  i = 2\n",
        "\n",
        "  while (i <= x):\n",
        "    if (Primo (i) == i):     #se a função Primo (k) retornar k, ou seja, se o valor for primo\n",
        "      maior_primo = i\n",
        "      i = i + 1\n",
        "    else:\n",
        "      i = i + 1\n",
        "\n",
        "  return (maior_primo)"
      ],
      "metadata": {
        "id": "rQ0y7nC2nami"
      },
      "execution_count": null,
      "outputs": []
    },
    {
      "cell_type": "markdown",
      "source": [
        "###Verificador de vogais"
      ],
      "metadata": {
        "id": "IoqYlDbVYO4f"
      }
    },
    {
      "cell_type": "code",
      "source": [
        "def vogal (x):\n",
        "  vogais = {\n",
        "      \"a\", \"A\", \"e\",\n",
        "      \"E\", \"i\", \"I\",\n",
        "      \"o\", \"O\", \"u\", \"U\"\n",
        "      }\n",
        "\n",
        "  if x in vogais:\n",
        "    Vogal = True\n",
        "    return Vogal\n",
        "\n",
        "  else:\n",
        "    Vogal = False\n",
        "    return Vogal"
      ],
      "metadata": {
        "id": "6vCHwdjAJKI_"
      },
      "execution_count": null,
      "outputs": []
    },
    {
      "cell_type": "markdown",
      "source": [
        "#Repetições encaixadas (exercícios)"
      ],
      "metadata": {
        "id": "NPp9eRFKKzaF"
      }
    },
    {
      "cell_type": "markdown",
      "source": [
        "##Exercício 1"
      ],
      "metadata": {
        "id": "5L3A3Q9JK6mY"
      }
    },
    {
      "cell_type": "markdown",
      "source": [
        "Tabuada"
      ],
      "metadata": {
        "id": "qI41bvY4f92R"
      }
    },
    {
      "cell_type": "code",
      "source": [
        "linha = 1\n",
        "coluna = 1\n",
        "#uma tabuada tem linhas e colunas\n",
        "\n",
        "while linha <= 10:  #a tabuada tem dez linhas e dez colunas\n",
        "  while coluna <= 10:\n",
        "    print(coluna, \"x\", linha, \"=\", linha * coluna, end = \"\\t\")   #\\t --> representa o espaçamento \"tab\"\n",
        "    #end = \"____\"   representa o que deve ser acrescentado depois do último print, o padrão é \"pular\" uma linha (\\n --> \"new line\")\n",
        "    coluna = coluna + 1\n",
        "  linha = linha + 1   #quando o laço da coluna terminar, aumentamos 1 no valor da linha\n",
        "  print()   #usamos esse print vazio apenas para pular uma linha, já que o end padrão é o \\n\n",
        "  coluna = 1   #voltamos o valor de coluna para 1, para que o seu laço recomeçe"
      ],
      "metadata": {
        "id": "FiYM_0fLK31n",
        "colab": {
          "base_uri": "https://localhost:8080/"
        },
        "outputId": "d84b5d3a-75d6-403a-e1f1-f8daabde0f8f"
      },
      "execution_count": null,
      "outputs": [
        {
          "output_type": "stream",
          "name": "stdout",
          "text": [
            "1 x 1 = 1\t2 x 1 = 2\t3 x 1 = 3\t4 x 1 = 4\t5 x 1 = 5\t6 x 1 = 6\t7 x 1 = 7\t8 x 1 = 8\t9 x 1 = 9\t10 x 1 = 10\t\n",
            "1 x 2 = 2\t2 x 2 = 4\t3 x 2 = 6\t4 x 2 = 8\t5 x 2 = 10\t6 x 2 = 12\t7 x 2 = 14\t8 x 2 = 16\t9 x 2 = 18\t10 x 2 = 20\t\n",
            "1 x 3 = 3\t2 x 3 = 6\t3 x 3 = 9\t4 x 3 = 12\t5 x 3 = 15\t6 x 3 = 18\t7 x 3 = 21\t8 x 3 = 24\t9 x 3 = 27\t10 x 3 = 30\t\n",
            "1 x 4 = 4\t2 x 4 = 8\t3 x 4 = 12\t4 x 4 = 16\t5 x 4 = 20\t6 x 4 = 24\t7 x 4 = 28\t8 x 4 = 32\t9 x 4 = 36\t10 x 4 = 40\t\n",
            "1 x 5 = 5\t2 x 5 = 10\t3 x 5 = 15\t4 x 5 = 20\t5 x 5 = 25\t6 x 5 = 30\t7 x 5 = 35\t8 x 5 = 40\t9 x 5 = 45\t10 x 5 = 50\t\n",
            "1 x 6 = 6\t2 x 6 = 12\t3 x 6 = 18\t4 x 6 = 24\t5 x 6 = 30\t6 x 6 = 36\t7 x 6 = 42\t8 x 6 = 48\t9 x 6 = 54\t10 x 6 = 60\t\n",
            "1 x 7 = 7\t2 x 7 = 14\t3 x 7 = 21\t4 x 7 = 28\t5 x 7 = 35\t6 x 7 = 42\t7 x 7 = 49\t8 x 7 = 56\t9 x 7 = 63\t10 x 7 = 70\t\n",
            "1 x 8 = 8\t2 x 8 = 16\t3 x 8 = 24\t4 x 8 = 32\t5 x 8 = 40\t6 x 8 = 48\t7 x 8 = 56\t8 x 8 = 64\t9 x 8 = 72\t10 x 8 = 80\t\n",
            "1 x 9 = 9\t2 x 9 = 18\t3 x 9 = 27\t4 x 9 = 36\t5 x 9 = 45\t6 x 9 = 54\t7 x 9 = 63\t8 x 9 = 72\t9 x 9 = 81\t10 x 9 = 90\t\n",
            "1 x 10 = 10\t2 x 10 = 20\t3 x 10 = 30\t4 x 10 = 40\t5 x 10 = 50\t6 x 10 = 60\t7 x 10 = 70\t8 x 10 = 80\t9 x 10 = 90\t10 x 10 = 100\t\n"
          ]
        }
      ]
    },
    {
      "cell_type": "markdown",
      "source": [
        "##Exercício 2"
      ],
      "metadata": {
        "id": "PwU2UgMFr2XX"
      }
    },
    {
      "cell_type": "markdown",
      "source": [
        "Ler uma sequência de números digitados pelo usuário e, para cada número digitado, informar o seu fatorial"
      ],
      "metadata": {
        "id": "p8PyoQo4f5pZ"
      }
    },
    {
      "cell_type": "code",
      "source": [
        "n = int(input(\"Digite um número inteiro positivo: \"))\n",
        "numero = n\n",
        "\n",
        "while (n >= 0):\n",
        "  fatorial = 1\n",
        "  while n > 1:\n",
        "    fatorial = fatorial * n\n",
        "    n = n - 1\n",
        "  print(\"%d! =\" % numero, fatorial)      #%d é um placeholder (marcador de posição), utilizado para reservar números\n",
        "  n = int(input(\"Digite um número inteiro: \"))\n",
        "  numero = n"
      ],
      "metadata": {
        "id": "t5uvjorYhrYh"
      },
      "execution_count": null,
      "outputs": []
    },
    {
      "cell_type": "markdown",
      "source": [
        "##Exercício 3"
      ],
      "metadata": {
        "id": "_unC4xBr22BB"
      }
    },
    {
      "cell_type": "markdown",
      "source": [
        "Escreva um programa que recebe como entradas dois números inteiros correspondentes à largura e altura de um retângulo, respectivamente. O programa deve imprimir, usando repetições encaixadas (laços aninhados), uma cadeia de caracteres que represente, na saída, o retângulo informado com caracteres \"#\""
      ],
      "metadata": {
        "id": "-JJTktMjgBZ9"
      }
    },
    {
      "cell_type": "code",
      "source": [
        "largura = int(input(\"digite a largura: \"))\n",
        "l = largura\n",
        "altura = int(input(\"digite a altura: \"))\n",
        "\n",
        "while (altura >= 1):\n",
        "  while (largura >= 1):\n",
        "    print(\"#\", end = \"\")\n",
        "    largura = largura - 1\n",
        "  altura = altura - 1\n",
        "  print()\n",
        "  largura = l"
      ],
      "metadata": {
        "id": "mBXIJzk1mnZk"
      },
      "execution_count": null,
      "outputs": []
    },
    {
      "cell_type": "markdown",
      "source": [
        "##Exercício 4"
      ],
      "metadata": {
        "id": "UGAEYpE627JP"
      }
    },
    {
      "cell_type": "markdown",
      "source": [
        "Refaça o exercício anterior, imprimindo os retângulos sem preenchimento, de forma que os caracteres que não estiverem na borda do retângulo sejam espaços."
      ],
      "metadata": {
        "id": "Cl_pqQhVgHT-"
      }
    },
    {
      "cell_type": "code",
      "source": [
        "largura = int(input(\"digite a largura: \"))\n",
        "l = largura   #valor inicial da largura definido pelo usuário\n",
        "altura = int(input(\"digite a altura: \"))\n",
        "h = altura     #valor inicial da altura definido pelo usuário\n",
        "\n",
        "while (altura >= 1):\n",
        "  while (largura >= 1):\n",
        "    if (h > altura and altura > 1):\n",
        "      if (largura == l):\n",
        "        print(\"#\", end = \"\")\n",
        "        largura = largura - 1\n",
        "      else:\n",
        "        print(\" \", end = \"\")\n",
        "        largura = largura - 1\n",
        "      if (largura == 1):\n",
        "        print(\"#\", end = \"\")\n",
        "        largura = 0\n",
        "    else:\n",
        "      print(\"#\", end = \"\")\n",
        "      largura = largura - 1\n",
        "  altura = altura - 1\n",
        "  print()\n",
        "  largura = l"
      ],
      "metadata": {
        "colab": {
          "base_uri": "https://localhost:8080/"
        },
        "id": "oW7oJ-8eovrz",
        "outputId": "9befbbb6-610a-4e93-95a1-d0174bfdf864"
      },
      "execution_count": null,
      "outputs": [
        {
          "output_type": "stream",
          "name": "stdout",
          "text": [
            "digite a largura: 2\n",
            "digite a altura: 2\n",
            "##\n",
            "##\n"
          ]
        }
      ]
    },
    {
      "cell_type": "markdown",
      "source": [
        "#Listas"
      ],
      "metadata": {
        "id": "iunP5F6U5xw1"
      }
    },
    {
      "cell_type": "markdown",
      "source": [
        "*   Também chamadas de array ou vetor;\n",
        "\n",
        "*   Para declarar uma lista, criamos uma variável usando os colchetes [ ];\n",
        "*   A contagem, na ciência da computação, sempre começa do 0. Por exemplo, em uma lista com quatro elementos, o primeiro elemento está na posição 0;\n",
        "\n",
        "\n",
        "* Para descobrirmos o número de elementos (tamanho) de uma lista, usamos o comando len (length);\n",
        "*   Podemos mesclar os elementos de uma lista. Por exemplo, uma lista com quatro elementos pode conter dois elementos da classe string, e dois da classe float/int;\n",
        "\n",
        "\n",
        "\n",
        "*  Ao usarmos um valor negativo dentro dos colchetes, a contagem é de trás pra frente. Por exemplo, a posição -1 é o primeiro elemento da lista (de trás pra frente)."
      ],
      "metadata": {
        "id": "LEi4OlS3fs5l"
      }
    },
    {
      "cell_type": "markdown",
      "source": [
        "##Funções"
      ],
      "metadata": {
        "id": "E-h9cftO-60H"
      }
    },
    {
      "cell_type": "markdown",
      "source": [
        "###1.   nome_da_lista.append( )"
      ],
      "metadata": {
        "id": "BYVcRPhUd9f7"
      }
    },
    {
      "cell_type": "markdown",
      "source": [
        "Concatena um elemento no final da lista, ou seja, adiciona um elemento à lista;\n",
        "\n",
        "Exemplo:\n",
        "```\n",
        "l = []\n",
        "\n",
        "l.append(\"Chocolate\")\n",
        "```"
      ],
      "metadata": {
        "id": "d858MsxkfcEx"
      }
    },
    {
      "cell_type": "markdown",
      "source": [
        "###2. len(nome_da_lista)"
      ],
      "metadata": {
        "id": "RZPZrTj-eEG2"
      }
    },
    {
      "cell_type": "markdown",
      "source": [
        "Função usada para quantificar o número de elementos de uma lista.\n",
        "\n",
        "  No exemplo abaixo, o valor retornado será 3.\n",
        "\n",
        "Exemplo:\n",
        "```\n",
        "comidas = [\"Arroz\", \"feijão\", \"beterraba\"]\n",
        "\n",
        "print(len(comidas))\n",
        "```"
      ],
      "metadata": {
        "id": "yBSJJ3jlfXDP"
      }
    },
    {
      "cell_type": "markdown",
      "source": [
        "###3. [ ]"
      ],
      "metadata": {
        "id": "0MpUWVpYeQ2N"
      }
    },
    {
      "cell_type": "markdown",
      "source": [
        "Os colchetes vazios são usados para declarar uma lista vazia"
      ],
      "metadata": {
        "id": "xmDIhyexfRXM"
      }
    },
    {
      "cell_type": "markdown",
      "source": [
        "###4. Chamar um valor que está dentro de uma lista"
      ],
      "metadata": {
        "id": "ksanKnCCeWcO"
      }
    },
    {
      "cell_type": "markdown",
      "source": [
        "Usamos a notação: [posição do item na lista], para \"chamar\" um valor que está dentro de uma lista\n",
        "\n",
        "  O valor retornado abaixo será 'Água'.\n",
        "\n",
        "Exemplo:\n",
        "```\n",
        "Bebidas = [\"Água\", \"Refrigerante\", \"Suco\"]\n",
        "\n",
        "print(Bebidas[0])\n",
        "```"
      ],
      "metadata": {
        "id": "xTqX2LbWhXdf"
      }
    },
    {
      "cell_type": "markdown",
      "source": [
        "###5. Comando \"for\"\n",
        "\n",
        "Estrutura de repetição (igual o while) que é muito útil para percorrer os valores de uma lista\n"
      ],
      "metadata": {
        "id": "I-zv2fIBecxy"
      }
    },
    {
      "cell_type": "markdown",
      "source": [
        "####Sintaxe"
      ],
      "metadata": {
        "id": "7T9yyMwUe99a"
      }
    },
    {
      "cell_type": "markdown",
      "source": [
        "```\n",
        "for nome de variável qualquer in lista:\n",
        "    COMANDO\n",
        "```\n",
        "\n",
        "* O número de iterações do comando for é sempre igual ao número de elementos da lista\n",
        "\n",
        " Exemplo:\n",
        "```\n",
        "# Isto está formatado como código\n",
        "```"
      ],
      "metadata": {
        "id": "CNWhfLxTfDl_"
      }
    },
    {
      "cell_type": "markdown",
      "source": [
        "####Comando range"
      ],
      "metadata": {
        "id": "bGVbJpXFe0GN"
      }
    },
    {
      "cell_type": "markdown",
      "source": [
        "Usado para representar um determinado intervalo de elementos\n",
        "\n",
        "  E pode ser usado junto ao comando for, também. Por exemplo:\n",
        "```\n",
        "for i in range (fim):\n",
        "    COMANDO\n",
        "    Se for 20, vamos imprimir 20 elementos. Sempre começando do 0\n",
        "\n",
        "    for i in range (início, fim):\n",
        "        COMANDO\n",
        "\n",
        "    for i in range (início, fim, passo):\n",
        "        COMANDO\n",
        "\n",
        "    O passo é usado para determinar o intervalo de repetição.\n",
        "```"
      ],
      "metadata": {
        "id": "AszHFqh6fMil"
      }
    },
    {
      "cell_type": "markdown",
      "source": [
        "###6. Fatiamento de listas"
      ],
      "metadata": {
        "id": "RHMuoOWViTRG"
      }
    },
    {
      "cell_type": "markdown",
      "source": [
        "Para se fatiar listas usa-se a notação [posição do elemento que se pretende iniciar a fatiação : posição do elemento final da lista fatiada]\n",
        "\n",
        "O tamanho de elementos da será o número que representa a posição do elemento final da lista fatiada subtraído do número da posição do elemento inicial.\n",
        "\n",
        "```\n",
        "Por exemplo:\n",
        "\n",
        "numeros_1_a_10 = [1, 2, 3, 4, 5, 6, 7, 8, 9, 10]\n",
        "\n",
        "numeros_1_a_5 = numeros_1_a_10[:5]\n",
        "\n",
        "numeros_5_a_10 = numeros_1_a_10[4:10]\n",
        "\n",
        "---> numeros_1_a_5 = [1, 2, 3, 4, 5]\n",
        "\n",
        "---> numeros_5_a_10 = [5, 6, 7, 8, 9, 10]\n",
        "\n",
        "Quando a contagem começa do valor inicial, não é necessário inserir o 0, apenas colocamos o \":\" direto\n",
        "\n",
        "A mesma coisa serve para quando termina no fim.\n",
        "```\n",
        "\n"
      ],
      "metadata": {
        "id": "Mmtmm7Emibaj"
      }
    },
    {
      "cell_type": "markdown",
      "source": [
        "###7. Clonagem de listas"
      ],
      "metadata": {
        "id": "47tnqiv-o4X3"
      }
    },
    {
      "cell_type": "markdown",
      "source": [
        "Quando atribuímos uma lista a outra variável, não estamos clonando uma lista, estamos apenas criando duas variáveis com referência para uma mesma lista.\n",
        "\n",
        "Para se criar uma nova lista, é necessário realizar a clonagem, através da demonstração abaixo:\n",
        "\n",
        "```\n",
        "Lista1 = [\"vermelho, \"rosa\", \"azul\"]\n",
        "\n",
        "Lista2 = Lista1\n",
        "\n",
        "Lista2[0] = [\"rosa\"]\n",
        "\n",
        "```\n",
        "O elemento inicial nas duas listas fica igual.\n",
        "\n",
        "Para resolvermos esse problema, e alterar somente o elemento da lista2, precisamos clonar a lista 1 e igualar a lista 2 a esse clone.\n",
        "\n",
        "O clone é realizado por essa notação:\n",
        "\n",
        "[:]\n",
        "\n",
        "Então, escrevemos:\n",
        "\n",
        "```\n",
        "Lista1 = [\"vermelho, \"rosa\", \"azul\"]\n",
        "\n",
        "Lista2 = Lista1[:]\n",
        "\n",
        "Lista2[0] = [\"rosa\"]\n",
        "```\n",
        "\n",
        "Assim, a lista 1 e a lista 2 formam listas independentes entre si. De tal forma que, ao digitarmos o código acima, somente o valor inicial da lista 2 é alterado.\n",
        "\n",
        "\n"
      ],
      "metadata": {
        "id": "Ty8LNLEOpBPt"
      }
    },
    {
      "cell_type": "markdown",
      "source": [
        "###8. Pertinência a uma lista"
      ],
      "metadata": {
        "id": "gxb0io3nqfVI"
      }
    },
    {
      "cell_type": "markdown",
      "source": [
        "Conseguimos verificar se um elemento está ou não em uma lista através do uso do comando \"in\"\n",
        "\n",
        "Por exemplo:\n",
        "\n",
        "\n",
        "```\n",
        "Lista1 = [\"vermelho, \"rosa\", \"azul\"]\n",
        "\n",
        "Lista2 = Lista1[:]\n",
        "\n",
        "Lista2[0] = [\"rosa\"]\n",
        "\n",
        "\"rosa\" in lista 1\n",
        "\n",
        "(a resposta será False)\n",
        "```"
      ],
      "metadata": {
        "id": "43kRa25kqin_"
      }
    },
    {
      "cell_type": "markdown",
      "source": [
        "###9. Concatenação de listas"
      ],
      "metadata": {
        "id": "L4m_E4vQrFkc"
      }
    },
    {
      "cell_type": "markdown",
      "source": [
        "Geração de uma nova lista a partir da adição de uma lista Y ao final de uma lista X\n",
        "\n",
        "Por exemplo:\n",
        "\n",
        "```\n",
        "[1, 2] + [3, 4]\n",
        "\n",
        "[1, 2, 3, 4]\n",
        "```\n",
        "\n",
        "```\n",
        "a = [1, 2, 3]\n",
        "b = [4, 5, 6]\n",
        "\n",
        "b + a\n",
        "[4, 5, 6, 1, 2, 3]\n",
        "\n",
        "b + a + b\n",
        "[4, 5, 6, 1, 2, 3, 4, 5, 6]\n",
        "```\n",
        "\n",
        "A diferença do comando append é que a concatenação gera uma nova lista a partir da junção de outras listas, enquanto a função append apenas altera uma lista existente.\n"
      ],
      "metadata": {
        "id": "Lixsj6TirNU5"
      }
    },
    {
      "cell_type": "markdown",
      "source": [
        "###10. Repetição de listas"
      ],
      "metadata": {
        "id": "pCo-MLgysrHw"
      }
    },
    {
      "cell_type": "markdown",
      "source": [
        "Conseguimos criar listas a partir de repetições.\n",
        "\n",
        "Por exemplo:\n",
        "\n",
        "```\n",
        "a = [1, 2, 3]\n",
        "\n",
        "a_triplicado = a * 3\n",
        "\n",
        "a_triplicado\n",
        "[1, 2, 3, 1, 2, 3, 1, 2, 3]\n",
        "```\n",
        "\n",
        "O asterisco, neste caso, não representa uma multiplicação numérica. E sim a repetição de uma lista N vezes."
      ],
      "metadata": {
        "id": "6ZZWqq_Zstns"
      }
    },
    {
      "cell_type": "markdown",
      "source": [
        "###11. Remoção de elementos em listas"
      ],
      "metadata": {
        "id": "CVM8cHJ2tcT-"
      }
    },
    {
      "cell_type": "markdown",
      "source": [
        "Conseguimos remover elementos de uma lista, a partir do comando \"del\":\n",
        "\n",
        "```\n",
        "a = [1, 2, 3]\n",
        "\n",
        "del a[1]\n",
        "\n",
        "a\n",
        "[1, 3]\n",
        "```"
      ],
      "metadata": {
        "id": "gSEhD_litf8Z"
      }
    },
    {
      "cell_type": "markdown",
      "source": [
        "##Exercícios"
      ],
      "metadata": {
        "id": "HQ6UJaa0FJ3k"
      }
    },
    {
      "cell_type": "markdown",
      "source": [
        "###Exercício 1"
      ],
      "metadata": {
        "id": "VMVsFE6bF9Rj"
      }
    },
    {
      "cell_type": "markdown",
      "source": [
        "![image.png](data:image/png;base64,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)"
      ],
      "metadata": {
        "id": "tNn0Bed90Raz"
      }
    },
    {
      "cell_type": "code",
      "source": [
        "\"\"\"\n",
        "A função remove_repetidos recebe uma lista como parâmetro\n",
        "e começa convertendo a lista em um conjunto utilizando a função set.\n",
        "\n",
        "Um conjunto é uma coleção não ordenada de elementos únicos, o que significa que,\n",
        "quando convertemos uma lista em um conjunto, todos os elementos repetidos são automaticamente removidos.\n",
        "\n",
        "Em seguida, a função converte o conjunto de volta para uma lista\n",
        "utilizando a função list e ordena a lista utilizando a função sorted.\n",
        "\n",
        "Por fim, a função retorna a nova lista sem elementos repetidos e ordenada.\n",
        "\"\"\"\n",
        "\n",
        "def remove_repetidos(lista):\n",
        "\n",
        "    #Remove elementos repetidos de uma lista de inteiros e retorna a lista ordenada.\n",
        "\n",
        "    # conversão da lista em um conjunto para remover os elementos repetidos\n",
        "    conjunto = set(lista)\n",
        "    # conversão do conjunto em uma lista ordenada\n",
        "    nova_lista = sorted(list(conjunto))\n",
        "    return nova_lista"
      ],
      "metadata": {
        "id": "9hx-7uJj0Svx",
        "colab": {
          "base_uri": "https://localhost:8080/"
        },
        "outputId": "af23c2eb-f62d-4b53-f8f9-fc0ad198de94"
      },
      "execution_count": null,
      "outputs": [
        {
          "output_type": "execute_result",
          "data": {
            "text/plain": [
              "[1, 2, 3, 4, 5, 6]"
            ]
          },
          "metadata": {},
          "execution_count": 2
        }
      ]
    },
    {
      "cell_type": "markdown",
      "source": [
        "###Exercício 2"
      ],
      "metadata": {
        "id": "_a0CElEhGAQ8"
      }
    },
    {
      "cell_type": "markdown",
      "source": [
        "![image.png](data:image/png;base64,iVBORw0KGgoAAAANSUhEUgAAA9EAAABtCAYAAACm0OLgAAAAAXNSR0IArs4c6QAAAARnQU1BAACxjwv8YQUAAAAJcEhZcwAADsMAAA7DAcdvqGQAACjaSURBVHhe7d1/6H7z/fjx8/7+xWoZUWYyY9ObpJQfpVBKsWzz6x/CH5sff8iPlBpl01vjDzE/UmP8Me+yVoZGUWJhIRST0PyYEMJoKaxW7+/ux/W4Po/3831+PM/1ul7vn/dbXb2u6zrnPM/z57mez3Oe57zWbPifRpIkSZIkjfp/s7+SJEmSJGmEg2hJkiRJkiptt4Pot99+u7nrrrtmnyRJkiRJWrntchD9+eefN1dffXVzzTXXNLfccsvs23GsO2V9SdpcOK6dc845zQsvvDD7RpIkSVvCdjmIXr9+ffPkk082xxxzTHPSSSc1X3/99WxJvwceeKC58cYb25ed1K0LZbPvvvs2V155ZVVZbi7MdjjxxBPbF++1OjixRfnvSCe4yjRT76+//vr2uMZ3DKglSZK0ZfQOoum0MWihI9f14orI1tiRi8EwA+ibb7652W+//ZqddtpptrTfIYcc0hx44IHta7fddpt9uzIMxnOercYgsNwHL08CaCXiiufW2sZ3RBzDjjjiiPb93nvv3ey8887t+xpxEoq/kiRJWrnt7kr0AQcc0Jx55pntAHrXXXedfTuOwfbDDz/cvni/UlwtOv3002efvnHPPfc0559//tIGJnSKy32A7xwAaVHUm08++WT2SVuLk08+uXnnnXeaa6+9turEYHj33Xdn7yRJkrQMVYPom266qe285dfdd989aZC6uRx00EFtJ3NLxo0rwXE1/MUXX2zz6/HHH2+vcjMd84knnpituTimD99+++3t+1w+7I/9nnfeee0ySZIkSdLyrOhKdEz7ZKpgvl+x7/u4hzSmHZfTm2O7+J5tWa+8qhrfxytPU4xleb8hpjXGqytuXfe3llOmx67yHnbYYZucaODq9gUXXNC+X8aVoc8++6x57bXX2gHzscceO/u2affHfo8++uhNTiTUpCNP/SzLK/K5DKdr+ni5bd96pfI2At5/+eWXs6WbKutCV7mjXC/XmT5lOvvC7lKmo6teRZzYT1+e5jrbFQbKvO5rV1HeOS9ymBHn4447rq1bnPA59NBD2/VyfpX764tXmaYyXl0irrHNUJ7X5HGW18/p6ft+WeWT1+E1dvzoE+GU+diXz/E9J/Rw6aWXtp/z/sv85pXzQJIkSZta0SCaQRpPweYKa34gF1da6YAzrZrpy6BjFp3z0De9+f3332/WrVs37/wxKGVf0eGL7wOdw6GOX3SSWS8jnLGBEcvLKdORtqEO+2rjvu24ss2D1MZMTQd5VZZXdMLLcAg7yjDyutwWV1111WCeEQb1gXoReE94pb66wOdykEH8uupMuV7WlV9dYXchjaeccspG6SAvyJNoIxn7KffFZ/I611nCuPPOOzfa/5R2FYPinBddYQ7p2l9X2nhfpol4kS99dYDvqY/EMxDXsuwwNY9XYtHyIY4MrPM6IH08JKw2z4cM5fMHH3ww+6YbdZz6kPMbxHfZeShJkrQ9qRpE06mKqxS88hWXfIX1vvvuaz788MP2LwO8c889t713j3Vj6vG99947n3p82WWXtR24cnoz3zEtmSnQrHfxxRe3Hc54Oi1hxzLWYxDJ/YJ97rjjjnlnO/b/+uuvN7///e/bsPvQkYwOfN6Ojv7UwQfiCvRRRx3V/l0J8p1yAHGkXPqucC2aDson8pgr3iG+z1PU33rrrXYZ5X3qqae2YbOPvD37euihh9r1usRT1cvyzfsO+QnsrJPjQ1k/8sgj7XrkRwwIct277rrrmssvv7zz3tLIrxyPyC/CfuWVV2Zrbop8JD9Ja+QTL/YN2kZXXseU/EhDiO9je9Iag6Op7Qo5TWWY5AW3QsT3OW9pX3l/+RYC9od8MuXpp59u/5Z5wL+d63rmQM63rjLNFs3jlVikfKKN5ryK9cbqUa2hfP7pT386r7eIeMQMGf5zwU9+8pN5Xud1VyMPJUmSthdLebDYCSecMB9g/OY3v2k78HQeo7P88ssvzzu8XFUOdOLokD733HObdNjKzjYdUzp7yMvoDDJ1uU8eRNGJjP0zYDj++OPb932ig0raDj744PY923FygHhP6QjHwIwBwv777z/7dmU4AUCaAvnOlaVyML1IOlg3ZhGQx5FvlGGceNhrr73a/YHZA4F188OP2J6BNT766KPOznkuJ07K5PKNbUNel2WsA7bJJ3RyHiDH8YwzzphvV4r8yvEgLRGPWN4l6inlfPbZZ8++bdp8J0/zICuQp3ESKOcpZRvfU2cIk3bEVH6stF11hTkk9sc2+RYC0sl3XQP3XN7EMcczy+2b+pXLNE4WhUXyeCUWLR+QllgHEUfk+rhStfmckbe33nrrPK9zHSduX331VftekiRJG1vowWLlE6xz54srjWXnNq7AxhXTeJXTQofke4CnDEIZSPGkYQYV/BurWnRI6ZiCfy0TA0L0DR77EAeu0iEPEErsk+nCOY/6ri4HOuiUSb5CxmDmkksuabdbZjqmYqAb6SintJainMC/8BkyVKbxr8pYznrkdQz6Y0ZFnklRyvlVzsAop812iXoaJzRi27Vr17YnK5ZpGe1qitgfA7Rch3kfg7ZYJwbWpJm0E6+hWy4i3yi7sX8xtznzeFlo/6sRx6n53IW2QJtg25o6LkmStKNbypVorMYgbHvAoCymoXMyouYK0SI4qcHJjRhMd10V3FzoxNMh5x7omDpM2rcU8pw4cEURDMAYaE4dbKgeA2umDcf0ZXBSouae8u1FPinGiRmmS+cp08uwknyOk1y0BWYo0EZyOJIkSeq2lEF03CvJFRE6iAzg8sOu9tlnn/Yvgxg6auWr5v+e5gdpxf23Nehk7rHHHu3AiemotYjPnnvu2b4vp8XmqadDV03ZhgekcZUoTwntwz7Ji5w3+QnfNfLVZSwjHVPkukC684yFIVFOGDshM1SmMeWY5WW+cUWaPI2BQteU75xf5QyMeMWV7S5RT0k/eVtuu6z/Q45ltKspYn8MvnK+8T6m18c6IU5gxPRr6kTXLRCRb5Rdng7dZdl5zLTl1TgJyH350faXXRal2nwOlBlXx8lHTnSt1sk9SZKk7dFSBtFM4abzy5TuuM+WKabRsY4ptnxXXv179NFHR6+YIA8O81Oe2ZYOY18YDKSig8gVmogT/vjHP24yiMriAWCEHw+qYj/5AUhDU8vjgWZ0oocGXouIq0jlFSc6zuwTMTBeaToWEdOpQVzJ+yG5nPLgNgblWV6XZVEX8rosZz3SSR5Nueoc+VXWF8Kivg6JesrJnvIJzK+++uo8rsuwjHY1JJchYn/lSTLe8x3LYno98Zly1Tm37/xQK/Kf9GWL5nHfCaWI/2rJ9yvnhxwuw5R8jqn2WT5pQb5xbJUkSdKwqkE0gwkGbPkV95VGJ5eBGA8b4gpQfrgTnbv8XRnWeeedV/VwLjrAMUCn48cURLbnPkA6kTE47BL3DSL+NQ2vK664YqPBQImBGANgRLzzPY1D9zdzlSc6//yNfcYrD86mIk/JWxCXuBeSV9zTSLxjoLmSdExFOHGVOMqo9j7LeCAWAxoGSWzbd39vlGneT6zL93FPflwNzPUu4hMD7VLOr1xfyDPKMgZpOa38qzcGnLmelmXz4x//ePDp5FMto111yQ/JirxlsJb3l+t01PN4EBv5w8mMnP4Y9BJu1wkb8i2eq5C366o7K8njOEGSt+PKdaRrmeIkVt5X5NWYuKLP+n0ngGrymbziWQiIMuM5C//5z3/m8Ys63tfWJEmStLEVXYl+77335lcu6ADHgITBNJ04OndMZ2bQx1Tm8t/DgKm13/ve92afhtFBv//++ze5p5Bpt0ceeeTs06aIF9OiY2AU+Mxga+gqDgPM8j5B0sa0yRiklujc0jFfLXSMY9p3mSYQ3/LK9yLpWAR5Hf87PFA+XWVfonxvu+22jdYjfV3bDpVpngJPveu6D5U4lXmUdeUXcbjhhhvmYfM3Bn4MXOI2g756WlPfplpGuyp1lWFcue3aH+/5Lm5XIP3U//I+ePKDK7GRfyXqYZnnhFF+h0XzmH3keMVxqsy/ZSj3FflU5kuXOIai6ynrqM1nyiW3E+oq09f5F2+xD7BOTAeXJElSvzUb/mf2XpIkSZIkDVja07klSZIkSdreOYiWJEmSJKmSg2hJkiRJkio5iJYkSZIkqZKDaEmSJEmSKjmIliRJkiSpkoNoSZIkSZIqOYiWJEmSJKmSg2hJkiRJkio5iJYkSZIkqZKDaEmSJEmSKjmIliRJkiSpkoNoSZIkSZIqOYiWJEmSJKmSg2hJkiRJkio5iJYkSZIkqZKDaEmSJEmSKjmIliRJkiSpkoNoSZIkSZIqOYiWJEmSJKmSg2hJkiRJkio5iJYkSZIkqZKDaEmSJEmSKjmIliRJkiSpkoNoSZIkSZIqOYiWJEmSJKmSg2hJkiRJkio5iJYkSZIkqZKDaEnawT3wwAPNvvvu2/6VtoQXXnihueWWW2aftl2k45xzzmk+//zz2Terg7zaHvJLy/H222831113XfP111/Pvtl6Eccrr7xy1X9vyJOzzz67/asdW9Q5js/L1DuI5geAHwI6Vvm1OX4ctiaR8aT9xBNP3CyNMec9+yYO/Fguu/C3dZQFZbK5ymUZHKysnD+My8Vx5b777mv++te/tn89zqwMx2raeAxwyE8+86rJ21h/RxogkearrrqqOfDAA7f5/sXTTz/dfPLJJ6uaDsImzz766CMHTT1oPztKG+K38MILL2wOOuigbaL9fPDBB82LL77YvPvuu7NvVsfLL7/cPPXUU81nn302+0abA+08xi5bC9rFkUce2f7OLLPvOHol+t57723eeeed+evuu+9udt1119nS7d8jjzzSvP/++22Df/jhh5v99ttvtmT1UNjHHntsm9+nnnpqs3bt2vbH8uCDD56tIUkrx7GGgfPNN9/c/OAHP2j/8nk1O2KEfdFFF+0wJ0F22223dnDIi/faGPXgD3/4Q3PPPfc0xx9//Dbfv7j44osn9xXodE4Z8JFH9MWuvfbaZqeddpp9qx0Rx9Pf/va3zW233db87Gc/a7773e/Olmy9aBu0EdpKrTgRU3MiMpx88sltP/qwww6bfaNt1dRjZIl2QfugndBeltXHcTp3hb333rvZeeedZ59WHweYX/ziF+17Gj8HAX8stw+rfeZVmoLOOMeWGLiUn7Vy0WGsHVhx0nZHQp7ceuut1jlpAbQb2k/NsUXa0S3792ZFg+iYdtY3VY2zBrEsT7nl+zirwLI4u8By1ivD42/XlF22iykDhBfb8eJzn3I/fdMOCOPSSy9tz5BzNZjPnL1gqnVOK+Hl6aX85UrLP//5z/m07K74l/GIfEDkTbzKvI14dG1bijN4sW45JX8oHoi4MC0mh5Pzg89lGss48irTMWZKOkOZnlwXeB/f5TzmfZlPZVxrw433vKJuRdg33nhjuz71KodRpjO2C2NlWCrTxivSw99ye+JR7rNMb1/Z8T3bUj/KuOV4lOEjLy/rz9i2b7311jx+5bYo8zTyustQ/pfLiFdWpj9vn+tCuf+xcLOufZRpLsPjPd8FwicOka+xv/gcr1zOy0pbLCe8Qw89tHnwwQeb4447rl3Gd4QX++Fv3mao3WURRl4e8Yg0de0n4pDjXOZdmZ5y+ZCIfy6viEcZHmXBsQEcK1gW5VTmQ1n+pTLO7I/9di2LfQQ+k4+5bvA5x3to/3w/9htIeDlOYH85LovGg885r6L8wXu2jTodeT+WJ2PLA+FHmIg08Cq3jXRQ5lHeOU/yNjlMEEaOQ+yHv3kfZV6wTkZ8YxmvnFelCJtXWXalHPd169Y13/72t2dL/k9X+iJPctoQ6Yj4jaUr1IZXlm9feGX5gnVzfrAOn6ceN0PEmXBynuf1VzMeQ3lBvtG2CZv848V3yHEt45ZF+iLcsfQS/imnnNL2xU8//fSNlo3FtatvvpK4h7x+DgdDYZVlEsvZhrjHtvwF4RJ+hMf2oUx7bIMyPF5R9lleXsY18mvKWIa/X3755WzJ/yEuffuJuOZ1Ii1RNxY5RmZlXg2tO8XCg2h2TiJjujfTnfM0QJZR2HzP8htuuKF59tln22UgQ4466qh2GVM6KIRf//rX7aX2CC/CYBozHS/ubwjsh2VMd37llVfaK3xsx4s43X777ZsUNNjuzjvvbBtj7Icz/0zbLjEV5KabbmrOPPPM5vXXX28/13rzzTfb9DA9kv1QsdhvFDxx4x6WCy64oF1O+HvssUf7PZVin332maeHOJAXkbf8veSSS9q0x7ZM945Kl7E/fsBIb3jyySeb66+/vl1GHtKZfe2112ZLv+m8dTU2DkY5HMqQciE8EEakMeIYy8KU+xFYj7zPYRC3rnSGrvQQT/I0iwYZeM+Jkpy+nOdTwuUVCK+rbmVd6WS7888/v93/WBmWiDf1gXpB/aCd5bTWIE597bELcYu2Hrd8RDnxHa8jjjiiTUfEOcLrOkaMbfvpp5+29/Def//97XLaEe0p6lbUP44tLCcvnnvuuU3KC7FuzPrgxTGHsGLZWFvL6Y9jCvUJfFcek2rDzfI+eHFMufrqq+d15He/+137OcJjBs369etnW3+DupmPu2PHGiyatq68J48ff/zx5uijj27/sjxPteMq+Lnnntt+z/GWMCnXa665Zr5/fme6ynGKvB/STMeMOHO8LvOuNm9rEV5fe/7vf/87+2ZjkQ/5+MP7KP9SlMFK6nSuK5Qxn+nIRr6Vv2mlsd/AWlPjQRrHjl3l8QpjeUJ55/xE3/GwRJzBdtR7ZiWwLbPLqIuXXXZZ+2I5n/meOk67IS58T3sijl3lHXJeRb9qqP0QFmkkX/Pyrn1EXrAer/KYnBE+4UQeU1ZlX6AvfV999VVbDuRPjgf9P/obUY9rjwvk5Vh4fM++u45Zi5p63OzCcSnX/bH1uyzz+B1o2+Q3v78xw4b6kfsd5PlYfS31pZfwSccxxxwzr6v8PixSbsuIO+tTnyJfy77LWFjl8Seuina136Fj2dgxKYcXZX/HHXfMltbFtXYsE22RfGVMlvW19byf1TxGEtdl/oZno4PoOOsTryggIrlhw4b5PV5UAhLGXzL1+eefbyMclYMHHjBQCGRG7jw99NBDzWmnnTafksJ2FCgP6SCzOGCTWVFwXIXC/vvv34ZD5gW+Y0Da9TCBHM/4zPbLnma7++67b5R+KjIVmB8IkF4qYwzMSeMZZ5zRpp/v8oD9kEMOafM6KsYTTzzRVoATTjih/cy2/EiR53EgDOyP/SIOPgw+Lr/88vY7DiaIyknl5d49GnnZEPie5TRGDmaIEwyEjUgj6f7lL3857yjHNnT8ah/yQB6xPp3cqPjsjzpYNhJQNyI9kdbYb647gXUiTLAe60cexMNhVhoudYsy+tWvfjX/LtJEOUc6Iy8jbDodlPVQGRJuFm2P+hDLaA+EN8VQe+xC+JxkCcTjjTfe2Og77vP/4osv2oeKDB0jxrYF7SunkbaQT7SRb7TrOMawHvHvKq9oT5y0CMSD+NS2tZz+OKbQpqIdl8ekKW04lHkc7zkWsv0VV1wxLy8+c8zkBzKntzzujh1rsEjaavO+xMmQSAPiOBlhsX+O9bTHrmNArbwf0sygPupimXe1eVtrqD2Tr7zAX5aRXvbNiU2ODXxXHqNKy6jTua7EMYSOUuRD+ZtWGvsNrDU1HjXHrrItjeUJ5Ux5c8IpUC4RrzGkIdrLXnvt1R6rog50oUwfe+yxjY5xDPaIY/R9uuS8wlj74dXXj8tqjsmBMAmf/UQ4keYwlj7KGZFW8p/jB+2O9aceF8bCW8kxq8/U42YX+gkRp5r1u6zG8bv8/aV+0Fbyd7QlypPwak1N7yLlttK4x/p9fZeasMrjT+hqv33HMtI3dkzK4UUbif5zbVxrxzK5DGhXYayth1wnl32MZPkyf8OzyQ8Wi4wiMhQuV+fKy+JU+jVr1swzfUxUBs5E5AF7nJkAHZ333ntvfsCmElGZ8j44K8F2ZD4DkKECoAJR8KzPVbplZGatrsrfhbNExI88ZupHHEwYlO25557zigPygTwvDzh8Tz4hToj8/e9/b7/PnTkaBvKPXTlgIr+iEgbCzvHInToOLAxqcplgqFxC5BGiXnD2lMF9X8cxpyfSmutC7rxxwKPBZWV9igH/IuGSJ5TRmJzO+EEnDtHO+DHgfvy+MixNbXtdatrjGOLBlF3yKbbnPWc1Y3lfPMe2HRInw/hLu47teZF3XbraU5jS1qZYZri5PdEuYsoS5VXWzz59x5pFTMn7IX3HSTr85UB/c1g0b0uUc217zhjor1+/vl0/ZsX0nZTcEnV6a7DosWssT/iezhpXxggvX+1ZDdQ1jneUc6Qhfv9q1bSfoX5cRh7UHpMJIw/Mu4ylj7znNzD6IPT7GLAzcF/kuDAUHpZ1zNoeLJIX1I/y95w2Q5sivNWyjHKbGveu9cMy82HsWLboMSn6z8uIa19bzMba+qIWCZdtlvEbnq3onmjOGjCwpkPAATWmAOdOXY0YpJQDdl6cOQEH+8MPP7wdlJERnBVlYI0YEDPg4EpevgpYIn7Ek+kHMUWCs1+bU6S3D42BQgbxiyuTiErbpytcyimuXIDKQ6eZfKRBrYaorGOdlz5jedRltdKzmvlUm86+MixNzbMuNe1xDNvTBmmLefuYPjUUz7Fth3AwjzZCu87b84ppQGGoPS3S1mosO1zOvIL6wHGYMiKtlN+YoWPNIqbk/ZihtsF0fjoBm8sieTuktj2H+I2jwzhmS9TprcUix67aPOHYwzGIcuO2JMqDclkN1G2uwsXMg/yKE6xjattPXz8uI5zaYzLhEv6QmvSddNJJbT+P31/6fT/60Y/aDv+ix4W+8JZ5zNrWLZoXfeUBwivr0zIsq9ymxn1o/WXmQ82xbJFjEu2Oer+MuA61xbCMY1mXqeEu+zc8rGgQHaJDEFeKu6YEDqFA81nCPlwtZaDMNGMeUsFVU8R0gpqGw7YUOmcrxjrkqyXS23W2h4rLlCQODF0/+qSvaxoCeU2ex4mF7NFHH23/RmOj40bn+Vvf+lZbqZDP0FIpEVenF8F0Cq7U0iEnvNxhrBF5BKZ5ROPgR7yv7PJV9HxgZf/cB0KYi1iNcKPsczpjChJlGWcV4+p0XxmWbYwBVd+V+loRp7H2OKScOVIaOkaMbdslDuakP9rI0JSu0NeesEhbq7GscGN9rsDww8nULOpG1Kcx7HvoWLOIKXk/JupheZyMH8+YornaFsnbMTXtOdcPOv35lo+hDsCWqNNbi0WOXVPzhN8e7vvjN4FyWQ1Rt8tpiVNMbT9lPy6bckyOK9B9g1nUpI/fXfp59Nk4nkR/ZNHjQl94yzxmbesWzQvqB20lH7/YnjZFeIS7bMsqt6lx71o/LDMfphzLao9J0UdiduMy4ko4hNc1lgnLOJZ1mRLuavyGh4UH0UTqrrvumn365gAWUwMoUK4aM48+Coj1X3311fZ9F84S0qHIDwTgiXC5gMk0puD87W9/26SQ8w8gA5uhS/p5kEHHZcrV0qg0UbHZJzfZj515LXWll45VpCEqJZ954ExMhQZTkGgM8cCqiAN5Xg4uyXeuXsSUB/7SGSMN3/nOd+bTCmNKTCyns1ZOd56CH1I6hsSbhh3hTkEeEUaersN0DaY0grrGjybhUtcYSEV6KNPYhv2PPdxrCPVsGeESDlNlEGmi/COd1FnSR7hxAoKyHirD8l+vUWZsnx/8wP0tuf5QNrSBOPgQPlOCspr2OKTrGEB84hgwdIwY2xa0N06eBeoE+RF1NtpIfojGhx9+2L5KXesypZl9T2lrUywSLmUY9yp1rZ+vwpCXnJmuMXSsWcRY3tNu+a0Y6mSHqIdxUoky4Ywy7ZFwsmhfuVNFvVhpejAlb2NqG202t58w1p5j+zgekF6W5e/GpixuiTo9FWniRGQMzChj8mWlFjl2jeUJnymHCCOftFsGyjz3Yajb1PHyQZzRDmqNtR/C7uvHZeQBeTF0TA6sy0WNnF8MXHOfrCZ9tGf6ecQfeXA85bgQhsIbO2ZlNb+fm8NqxWNKXoSoH7SZqMO0JcIhvGWIvjdhhkXiWpoa9662QN7nvsuy8mHoWEb4Y8ckto32FfWDNkJbWEZcCYfwOG7ntsjJ+bCsY9lKj5GL9o/GTH6wWEwXICEff/zx/HsiRKWKAxhXNhjx06FnOdOnX3rppXZZFwqU6dUxv58XD2LKjYGwmYJDp4izKIEb9Cn4tf/rXLAdZxi5etmFOJGG6MAwGJ5yWZ9Kw30IVE625ymhZ5111uQpkF3p/ctf/tI2hK7wGdQG8oEn5VFRWYd003nsuprEujw5kEFaICzylrSQH3ElJJB3K53GRPp4eE8gTK54TUEY/PDmvCWelC/1LxoR4sRIV3rY/oADDph9WsyywuVBP7ksGcB0pZN1+GEgjWNlmPGZBxTl9sC/G8j7jLKJts1BlPDzvyDpqp9lexxTHgOIzzPPPDM/CA4dI8a2/eEPf9jmR8SNA2d+0Fq0Eb6PdX7+85933sPXtS55T1pjWU1bm2KRcKkf//rXv+brIx4c1Vemu+yyS7u8C3k1dqxZxFjes5x2G3HtGmiGqIf8vrAu9YFtuWrWZcpvQa2peUsHJNpy1xl60j/UnklbjjMdB04O5e84lg6lq6sMVrtOT0X7XslvcZ9Fjl1jecJvy/e///358SjqIWlYhhgMsN+4N5l6QL2L/OHFifboNNcYaz9j/bhs7JiccVyiMx/rUrbl739N+ujncaKFsshxqjku0OkuT2T1hRflX/N70Xc86PoXXqtpteIxJS8y6gf5Sr1gG9oS4XTVpUVwbKSM40IGA8hF41qaGveyLZR9l2Xlw9CxrOaYxO8Q9YLltDPqS16+jLgSHm076iFPxybcXA+XcSxbyTGyr60M9Y9qrdnA9XxtMfwA0bmh87esg42UcUCJA1s+gGrbQSeBTsMyOyWSJGn7Q38B9Pu0epZyT7QWx1Q2rgR1PUp/e5bPHHa9WC5JkiRJWxsH0VsYV5WYVsD/O5sytUGSJEmStPk5nXsrwFVX7kXousdVkiRJkrT1cBC9BXE/9Lp169oHXfDwAG5+lyRJkiRtvRxES5IkSZJUyXuiJUmSJEmq5CBakiRJkqRKDqIlSZIkSarkIFqSJEmSpEoOoiVJkiRJquQgWpIkSZKkSg6itc3g/2pfeeWVzQMPPDD7Zsfy9ttvN2effXb7V5IkSdKWsV0Nol944YXmnHPOaT7//PPZN5vHjj64G7KSMinz9YMPPmhefPHF5t13320/b09q6tDLL7/cPPXUU81nn302+2ZTW6oNSJIkSTsKr0TvYBik3XLLLbNP25b99tuvefjhh5uLL7549k0/BpMMShmcbi9OPvnk5p133mkOO+yw2TeSJEmSNjcH0ZIkSZIkVeodRMf00n333bd9lVf1uC/zxBNPnC8vp6FytTOueuZ1crhsX97fmdfnxRXFPkxZZepqrPuPf/yj2WWXXWZLvzEWT8KPZbyG9se2sV7NlNm+9SMPmJqb85h95zR17WMoDpHneZ246hz7vPTSS5sbb7yxXZbLNG/TVS5jy0OOP6+uMslh8eJzjUhDXr8rXqT59NNPb+65555m7dq1G+VTbf0inIsuuqhdTrg5zTmMnIchLy/zamzbL7/8sv0+1slpJZzynuia/K5NsyRJkqRxvYPoRx55pP37+uuvt1NIjzjiiPl3dOIvvPDC5pprrmmXcZ/qfffdt8lgiAHbUUcd1a5z7733tp9POeWU5txzz22/Y4Bx5513bjSQ22effdplvG666aZ2AFAOJMF3l1xySXPqqafO1//000+bf//737M1xuNJGIRP3PLyrv2xzXPPPTfPD6YUs/+udVGz/rXXXjvPC9LKwI91br755na7vffeu1m/fv1s7bowyWOw/PHHH2+nPzNo2mmnndr9XXbZZe2L5Xzme8Il3aSf78kv8i0Ga/z985//3IbH8ttuu63505/+tMkAkHiMlQlx4Z7mWE7e33777RsNDGv1xev8889v8/PMM89s8+ruu+9udt111zadtfULb775Zpsv999/f5uPTCdnfUQYtIt169bN84LlpDHy8oYbbmieffbZ+TL0bQvKO+oE6SJviHeXmvyemmZJkiRJw3oH0Qx09txzz3aQBe7H5IWHHnqoHQDHvZkMUBjQlQNQBmuxzv77798cc8wx7QCNwQgYYL///vvNV1991X7O+8AhhxzSbNiwobPD/8QTT7SDzBNOOGH2zTfhZWPx5EX4u+2223w5A0v+Zqz32GOPtYObyI+DDz643f9bb73Vfs5q17/gggvmeUFajz766Obqq69u9892DLI++uijdpBVGyZ5Hnm41157NYceemibx30Il/wgXyLd5Bf5Rv6BB1mtWbNmvpw4X3HFFfN4hJoyIWz2FagXe+yxx+DDsvrUxitMqV/YfffdN8pvBu1vvPFGezU4HHvssc0XX3zRPvSM5c8///y8DHHQQQe1g/mxbUOuE/zlMydOyhMWqMnvqWmWJEmSNKx3EE1nnytqTP/MV8LozDOw4+pWxkB0WZ1zrpSx3+OOO673acTlIL9UE08GKaeddlq7n66p04HvuSrJejEllmnCTBfuMnX9GqsRJgg3n0gI5FsM4Bn48mJA3jUFOYyVSUadIg2E+eSTTw4O9PvUxqtUU7+6sN6DDz7Y7i/KgPeUSyzPg/psbNsh+URTNiW/F02zJEmSpI31DqIZCDANNqY40wFnUE1nvm/Aw1TSlXTOY9AOpp6yb65el2KAPKQ2nlylY19Mie0bjLEuV0tjim5+MYgrTV2/xmqECcIlP7rkwRtXj9kXgzYG7zE1OdSUCbgiy1XumJbOiyu1ixqLV1Zbv/qQHzFFPPKeV0z17qtvGNt2CFebd95559mnb9Tm90rTLEmSJGljvYPoEINppgk//fTT7WcGbVwFy2KQx/TcRTAoYLDOPZt5um8XrrwxaIorpV2mxpPBNPegvvfeextNr0Ws2zV1u8vU9WusRpggXPKDfMnIN/KvvKpK2XAfM4OzfOW+pkwQU+zjfuxl6YtXmFK/+jAVuqt+hKGp0mPb9um72lyT38tIsyRJkqSN9Q6i77rrrvaqIeiM01mPqdEnnXTS/IFVYNDAFUCu5paDrqli0Ms+r7/++naqbxfiwFW1eNhZDBiysXiSPtIZGEh2TcflM9tcddVV8zxBhFuaun6NZYWZp2kjwiVfYvBHmOQb+Ref85R+rqp2XR2tKRPk/d9xxx0LT0kfihd/+VxOg66tX124Ynz44Ye39zxHXhHOq6++2r7vWk5ZsXxs20B+9ZVDqTa/h9LMPmKWiSRJkqRxnYNoOvEMtnhCMx1spsly1SseUMSAgCchM6BjOdOgGYjlBxhNxZU1HuLEoIEweYr3WWed1TvVlzjwkDKeRh3rEwcGT2EsngwqPv7443YZL9bLD4XK2IaHPOV7kh999NE2r+KqIHGJwcjQ+otaRpg8zIrBJWUa94ETLvkS9+uSD+Qb+QcGoky/jn0yULv88ss3uTpaUybcax/7Zx0ehMUshy5d+ZoNxSseukaauPLNFeAp9asPV3S5Qh95RTqeeeaZti51LacNvfTSS53Lym1B/vDEbZbztPb8IL7SWH7XtCnKIv+VJEmSNGzNBuafSpIkSZKkUaP3REuSJEmSpG84iJYkSZIkqZKDaEmSJEmSKjmIliRJkiSpkoNoSZIkSZIqOYiWJEmSJKmSg2hJkiRJkio5iJYkSZIkqZKDaEmSJEmSKjmIliRJkiSpkoNoSZIkSZIqOYiWJEmSJKmSg2hJkiRJkio5iJYkSZIkqZKDaEmSJEmSKjmIliRJkiSpkoNoSZIkSZIqOYiWJEmSJKmSg2hJkiRJkio5iJYkSZIkqZKDaEmSJEmSKjmIliRJkiSpkoNoSZIkSZIqOYiWJEmSJKlK0/x/YsCvCH8jRQIAAAAASUVORK5CYII=)"
      ],
      "metadata": {
        "id": "hTdqb-xhFT51"
      }
    },
    {
      "cell_type": "code",
      "source": [
        "\"\"\"\n",
        "A função soma_elementos recebe uma lista como parâmetro e começa inicializando uma variável soma com o valor zero.\n",
        "Em seguida, a função utiliza um loop for para percorrer todos os elementos da lista e acumular a soma na variável soma.\n",
        "\n",
        "Por fim, a função retorna o valor da variável soma, que corresponde à soma de todos os elementos da lista.\n",
        "\"\"\"\n",
        "\n",
        "def soma_elementos(lista):\n",
        "    soma = 0\n",
        "    for elemento in lista:\n",
        "        soma += elemento   #o += significa soma = soma +\n",
        "    return soma"
      ],
      "metadata": {
        "id": "yESRMAyYFZja"
      },
      "execution_count": null,
      "outputs": []
    }
  ]
}