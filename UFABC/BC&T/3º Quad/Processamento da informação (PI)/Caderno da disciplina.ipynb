{
  "nbformat": 4,
  "nbformat_minor": 0,
  "metadata": {
    "colab": {
      "provenance": [],
      "toc_visible": true,
      "authorship_tag": "ABX9TyOBWE0KNiMI84TKx4lbPsMj",
      "include_colab_link": true
    },
    "kernelspec": {
      "name": "python3",
      "display_name": "Python 3"
    },
    "language_info": {
      "name": "python"
    }
  },
  "cells": [
    {
      "cell_type": "markdown",
      "metadata": {
        "id": "view-in-github",
        "colab_type": "text"
      },
      "source": [
        "<a href=\"https://colab.research.google.com/github/Bruno-Gallani/UFABC/blob/main/BC&T/3º Quad/Processamento da informação (PI)/Caderno da disciplina.ipynb\" target=\"_parent\"><img src=\"https://colab.research.google.com/assets/colab-badge.svg\" alt=\"Open In Colab\"/></a>"
      ]
    },
    {
      "cell_type": "markdown",
      "source": [
        "#**Aula 29/05 e 31/05** - Introdução"
      ],
      "metadata": {
        "id": "_Xzo6qG_DNP3"
      }
    },
    {
      "cell_type": "markdown",
      "source": [
        "\n",
        "*   Para imprimir textos, utiliza-se as aspas simples ou duplas;\n",
        "*   Função **type(x)**: determina qual o tipo de uma variável;\n",
        "*   Função **help(x)**: consulta o que uma função, ou biblioteca, faz;\n",
        "\n",
        "*   O símbolo \"+\" de concatenação só funciona entre strings (textos).\n",
        "\n",
        "Exemplo:\n",
        "\n",
        "```\n",
        "print(\"Hello World\")\n",
        "ou\n",
        "print('Hello World')\n",
        "```\n",
        "\n",
        "*   Um programa é um conjunto de instruções em determinada linguagem que segue uma ordem sequencial lógica, denominada por \"algoritmo\".\n",
        "\n"
      ],
      "metadata": {
        "id": "pQJZh1zvLpwl"
      }
    },
    {
      "cell_type": "markdown",
      "source": [
        "#**Aula 05/06 e 07/06** - Estruturas de seleção"
      ],
      "metadata": {
        "id": "1fvMtFjvILMC"
      }
    },
    {
      "cell_type": "markdown",
      "source": [
        "**1**. **Aspas triplas**: as aspas triplas (''') são strings multi-linha, perfeitas para fazer comentários longos sobre o código. Ou também, para inserir textos multi-linha;\n",
        "\n",
        "**2**. **Placeholders**: %s; %d; %; f(\"{}\").\n",
        "\n",
        "* **2.1** - Placeholder para números (%d)\n",
        "\n",
        "```\n",
        "a = 1\n",
        "b = 2\n",
        "print(\"O valor de a é %d e o valor de b é %d\" % (a, b))\n",
        "--> saída: O valor de a é 1 e o valor de b é 2\n",
        "```\n",
        "* **2.2** - Placeholder para strings (%s)\n",
        "\n",
        "```\n",
        "a = \"peixe\"\n",
        "b = \"bola\"\n",
        "print(\"O valor de a é %s e o valor de b é %s\" % (a, b))\n",
        "--> saída: O valor de a é peixe e o valor de b é bola\n",
        "```\n",
        "* **2.3** - Placeholder com % (formatação de casas decimais)\n",
        "\n",
        "```\n",
        "a = 1.57890\n",
        "b = 2.57890\n",
        "print(\"O valor de a é %.2f e o valor de b é %.2f\" % (a, b))\n",
        "--> saída: O valor de a é 1.57 e o valor de b é 2.57\n",
        "```\n",
        "* **2.4** - Placeholder com f ---> format\n",
        "\n",
        "```\n",
        "a = 1\n",
        "b = 2\n",
        "print(f\"O valor de a é {a} e o valor de b é {b}\")\n",
        "--> saída: O valor de a é 1 e o valor de b é 2\n",
        "```\n",
        "\n",
        "* **2.5** - Placeholder com .format\n",
        "\n",
        "```\n",
        "a = 1.98\n",
        "b = 2.54\n",
        "print(\"O valor de a é {} e o valor de b é {}\".format(a, b))\n",
        "--> saída: O valor de a é 1.98 e o valor de b é 2.54\n",
        "```\n",
        "**3**. **Tuplas**: pacotes de valores\n",
        "\n",
        "```\n",
        "Exemplo: t1 = (1, 2)\n",
        "a, b = t1\n",
        "\n",
        "print(a) --> retorna 1\n",
        "print(b) --> retorna 2\n",
        "```\n",
        "\n",
        "*  Os valores da tupla conseguem ser consultados igual a valores de lista, a\n",
        "partir da utilização de colchetes:\n",
        "\n",
        "```\n",
        "Exemplo: t1 = (1, 2)\n",
        "t1[0] ---> 1\n",
        "t1[1] ---> 2\n",
        "```\n",
        "**4**. **Recursão**: quando uma função chama ela mesma\n",
        "```\n",
        "Exemplo:\n",
        "def que(n, m, i):\n",
        "  if(n < m):\n",
        "    print(n)\n",
        "    que(n + 1, m, i)\n",
        "\n",
        "Nesta função, um novo ambiente é criado a cada vez que a função que é \"chamada\".\n",
        "\n",
        "Ex:\n",
        "--> Para: que(3, 9, 2)\n",
        "Serão retornados os seguintes valores de n:\n",
        "*3, 5, 7\n",
        "E novos ambientes serão criados, sendo eles: que(5, 9, 2); e que(7, 9, 2)\n",
        "```\n",
        "\n"
      ],
      "metadata": {
        "id": "Mqd5zGD9IXf5"
      }
    },
    {
      "cell_type": "markdown",
      "source": [
        "##Programa que calcula as raízes de uma equação do segundo grau"
      ],
      "metadata": {
        "id": "qiPeZkqBUwz9"
      }
    },
    {
      "cell_type": "code",
      "source": [
        "a = float(input(\"Digite o valor de a: \"))\n",
        "b = float(input(\"Digite o valor de b: \"))\n",
        "c = float(input(\"Digite o valor de c: \"))\n",
        "\n",
        "def delta(a, b, c):\n",
        "  '''\n",
        "    Esta função calcula o valor de delta\n",
        "  '''\n",
        "  d = b ** 2 - 4*a*c\n",
        "  return d\n",
        "\n",
        "def bhaskara(a, b, c):\n",
        "  d = delta(a, b, c)\n",
        "  x1 = (-b + d**(1/2)) / (2*a)\n",
        "  x2 = (-b - d**(1/2)) / (2*a)\n",
        "  return x1, x2\n",
        "\n",
        "xI, xII = bhaskara(a, b, c)\n",
        "\n",
        "print(f\"As raízes são {xI} e {xII}.\")"
      ],
      "metadata": {
        "id": "KDbxNAU3KuDy"
      },
      "execution_count": null,
      "outputs": []
    },
    {
      "cell_type": "markdown",
      "source": [
        "##Função que calcula a quantidade de cédulas de determinada quantia em dinheiro"
      ],
      "metadata": {
        "id": "ZTO7R1p-Uz-U"
      }
    },
    {
      "cell_type": "code",
      "source": [
        "valor = int(input(\"Qual valor você quer sacar? \"))\n",
        "\n",
        "def saque(valor, cedula):\n",
        "  n = valor // cedula\n",
        "  valor = valor % cedula\n",
        "  return (n, valor)\n",
        "\n",
        "notas200, valor = saque(valor, 200)\n",
        "notas100, valor = saque(valor, 100)\n",
        "notas50, valor = saque(valor, 50)\n",
        "notas20, valor = saque(valor, 20)\n",
        "notas10, valor = saque(valor, 10)\n",
        "notas5, valor = saque(valor, 5)\n",
        "notas2, valor = saque(valor, 2)\n",
        "\n",
        "print(f\"Você receberá {notas200} notas de 200, {notas100} notas de 100, {notas50} notas de 50, {notas20} notas de 20, {notas10} notas de 10, {notas5} notas de 5 e {notas2} notas de 2.\")"
      ],
      "metadata": {
        "id": "OSxKofd_PISX"
      },
      "execution_count": null,
      "outputs": []
    },
    {
      "cell_type": "markdown",
      "source": [
        "##Função que calcula o conceito de um aluno"
      ],
      "metadata": {
        "id": "q98hY7jz_Z3z"
      }
    },
    {
      "cell_type": "code",
      "source": [
        "nota = 8\n",
        "\n",
        "def nota_to_conceito (nota):\n",
        "  '''''\n",
        "  Função que converte uma determinada nota para um conceito, a partir da seguinte regra:\n",
        "    A ----> nota >= 9\n",
        "    B ---->\n",
        "\n",
        "  Parameters\n",
        "  ---------------\n",
        "  nota (representa a nota final obtida):\n",
        "    é um valor do tipo float\n",
        "\n",
        "  ------------\n",
        "  Returns\n",
        "  -------\n",
        "  Conceito (string): A; B; C; D ou F\n",
        "  '''''\n",
        "\n",
        "  if nota >= 9:\n",
        "    conceito = 'A'\n",
        "  elif nota >= 7.5:\n",
        "    conceito = 'B'\n",
        "  elif nota >= 6:\n",
        "    conceito = 'C'\n",
        "  elif nota >= 5:\n",
        "    conceito = 'D'\n",
        "  else:\n",
        "    conceito = 'F'\n",
        "  return conceito"
      ],
      "metadata": {
        "id": "9fqqEfXl_cHa"
      },
      "execution_count": null,
      "outputs": []
    },
    {
      "cell_type": "markdown",
      "source": [
        "##Função que verifica a soma"
      ],
      "metadata": {
        "id": "tc1U5-gGOkyF"
      }
    },
    {
      "cell_type": "code",
      "source": [
        "'''\n",
        "Crie uma função em que, dados 3 números como\n",
        "parâmetros, permita verificar se a soma de\n",
        "quaisquer par de números gera a soma do terceiro\n",
        "número.\n",
        "'''\n",
        "def verifica_soma(a, b, c):\n",
        "  if a + b == c or b + c == a or a + c == b:\n",
        "    return True\n",
        "  return False\n",
        "\n",
        "def verifica_soma2(a, b, c):\n",
        "  return a + b == c or b + c == a or a + c == b\n",
        "\n",
        "def main():\n",
        "  a = int(input())\n",
        "  b = int(input())\n",
        "  c = int(input())\n",
        "\n",
        "  if verifica_soma2(a, b, c):\n",
        "    print(\"Um dos nros é soma dos outros dois.\")\n",
        "  else:\n",
        "    print(\"Nenhum dos nros é soma dos outros dois.\")\n",
        "\n",
        "'''\n",
        "essas operações de adição assumirão valores booleanos\n",
        "portanto, a função serve para verificar a soma\n",
        "se a soma de quaisquer dois números for igual ao terceiro, o valor assumido é True\n",
        "caso contrário, o valor assumido é False.\n",
        "'''\n",
        "\n",
        "main()"
      ],
      "metadata": {
        "id": "VwTBsU24NO-t"
      },
      "execution_count": null,
      "outputs": []
    },
    {
      "cell_type": "markdown",
      "source": [
        "#**Aula 12/06** - Atividades\n"
      ],
      "metadata": {
        "id": "UMkjB7vrPygg"
      }
    },
    {
      "cell_type": "markdown",
      "source": [
        "##Enunciados:\n",
        "\n",
        "![image.png](data:image/png;base64,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)"
      ],
      "metadata": {
        "id": "GLfYdoPZSsXm"
      }
    },
    {
      "cell_type": "markdown",
      "source": [
        "##Tópicos"
      ],
      "metadata": {
        "id": "da_REu28Syjv"
      }
    },
    {
      "cell_type": "markdown",
      "source": [
        "**1. Dicionários**: um dicionário é uma estrutura de dados na qual são utilizados as chaves { }, e sua sintaxe está expressa a seguir:\n",
        "\n",
        "```\n",
        "dicionario = {'chave (key)': 'valor (value)'}\n",
        "\n",
        "O valor que está representado antes do operador \":\" é a consulta\n",
        "\n",
        "E o seguinte é o conteúdo\n",
        "\n",
        "Para chamar um valor, utilizamos a seguinte notação:\n",
        "\n",
        "dicionario[\"chave\"]\n",
        "```\n"
      ],
      "metadata": {
        "id": "BOv5CxyuQQDB"
      }
    },
    {
      "cell_type": "markdown",
      "source": [
        "##Resoluções"
      ],
      "metadata": {
        "id": "FhctJbmNE2hW"
      }
    },
    {
      "cell_type": "markdown",
      "source": [
        "###Questão 1\n",
        "\n",
        "![image.png](data:image/png;base64,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)"
      ],
      "metadata": {
        "id": "7_5mH2NCHO7U"
      }
    },
    {
      "cell_type": "code",
      "source": [
        "#Questão 1\n",
        "\n",
        "def checa_receita(receita, despensa):      #receita = pudim ou bolo\n",
        "  receita_escolhida = input(\"Qual receita você quer fazer? \")\n",
        "  print()\n",
        "  if receita_escolhida == 'pudim':\n",
        "    pudim = True\n",
        "    bolo = False\n",
        "    receita = receita[0]\n",
        "  elif receita_escolhida == 'bolo':\n",
        "    bolo = True\n",
        "    pudim = False\n",
        "    receita = receita[1]\n",
        "  ingrediente1 = list(receita)[0]      #função list: converte um dicionário para uma lista\n",
        "  ingrediente2 = list(receita)[1]\n",
        "  ingrediente3 = list(receita)[2]\n",
        "  quociente1 = despensa[ingrediente1] // receita[ingrediente1]  #retornando o conteúdo do dicionário\n",
        "  quociente2 = despensa[ingrediente2] // receita[ingrediente2]\n",
        "  quociente3 = despensa[ingrediente3] // receita[ingrediente3]\n",
        "  quantidade_vezes_receita = min(quociente1, quociente2, quociente3)\n",
        "  if bolo:\n",
        "    if quantidade_vezes_receita == 0:\n",
        "      print(f'Você não tem ingredientes o suficiente para fazer a receita de {receita_escolhida}.')\n",
        "    elif quantidade_vezes_receita == 1:\n",
        "      print(f'Você pode fazer {quantidade_vezes_receita} vez a receita de {receita_escolhida}.')\n",
        "    elif quantidade_vezes_receita > 1:\n",
        "      print(f'Você pode fazer {quantidade_vezes_receita} vezes a receita de {receita_escolhida}.')\n",
        "  elif pudim:\n",
        "    if quantidade_vezes_receita == 0:\n",
        "      print(f'Você não tem ingredientes o suficiente para fazer a receita de {receita_escolhida}.')\n",
        "    elif quantidade_vezes_receita == 1:\n",
        "      print(f'Você pode fazer {quantidade_vezes_receita} vez a receita de {receita_escolhida}.')\n",
        "    elif quantidade_vezes_receita > 1:\n",
        "      print(f'Você pode fazer {quantidade_vezes_receita} vezes a receita de {receita_escolhida}.')\n",
        "\n",
        "def main():\n",
        "  pudim = {\"linhaca\": 15, 'aveia': 50, 'acucar': 120}    #receita 1\n",
        "  bolo = {\"aveia\": 30, 'acucar': 10, 'cacau': 15}        #receita 2\n",
        "  receita = (pudim, bolo)\n",
        "  despensa = {'linhaca': 0, 'aveia': 0, 'acucar': 0, 'cacau': 0}      #atribuição de valores aleatórios para o dicionário despesa e receita apenas para declará-los, porque, futuramente, assumirão valores quaisquer\n",
        "  despensa[\"linhaca\"] = int(input(\"Defina a quantidade de linhaça disponível na despensa, em gramas: \"))\n",
        "  print()\n",
        "  despensa[\"aveia\"] = int(input(\"Defina a quantidade de aveia disponível na despensa, em gramas: \"))\n",
        "  print()\n",
        "  despensa[\"acucar\"] = int(input(\"Defina a quantidade de açúcar disponível na despensa, em gramas: \"))\n",
        "  print()\n",
        "  despensa[\"cacau\"] = int(input(\"Defina a quantidade de cacau disponível na despensa, em gramas: \"))\n",
        "  print()\n",
        "  checa_receita(receita, despensa)\n",
        "\n",
        "main()"
      ],
      "metadata": {
        "id": "pZYTvrbvE4Fu"
      },
      "execution_count": null,
      "outputs": []
    },
    {
      "cell_type": "markdown",
      "source": [
        "#**Aula 14/06** - Estruturas de repetição"
      ],
      "metadata": {
        "id": "-N0yRmezDWSd"
      }
    },
    {
      "cell_type": "markdown",
      "source": [
        "##Exemplos"
      ],
      "metadata": {
        "id": "7RFhVFvFD1fG"
      }
    },
    {
      "cell_type": "code",
      "source": [
        "#1. Soma de números entre duas variáveis (inclusive)\n",
        "\n",
        "def soma_nros_entre(a, b):\n",
        "  n = a\n",
        "  temp = 0\n",
        "  while n <= b:\n",
        "    temp += n\n",
        "    n += 1\n",
        "  return(temp)"
      ],
      "metadata": {
        "id": "Ng7wZsimEDYF"
      },
      "execution_count": null,
      "outputs": []
    },
    {
      "cell_type": "code",
      "source": [
        "#2. Soma com alternação de sinais (ex: 1 - 2 + 3 - 4 + 5...)\n",
        "\n",
        "def soma_sinal_alternado(n):\n",
        "  i = 1    #i ----> numero que vai de 1 até N\n",
        "  soma_numeros = 0      #soma dos números de 1 até N\n",
        "  while i <= n:\n",
        "    if i % 2 == 0:      #se o número for par\n",
        "      i *= (-1)         #seu sinal inverterá, passando, portanto, a ser negativo\n",
        "    soma_numeros += i\n",
        "    i = abs(i) + 1\n",
        "  return soma_numeros\n",
        "\n",
        "soma_sinal_alternado(100000000000)"
      ],
      "metadata": {
        "id": "d0lRruVsJR_0"
      },
      "execution_count": null,
      "outputs": []
    },
    {
      "cell_type": "markdown",
      "source": [
        "#**Aula 19/06** - Estruturas de repetição (continuação)"
      ],
      "metadata": {
        "id": "BmfM22ePJAZH"
      }
    },
    {
      "cell_type": "markdown",
      "source": [
        "##**Recursos de funções**\n",
        "\n",
        "**1. Quantidade variável de parâmetros**: utilizamos a notação def nome_da_função(*parâmetro)\n",
        "```\n",
        "Exemplo:\n",
        "def soma(*items):\n",
        "  acc = 0\n",
        "  for i in items:\n",
        "    acc += i\n",
        "  return acc\n",
        "\n",
        "--> O asterisco no lado esquerdo indica que há uma quantidade variável de parâmetros\n",
        "--> Exemplo prático: a função \"min\" do python, que pode receber X parâmetros\n",
        "```\n",
        "\n",
        "\n",
        "**2. Definição de um valor padrão para um parâmetro**: utilizamos a notação def nome_da_função(parâmetro = valor_a_ser_definido)\n",
        "```\n",
        "Exemplo:\n",
        "def arredondar(n, casas = 0):\n",
        "  return(round(n, casas))\n",
        "\n",
        "--> Podemos definir um valor padrão para um dos parâmetros\n",
        "```"
      ],
      "metadata": {
        "id": "FCUGNilRP4QF"
      }
    },
    {
      "cell_type": "markdown",
      "source": [
        "##**For e While**\n",
        "\n",
        "**1**. Sintaxe do **while**:\n",
        "\n",
        "```\n",
        "while condição verdadeira:\n",
        "  comando a ser executado\n",
        "```\n",
        "**2**. Sintaxe do **for**:\n",
        "\n",
        "```\n",
        "for VARIÁVEL in LISTA DE ELEMENTOS:\n",
        "  bloco de instruções\n",
        "  -----> a variável terá todos os valores definidos na lista de elementos\n",
        "```\n",
        "\n",
        "**3**. Função range:\n",
        "\n",
        "* Cria um objeto que contém uma sequência de números inteiros. Podemos usar um, dois ou três parâmetros:\n",
        "\n",
        "  *  Com apenas um único parâmetro:\n",
        "    *   A sequência inicia em 0 e continua até o número inteiro antes do valor dado como parâmetro.\n",
        "```\n",
        "Exemplo:\n",
        "range(10) ----> gera a sequência [0, 1, 2, 3, 4, 5, 6, 7, 8, 9]\n",
        "range(5) ---> gera a sequência [0, 1, 2, 3, 4]\n",
        "range(1) ---> gera a sequência [0]\n",
        "range(0) ---> gera a sequência []\n",
        "```\n",
        "\n",
        "  * Com dois parâmetros:\n",
        "    * A sequência inicia no primeiro parâmetro e continua até o número inteiro antes do valor dado como segundo parâmetro.\n",
        "```\n",
        "Exemplo:\n",
        "range(5, 10) ----> gera a sequência [5, 6, 7, 8, 9]\n",
        "range(1, 7) ---> gera a sequência [1, 2, 3, 4, 5, 6]\n",
        "```\n",
        "\n",
        "  * Com três parâmetros:\n",
        "    * O terceiro parâmetro indica o incremento (ou decremento) da sequência de números.\n",
        "```\n",
        "Exemplo:\n",
        "range(5, 10, 2) ----> gera a sequência [5, 7, 9]\n",
        "range(10, 1, -2) ---> gera a sequência [10, 8, 6, 4, 2]\n",
        "```\n"
      ],
      "metadata": {
        "id": "-jTt0pBsJhxW"
      }
    },
    {
      "cell_type": "markdown",
      "source": [
        "###Dados dois inteiros, a e b, com a <= b, crie uma função que permita somar todos os números entre a e b, com eles incluídos"
      ],
      "metadata": {
        "id": "eA0mdDfxSUhM"
      }
    },
    {
      "cell_type": "code",
      "source": [
        "def soma(a, b):\n",
        "  resultado = 0\n",
        "  for i in range(a, b + 1):\n",
        "    resultado += i\n",
        "  return resultado"
      ],
      "metadata": {
        "id": "Oq-QyK9SShbs"
      },
      "execution_count": null,
      "outputs": []
    },
    {
      "cell_type": "markdown",
      "source": [
        "###Crie uma função que permita somar apenas os números ímpares da sequência de inteiros contida no intervalo [x, y], para x < y"
      ],
      "metadata": {
        "id": "v9C1xVdHTAl8"
      }
    },
    {
      "cell_type": "code",
      "source": [
        "def eh_par(N):\n",
        "  return N % 2 == 0   #função que retorna um valor booleano \"True\", se N for par, ou \"False\", se N for ímpar\n",
        "\n",
        "def soma_impares(x, y):\n",
        "  resultado = 0\n",
        "  if eh_par(x):\n",
        "    for i in range(x + 1, y + 1, 2):  #X é par, então iniciamos a contagem no número sucessor a ele\n",
        "      resultado += i\n",
        "  else:\n",
        "    for i in range(x, y + 1, 2):      #X é ímpar, então iniciamos a contagem nele\n",
        "      resultado += i\n",
        "  return resultado\n",
        "\n",
        "#O número 2 foi utilizado como incremento, porque queremos incluir apenas os números ímpares"
      ],
      "metadata": {
        "id": "aRvBO3QsTNgz"
      },
      "execution_count": null,
      "outputs": []
    },
    {
      "cell_type": "code",
      "source": [
        "#Versão 1 ----- mais \"clean\"\n",
        "\n",
        "def soma_impares2(x, y):\n",
        "  resultado = 0\n",
        "  for i in range(x, y + 1):\n",
        "    if not eh_par(i):\n",
        "      resultado += i\n",
        "  return resultado"
      ],
      "metadata": {
        "id": "84k_dkznVaX7"
      },
      "execution_count": null,
      "outputs": []
    },
    {
      "cell_type": "code",
      "source": [
        "#Versão 2\n",
        "\n",
        "def soma_impares3(x, y):\n",
        "  resultado = 0\n",
        "  if eh_par(x):\n",
        "    x += 1\n",
        "  for i in range(x, y + 1, 2):\n",
        "    resultado += i\n",
        "  return resultado"
      ],
      "metadata": {
        "id": "5hXoPbqvWMwK"
      },
      "execution_count": null,
      "outputs": []
    },
    {
      "cell_type": "code",
      "source": [
        "#Combinação de A e B\n",
        "\n",
        "def comb(a, b):\n",
        "  for i in range(a):\n",
        "    for j in range(b):\n",
        "      print(\"{} - {}\".format(i, j))"
      ],
      "metadata": {
        "id": "X2jJkmKOXMey"
      },
      "execution_count": null,
      "outputs": []
    },
    {
      "cell_type": "code",
      "source": [
        "#Combinação de A e B - sem repetição\n",
        "\n",
        "def comb2(a, b):\n",
        "  for i in range(a):\n",
        "    for j in range(i, b):\n",
        "      print(\"{} - {}\".format(i, j))"
      ],
      "metadata": {
        "id": "AyJgnJP1DTSp"
      },
      "execution_count": null,
      "outputs": []
    },
    {
      "cell_type": "markdown",
      "source": [
        "#**Aula 21/06** - Estruturas de repetição (continuação)"
      ],
      "metadata": {
        "id": "c8upqfsoEEM4"
      }
    },
    {
      "cell_type": "code",
      "source": [
        "#Atividade\n",
        "\n",
        "\"\"\"\n",
        "Mercado:\n",
        "\n",
        "Apresentar um menu com 3 opções:\n",
        "1. Listar produtos e preços\n",
        "2. Fazer uma compra\n",
        "- Permitir que o usuário digite nomes dos produtos até terminar a compra\n",
        "- Calcular o valor final\n",
        "3. Sair\n",
        "\"\"\"\n",
        "\n",
        "def mostrar_produtos(catalogo):\n",
        "  print()\n",
        "  for produto in catalogo:\n",
        "    print(f'{produto}: R$ {catalogo[produto]},00')\n",
        "  print()\n",
        "\n",
        "def compra(catalogo, historico):\n",
        "  total = 0\n",
        "  produto = 'x'\n",
        "  print()\n",
        "  while produto != \"s\":\n",
        "    produto = input(\"Nome do produto (s para sair): \")\n",
        "    if produto == 'pao':\n",
        "      quantidade = int(input(f'Quantas unidades de {produto}? '))\n",
        "      historico['pao'] += quantidade\n",
        "      total += quantidade * catalogo[produto]\n",
        "    elif produto == 'tapioca':\n",
        "      quantidade = int(input(f'Quantas unidades de {produto}? '))\n",
        "      historico['tapioca'] += quantidade\n",
        "      total += quantidade * catalogo[produto]\n",
        "    elif produto == 'ades':\n",
        "      quantidade = int(input(f'Quantas unidades de {produto}? '))\n",
        "      historico['ades'] += quantidade\n",
        "      total += quantidade * catalogo[produto]\n",
        "  print(f'O valor total da sua compra foi de R$ {total},00.')\n",
        "  print()\n",
        "\n",
        "def consulta_produto(historico):\n",
        "  print()\n",
        "  qtd_pao = historico['pao']\n",
        "  qtd_tapioca = historico['tapioca']\n",
        "  qtd_ades = historico['ades']\n",
        "  qtd_maxima = max(qtd_pao, qtd_tapioca, qtd_ades)\n",
        "  if qtd_maxima == qtd_pao:\n",
        "    produto_mais_vendido = 'pao'\n",
        "  elif qtd_maxima == qtd_tapioca:\n",
        "    produto_mais_vendido = 'tapioca'\n",
        "  elif qtd_maxima == qtd_ades:\n",
        "    produto_mais_vendido = 'ades'\n",
        "  print(f'O produto mais vendido foi {produto_mais_vendido}')\n",
        "  print()\n",
        "\n",
        "def main():\n",
        "  catalogo = {'pao': 3, 'tapioca': 5, 'ades': 6}         #dicionário\n",
        "  historico = {'pao': 0, 'tapioca': 0, 'ades': 0}\n",
        "  opcao = int(input(\"1 - Listar produtos, 2 - Realizar uma compra, 3 - Sair, 4 - Consultar o produto mais vendido: \"))\n",
        "  while opcao != 3:\n",
        "    if opcao == 1:\n",
        "      mostrar_produtos(catalogo)\n",
        "    elif opcao == 2:\n",
        "      compra(catalogo, historico)\n",
        "    elif opcao == 4:\n",
        "      consulta_produto(historico)\n",
        "    else:\n",
        "      print(\"Esta opção não existe\")\n",
        "    opcao = int(input(\"1 - Listar produtos, 2 - Realizar uma compra, 3 - Sair, 4 - Consultar o produto mais vendido: \"))\n",
        "  print(\"Obrigado por comprar conosco, volte sempre\")\n",
        "\n",
        "main()"
      ],
      "metadata": {
        "id": "zk834fxyEGDQ"
      },
      "execution_count": null,
      "outputs": []
    },
    {
      "cell_type": "markdown",
      "source": [
        "##Submeter código - Receitas"
      ],
      "metadata": {
        "id": "x0rhM0J06mrr"
      }
    },
    {
      "cell_type": "code",
      "source": [
        "import random\n",
        "\n",
        "def subtrai_receita(receita, despensa):\n",
        "    despensa_nova = despensa.copy()  # Cria uma cópia da despensa original\n",
        "    for ingrediente, quantidade in receita.items():     #comando \".items()\": retorna os conjuntos chave-valor do dicionário, neste caso, as variáveis ingrediente e quantidade são chave e valor, respectivamente\n",
        "        despensa_nova[ingrediente] -= quantidade  # Subtrai a quantidade de cada ingrediente da receita da despensa\n",
        "    return despensa_nova\n",
        "\n",
        "\n",
        "def checa_receita(receita, despensa, receita_escolhida):\n",
        "    receita_atual = None   #atribição de um valor vazio \"none\" apenas para declarar a variável\n",
        "\n",
        "    if receita_escolhida == 'pudim':\n",
        "        receita_atual = receita[0]\n",
        "    elif receita_escolhida == 'bolo':\n",
        "        receita_atual = receita[1]\n",
        "\n",
        "    ingredientes = list(receita_atual.keys())      #armazena a lista de chaves de uma determinada receita na variável \"ingredientes\"\n",
        "    quantidades = list(receita_atual.values())\n",
        "\n",
        "    quantidade_vezes_receita = min(despensa[ingrediente] // quantidade for ingrediente, quantidade in zip(ingredientes, quantidades))  #zip(): forma tuplas a partir de vetores (ingredientes - quantidades)\n",
        "\n",
        "    if quantidade_vezes_receita == 0:\n",
        "        print(f'Você não tem ingredientes o suficiente para fazer a receita de {receita_escolhida}.')\n",
        "    elif quantidade_vezes_receita == 1:\n",
        "        print(f'Você pode fazer {quantidade_vezes_receita} vez a receita de {receita_escolhida}.')\n",
        "    else:\n",
        "        print(f'Você pode fazer {quantidade_vezes_receita} vezes a receita de {receita_escolhida}.')\n",
        "\n",
        "    return quantidade_vezes_receita\n",
        "\n",
        "\n",
        "def main():\n",
        "  pudim = {\"linhaca\": 15, 'aveia': 50, 'acucar': 120}  # Receita 1\n",
        "  bolo = {\"aveia\": 30, 'acucar': 10, 'cacau': 15}  # Receita 2\n",
        "  receita = (pudim, bolo)\n",
        "  despensa = {'linhaca': 0, 'aveia': 0, 'acucar': 0, 'cacau': 0}\n",
        "\n",
        "  despensa[\"linhaca\"] = int(input(\"Defina a quantidade de linhaça disponível na despensa, em gramas: \"))\n",
        "  print()\n",
        "  despensa[\"aveia\"] = int(input(\"Defina a quantidade de aveia disponível na despensa, em gramas: \"))\n",
        "  print()\n",
        "  despensa[\"acucar\"] = int(input(\"Defina a quantidade de açúcar disponível na despensa, em gramas: \"))\n",
        "  print()\n",
        "  despensa[\"cacau\"] = int(input(\"Defina a quantidade de cacau disponível na despensa, em gramas: \"))\n",
        "  print()\n",
        "  opcao = input(\"\"\"Escolha uma opção:\n",
        "1 - É possível fazer uma vez cada receita?\n",
        "2 - Fazer uma receita\n",
        "\n",
        "\"\"\")\n",
        "\n",
        "  if opcao == '1':\n",
        "    uma_vez_cada_receita(receita, bolo, pudim, despensa)\n",
        "  elif opcao == '2':\n",
        "    receita_escolhida = input(\"Qual receita você quer fazer? \")\n",
        "    checa_receita(receita, despensa, receita_escolhida)\n",
        "\n",
        "def uma_vez_cada_receita(receita, bolo, pudim, despensa):\n",
        "  opcoes_disponiveis_de_receita = [\"bolo\", \"pudim\"]\n",
        "  receita_escolhida = random.choice(opcoes_disponiveis_de_receita)\n",
        "  quantidade_vezes_receita = checa_receita(receita, despensa, receita_escolhida)\n",
        "\n",
        "  if quantidade_vezes_receita > 0:\n",
        "    if receita_escolhida == 'pudim':\n",
        "        despensa_nova = subtrai_receita(pudim, despensa)\n",
        "        receita_escolhida = 'bolo'\n",
        "        checa_receita(receita, despensa_nova, receita_escolhida)\n",
        "        if quantidade_vezes_receita > 0:\n",
        "          print(\"Portanto, é possível fazer uma vez cada receita.\")\n",
        "\n",
        "    elif receita_escolhida == 'bolo':\n",
        "        despensa_nova = subtrai_receita(bolo, despensa)\n",
        "        receita_escolhida = 'pudim'\n",
        "        checa_receita(receita, despensa_nova, receita_escolhida)\n",
        "        if quantidade_vezes_receita > 0:\n",
        "          print(\"Portanto, é possível fazer uma vez cada receita.\")\n",
        "\n",
        "main()"
      ],
      "metadata": {
        "id": "i2vFpc9z6mM8"
      },
      "execution_count": null,
      "outputs": []
    },
    {
      "cell_type": "markdown",
      "source": [
        "#**Aula 03/07** - Vetores"
      ],
      "metadata": {
        "id": "Y1Cb-9sXQcM9"
      }
    },
    {
      "cell_type": "markdown",
      "source": [
        "##**1. Funções de strings**:\n",
        "\n",
        "Em uma linguagem de programação, um caractere (ou dígito ou símbolo), comumente, é armazenado como um número.\n",
        "\n",
        "Isto é, o caractere é codificado/transformado em número.\n",
        "\n",
        "● **Função 'ord'**: devolve o código unicode;\n",
        "\n",
        "```\n",
        "ord(\"a\") ---> #97\n",
        "ord(\"A\") ---> #65\n",
        "```\n",
        "\n",
        "\n",
        "● **Função 'chr'**: devolve o caractere\n",
        "associado ao código;\n",
        "\n",
        "```\n",
        "chr(99) ---> #'c'\n",
        "chr(100) ---> #'d'\n",
        "```\n",
        "\n",
        "● **Função 'len'**: calcula o número de caracteres em uma string\n",
        "\n",
        "```\n",
        "nome = \"Maria Medeiros\"\n",
        "coluna_largura = len(nome)\n",
        "print(coluna_largura) ---> #14\n",
        "```\n",
        "\n",
        "● **Função '.isdigit()'**: indica se o caractere é um número (dígito). Quando usada em strings, somente retorna True se todos os caracteres forem dígitos\n",
        "       \n",
        "```\n",
        "retorna True se o caracter for um número (dígito)\n",
        "e False se não for\n",
        "```\n",
        "\n",
        "● **Função '.title()'**: torna as iniciais de uma string maiúsculas\n",
        "\n",
        "```\n",
        "nome = \"processamento da informação\"\n",
        "iniciais_maiusculas = nome.title()\n",
        "print(nome) #processamento da informação ---> a variável nome permaneceu inalterada\n",
        "\n",
        "print(iniciais_maiusculas) #Processamento Da Informação\n",
        "```\n",
        "\n",
        "● **Função '.lower()'**: torna todas as letras de uma string minúsculas\n",
        "```\n",
        "nome = \"PROCESSAMENTO DA INFORMAÇÃO\"\n",
        "print(nome.lower()) #processamento da informação\n",
        "```\n",
        "\n",
        "● **Função '.upper()'**: torna todas as letras de uma string maiúsculas\n",
        "```\n",
        "nome = \"processamento da informação\"\n",
        "print(nome.upper()) #PROCESSAMENTO DA INFORMAÇÃO\n",
        "```\n",
        "\n",
        "● **Função '.strip()'**: tira os espaços de uma string do começo e do fim\n",
        "\n",
        "  * **'.lstrip()'**: tira apenas os espaços laterais esquerdos de uma string\n",
        "  * **'.rstrip()'**: tira apenas os espaços laterais direitos de uma string\n",
        "```\n",
        "frase = \" frase com espaços nas extremidades \"\n",
        "frase.strip() ---> #'frase com espaços nas extremidades'\n",
        "frase.lstrip() #'frase com espaços nas extremidades '\n",
        "frase.rstrip() #' frase com espaços nas extremidades'\n",
        "```\n",
        "\n",
        "\n",
        "\n",
        "\n",
        "\n"
      ],
      "metadata": {
        "id": "qAxEiQU4Qmi9"
      }
    },
    {
      "cell_type": "markdown",
      "source": [
        "##**2. Acessando caracteres em uma string:**\n",
        "\n",
        "```\n",
        "sobrenome = \"Silva\"\n",
        "inicial = sobrenome[0]\n",
        "print(inicial) ---> #S\n",
        "final = sobrenome[len(sobrenome) - 1] ----> sobrenome[4]\n",
        "print(final) ---> #a\n",
        "\n",
        "Outra forma de printar o final:\n",
        "sobrenome[-1] ----> #a\n",
        "```\n",
        "\n"
      ],
      "metadata": {
        "id": "Gf5xwRJJS46H"
      }
    },
    {
      "cell_type": "markdown",
      "source": [
        "##**3. Operações em strings:**\n",
        "\n",
        "* **Operadores de comparação lexicográfica:** utilizam a ordem alfabética\n",
        "\n"
      ],
      "metadata": {
        "id": "1OXoJhUdgCRu"
      }
    },
    {
      "cell_type": "markdown",
      "source": [
        "###Exemplo de uso da função \"len\" --> Monte uma função que determine se uma senha contém ou não números"
      ],
      "metadata": {
        "id": "ek4xkquATest"
      }
    },
    {
      "cell_type": "code",
      "source": [
        "def contem_numeros(senha):\n",
        "\n",
        "  '''retorna True se um caracter da senha for um dígito\n",
        "  e retorna False se não contém ---> caso todos os dígitos tenham sido percorridos pelo for, e nenhum deles é um dígito'''\n",
        "\n",
        "  for i in range(len(senha)):\n",
        "    if senha[i].isdigit():\n",
        "      return True\n",
        "  return False\n",
        "\n",
        "#Segunda forma\n",
        "def contem_numeros2(senha):\n",
        "  for i in range(len(senha)):\n",
        "    caracter = senha[i]\n",
        "    if ord(caracter) >= 48 and ord(caracter) <= 57:\n",
        "      return True\n",
        "  return False\n",
        "\n",
        "#Terceira forma\n",
        "def contem_numeros3(senha):\n",
        "\n",
        "  '''o for pode ser usado para percorrer uma string\n",
        "  Além disso, o valor da variável \"senha\" é uma string, que é o parâmetro da função'''\n",
        "\n",
        "  for caracter in senha:\n",
        "    if caracter.isdigit():\n",
        "      return True\n",
        "  return False"
      ],
      "metadata": {
        "id": "5K_eexYWTclu"
      },
      "execution_count": null,
      "outputs": []
    },
    {
      "cell_type": "markdown",
      "source": [
        "###Exemplo de funções: contagem de caracteres"
      ],
      "metadata": {
        "id": "FWN8UgAGKGm9"
      }
    },
    {
      "cell_type": "code",
      "source": [
        "#contagem de caracteres\n",
        "def contagem(caracter, texto):\n",
        "  acumulado = 0\n",
        "  for i in texto:\n",
        "    if i == caracter:\n",
        "      acumulador += 1\n",
        "  return acumulador\n",
        "\n",
        "#contagem de letras \"a\"\n",
        "def contagem_variacoes_a(texto):\n",
        "  acumulador = 0\n",
        "  for i in texto\n",
        "    i_lower = i.lower()\n",
        "    if i_lower == 'a' or i_lower == 'á' or i_lower == 'à' or i_lower == \"â\" or i_lower == \"ã\"\n",
        "      acumulador += 1\n",
        "  return acumulador\n",
        "\n",
        "#outra forma\n",
        "def contagem_variacoes_a_2(texto):\n",
        "  acumulador = 0\n",
        "  for i in texto:\n",
        "    i_lower = i.lower()\n",
        "    if i_lower in ['a', 'á', 'à', 'â', 'ã']:\n",
        "      acumulador += 1\n",
        "  return acumulador"
      ],
      "metadata": {
        "id": "K1FG14qhKPam"
      },
      "execution_count": null,
      "outputs": []
    },
    {
      "cell_type": "markdown",
      "source": [
        "###Abreviação de nomes do meio"
      ],
      "metadata": {
        "id": "ndDv6otYNI3a"
      }
    },
    {
      "cell_type": "code",
      "source": [
        "def abrevia(nome):       #nome: Debora Maria Rossi Medeiros\n",
        "  nome = nome.strip()    #função usada para retirar os espaços do começo e do fim\n",
        "  resultado = ''         #resultado = strip vazia\n",
        "  i = 0\n",
        "  while nome[i] != ' ':\n",
        "    resultado += nome[i]     #resultado = primeiro nome\n",
        "    i += 1\n",
        "\n",
        "  while nome[i:].find(' ') != -1:    #enquanto houver espaço no range de caracteres\n",
        "    if nome[i - 1] == ' ' and nome[i] != ' ':   #se o caracter for a inicial de um sobrenome\n",
        "      resultado += ' ' + nome[i] + '.'       #nome[i] = inicial do sobrenome ----> Debora M. R.\n",
        "    i += 1\n",
        "\n",
        "  resultado += ' ' + nome[i:]   #o i estacionou em '' --> antes de 'Medeiros', logo: resultado = Debora M. R. Medeiros\n",
        "  return resultado\n",
        "\n",
        "def abrevia2(nome):\n",
        "  espaco = nome.find(' ')    #posição em que há um espaço (\" \")\n",
        "  resultado = nome[:espaco]  #caracteres até o espaço ----> Debora\n",
        "  restante = nome[espaco:].strip()     #caracteres restantes, sem espaço no fim (caso haja)\n",
        "  while restante.find(' ') != -1:      #enquanto houver espaço no range de caracteres\n",
        "    resultado += ' ' + restante[0] + '.'    #Debora M. ---> é atualizada a cada iteração\n",
        "    espaco = restante.find(' ')       #atualiza a cada iteração o valor da variavel \"espaço\" com a posição em que há o próximo espaço\n",
        "    restante = restante[espaco:].strip()       #atualiza a cada iteração os caracteres restantes, que são considerados a partir da posição atualizada do espaço\n",
        "  resultado += ' ' + restante"
      ],
      "metadata": {
        "id": "dJ-7cm82NMQU"
      },
      "execution_count": null,
      "outputs": []
    },
    {
      "cell_type": "markdown",
      "source": [
        "#**Aula 10/07** - Vetores (parte 2)"
      ],
      "metadata": {
        "id": "ynSi5QZ1T9a9"
      }
    },
    {
      "cell_type": "markdown",
      "source": [
        "##**1. Comandos e funcionalidades**\n",
        "\n",
        "* **Comando \"append\":** adiciona um elemento no final da lista\n",
        "\n",
        "  ```\n",
        "  x = []\n",
        "  x.append(1)\n",
        "  x.append(2)\n",
        "  x.append(3)\n",
        "  print(x) ----> [1, 2, 3]\n",
        "  ```\n",
        "\n",
        "* **Função \"split\":** é uma função de dados do tipo \"string\" e, ao ser usada, devolve uma listas de strings.\n",
        "Ela divide a string de entrada em vários elementos, considerando como elemento divisor o valor dentro das aspas.\n",
        "\n",
        "* **Percorrendo uma lista:**\n",
        "\n",
        "  ```\n",
        "  lista_afazeres = [\"lavar a roupa\", \"estender a roupa\", \"levar o lixo\", \"lavar a louça\"]\n",
        "\n",
        "  for i in lista_afazeres:\n",
        "    print(i)     -------> percorre os elementos da lista\n",
        "\n",
        "  for i in range(len(lista_afazeres)):    ----> len(lista_afazeres) = 4\n",
        "    print(lista_afazeres[i]) ----> percorre os indíces da lista\n",
        "  ```\n"
      ],
      "metadata": {
        "id": "oO_vrrdpUofV"
      }
    },
    {
      "cell_type": "code",
      "source": [
        "#Lendo elementos digitados em cada linha e transformando-os em uma lista\n",
        "\n",
        "def recebe_notas():\n",
        "  nota = 0\n",
        "  notas = []\n",
        "  print(\"Digite uma nota por linha (-1 para finalizar):\\n\")\n",
        "  while nota >= 0:\n",
        "    notas = float(input())\n",
        "    notas.append(nota)\n",
        "  return notas\n",
        "\n",
        "#Segunda versão\n",
        "def recebe_notas2():\n",
        "  nota = 0\n",
        "  notas = []\n",
        "  print(\"Digite uma nota por linha (-1 para finalizar):\\n\")\n",
        "  while nota >= 0:\n",
        "    nota = float(input())\n",
        "    if nota >= 0:\n",
        "      notas.append(nota)\n",
        "  return notas\n",
        "\n",
        "#Terceira versão\n",
        "def recebe_notas3():\n",
        "  notas = []\n",
        "  print(\"Digite uma nota por linha (-1 para finalizar):\\n\")\n",
        "  nota = float(input())\n",
        "  while nota >= 0:\n",
        "    if nota>= 0:\n",
        "      notas.append(nota)\n",
        "  return notas"
      ],
      "metadata": {
        "id": "H-F4Qfl3YbMs"
      },
      "execution_count": null,
      "outputs": []
    },
    {
      "cell_type": "code",
      "source": [
        "#Lendo elementos digitados na mesma linha e transformando-os em uma lista\n",
        "\n",
        "def recebe_notas_linha():\n",
        "  print(\"Digite as notas separadas por espaço:\")\n",
        "  notas_linha = input()\n",
        "  notas = notas_linha.split(' ')\n",
        "  i = 0\n",
        "  for j in notas:\n",
        "    notas[i] = float(j)\n",
        "    i += 1\n",
        "  return notas\n",
        "\n",
        "#Outra forma\n",
        "def recebe_notas_linha2():\n",
        "  '''''\n",
        "  Função que lê os elementos digitados na mesma linha e os transforma em uma lista\n",
        "  a partir do uso da função \"enumerate\" que enumera os elementos de uma lista, de acordo com as suas posições\n",
        "  exemplo: lista = ['jan', 'fev', 'mar']\n",
        "  print(enumerate(lista))\n",
        "  0 jan\n",
        "  1 fev\n",
        "  2 mar\n",
        "  '''''\n",
        "\n",
        "  print(\"Digite as notas separadas por espaço:\")\n",
        "  notas_linha = input()\n",
        "  notas = notas_linha.split(' ')\n",
        "  for chave, valor in enumerate(notas):\n",
        "    notas[chave] = float(valor)\n",
        "\n",
        "  return notas"
      ],
      "metadata": {
        "id": "4wApGtMBgRPh"
      },
      "execution_count": null,
      "outputs": []
    },
    {
      "cell_type": "code",
      "source": [
        "#Função para remover todas as ocorrências de um valor em uma lista\n",
        "\n",
        "#Primeira forma\n",
        "def remove_todos(lista, valor):\n",
        "  for i in lista:\n",
        "    if i == valor:\n",
        "      lista.remove(valor)\n",
        "  return lista\n",
        "\n",
        "#Segunda forma\n",
        "def remove_todos2(lista, valor):\n",
        "  for i in range(lista.count(valor)):\n",
        "    lista.remove(valor)\n",
        "  return lista\n",
        "\n",
        "#Terceira forma\n",
        "def remove_todos3(lista, valor):\n",
        "  while valor in lista:\n",
        "    lista.remove(valor)\n",
        "  return lista\n",
        "\n",
        "#Quarta forma\n",
        "def remove_todos4(lista, valor):\n",
        "  lista_nova = []\n",
        "  for i in lista:\n",
        "    if i != valor:\n",
        "      lista_nova.append(i)\n",
        "  return lista_nova"
      ],
      "metadata": {
        "id": "X-mm_QNKMiwP"
      },
      "execution_count": null,
      "outputs": []
    },
    {
      "cell_type": "markdown",
      "source": [
        "#**Aula 12/07** - Vetores (parte 3)"
      ],
      "metadata": {
        "id": "xjiztdXxRqXR"
      }
    },
    {
      "cell_type": "markdown",
      "source": [
        "##**1. Variáveis e memória**\n",
        "\n",
        "\n",
        "1. **Módulo sys**: permite interagir com o sistema operacional (seja Windows, Linux, MacOS...). Para usá-lo, devemos importá-lo:\n",
        "\n",
        "  ```\n",
        "  import sys\n",
        "  ```\n",
        "  *  ***Função \"sys.getsizeof\"***: determina o tamanho, em bytes, de cada variável básica.\n",
        "\n",
        "    ```\n",
        "    import sys\n",
        "\n",
        "    print(sys.getsizeof(5)) -----> 28\n",
        "\n",
        "    print(sys.getsizeof(5.0)) ------> 24\n",
        "\n",
        "    print(sys.getsizeof(5.123)) -----> 24\n",
        "\n",
        "    print(sys.getsizeof(\"Olá\")) ----> 76\n",
        "\n",
        "    print(sys.getsizeof(\"Olá Mundo\")) -----> 82\n",
        "    \n",
        "    print(sys.getsizeof(True)) -------> 28\n",
        "    ```\n",
        "\n",
        "2. **Tipos de vetores**:\n",
        "\n",
        "*  **Listas**: é uma representação na qual são usados \"ponteiros\" (endereços) para ir de elemento a elemento. Além disso, estas estruturas de dados são genéricas, ou seja, cada elemento pode conter diferentes tipos de dados (strings, números, etc);\n",
        "\n",
        "*  **Array**: estrutura de dados específica para armazenar sequências de números (os quais estão classificados em um só tipo de dado numérico). Nesta estrutura, os números são armazenados de forma contígua (um ao lado do outro na memória);\n",
        "  * Por registrar os elementos de forma contínua, a visita a qualquer elemento se torna relativamente simples e rápida. Dessa forma, o processamento se torna mais eficiente.\n",
        "\n",
        "    * **Módulo array**: é simples e tem poucas funções e, por isso, é mais \"leve\" e ocupa pouco espaço na memória ao ser importado;\n",
        "      ```\n",
        "      Exemplo de código:\n",
        "\n",
        "      import array\n",
        "\n",
        "      vet = array.array('i', [1, 2, 3, 5]) ---> sintaxe(objeto.ordem_dada)\n",
        "      print(vet)\n",
        "      print(vet[-1]) -------> 5\n",
        "      print(vet[-2]) -------> 3\n",
        "      for i in vet:\n",
        "        print(i, end = ' ') -------> 1 2 3 5\n",
        "      ```\n",
        "    * **Módulo numpy**: uma array (sequência de números) também pode ser manipulada através do módulo *numpy* (numerical python). Este módulo é mais \"completo\" e possui uma série de funções e, por isso, acaba sendo mais \"pesado\" na memória;\n",
        "    Portanto, só deve ser importado quando for necessária uma função/comando específica (o).\n",
        "      ```\n",
        "        Exemplo de código:\n",
        "\n",
        "        import numpy\n",
        "\n",
        "        vet = numpy.array([1, 2, 3, 5], 'i') ---> sintaxe(objeto.ordem_dada)\n",
        "        print(vet)\n",
        "        print(vet[1]) -------> 2\n",
        "        print(vet[-2]) -------> 3\n",
        "        for i in vet:\n",
        "          print(i, end = ' ') -------> 1 2 3 5\n",
        "        ```\n",
        "\n"
      ],
      "metadata": {
        "id": "OCq1DNL1RvwJ"
      }
    }
  ]
}
